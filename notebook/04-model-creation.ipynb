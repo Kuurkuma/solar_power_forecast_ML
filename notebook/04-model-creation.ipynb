{
 "cells": [
  {
   "cell_type": "markdown",
   "id": "a533c8c9",
   "metadata": {},
   "source": [
    "# Model creation using XGBOOST\n"
   ]
  },
  {
   "cell_type": "code",
   "execution_count": 4,
   "id": "eaa59bce",
   "metadata": {},
   "outputs": [],
   "source": [
    "import pandas as pd\n",
    "import yaml\n",
    "\n",
    "# load config yaml file\n",
    "config_file = \"/Users/macbook/Development/solar_power_forecast_ML/config.yaml\"\n",
    "with open(config_file, 'r') as f:\n",
    "    config = yaml.safe_load(f)\n",
    "    \n",
    "# open parquet file\n",
    "features_egnineered_file_name = config['file_names']['features_engineered_file_name']\n",
    "processed_data_path = config['paths']['processed_data_path']\n",
    "features_data_file = f\"{processed_data_path}/{features_egnineered_file_name}\"\n",
    "\n",
    "\n",
    "df = pd.read_parquet(features_data_file)"
   ]
  },
  {
   "cell_type": "code",
   "execution_count": 5,
   "id": "aa00fe9a",
   "metadata": {},
   "outputs": [
    {
     "name": "stdout",
     "output_type": "stream",
     "text": [
      "<class 'pandas.core.frame.DataFrame'>\n",
      "RangeIndex: 35061 entries, 0 to 35060\n",
      "Data columns (total 25 columns):\n",
      " #   Column                      Non-Null Count  Dtype         \n",
      "---  ------                      --------------  -----         \n",
      " 0   timestamp                   35061 non-null  datetime64[ns]\n",
      " 1   local_timestamp             35061 non-null  datetime64[ns]\n",
      " 2   year                        35061 non-null  int32         \n",
      " 3   month                       35061 non-null  int32         \n",
      " 4   day                         35061 non-null  int32         \n",
      " 5   dayofweek                   35061 non-null  int32         \n",
      " 6   hour                        35061 non-null  int32         \n",
      " 7   power_output_lead_1h        35061 non-null  float64       \n",
      " 8   power_output                35061 non-null  float64       \n",
      " 9   power_output_lag_1hr        35061 non-null  float64       \n",
      " 10  power_output_lag_2hr        35061 non-null  float64       \n",
      " 11  direct_irradiance           35061 non-null  float64       \n",
      " 12  direct_irradiance_lag_1hr   35061 non-null  float64       \n",
      " 13  direct_irradiance_lag_2hr   35061 non-null  float64       \n",
      " 14  diffuse_irradiance          35061 non-null  float64       \n",
      " 15  diffuse_irradiance_lag_1hr  35061 non-null  float64       \n",
      " 16  diffuse_irradiance_lag_2hr  35061 non-null  float64       \n",
      " 17  sun_height                  35061 non-null  float64       \n",
      " 18  sun_height_lag_1hr          35061 non-null  float64       \n",
      " 19  sun_height_lag_2hr          35061 non-null  float64       \n",
      " 20  air_temperature             35061 non-null  float64       \n",
      " 21  air_temperature_lag_1hr     35061 non-null  float64       \n",
      " 22  wind_speed_at_10m           35061 non-null  float64       \n",
      " 23  wind_speed_at_10m_lag_1hr   35061 non-null  float64       \n",
      " 24  wind_speed_at_10m_lag_2hr   35061 non-null  float64       \n",
      "dtypes: datetime64[ns](2), float64(18), int32(5)\n",
      "memory usage: 6.0 MB\n",
      "None\n"
     ]
    },
    {
     "data": {
      "text/html": [
       "<div>\n",
       "<style scoped>\n",
       "    .dataframe tbody tr th:only-of-type {\n",
       "        vertical-align: middle;\n",
       "    }\n",
       "\n",
       "    .dataframe tbody tr th {\n",
       "        vertical-align: top;\n",
       "    }\n",
       "\n",
       "    .dataframe thead th {\n",
       "        text-align: right;\n",
       "    }\n",
       "</style>\n",
       "<table border=\"1\" class=\"dataframe\">\n",
       "  <thead>\n",
       "    <tr style=\"text-align: right;\">\n",
       "      <th></th>\n",
       "      <th>timestamp</th>\n",
       "      <th>local_timestamp</th>\n",
       "      <th>year</th>\n",
       "      <th>month</th>\n",
       "      <th>day</th>\n",
       "      <th>dayofweek</th>\n",
       "      <th>hour</th>\n",
       "      <th>power_output_lead_1h</th>\n",
       "      <th>power_output</th>\n",
       "      <th>power_output_lag_1hr</th>\n",
       "      <th>...</th>\n",
       "      <th>diffuse_irradiance_lag_1hr</th>\n",
       "      <th>diffuse_irradiance_lag_2hr</th>\n",
       "      <th>sun_height</th>\n",
       "      <th>sun_height_lag_1hr</th>\n",
       "      <th>sun_height_lag_2hr</th>\n",
       "      <th>air_temperature</th>\n",
       "      <th>air_temperature_lag_1hr</th>\n",
       "      <th>wind_speed_at_10m</th>\n",
       "      <th>wind_speed_at_10m_lag_1hr</th>\n",
       "      <th>wind_speed_at_10m_lag_2hr</th>\n",
       "    </tr>\n",
       "  </thead>\n",
       "  <tbody>\n",
       "    <tr>\n",
       "      <th>count</th>\n",
       "      <td>35061</td>\n",
       "      <td>35061</td>\n",
       "      <td>35061.000000</td>\n",
       "      <td>35061.000000</td>\n",
       "      <td>35061.000000</td>\n",
       "      <td>35061.000000</td>\n",
       "      <td>35061.000000</td>\n",
       "      <td>35061.000000</td>\n",
       "      <td>35061.000000</td>\n",
       "      <td>35061.000000</td>\n",
       "      <td>...</td>\n",
       "      <td>35061.00000</td>\n",
       "      <td>35061.00000</td>\n",
       "      <td>35061.000000</td>\n",
       "      <td>35061.000000</td>\n",
       "      <td>35061.000000</td>\n",
       "      <td>35061.000000</td>\n",
       "      <td>35061.000000</td>\n",
       "      <td>35061.000000</td>\n",
       "      <td>35061.000000</td>\n",
       "      <td>35061.000000</td>\n",
       "    </tr>\n",
       "    <tr>\n",
       "      <th>mean</th>\n",
       "      <td>2021-12-31 12:11:00.308034048</td>\n",
       "      <td>2021-12-31 13:46:22.666209792</td>\n",
       "      <td>2021.499016</td>\n",
       "      <td>6.523088</td>\n",
       "      <td>15.730042</td>\n",
       "      <td>4.002139</td>\n",
       "      <td>11.500385</td>\n",
       "      <td>452.418256</td>\n",
       "      <td>452.418256</td>\n",
       "      <td>452.418256</td>\n",
       "      <td>...</td>\n",
       "      <td>64.16222</td>\n",
       "      <td>64.16222</td>\n",
       "      <td>12.511930</td>\n",
       "      <td>12.511930</td>\n",
       "      <td>12.511930</td>\n",
       "      <td>10.926813</td>\n",
       "      <td>10.926697</td>\n",
       "      <td>2.996454</td>\n",
       "      <td>2.996440</td>\n",
       "      <td>2.996414</td>\n",
       "    </tr>\n",
       "    <tr>\n",
       "      <th>min</th>\n",
       "      <td>2020-01-01 02:11:00</td>\n",
       "      <td>2020-01-01 03:11:00</td>\n",
       "      <td>2020.000000</td>\n",
       "      <td>1.000000</td>\n",
       "      <td>1.000000</td>\n",
       "      <td>1.000000</td>\n",
       "      <td>0.000000</td>\n",
       "      <td>0.000000</td>\n",
       "      <td>0.000000</td>\n",
       "      <td>0.000000</td>\n",
       "      <td>...</td>\n",
       "      <td>0.00000</td>\n",
       "      <td>0.00000</td>\n",
       "      <td>0.000000</td>\n",
       "      <td>0.000000</td>\n",
       "      <td>0.000000</td>\n",
       "      <td>-15.770000</td>\n",
       "      <td>-15.770000</td>\n",
       "      <td>0.000000</td>\n",
       "      <td>0.000000</td>\n",
       "      <td>0.000000</td>\n",
       "    </tr>\n",
       "    <tr>\n",
       "      <th>25%</th>\n",
       "      <td>2020-12-31 07:11:00</td>\n",
       "      <td>2020-12-31 08:11:00</td>\n",
       "      <td>2020.000000</td>\n",
       "      <td>4.000000</td>\n",
       "      <td>8.000000</td>\n",
       "      <td>2.000000</td>\n",
       "      <td>6.000000</td>\n",
       "      <td>0.000000</td>\n",
       "      <td>0.000000</td>\n",
       "      <td>0.000000</td>\n",
       "      <td>...</td>\n",
       "      <td>0.00000</td>\n",
       "      <td>0.00000</td>\n",
       "      <td>0.000000</td>\n",
       "      <td>0.000000</td>\n",
       "      <td>0.000000</td>\n",
       "      <td>4.660000</td>\n",
       "      <td>4.660000</td>\n",
       "      <td>2.000000</td>\n",
       "      <td>2.000000</td>\n",
       "      <td>2.000000</td>\n",
       "    </tr>\n",
       "    <tr>\n",
       "      <th>50%</th>\n",
       "      <td>2021-12-31 12:11:00</td>\n",
       "      <td>2021-12-31 13:11:00</td>\n",
       "      <td>2021.000000</td>\n",
       "      <td>7.000000</td>\n",
       "      <td>16.000000</td>\n",
       "      <td>4.000000</td>\n",
       "      <td>12.000000</td>\n",
       "      <td>0.000000</td>\n",
       "      <td>0.000000</td>\n",
       "      <td>0.000000</td>\n",
       "      <td>...</td>\n",
       "      <td>0.00000</td>\n",
       "      <td>0.00000</td>\n",
       "      <td>0.000000</td>\n",
       "      <td>0.000000</td>\n",
       "      <td>0.000000</td>\n",
       "      <td>10.340000</td>\n",
       "      <td>10.340000</td>\n",
       "      <td>2.760000</td>\n",
       "      <td>2.760000</td>\n",
       "      <td>2.760000</td>\n",
       "    </tr>\n",
       "    <tr>\n",
       "      <th>75%</th>\n",
       "      <td>2022-12-31 17:11:00</td>\n",
       "      <td>2022-12-31 18:11:00</td>\n",
       "      <td>2022.000000</td>\n",
       "      <td>10.000000</td>\n",
       "      <td>23.000000</td>\n",
       "      <td>6.000000</td>\n",
       "      <td>17.000000</td>\n",
       "      <td>620.600000</td>\n",
       "      <td>620.600000</td>\n",
       "      <td>620.600000</td>\n",
       "      <td>...</td>\n",
       "      <td>109.00000</td>\n",
       "      <td>109.00000</td>\n",
       "      <td>22.030000</td>\n",
       "      <td>22.030000</td>\n",
       "      <td>22.030000</td>\n",
       "      <td>17.000000</td>\n",
       "      <td>17.000000</td>\n",
       "      <td>3.720000</td>\n",
       "      <td>3.720000</td>\n",
       "      <td>3.720000</td>\n",
       "    </tr>\n",
       "    <tr>\n",
       "      <th>max</th>\n",
       "      <td>2023-12-31 22:11:00</td>\n",
       "      <td>2023-12-31 23:11:00</td>\n",
       "      <td>2023.000000</td>\n",
       "      <td>12.000000</td>\n",
       "      <td>31.000000</td>\n",
       "      <td>7.000000</td>\n",
       "      <td>23.000000</td>\n",
       "      <td>3308.540000</td>\n",
       "      <td>3308.540000</td>\n",
       "      <td>3308.540000</td>\n",
       "      <td>...</td>\n",
       "      <td>434.00000</td>\n",
       "      <td>434.00000</td>\n",
       "      <td>60.920000</td>\n",
       "      <td>60.920000</td>\n",
       "      <td>60.920000</td>\n",
       "      <td>37.480000</td>\n",
       "      <td>37.480000</td>\n",
       "      <td>11.030000</td>\n",
       "      <td>11.030000</td>\n",
       "      <td>11.030000</td>\n",
       "    </tr>\n",
       "    <tr>\n",
       "      <th>std</th>\n",
       "      <td>NaN</td>\n",
       "      <td>NaN</td>\n",
       "      <td>1.118317</td>\n",
       "      <td>3.448524</td>\n",
       "      <td>8.799513</td>\n",
       "      <td>2.000562</td>\n",
       "      <td>6.921698</td>\n",
       "      <td>750.353301</td>\n",
       "      <td>750.353301</td>\n",
       "      <td>750.353301</td>\n",
       "      <td>...</td>\n",
       "      <td>94.58708</td>\n",
       "      <td>94.58708</td>\n",
       "      <td>17.086078</td>\n",
       "      <td>17.086078</td>\n",
       "      <td>17.086078</td>\n",
       "      <td>8.057049</td>\n",
       "      <td>8.057156</td>\n",
       "      <td>1.412412</td>\n",
       "      <td>1.412415</td>\n",
       "      <td>1.412419</td>\n",
       "    </tr>\n",
       "  </tbody>\n",
       "</table>\n",
       "<p>8 rows × 25 columns</p>\n",
       "</div>"
      ],
      "text/plain": [
       "                           timestamp                local_timestamp  \\\n",
       "count                          35061                          35061   \n",
       "mean   2021-12-31 12:11:00.308034048  2021-12-31 13:46:22.666209792   \n",
       "min              2020-01-01 02:11:00            2020-01-01 03:11:00   \n",
       "25%              2020-12-31 07:11:00            2020-12-31 08:11:00   \n",
       "50%              2021-12-31 12:11:00            2021-12-31 13:11:00   \n",
       "75%              2022-12-31 17:11:00            2022-12-31 18:11:00   \n",
       "max              2023-12-31 22:11:00            2023-12-31 23:11:00   \n",
       "std                              NaN                            NaN   \n",
       "\n",
       "               year         month           day     dayofweek          hour  \\\n",
       "count  35061.000000  35061.000000  35061.000000  35061.000000  35061.000000   \n",
       "mean    2021.499016      6.523088     15.730042      4.002139     11.500385   \n",
       "min     2020.000000      1.000000      1.000000      1.000000      0.000000   \n",
       "25%     2020.000000      4.000000      8.000000      2.000000      6.000000   \n",
       "50%     2021.000000      7.000000     16.000000      4.000000     12.000000   \n",
       "75%     2022.000000     10.000000     23.000000      6.000000     17.000000   \n",
       "max     2023.000000     12.000000     31.000000      7.000000     23.000000   \n",
       "std        1.118317      3.448524      8.799513      2.000562      6.921698   \n",
       "\n",
       "       power_output_lead_1h  power_output  power_output_lag_1hr  ...  \\\n",
       "count          35061.000000  35061.000000          35061.000000  ...   \n",
       "mean             452.418256    452.418256            452.418256  ...   \n",
       "min                0.000000      0.000000              0.000000  ...   \n",
       "25%                0.000000      0.000000              0.000000  ...   \n",
       "50%                0.000000      0.000000              0.000000  ...   \n",
       "75%              620.600000    620.600000            620.600000  ...   \n",
       "max             3308.540000   3308.540000           3308.540000  ...   \n",
       "std              750.353301    750.353301            750.353301  ...   \n",
       "\n",
       "       diffuse_irradiance_lag_1hr  diffuse_irradiance_lag_2hr    sun_height  \\\n",
       "count                 35061.00000                 35061.00000  35061.000000   \n",
       "mean                     64.16222                    64.16222     12.511930   \n",
       "min                       0.00000                     0.00000      0.000000   \n",
       "25%                       0.00000                     0.00000      0.000000   \n",
       "50%                       0.00000                     0.00000      0.000000   \n",
       "75%                     109.00000                   109.00000     22.030000   \n",
       "max                     434.00000                   434.00000     60.920000   \n",
       "std                      94.58708                    94.58708     17.086078   \n",
       "\n",
       "       sun_height_lag_1hr  sun_height_lag_2hr  air_temperature  \\\n",
       "count        35061.000000        35061.000000     35061.000000   \n",
       "mean            12.511930           12.511930        10.926813   \n",
       "min              0.000000            0.000000       -15.770000   \n",
       "25%              0.000000            0.000000         4.660000   \n",
       "50%              0.000000            0.000000        10.340000   \n",
       "75%             22.030000           22.030000        17.000000   \n",
       "max             60.920000           60.920000        37.480000   \n",
       "std             17.086078           17.086078         8.057049   \n",
       "\n",
       "       air_temperature_lag_1hr  wind_speed_at_10m  wind_speed_at_10m_lag_1hr  \\\n",
       "count             35061.000000       35061.000000               35061.000000   \n",
       "mean                 10.926697           2.996454                   2.996440   \n",
       "min                 -15.770000           0.000000                   0.000000   \n",
       "25%                   4.660000           2.000000                   2.000000   \n",
       "50%                  10.340000           2.760000                   2.760000   \n",
       "75%                  17.000000           3.720000                   3.720000   \n",
       "max                  37.480000          11.030000                  11.030000   \n",
       "std                   8.057156           1.412412                   1.412415   \n",
       "\n",
       "       wind_speed_at_10m_lag_2hr  \n",
       "count               35061.000000  \n",
       "mean                    2.996414  \n",
       "min                     0.000000  \n",
       "25%                     2.000000  \n",
       "50%                     2.760000  \n",
       "75%                     3.720000  \n",
       "max                    11.030000  \n",
       "std                     1.412419  \n",
       "\n",
       "[8 rows x 25 columns]"
      ]
     },
     "execution_count": 5,
     "metadata": {},
     "output_type": "execute_result"
    }
   ],
   "source": [
    "print(df.info())\n",
    "df.describe()\n"
   ]
  },
  {
   "cell_type": "markdown",
   "id": "f4cbfdad",
   "metadata": {},
   "source": [
    "## Prepare test, train & validation data"
   ]
  },
  {
   "cell_type": "code",
   "execution_count": 6,
   "id": "417c2a79",
   "metadata": {},
   "outputs": [
    {
     "name": "stdout",
     "output_type": "stream",
     "text": [
      "(35061, 22) <class 'pandas.core.frame.DataFrame'>\n",
      "(35061,)\n"
     ]
    }
   ],
   "source": [
    "features = list(df.drop([\"power_output_lead_1h\",\"timestamp\",\"local_timestamp\"], axis=1).columns)\n",
    "target = \"power_output_lead_1h\"\n",
    "\n",
    "X = df[features]\n",
    "y = df[target]\n",
    "\n",
    "print(X.shape, type(X))\n",
    "print(y.shape)"
   ]
  },
  {
   "cell_type": "markdown",
   "id": "de71e2ab",
   "metadata": {},
   "source": [
    "## Training model using XGBoost\n",
    "- Use TimeSeriesSplit for cross-validation\n",
    "- tune hyperparameters using RandomizedSearchCV\n",
    "- run with a pipeline\n",
    "- train using the best hyperparameters"
   ]
  },
  {
   "cell_type": "code",
   "execution_count": 7,
   "id": "edd60de0",
   "metadata": {},
   "outputs": [
    {
     "name": "stdout",
     "output_type": "stream",
     "text": [
      "Feature shape: (35061, 22)\n",
      "Target shape: (35061,)\n",
      "RandomizedSearchCV setup with 50 iterations.\n",
      "Starting hyperparameter search...\n",
      "Fitting 5 folds for each of 50 candidates, totalling 250 fits\n",
      "[CV] END xgb__colsample_bytree=0.8, xgb__gamma=0, xgb__learning_rate=0.1, xgb__max_depth=5, xgb__n_estimators=200, xgb__reg_alpha=0.01, xgb__reg_lambda=2, xgb__subsample=0.9; total time=   0.3s\n",
      "[CV] END xgb__colsample_bytree=0.8, xgb__gamma=0, xgb__learning_rate=0.1, xgb__max_depth=5, xgb__n_estimators=200, xgb__reg_alpha=0.01, xgb__reg_lambda=2, xgb__subsample=0.9; total time=   0.4s\n",
      "[CV] END xgb__colsample_bytree=0.8, xgb__gamma=0, xgb__learning_rate=0.1, xgb__max_depth=5, xgb__n_estimators=200, xgb__reg_alpha=0.01, xgb__reg_lambda=2, xgb__subsample=0.9; total time=   0.4s\n",
      "[CV] END xgb__colsample_bytree=0.8, xgb__gamma=0, xgb__learning_rate=0.1, xgb__max_depth=5, xgb__n_estimators=200, xgb__reg_alpha=0.01, xgb__reg_lambda=2, xgb__subsample=0.9; total time=   0.4s\n",
      "[CV] END xgb__colsample_bytree=0.8, xgb__gamma=0, xgb__learning_rate=0.1, xgb__max_depth=5, xgb__n_estimators=200, xgb__reg_alpha=0.01, xgb__reg_lambda=2, xgb__subsample=0.9; total time=   0.4s\n",
      "[CV] END xgb__colsample_bytree=0.8, xgb__gamma=0.2, xgb__learning_rate=0.01, xgb__max_depth=8, xgb__n_estimators=1200, xgb__reg_alpha=1, xgb__reg_lambda=1, xgb__subsample=0.8; total time=   4.0s\n",
      "[CV] END xgb__colsample_bytree=0.8, xgb__gamma=0.2, xgb__learning_rate=0.01, xgb__max_depth=8, xgb__n_estimators=1200, xgb__reg_alpha=1, xgb__reg_lambda=1, xgb__subsample=0.8; total time=   4.5s\n",
      "[CV] END xgb__colsample_bytree=0.8, xgb__gamma=0.2, xgb__learning_rate=0.01, xgb__max_depth=8, xgb__n_estimators=1200, xgb__reg_alpha=1, xgb__reg_lambda=1, xgb__subsample=0.8; total time=   4.8s\n",
      "[CV] END xgb__colsample_bytree=0.8, xgb__gamma=0.2, xgb__learning_rate=0.01, xgb__max_depth=8, xgb__n_estimators=1200, xgb__reg_alpha=1, xgb__reg_lambda=1, xgb__subsample=0.8; total time=   5.2s\n",
      "[CV] END xgb__colsample_bytree=0.8, xgb__gamma=0.2, xgb__learning_rate=0.01, xgb__max_depth=8, xgb__n_estimators=1200, xgb__reg_alpha=1, xgb__reg_lambda=1, xgb__subsample=0.8; total time=   5.4s\n",
      "[CV] END xgb__colsample_bytree=0.8, xgb__gamma=0.1, xgb__learning_rate=0.01, xgb__max_depth=7, xgb__n_estimators=1200, xgb__reg_alpha=0, xgb__reg_lambda=1.5, xgb__subsample=0.8; total time=   3.1s\n",
      "[CV] END xgb__colsample_bytree=0.8, xgb__gamma=0.1, xgb__learning_rate=0.01, xgb__max_depth=7, xgb__n_estimators=1200, xgb__reg_alpha=0, xgb__reg_lambda=1.5, xgb__subsample=0.8; total time=   3.7s\n",
      "[CV] END xgb__colsample_bytree=0.8, xgb__gamma=0.1, xgb__learning_rate=0.01, xgb__max_depth=7, xgb__n_estimators=1200, xgb__reg_alpha=0, xgb__reg_lambda=1.5, xgb__subsample=0.8; total time=   5.1s\n",
      "[CV] END xgb__colsample_bytree=0.8, xgb__gamma=0.1, xgb__learning_rate=0.01, xgb__max_depth=7, xgb__n_estimators=1200, xgb__reg_alpha=0, xgb__reg_lambda=1.5, xgb__subsample=0.8; total time=   4.2s\n",
      "[CV] END xgb__colsample_bytree=0.8, xgb__gamma=0.1, xgb__learning_rate=0.01, xgb__max_depth=7, xgb__n_estimators=1200, xgb__reg_alpha=0, xgb__reg_lambda=1.5, xgb__subsample=0.8; total time=   4.2s\n",
      "[CV] END xgb__colsample_bytree=1.0, xgb__gamma=0.1, xgb__learning_rate=0.2, xgb__max_depth=8, xgb__n_estimators=1200, xgb__reg_alpha=0.1, xgb__reg_lambda=2, xgb__subsample=0.9; total time=   2.5s\n",
      "[CV] END xgb__colsample_bytree=1.0, xgb__gamma=0.1, xgb__learning_rate=0.2, xgb__max_depth=8, xgb__n_estimators=1200, xgb__reg_alpha=0.1, xgb__reg_lambda=2, xgb__subsample=0.9; total time=   3.9s\n",
      "[CV] END xgb__colsample_bytree=1.0, xgb__gamma=0.1, xgb__learning_rate=0.2, xgb__max_depth=8, xgb__n_estimators=1200, xgb__reg_alpha=0.1, xgb__reg_lambda=2, xgb__subsample=0.9; total time=   5.3s\n",
      "[CV] END xgb__colsample_bytree=1.0, xgb__gamma=0.1, xgb__learning_rate=0.2, xgb__max_depth=8, xgb__n_estimators=1200, xgb__reg_alpha=0.1, xgb__reg_lambda=2, xgb__subsample=0.9; total time=   6.4s\n",
      "[CV] END xgb__colsample_bytree=1.0, xgb__gamma=0.1, xgb__learning_rate=0.2, xgb__max_depth=8, xgb__n_estimators=1200, xgb__reg_alpha=0.1, xgb__reg_lambda=2, xgb__subsample=0.9; total time=   6.5s\n",
      "[CV] END xgb__colsample_bytree=0.8, xgb__gamma=0, xgb__learning_rate=0.05, xgb__max_depth=6, xgb__n_estimators=1000, xgb__reg_alpha=0.01, xgb__reg_lambda=2, xgb__subsample=1.0; total time=   1.9s\n",
      "[CV] END xgb__colsample_bytree=0.8, xgb__gamma=0, xgb__learning_rate=0.05, xgb__max_depth=6, xgb__n_estimators=1000, xgb__reg_alpha=0.01, xgb__reg_lambda=2, xgb__subsample=1.0; total time=   2.2s\n",
      "[CV] END xgb__colsample_bytree=0.8, xgb__gamma=0, xgb__learning_rate=0.05, xgb__max_depth=6, xgb__n_estimators=1000, xgb__reg_alpha=0.01, xgb__reg_lambda=2, xgb__subsample=1.0; total time=   2.3s\n",
      "[CV] END xgb__colsample_bytree=0.8, xgb__gamma=0, xgb__learning_rate=0.05, xgb__max_depth=6, xgb__n_estimators=1000, xgb__reg_alpha=0.01, xgb__reg_lambda=2, xgb__subsample=1.0; total time=   2.4s\n",
      "[CV] END xgb__colsample_bytree=0.8, xgb__gamma=0, xgb__learning_rate=0.05, xgb__max_depth=6, xgb__n_estimators=1000, xgb__reg_alpha=0.01, xgb__reg_lambda=2, xgb__subsample=1.0; total time=   2.5s\n",
      "[CV] END xgb__colsample_bytree=0.7, xgb__gamma=0.3, xgb__learning_rate=0.15, xgb__max_depth=4, xgb__n_estimators=1000, xgb__reg_alpha=0.01, xgb__reg_lambda=1, xgb__subsample=0.9; total time=   1.2s\n",
      "[CV] END xgb__colsample_bytree=0.7, xgb__gamma=0.3, xgb__learning_rate=0.15, xgb__max_depth=4, xgb__n_estimators=1000, xgb__reg_alpha=0.01, xgb__reg_lambda=1, xgb__subsample=0.9; total time=   1.3s\n",
      "[CV] END xgb__colsample_bytree=0.7, xgb__gamma=0.3, xgb__learning_rate=0.15, xgb__max_depth=4, xgb__n_estimators=1000, xgb__reg_alpha=0.01, xgb__reg_lambda=1, xgb__subsample=0.9; total time=   1.4s\n",
      "[CV] END xgb__colsample_bytree=0.7, xgb__gamma=0.3, xgb__learning_rate=0.15, xgb__max_depth=4, xgb__n_estimators=1000, xgb__reg_alpha=0.01, xgb__reg_lambda=1, xgb__subsample=0.9; total time=   1.5s\n",
      "[CV] END xgb__colsample_bytree=0.7, xgb__gamma=0.3, xgb__learning_rate=0.15, xgb__max_depth=4, xgb__n_estimators=1000, xgb__reg_alpha=0.01, xgb__reg_lambda=1, xgb__subsample=0.9; total time=   1.6s\n",
      "[CV] END xgb__colsample_bytree=0.9, xgb__gamma=0.2, xgb__learning_rate=0.1, xgb__max_depth=4, xgb__n_estimators=200, xgb__reg_alpha=0.1, xgb__reg_lambda=1.5, xgb__subsample=0.8; total time=   0.3s\n",
      "[CV] END xgb__colsample_bytree=0.9, xgb__gamma=0.2, xgb__learning_rate=0.1, xgb__max_depth=4, xgb__n_estimators=200, xgb__reg_alpha=0.1, xgb__reg_lambda=1.5, xgb__subsample=0.8; total time=   0.3s\n",
      "[CV] END xgb__colsample_bytree=0.9, xgb__gamma=0.2, xgb__learning_rate=0.1, xgb__max_depth=4, xgb__n_estimators=200, xgb__reg_alpha=0.1, xgb__reg_lambda=1.5, xgb__subsample=0.8; total time=   0.3s\n",
      "[CV] END xgb__colsample_bytree=0.9, xgb__gamma=0.2, xgb__learning_rate=0.1, xgb__max_depth=4, xgb__n_estimators=200, xgb__reg_alpha=0.1, xgb__reg_lambda=1.5, xgb__subsample=0.8; total time=   0.3s\n",
      "[CV] END xgb__colsample_bytree=0.9, xgb__gamma=0.2, xgb__learning_rate=0.1, xgb__max_depth=4, xgb__n_estimators=200, xgb__reg_alpha=0.1, xgb__reg_lambda=1.5, xgb__subsample=0.8; total time=   0.4s\n",
      "[CV] END xgb__colsample_bytree=0.6, xgb__gamma=0.3, xgb__learning_rate=0.2, xgb__max_depth=3, xgb__n_estimators=600, xgb__reg_alpha=0, xgb__reg_lambda=1, xgb__subsample=0.7; total time=   0.6s\n",
      "[CV] END xgb__colsample_bytree=0.6, xgb__gamma=0.3, xgb__learning_rate=0.2, xgb__max_depth=3, xgb__n_estimators=600, xgb__reg_alpha=0, xgb__reg_lambda=1, xgb__subsample=0.7; total time=   0.6s\n",
      "[CV] END xgb__colsample_bytree=0.6, xgb__gamma=0.3, xgb__learning_rate=0.2, xgb__max_depth=3, xgb__n_estimators=600, xgb__reg_alpha=0, xgb__reg_lambda=1, xgb__subsample=0.7; total time=   0.7s\n",
      "[CV] END xgb__colsample_bytree=0.6, xgb__gamma=0.3, xgb__learning_rate=0.2, xgb__max_depth=3, xgb__n_estimators=600, xgb__reg_alpha=0, xgb__reg_lambda=1, xgb__subsample=0.7; total time=   0.8s\n",
      "[CV] END xgb__colsample_bytree=0.6, xgb__gamma=0.3, xgb__learning_rate=0.2, xgb__max_depth=3, xgb__n_estimators=600, xgb__reg_alpha=0, xgb__reg_lambda=1, xgb__subsample=0.7; total time=   0.8s\n",
      "[CV] END xgb__colsample_bytree=0.8, xgb__gamma=0.1, xgb__learning_rate=0.1, xgb__max_depth=7, xgb__n_estimators=200, xgb__reg_alpha=0.1, xgb__reg_lambda=2, xgb__subsample=0.8; total time=   0.5s\n",
      "[CV] END xgb__colsample_bytree=0.8, xgb__gamma=0.1, xgb__learning_rate=0.1, xgb__max_depth=7, xgb__n_estimators=200, xgb__reg_alpha=0.1, xgb__reg_lambda=2, xgb__subsample=0.8; total time=   0.6s\n",
      "[CV] END xgb__colsample_bytree=0.8, xgb__gamma=0.1, xgb__learning_rate=0.1, xgb__max_depth=7, xgb__n_estimators=200, xgb__reg_alpha=0.1, xgb__reg_lambda=2, xgb__subsample=0.8; total time=   0.6s\n",
      "[CV] END xgb__colsample_bytree=0.8, xgb__gamma=0.1, xgb__learning_rate=0.1, xgb__max_depth=7, xgb__n_estimators=200, xgb__reg_alpha=0.1, xgb__reg_lambda=2, xgb__subsample=0.8; total time=   0.7s\n",
      "[CV] END xgb__colsample_bytree=0.8, xgb__gamma=0.1, xgb__learning_rate=0.1, xgb__max_depth=7, xgb__n_estimators=200, xgb__reg_alpha=0.1, xgb__reg_lambda=2, xgb__subsample=0.8; total time=   0.7s\n",
      "[CV] END xgb__colsample_bytree=0.7, xgb__gamma=0.2, xgb__learning_rate=0.01, xgb__max_depth=5, xgb__n_estimators=400, xgb__reg_alpha=0.1, xgb__reg_lambda=2, xgb__subsample=0.9; total time=   0.7s\n",
      "[CV] END xgb__colsample_bytree=0.7, xgb__gamma=0.2, xgb__learning_rate=0.01, xgb__max_depth=5, xgb__n_estimators=400, xgb__reg_alpha=0.1, xgb__reg_lambda=2, xgb__subsample=0.9; total time=   0.7s\n",
      "[CV] END xgb__colsample_bytree=0.7, xgb__gamma=0.2, xgb__learning_rate=0.01, xgb__max_depth=5, xgb__n_estimators=400, xgb__reg_alpha=0.1, xgb__reg_lambda=2, xgb__subsample=0.9; total time=   0.8s\n",
      "[CV] END xgb__colsample_bytree=0.7, xgb__gamma=0.2, xgb__learning_rate=0.01, xgb__max_depth=5, xgb__n_estimators=400, xgb__reg_alpha=0.1, xgb__reg_lambda=2, xgb__subsample=0.9; total time=   0.8s\n",
      "[CV] END xgb__colsample_bytree=0.7, xgb__gamma=0.2, xgb__learning_rate=0.01, xgb__max_depth=5, xgb__n_estimators=400, xgb__reg_alpha=0.1, xgb__reg_lambda=2, xgb__subsample=0.9; total time=   0.9s\n",
      "[CV] END xgb__colsample_bytree=0.9, xgb__gamma=0, xgb__learning_rate=0.01, xgb__max_depth=8, xgb__n_estimators=200, xgb__reg_alpha=0, xgb__reg_lambda=0.1, xgb__subsample=0.9; total time=   0.9s\n",
      "[CV] END xgb__colsample_bytree=0.9, xgb__gamma=0, xgb__learning_rate=0.01, xgb__max_depth=8, xgb__n_estimators=200, xgb__reg_alpha=0, xgb__reg_lambda=0.1, xgb__subsample=0.9; total time=   1.0s\n",
      "[CV] END xgb__colsample_bytree=0.9, xgb__gamma=0, xgb__learning_rate=0.01, xgb__max_depth=8, xgb__n_estimators=200, xgb__reg_alpha=0, xgb__reg_lambda=0.1, xgb__subsample=0.9; total time=   1.1s\n",
      "[CV] END xgb__colsample_bytree=0.9, xgb__gamma=0, xgb__learning_rate=0.01, xgb__max_depth=8, xgb__n_estimators=200, xgb__reg_alpha=0, xgb__reg_lambda=0.1, xgb__subsample=0.9; total time=   1.3s\n",
      "[CV] END xgb__colsample_bytree=0.9, xgb__gamma=0, xgb__learning_rate=0.01, xgb__max_depth=8, xgb__n_estimators=200, xgb__reg_alpha=0, xgb__reg_lambda=0.1, xgb__subsample=0.9; total time=   1.2s\n",
      "[CV] END xgb__colsample_bytree=0.9, xgb__gamma=0.1, xgb__learning_rate=0.05, xgb__max_depth=5, xgb__n_estimators=800, xgb__reg_alpha=0.1, xgb__reg_lambda=2, xgb__subsample=0.6; total time=   1.3s\n",
      "[CV] END xgb__colsample_bytree=0.9, xgb__gamma=0.1, xgb__learning_rate=0.05, xgb__max_depth=5, xgb__n_estimators=800, xgb__reg_alpha=0.1, xgb__reg_lambda=2, xgb__subsample=0.6; total time=   1.4s\n",
      "[CV] END xgb__colsample_bytree=0.9, xgb__gamma=0.1, xgb__learning_rate=0.05, xgb__max_depth=5, xgb__n_estimators=800, xgb__reg_alpha=0.1, xgb__reg_lambda=2, xgb__subsample=0.6; total time=   1.5s\n",
      "[CV] END xgb__colsample_bytree=0.9, xgb__gamma=0.1, xgb__learning_rate=0.05, xgb__max_depth=5, xgb__n_estimators=800, xgb__reg_alpha=0.1, xgb__reg_lambda=2, xgb__subsample=0.6; total time=   1.6s\n",
      "[CV] END xgb__colsample_bytree=0.9, xgb__gamma=0.1, xgb__learning_rate=0.05, xgb__max_depth=5, xgb__n_estimators=800, xgb__reg_alpha=0.1, xgb__reg_lambda=2, xgb__subsample=0.6; total time=   1.7s\n",
      "[CV] END xgb__colsample_bytree=1.0, xgb__gamma=0.3, xgb__learning_rate=0.05, xgb__max_depth=6, xgb__n_estimators=800, xgb__reg_alpha=0, xgb__reg_lambda=1, xgb__subsample=0.8; total time=   1.8s\n",
      "[CV] END xgb__colsample_bytree=1.0, xgb__gamma=0.3, xgb__learning_rate=0.05, xgb__max_depth=6, xgb__n_estimators=800, xgb__reg_alpha=0, xgb__reg_lambda=1, xgb__subsample=0.8; total time=   2.0s\n",
      "[CV] END xgb__colsample_bytree=1.0, xgb__gamma=0.3, xgb__learning_rate=0.05, xgb__max_depth=6, xgb__n_estimators=800, xgb__reg_alpha=0, xgb__reg_lambda=1, xgb__subsample=0.8; total time=   2.0s\n",
      "[CV] END xgb__colsample_bytree=1.0, xgb__gamma=0.3, xgb__learning_rate=0.05, xgb__max_depth=6, xgb__n_estimators=800, xgb__reg_alpha=0, xgb__reg_lambda=1, xgb__subsample=0.8; total time=   2.1s\n",
      "[CV] END xgb__colsample_bytree=1.0, xgb__gamma=0.3, xgb__learning_rate=0.05, xgb__max_depth=6, xgb__n_estimators=800, xgb__reg_alpha=0, xgb__reg_lambda=1, xgb__subsample=0.8; total time=   2.3s\n",
      "[CV] END xgb__colsample_bytree=0.6, xgb__gamma=0.2, xgb__learning_rate=0.2, xgb__max_depth=4, xgb__n_estimators=800, xgb__reg_alpha=0.1, xgb__reg_lambda=1.5, xgb__subsample=0.6; total time=   1.0s\n",
      "[CV] END xgb__colsample_bytree=0.6, xgb__gamma=0.2, xgb__learning_rate=0.2, xgb__max_depth=4, xgb__n_estimators=800, xgb__reg_alpha=0.1, xgb__reg_lambda=1.5, xgb__subsample=0.6; total time=   1.0s\n",
      "[CV] END xgb__colsample_bytree=0.6, xgb__gamma=0.2, xgb__learning_rate=0.2, xgb__max_depth=4, xgb__n_estimators=800, xgb__reg_alpha=0.1, xgb__reg_lambda=1.5, xgb__subsample=0.6; total time=   1.2s\n",
      "[CV] END xgb__colsample_bytree=0.6, xgb__gamma=0.2, xgb__learning_rate=0.2, xgb__max_depth=4, xgb__n_estimators=800, xgb__reg_alpha=0.1, xgb__reg_lambda=1.5, xgb__subsample=0.6; total time=   1.3s\n",
      "[CV] END xgb__colsample_bytree=0.6, xgb__gamma=0.2, xgb__learning_rate=0.2, xgb__max_depth=4, xgb__n_estimators=800, xgb__reg_alpha=0.1, xgb__reg_lambda=1.5, xgb__subsample=0.6; total time=   1.3s\n",
      "[CV] END xgb__colsample_bytree=0.7, xgb__gamma=0, xgb__learning_rate=0.1, xgb__max_depth=6, xgb__n_estimators=200, xgb__reg_alpha=0.01, xgb__reg_lambda=0.1, xgb__subsample=0.6; total time=   0.4s\n",
      "[CV] END xgb__colsample_bytree=0.7, xgb__gamma=0, xgb__learning_rate=0.1, xgb__max_depth=6, xgb__n_estimators=200, xgb__reg_alpha=0.01, xgb__reg_lambda=0.1, xgb__subsample=0.6; total time=   0.4s\n",
      "[CV] END xgb__colsample_bytree=0.7, xgb__gamma=0, xgb__learning_rate=0.1, xgb__max_depth=6, xgb__n_estimators=200, xgb__reg_alpha=0.01, xgb__reg_lambda=0.1, xgb__subsample=0.6; total time=   0.5s\n",
      "[CV] END xgb__colsample_bytree=0.7, xgb__gamma=0, xgb__learning_rate=0.1, xgb__max_depth=6, xgb__n_estimators=200, xgb__reg_alpha=0.01, xgb__reg_lambda=0.1, xgb__subsample=0.6; total time=   0.5s\n",
      "[CV] END xgb__colsample_bytree=0.7, xgb__gamma=0, xgb__learning_rate=0.1, xgb__max_depth=6, xgb__n_estimators=200, xgb__reg_alpha=0.01, xgb__reg_lambda=0.1, xgb__subsample=0.6; total time=   0.5s\n",
      "[CV] END xgb__colsample_bytree=1.0, xgb__gamma=0.2, xgb__learning_rate=0.05, xgb__max_depth=4, xgb__n_estimators=1000, xgb__reg_alpha=0.01, xgb__reg_lambda=1.5, xgb__subsample=0.9; total time=   1.2s\n",
      "[CV] END xgb__colsample_bytree=1.0, xgb__gamma=0.2, xgb__learning_rate=0.05, xgb__max_depth=4, xgb__n_estimators=1000, xgb__reg_alpha=0.01, xgb__reg_lambda=1.5, xgb__subsample=0.9; total time=   1.4s\n",
      "[CV] END xgb__colsample_bytree=1.0, xgb__gamma=0.2, xgb__learning_rate=0.05, xgb__max_depth=4, xgb__n_estimators=1000, xgb__reg_alpha=0.01, xgb__reg_lambda=1.5, xgb__subsample=0.9; total time=   1.5s\n",
      "[CV] END xgb__colsample_bytree=1.0, xgb__gamma=0.2, xgb__learning_rate=0.05, xgb__max_depth=4, xgb__n_estimators=1000, xgb__reg_alpha=0.01, xgb__reg_lambda=1.5, xgb__subsample=0.9; total time=   1.5s\n",
      "[CV] END xgb__colsample_bytree=1.0, xgb__gamma=0.2, xgb__learning_rate=0.05, xgb__max_depth=4, xgb__n_estimators=1000, xgb__reg_alpha=0.01, xgb__reg_lambda=1.5, xgb__subsample=0.9; total time=   1.7s\n",
      "[CV] END xgb__colsample_bytree=0.9, xgb__gamma=0.1, xgb__learning_rate=0.1, xgb__max_depth=5, xgb__n_estimators=400, xgb__reg_alpha=0.01, xgb__reg_lambda=1, xgb__subsample=0.8; total time=   0.6s\n",
      "[CV] END xgb__colsample_bytree=0.9, xgb__gamma=0.1, xgb__learning_rate=0.1, xgb__max_depth=5, xgb__n_estimators=400, xgb__reg_alpha=0.01, xgb__reg_lambda=1, xgb__subsample=0.8; total time=   0.7s\n",
      "[CV] END xgb__colsample_bytree=0.9, xgb__gamma=0.1, xgb__learning_rate=0.1, xgb__max_depth=5, xgb__n_estimators=400, xgb__reg_alpha=0.01, xgb__reg_lambda=1, xgb__subsample=0.8; total time=   0.7s\n",
      "[CV] END xgb__colsample_bytree=0.9, xgb__gamma=0.1, xgb__learning_rate=0.1, xgb__max_depth=5, xgb__n_estimators=400, xgb__reg_alpha=0.01, xgb__reg_lambda=1, xgb__subsample=0.8; total time=   0.8s\n",
      "[CV] END xgb__colsample_bytree=0.9, xgb__gamma=0.1, xgb__learning_rate=0.1, xgb__max_depth=5, xgb__n_estimators=400, xgb__reg_alpha=0.01, xgb__reg_lambda=1, xgb__subsample=0.8; total time=   0.9s\n",
      "[CV] END xgb__colsample_bytree=1.0, xgb__gamma=0.1, xgb__learning_rate=0.1, xgb__max_depth=7, xgb__n_estimators=600, xgb__reg_alpha=1, xgb__reg_lambda=1, xgb__subsample=1.0; total time=   1.7s\n",
      "[CV] END xgb__colsample_bytree=1.0, xgb__gamma=0.1, xgb__learning_rate=0.1, xgb__max_depth=7, xgb__n_estimators=600, xgb__reg_alpha=1, xgb__reg_lambda=1, xgb__subsample=1.0; total time=   1.8s\n",
      "[CV] END xgb__colsample_bytree=1.0, xgb__gamma=0.1, xgb__learning_rate=0.1, xgb__max_depth=7, xgb__n_estimators=600, xgb__reg_alpha=1, xgb__reg_lambda=1, xgb__subsample=1.0; total time=   2.0s\n",
      "[CV] END xgb__colsample_bytree=1.0, xgb__gamma=0.1, xgb__learning_rate=0.1, xgb__max_depth=7, xgb__n_estimators=600, xgb__reg_alpha=1, xgb__reg_lambda=1, xgb__subsample=1.0; total time=   2.1s\n",
      "[CV] END xgb__colsample_bytree=1.0, xgb__gamma=0.1, xgb__learning_rate=0.1, xgb__max_depth=7, xgb__n_estimators=600, xgb__reg_alpha=1, xgb__reg_lambda=1, xgb__subsample=1.0; total time=   2.1s\n",
      "[CV] END xgb__colsample_bytree=0.9, xgb__gamma=0.1, xgb__learning_rate=0.2, xgb__max_depth=3, xgb__n_estimators=1000, xgb__reg_alpha=0, xgb__reg_lambda=0.1, xgb__subsample=0.7; total time=   0.9s\n",
      "[CV] END xgb__colsample_bytree=0.9, xgb__gamma=0.1, xgb__learning_rate=0.2, xgb__max_depth=3, xgb__n_estimators=1000, xgb__reg_alpha=0, xgb__reg_lambda=0.1, xgb__subsample=0.7; total time=   1.0s\n",
      "[CV] END xgb__colsample_bytree=0.9, xgb__gamma=0.1, xgb__learning_rate=0.2, xgb__max_depth=3, xgb__n_estimators=1000, xgb__reg_alpha=0, xgb__reg_lambda=0.1, xgb__subsample=0.7; total time=   1.1s\n",
      "[CV] END xgb__colsample_bytree=0.9, xgb__gamma=0.1, xgb__learning_rate=0.2, xgb__max_depth=3, xgb__n_estimators=1000, xgb__reg_alpha=0, xgb__reg_lambda=0.1, xgb__subsample=0.7; total time=   1.2s\n",
      "[CV] END xgb__colsample_bytree=0.9, xgb__gamma=0.1, xgb__learning_rate=0.2, xgb__max_depth=3, xgb__n_estimators=1000, xgb__reg_alpha=0, xgb__reg_lambda=0.1, xgb__subsample=0.7; total time=   1.4s\n",
      "[CV] END xgb__colsample_bytree=1.0, xgb__gamma=0.2, xgb__learning_rate=0.1, xgb__max_depth=8, xgb__n_estimators=400, xgb__reg_alpha=0, xgb__reg_lambda=2, xgb__subsample=0.6; total time=   1.5s\n",
      "[CV] END xgb__colsample_bytree=1.0, xgb__gamma=0.2, xgb__learning_rate=0.1, xgb__max_depth=8, xgb__n_estimators=400, xgb__reg_alpha=0, xgb__reg_lambda=2, xgb__subsample=0.6; total time=   1.7s\n",
      "[CV] END xgb__colsample_bytree=1.0, xgb__gamma=0.2, xgb__learning_rate=0.1, xgb__max_depth=8, xgb__n_estimators=400, xgb__reg_alpha=0, xgb__reg_lambda=2, xgb__subsample=0.6; total time=   1.8s\n",
      "[CV] END xgb__colsample_bytree=1.0, xgb__gamma=0.2, xgb__learning_rate=0.1, xgb__max_depth=8, xgb__n_estimators=400, xgb__reg_alpha=0, xgb__reg_lambda=2, xgb__subsample=0.6; total time=   2.0s\n",
      "[CV] END xgb__colsample_bytree=1.0, xgb__gamma=0.2, xgb__learning_rate=0.1, xgb__max_depth=8, xgb__n_estimators=400, xgb__reg_alpha=0, xgb__reg_lambda=2, xgb__subsample=0.6; total time=   2.1s\n",
      "[CV] END xgb__colsample_bytree=0.7, xgb__gamma=0.3, xgb__learning_rate=0.01, xgb__max_depth=8, xgb__n_estimators=400, xgb__reg_alpha=1, xgb__reg_lambda=2, xgb__subsample=0.6; total time=   1.5s\n",
      "[CV] END xgb__colsample_bytree=0.7, xgb__gamma=0.3, xgb__learning_rate=0.01, xgb__max_depth=8, xgb__n_estimators=400, xgb__reg_alpha=1, xgb__reg_lambda=2, xgb__subsample=0.6; total time=   1.6s\n",
      "[CV] END xgb__colsample_bytree=0.7, xgb__gamma=0.3, xgb__learning_rate=0.01, xgb__max_depth=8, xgb__n_estimators=400, xgb__reg_alpha=1, xgb__reg_lambda=2, xgb__subsample=0.6; total time=   1.7s\n",
      "[CV] END xgb__colsample_bytree=0.7, xgb__gamma=0.3, xgb__learning_rate=0.01, xgb__max_depth=8, xgb__n_estimators=400, xgb__reg_alpha=1, xgb__reg_lambda=2, xgb__subsample=0.6; total time=   1.8s\n",
      "[CV] END xgb__colsample_bytree=0.7, xgb__gamma=0.3, xgb__learning_rate=0.01, xgb__max_depth=8, xgb__n_estimators=400, xgb__reg_alpha=1, xgb__reg_lambda=2, xgb__subsample=0.6; total time=   1.9s\n",
      "[CV] END xgb__colsample_bytree=1.0, xgb__gamma=0, xgb__learning_rate=0.05, xgb__max_depth=8, xgb__n_estimators=400, xgb__reg_alpha=0.01, xgb__reg_lambda=2, xgb__subsample=0.7; total time=   1.5s\n",
      "[CV] END xgb__colsample_bytree=1.0, xgb__gamma=0, xgb__learning_rate=0.05, xgb__max_depth=8, xgb__n_estimators=400, xgb__reg_alpha=0.01, xgb__reg_lambda=2, xgb__subsample=0.7; total time=   1.7s\n",
      "[CV] END xgb__colsample_bytree=1.0, xgb__gamma=0, xgb__learning_rate=0.05, xgb__max_depth=8, xgb__n_estimators=400, xgb__reg_alpha=0.01, xgb__reg_lambda=2, xgb__subsample=0.7; total time=   1.8s\n",
      "[CV] END xgb__colsample_bytree=1.0, xgb__gamma=0, xgb__learning_rate=0.05, xgb__max_depth=8, xgb__n_estimators=400, xgb__reg_alpha=0.01, xgb__reg_lambda=2, xgb__subsample=0.7; total time=   1.9s\n",
      "[CV] END xgb__colsample_bytree=1.0, xgb__gamma=0, xgb__learning_rate=0.05, xgb__max_depth=8, xgb__n_estimators=400, xgb__reg_alpha=0.01, xgb__reg_lambda=2, xgb__subsample=0.7; total time=   2.0s\n",
      "[CV] END xgb__colsample_bytree=0.9, xgb__gamma=0.2, xgb__learning_rate=0.2, xgb__max_depth=5, xgb__n_estimators=400, xgb__reg_alpha=0, xgb__reg_lambda=2, xgb__subsample=0.7; total time=   0.7s\n",
      "[CV] END xgb__colsample_bytree=0.9, xgb__gamma=0.2, xgb__learning_rate=0.2, xgb__max_depth=5, xgb__n_estimators=400, xgb__reg_alpha=0, xgb__reg_lambda=2, xgb__subsample=0.7; total time=   0.7s\n",
      "[CV] END xgb__colsample_bytree=0.9, xgb__gamma=0.2, xgb__learning_rate=0.2, xgb__max_depth=5, xgb__n_estimators=400, xgb__reg_alpha=0, xgb__reg_lambda=2, xgb__subsample=0.7; total time=   0.8s\n",
      "[CV] END xgb__colsample_bytree=0.9, xgb__gamma=0.2, xgb__learning_rate=0.2, xgb__max_depth=5, xgb__n_estimators=400, xgb__reg_alpha=0, xgb__reg_lambda=2, xgb__subsample=0.7; total time=   0.9s\n",
      "[CV] END xgb__colsample_bytree=0.9, xgb__gamma=0.2, xgb__learning_rate=0.2, xgb__max_depth=5, xgb__n_estimators=400, xgb__reg_alpha=0, xgb__reg_lambda=2, xgb__subsample=0.7; total time=   0.8s\n",
      "[CV] END xgb__colsample_bytree=0.9, xgb__gamma=0, xgb__learning_rate=0.2, xgb__max_depth=3, xgb__n_estimators=1200, xgb__reg_alpha=0.1, xgb__reg_lambda=2, xgb__subsample=1.0; total time=   1.1s\n",
      "[CV] END xgb__colsample_bytree=0.9, xgb__gamma=0, xgb__learning_rate=0.2, xgb__max_depth=3, xgb__n_estimators=1200, xgb__reg_alpha=0.1, xgb__reg_lambda=2, xgb__subsample=1.0; total time=   1.2s\n",
      "[CV] END xgb__colsample_bytree=0.9, xgb__gamma=0, xgb__learning_rate=0.2, xgb__max_depth=3, xgb__n_estimators=1200, xgb__reg_alpha=0.1, xgb__reg_lambda=2, xgb__subsample=1.0; total time=   1.3s\n",
      "[CV] END xgb__colsample_bytree=0.9, xgb__gamma=0, xgb__learning_rate=0.2, xgb__max_depth=3, xgb__n_estimators=1200, xgb__reg_alpha=0.1, xgb__reg_lambda=2, xgb__subsample=1.0; total time=   1.4s\n",
      "[CV] END xgb__colsample_bytree=0.9, xgb__gamma=0, xgb__learning_rate=0.2, xgb__max_depth=3, xgb__n_estimators=1200, xgb__reg_alpha=0.1, xgb__reg_lambda=2, xgb__subsample=1.0; total time=   1.4s\n",
      "[CV] END xgb__colsample_bytree=1.0, xgb__gamma=0.1, xgb__learning_rate=0.2, xgb__max_depth=8, xgb__n_estimators=200, xgb__reg_alpha=1, xgb__reg_lambda=2, xgb__subsample=0.6; total time=   0.9s\n",
      "[CV] END xgb__colsample_bytree=1.0, xgb__gamma=0.1, xgb__learning_rate=0.2, xgb__max_depth=8, xgb__n_estimators=200, xgb__reg_alpha=1, xgb__reg_lambda=2, xgb__subsample=0.6; total time=   0.9s\n",
      "[CV] END xgb__colsample_bytree=1.0, xgb__gamma=0.1, xgb__learning_rate=0.2, xgb__max_depth=8, xgb__n_estimators=200, xgb__reg_alpha=1, xgb__reg_lambda=2, xgb__subsample=0.6; total time=   0.9s\n",
      "[CV] END xgb__colsample_bytree=1.0, xgb__gamma=0.1, xgb__learning_rate=0.2, xgb__max_depth=8, xgb__n_estimators=200, xgb__reg_alpha=1, xgb__reg_lambda=2, xgb__subsample=0.6; total time=   1.0s\n",
      "[CV] END xgb__colsample_bytree=1.0, xgb__gamma=0.1, xgb__learning_rate=0.2, xgb__max_depth=8, xgb__n_estimators=200, xgb__reg_alpha=1, xgb__reg_lambda=2, xgb__subsample=0.6; total time=   1.1s\n",
      "[CV] END xgb__colsample_bytree=0.8, xgb__gamma=0.2, xgb__learning_rate=0.2, xgb__max_depth=5, xgb__n_estimators=800, xgb__reg_alpha=0, xgb__reg_lambda=1.5, xgb__subsample=0.6; total time=   1.5s\n",
      "[CV] END xgb__colsample_bytree=0.8, xgb__gamma=0.2, xgb__learning_rate=0.2, xgb__max_depth=5, xgb__n_estimators=800, xgb__reg_alpha=0, xgb__reg_lambda=1.5, xgb__subsample=0.6; total time=   1.9s\n",
      "[CV] END xgb__colsample_bytree=0.8, xgb__gamma=0.2, xgb__learning_rate=0.2, xgb__max_depth=5, xgb__n_estimators=800, xgb__reg_alpha=0, xgb__reg_lambda=1.5, xgb__subsample=0.6; total time=   1.5s\n",
      "[CV] END xgb__colsample_bytree=0.8, xgb__gamma=0.2, xgb__learning_rate=0.2, xgb__max_depth=5, xgb__n_estimators=800, xgb__reg_alpha=0, xgb__reg_lambda=1.5, xgb__subsample=0.6; total time=   1.8s\n",
      "[CV] END xgb__colsample_bytree=0.8, xgb__gamma=0.2, xgb__learning_rate=0.2, xgb__max_depth=5, xgb__n_estimators=800, xgb__reg_alpha=0, xgb__reg_lambda=1.5, xgb__subsample=0.6; total time=   1.7s\n",
      "[CV] END xgb__colsample_bytree=0.8, xgb__gamma=0.2, xgb__learning_rate=0.05, xgb__max_depth=8, xgb__n_estimators=600, xgb__reg_alpha=1, xgb__reg_lambda=0.1, xgb__subsample=0.9; total time=   2.1s\n",
      "[CV] END xgb__colsample_bytree=0.8, xgb__gamma=0.2, xgb__learning_rate=0.05, xgb__max_depth=8, xgb__n_estimators=600, xgb__reg_alpha=1, xgb__reg_lambda=0.1, xgb__subsample=0.9; total time=   2.3s\n",
      "[CV] END xgb__colsample_bytree=0.8, xgb__gamma=0.2, xgb__learning_rate=0.05, xgb__max_depth=8, xgb__n_estimators=600, xgb__reg_alpha=1, xgb__reg_lambda=0.1, xgb__subsample=0.9; total time=   2.5s\n",
      "[CV] END xgb__colsample_bytree=0.8, xgb__gamma=0.2, xgb__learning_rate=0.05, xgb__max_depth=8, xgb__n_estimators=600, xgb__reg_alpha=1, xgb__reg_lambda=0.1, xgb__subsample=0.9; total time=   2.7s\n",
      "[CV] END xgb__colsample_bytree=0.8, xgb__gamma=0.2, xgb__learning_rate=0.05, xgb__max_depth=8, xgb__n_estimators=600, xgb__reg_alpha=1, xgb__reg_lambda=0.1, xgb__subsample=0.9; total time=   2.8s\n",
      "[CV] END xgb__colsample_bytree=0.8, xgb__gamma=0.1, xgb__learning_rate=0.01, xgb__max_depth=4, xgb__n_estimators=1200, xgb__reg_alpha=0.1, xgb__reg_lambda=0.1, xgb__subsample=0.9; total time=   1.4s\n",
      "[CV] END xgb__colsample_bytree=0.8, xgb__gamma=0.1, xgb__learning_rate=0.01, xgb__max_depth=4, xgb__n_estimators=1200, xgb__reg_alpha=0.1, xgb__reg_lambda=0.1, xgb__subsample=0.9; total time=   1.7s\n",
      "[CV] END xgb__colsample_bytree=0.8, xgb__gamma=0.1, xgb__learning_rate=0.01, xgb__max_depth=4, xgb__n_estimators=1200, xgb__reg_alpha=0.1, xgb__reg_lambda=0.1, xgb__subsample=0.9; total time=   1.7s\n",
      "[CV] END xgb__colsample_bytree=0.8, xgb__gamma=0.1, xgb__learning_rate=0.01, xgb__max_depth=4, xgb__n_estimators=1200, xgb__reg_alpha=0.1, xgb__reg_lambda=0.1, xgb__subsample=0.9; total time=   1.8s\n",
      "[CV] END xgb__colsample_bytree=0.8, xgb__gamma=0.1, xgb__learning_rate=0.01, xgb__max_depth=4, xgb__n_estimators=1200, xgb__reg_alpha=0.1, xgb__reg_lambda=0.1, xgb__subsample=0.9; total time=   2.0s\n",
      "[CV] END xgb__colsample_bytree=0.6, xgb__gamma=0, xgb__learning_rate=0.01, xgb__max_depth=8, xgb__n_estimators=1000, xgb__reg_alpha=0.01, xgb__reg_lambda=1, xgb__subsample=0.8; total time=   3.2s\n",
      "[CV] END xgb__colsample_bytree=0.6, xgb__gamma=0, xgb__learning_rate=0.01, xgb__max_depth=8, xgb__n_estimators=1000, xgb__reg_alpha=0.01, xgb__reg_lambda=1, xgb__subsample=0.8; total time=   3.6s\n",
      "[CV] END xgb__colsample_bytree=0.6, xgb__gamma=0, xgb__learning_rate=0.01, xgb__max_depth=8, xgb__n_estimators=1000, xgb__reg_alpha=0.01, xgb__reg_lambda=1, xgb__subsample=0.8; total time=   3.8s\n",
      "[CV] END xgb__colsample_bytree=0.6, xgb__gamma=0, xgb__learning_rate=0.01, xgb__max_depth=8, xgb__n_estimators=1000, xgb__reg_alpha=0.01, xgb__reg_lambda=1, xgb__subsample=0.8; total time=   4.0s\n",
      "[CV] END xgb__colsample_bytree=0.6, xgb__gamma=0, xgb__learning_rate=0.01, xgb__max_depth=8, xgb__n_estimators=1000, xgb__reg_alpha=0.01, xgb__reg_lambda=1, xgb__subsample=0.8; total time=   4.3s\n",
      "[CV] END xgb__colsample_bytree=0.8, xgb__gamma=0, xgb__learning_rate=0.15, xgb__max_depth=3, xgb__n_estimators=200, xgb__reg_alpha=0, xgb__reg_lambda=2, xgb__subsample=0.6; total time=   0.2s\n",
      "[CV] END xgb__colsample_bytree=0.8, xgb__gamma=0, xgb__learning_rate=0.15, xgb__max_depth=3, xgb__n_estimators=200, xgb__reg_alpha=0, xgb__reg_lambda=2, xgb__subsample=0.6; total time=   0.2s\n",
      "[CV] END xgb__colsample_bytree=0.8, xgb__gamma=0, xgb__learning_rate=0.15, xgb__max_depth=3, xgb__n_estimators=200, xgb__reg_alpha=0, xgb__reg_lambda=2, xgb__subsample=0.6; total time=   0.2s\n",
      "[CV] END xgb__colsample_bytree=0.8, xgb__gamma=0, xgb__learning_rate=0.15, xgb__max_depth=3, xgb__n_estimators=200, xgb__reg_alpha=0, xgb__reg_lambda=2, xgb__subsample=0.6; total time=   0.2s\n",
      "[CV] END xgb__colsample_bytree=0.8, xgb__gamma=0, xgb__learning_rate=0.15, xgb__max_depth=3, xgb__n_estimators=200, xgb__reg_alpha=0, xgb__reg_lambda=2, xgb__subsample=0.6; total time=   0.3s\n",
      "[CV] END xgb__colsample_bytree=0.7, xgb__gamma=0, xgb__learning_rate=0.1, xgb__max_depth=7, xgb__n_estimators=1200, xgb__reg_alpha=0.1, xgb__reg_lambda=1, xgb__subsample=0.6; total time=   3.3s\n",
      "[CV] END xgb__colsample_bytree=0.7, xgb__gamma=0, xgb__learning_rate=0.1, xgb__max_depth=7, xgb__n_estimators=1200, xgb__reg_alpha=0.1, xgb__reg_lambda=1, xgb__subsample=0.6; total time=   3.5s\n",
      "[CV] END xgb__colsample_bytree=0.7, xgb__gamma=0, xgb__learning_rate=0.1, xgb__max_depth=7, xgb__n_estimators=1200, xgb__reg_alpha=0.1, xgb__reg_lambda=1, xgb__subsample=0.6; total time=   3.8s\n",
      "[CV] END xgb__colsample_bytree=0.7, xgb__gamma=0, xgb__learning_rate=0.1, xgb__max_depth=7, xgb__n_estimators=1200, xgb__reg_alpha=0.1, xgb__reg_lambda=1, xgb__subsample=0.6; total time=   4.1s\n",
      "[CV] END xgb__colsample_bytree=0.7, xgb__gamma=0, xgb__learning_rate=0.1, xgb__max_depth=7, xgb__n_estimators=1200, xgb__reg_alpha=0.1, xgb__reg_lambda=1, xgb__subsample=0.6; total time=   4.2s\n",
      "[CV] END xgb__colsample_bytree=0.8, xgb__gamma=0.1, xgb__learning_rate=0.01, xgb__max_depth=3, xgb__n_estimators=1000, xgb__reg_alpha=1, xgb__reg_lambda=0.1, xgb__subsample=0.7; total time=   0.9s\n",
      "[CV] END xgb__colsample_bytree=0.8, xgb__gamma=0.1, xgb__learning_rate=0.01, xgb__max_depth=3, xgb__n_estimators=1000, xgb__reg_alpha=1, xgb__reg_lambda=0.1, xgb__subsample=0.7; total time=   1.0s\n",
      "[CV] END xgb__colsample_bytree=0.8, xgb__gamma=0.1, xgb__learning_rate=0.01, xgb__max_depth=3, xgb__n_estimators=1000, xgb__reg_alpha=1, xgb__reg_lambda=0.1, xgb__subsample=0.7; total time=   1.1s\n",
      "[CV] END xgb__colsample_bytree=0.8, xgb__gamma=0.1, xgb__learning_rate=0.01, xgb__max_depth=3, xgb__n_estimators=1000, xgb__reg_alpha=1, xgb__reg_lambda=0.1, xgb__subsample=0.7; total time=   1.2s\n",
      "[CV] END xgb__colsample_bytree=0.8, xgb__gamma=0.1, xgb__learning_rate=0.01, xgb__max_depth=3, xgb__n_estimators=1000, xgb__reg_alpha=1, xgb__reg_lambda=0.1, xgb__subsample=0.7; total time=   1.3s\n",
      "[CV] END xgb__colsample_bytree=0.7, xgb__gamma=0.1, xgb__learning_rate=0.2, xgb__max_depth=5, xgb__n_estimators=600, xgb__reg_alpha=0, xgb__reg_lambda=1.5, xgb__subsample=1.0; total time=   0.9s\n",
      "[CV] END xgb__colsample_bytree=0.7, xgb__gamma=0.1, xgb__learning_rate=0.2, xgb__max_depth=5, xgb__n_estimators=600, xgb__reg_alpha=0, xgb__reg_lambda=1.5, xgb__subsample=1.0; total time=   1.0s\n",
      "[CV] END xgb__colsample_bytree=0.7, xgb__gamma=0.1, xgb__learning_rate=0.2, xgb__max_depth=5, xgb__n_estimators=600, xgb__reg_alpha=0, xgb__reg_lambda=1.5, xgb__subsample=1.0; total time=   1.0s\n",
      "[CV] END xgb__colsample_bytree=0.7, xgb__gamma=0.1, xgb__learning_rate=0.2, xgb__max_depth=5, xgb__n_estimators=600, xgb__reg_alpha=0, xgb__reg_lambda=1.5, xgb__subsample=1.0; total time=   1.1s\n",
      "[CV] END xgb__colsample_bytree=0.7, xgb__gamma=0.1, xgb__learning_rate=0.2, xgb__max_depth=5, xgb__n_estimators=600, xgb__reg_alpha=0, xgb__reg_lambda=1.5, xgb__subsample=1.0; total time=   1.2s\n",
      "[CV] END xgb__colsample_bytree=0.7, xgb__gamma=0, xgb__learning_rate=0.15, xgb__max_depth=5, xgb__n_estimators=600, xgb__reg_alpha=1, xgb__reg_lambda=2, xgb__subsample=0.6; total time=   1.1s\n",
      "[CV] END xgb__colsample_bytree=0.7, xgb__gamma=0, xgb__learning_rate=0.15, xgb__max_depth=5, xgb__n_estimators=600, xgb__reg_alpha=1, xgb__reg_lambda=2, xgb__subsample=0.6; total time=   1.1s\n",
      "[CV] END xgb__colsample_bytree=0.7, xgb__gamma=0, xgb__learning_rate=0.15, xgb__max_depth=5, xgb__n_estimators=600, xgb__reg_alpha=1, xgb__reg_lambda=2, xgb__subsample=0.6; total time=   1.3s\n",
      "[CV] END xgb__colsample_bytree=0.7, xgb__gamma=0, xgb__learning_rate=0.15, xgb__max_depth=5, xgb__n_estimators=600, xgb__reg_alpha=1, xgb__reg_lambda=2, xgb__subsample=0.6; total time=   1.2s\n",
      "[CV] END xgb__colsample_bytree=0.7, xgb__gamma=0, xgb__learning_rate=0.15, xgb__max_depth=5, xgb__n_estimators=600, xgb__reg_alpha=1, xgb__reg_lambda=2, xgb__subsample=0.6; total time=   1.3s\n",
      "[CV] END xgb__colsample_bytree=0.6, xgb__gamma=0.2, xgb__learning_rate=0.01, xgb__max_depth=8, xgb__n_estimators=1000, xgb__reg_alpha=0.01, xgb__reg_lambda=1.5, xgb__subsample=0.7; total time=   3.2s\n",
      "[CV] END xgb__colsample_bytree=0.6, xgb__gamma=0.2, xgb__learning_rate=0.01, xgb__max_depth=8, xgb__n_estimators=1000, xgb__reg_alpha=0.01, xgb__reg_lambda=1.5, xgb__subsample=0.7; total time=   3.4s\n",
      "[CV] END xgb__colsample_bytree=0.6, xgb__gamma=0.2, xgb__learning_rate=0.01, xgb__max_depth=8, xgb__n_estimators=1000, xgb__reg_alpha=0.01, xgb__reg_lambda=1.5, xgb__subsample=0.7; total time=   3.7s\n",
      "[CV] END xgb__colsample_bytree=0.6, xgb__gamma=0.2, xgb__learning_rate=0.01, xgb__max_depth=8, xgb__n_estimators=1000, xgb__reg_alpha=0.01, xgb__reg_lambda=1.5, xgb__subsample=0.7; total time=   4.0s\n",
      "[CV] END xgb__colsample_bytree=0.6, xgb__gamma=0.2, xgb__learning_rate=0.01, xgb__max_depth=8, xgb__n_estimators=1000, xgb__reg_alpha=0.01, xgb__reg_lambda=1.5, xgb__subsample=0.7; total time=   4.2s\n",
      "[CV] END xgb__colsample_bytree=1.0, xgb__gamma=0.2, xgb__learning_rate=0.2, xgb__max_depth=8, xgb__n_estimators=1200, xgb__reg_alpha=0, xgb__reg_lambda=2, xgb__subsample=0.9; total time=   2.4s\n",
      "[CV] END xgb__colsample_bytree=1.0, xgb__gamma=0.2, xgb__learning_rate=0.2, xgb__max_depth=8, xgb__n_estimators=1200, xgb__reg_alpha=0, xgb__reg_lambda=2, xgb__subsample=0.9; total time=   3.7s\n",
      "[CV] END xgb__colsample_bytree=1.0, xgb__gamma=0.2, xgb__learning_rate=0.2, xgb__max_depth=8, xgb__n_estimators=1200, xgb__reg_alpha=0, xgb__reg_lambda=2, xgb__subsample=0.9; total time=   5.1s\n",
      "[CV] END xgb__colsample_bytree=1.0, xgb__gamma=0.2, xgb__learning_rate=0.2, xgb__max_depth=8, xgb__n_estimators=1200, xgb__reg_alpha=0, xgb__reg_lambda=2, xgb__subsample=0.9; total time=   6.5s\n",
      "[CV] END xgb__colsample_bytree=1.0, xgb__gamma=0.2, xgb__learning_rate=0.2, xgb__max_depth=8, xgb__n_estimators=1200, xgb__reg_alpha=0, xgb__reg_lambda=2, xgb__subsample=0.9; total time=   6.7s\n",
      "[CV] END xgb__colsample_bytree=0.6, xgb__gamma=0, xgb__learning_rate=0.05, xgb__max_depth=5, xgb__n_estimators=200, xgb__reg_alpha=0.1, xgb__reg_lambda=1.5, xgb__subsample=0.6; total time=   0.3s\n",
      "[CV] END xgb__colsample_bytree=0.6, xgb__gamma=0, xgb__learning_rate=0.05, xgb__max_depth=5, xgb__n_estimators=200, xgb__reg_alpha=0.1, xgb__reg_lambda=1.5, xgb__subsample=0.6; total time=   0.3s\n",
      "[CV] END xgb__colsample_bytree=0.6, xgb__gamma=0, xgb__learning_rate=0.05, xgb__max_depth=5, xgb__n_estimators=200, xgb__reg_alpha=0.1, xgb__reg_lambda=1.5, xgb__subsample=0.6; total time=   0.4s\n",
      "[CV] END xgb__colsample_bytree=0.6, xgb__gamma=0, xgb__learning_rate=0.05, xgb__max_depth=5, xgb__n_estimators=200, xgb__reg_alpha=0.1, xgb__reg_lambda=1.5, xgb__subsample=0.6; total time=   0.4s\n",
      "[CV] END xgb__colsample_bytree=0.6, xgb__gamma=0, xgb__learning_rate=0.05, xgb__max_depth=5, xgb__n_estimators=200, xgb__reg_alpha=0.1, xgb__reg_lambda=1.5, xgb__subsample=0.6; total time=   0.5s\n",
      "[CV] END xgb__colsample_bytree=0.6, xgb__gamma=0.2, xgb__learning_rate=0.2, xgb__max_depth=5, xgb__n_estimators=1000, xgb__reg_alpha=0, xgb__reg_lambda=1, xgb__subsample=0.7; total time=   1.5s\n",
      "[CV] END xgb__colsample_bytree=0.6, xgb__gamma=0.2, xgb__learning_rate=0.2, xgb__max_depth=5, xgb__n_estimators=1000, xgb__reg_alpha=0, xgb__reg_lambda=1, xgb__subsample=0.7; total time=   1.7s\n",
      "[CV] END xgb__colsample_bytree=0.6, xgb__gamma=0.2, xgb__learning_rate=0.2, xgb__max_depth=5, xgb__n_estimators=1000, xgb__reg_alpha=0, xgb__reg_lambda=1, xgb__subsample=0.7; total time=   1.8s\n",
      "[CV] END xgb__colsample_bytree=0.6, xgb__gamma=0.2, xgb__learning_rate=0.2, xgb__max_depth=5, xgb__n_estimators=1000, xgb__reg_alpha=0, xgb__reg_lambda=1, xgb__subsample=0.7; total time=   2.0s\n",
      "[CV] END xgb__colsample_bytree=0.6, xgb__gamma=0.2, xgb__learning_rate=0.2, xgb__max_depth=5, xgb__n_estimators=1000, xgb__reg_alpha=0, xgb__reg_lambda=1, xgb__subsample=0.7; total time=   2.0s\n",
      "[CV] END xgb__colsample_bytree=1.0, xgb__gamma=0.1, xgb__learning_rate=0.2, xgb__max_depth=4, xgb__n_estimators=200, xgb__reg_alpha=0.1, xgb__reg_lambda=0.1, xgb__subsample=0.6; total time=   0.5s\n",
      "[CV] END xgb__colsample_bytree=1.0, xgb__gamma=0.1, xgb__learning_rate=0.2, xgb__max_depth=4, xgb__n_estimators=200, xgb__reg_alpha=0.1, xgb__reg_lambda=0.1, xgb__subsample=0.6; total time=   0.3s\n",
      "[CV] END xgb__colsample_bytree=1.0, xgb__gamma=0.1, xgb__learning_rate=0.2, xgb__max_depth=4, xgb__n_estimators=200, xgb__reg_alpha=0.1, xgb__reg_lambda=0.1, xgb__subsample=0.6; total time=   0.3s\n",
      "[CV] END xgb__colsample_bytree=1.0, xgb__gamma=0.1, xgb__learning_rate=0.2, xgb__max_depth=4, xgb__n_estimators=200, xgb__reg_alpha=0.1, xgb__reg_lambda=0.1, xgb__subsample=0.6; total time=   0.3s\n",
      "[CV] END xgb__colsample_bytree=1.0, xgb__gamma=0.1, xgb__learning_rate=0.2, xgb__max_depth=4, xgb__n_estimators=200, xgb__reg_alpha=0.1, xgb__reg_lambda=0.1, xgb__subsample=0.6; total time=   0.4s\n",
      "[CV] END xgb__colsample_bytree=0.8, xgb__gamma=0.1, xgb__learning_rate=0.2, xgb__max_depth=4, xgb__n_estimators=400, xgb__reg_alpha=0, xgb__reg_lambda=2, xgb__subsample=1.0; total time=   0.5s\n",
      "[CV] END xgb__colsample_bytree=0.8, xgb__gamma=0.1, xgb__learning_rate=0.2, xgb__max_depth=4, xgb__n_estimators=400, xgb__reg_alpha=0, xgb__reg_lambda=2, xgb__subsample=1.0; total time=   0.5s\n",
      "[CV] END xgb__colsample_bytree=0.8, xgb__gamma=0.1, xgb__learning_rate=0.2, xgb__max_depth=4, xgb__n_estimators=400, xgb__reg_alpha=0, xgb__reg_lambda=2, xgb__subsample=1.0; total time=   0.6s\n",
      "[CV] END xgb__colsample_bytree=0.8, xgb__gamma=0.1, xgb__learning_rate=0.2, xgb__max_depth=4, xgb__n_estimators=400, xgb__reg_alpha=0, xgb__reg_lambda=2, xgb__subsample=1.0; total time=   0.6s\n",
      "[CV] END xgb__colsample_bytree=0.8, xgb__gamma=0.1, xgb__learning_rate=0.2, xgb__max_depth=4, xgb__n_estimators=400, xgb__reg_alpha=0, xgb__reg_lambda=2, xgb__subsample=1.0; total time=   0.7s\n",
      "[CV] END xgb__colsample_bytree=1.0, xgb__gamma=0.2, xgb__learning_rate=0.2, xgb__max_depth=3, xgb__n_estimators=600, xgb__reg_alpha=0.1, xgb__reg_lambda=2, xgb__subsample=0.7; total time=   0.6s\n",
      "[CV] END xgb__colsample_bytree=1.0, xgb__gamma=0.2, xgb__learning_rate=0.2, xgb__max_depth=3, xgb__n_estimators=600, xgb__reg_alpha=0.1, xgb__reg_lambda=2, xgb__subsample=0.7; total time=   0.6s\n",
      "[CV] END xgb__colsample_bytree=1.0, xgb__gamma=0.2, xgb__learning_rate=0.2, xgb__max_depth=3, xgb__n_estimators=600, xgb__reg_alpha=0.1, xgb__reg_lambda=2, xgb__subsample=0.7; total time=   0.7s\n",
      "[CV] END xgb__colsample_bytree=1.0, xgb__gamma=0.2, xgb__learning_rate=0.2, xgb__max_depth=3, xgb__n_estimators=600, xgb__reg_alpha=0.1, xgb__reg_lambda=2, xgb__subsample=0.7; total time=   0.8s\n",
      "[CV] END xgb__colsample_bytree=1.0, xgb__gamma=0.2, xgb__learning_rate=0.2, xgb__max_depth=3, xgb__n_estimators=600, xgb__reg_alpha=0.1, xgb__reg_lambda=2, xgb__subsample=0.7; total time=   0.9s\n",
      "[CV] END xgb__colsample_bytree=1.0, xgb__gamma=0, xgb__learning_rate=0.15, xgb__max_depth=4, xgb__n_estimators=1200, xgb__reg_alpha=0, xgb__reg_lambda=1.5, xgb__subsample=0.7; total time=   1.6s\n",
      "[CV] END xgb__colsample_bytree=1.0, xgb__gamma=0, xgb__learning_rate=0.15, xgb__max_depth=4, xgb__n_estimators=1200, xgb__reg_alpha=0, xgb__reg_lambda=1.5, xgb__subsample=0.7; total time=   1.7s\n",
      "[CV] END xgb__colsample_bytree=1.0, xgb__gamma=0, xgb__learning_rate=0.15, xgb__max_depth=4, xgb__n_estimators=1200, xgb__reg_alpha=0, xgb__reg_lambda=1.5, xgb__subsample=0.7; total time=   1.8s\n",
      "[CV] END xgb__colsample_bytree=1.0, xgb__gamma=0, xgb__learning_rate=0.15, xgb__max_depth=4, xgb__n_estimators=1200, xgb__reg_alpha=0, xgb__reg_lambda=1.5, xgb__subsample=0.7; total time=   2.0s\n",
      "[CV] END xgb__colsample_bytree=1.0, xgb__gamma=0, xgb__learning_rate=0.15, xgb__max_depth=4, xgb__n_estimators=1200, xgb__reg_alpha=0, xgb__reg_lambda=1.5, xgb__subsample=0.7; total time=   2.0s\n",
      "[CV] END xgb__colsample_bytree=1.0, xgb__gamma=0, xgb__learning_rate=0.15, xgb__max_depth=4, xgb__n_estimators=400, xgb__reg_alpha=0.01, xgb__reg_lambda=1, xgb__subsample=1.0; total time=   0.5s\n",
      "[CV] END xgb__colsample_bytree=1.0, xgb__gamma=0, xgb__learning_rate=0.15, xgb__max_depth=4, xgb__n_estimators=400, xgb__reg_alpha=0.01, xgb__reg_lambda=1, xgb__subsample=1.0; total time=   0.5s\n",
      "[CV] END xgb__colsample_bytree=1.0, xgb__gamma=0, xgb__learning_rate=0.15, xgb__max_depth=4, xgb__n_estimators=400, xgb__reg_alpha=0.01, xgb__reg_lambda=1, xgb__subsample=1.0; total time=   0.6s\n",
      "[CV] END xgb__colsample_bytree=1.0, xgb__gamma=0, xgb__learning_rate=0.15, xgb__max_depth=4, xgb__n_estimators=400, xgb__reg_alpha=0.01, xgb__reg_lambda=1, xgb__subsample=1.0; total time=   0.6s\n",
      "[CV] END xgb__colsample_bytree=1.0, xgb__gamma=0, xgb__learning_rate=0.15, xgb__max_depth=4, xgb__n_estimators=400, xgb__reg_alpha=0.01, xgb__reg_lambda=1, xgb__subsample=1.0; total time=   0.7s\n",
      "[CV] END xgb__colsample_bytree=0.9, xgb__gamma=0.2, xgb__learning_rate=0.05, xgb__max_depth=4, xgb__n_estimators=400, xgb__reg_alpha=0, xgb__reg_lambda=0.1, xgb__subsample=0.7; total time=   0.5s\n",
      "[CV] END xgb__colsample_bytree=0.9, xgb__gamma=0.2, xgb__learning_rate=0.05, xgb__max_depth=4, xgb__n_estimators=400, xgb__reg_alpha=0, xgb__reg_lambda=0.1, xgb__subsample=0.7; total time=   0.6s\n",
      "[CV] END xgb__colsample_bytree=0.9, xgb__gamma=0.2, xgb__learning_rate=0.05, xgb__max_depth=4, xgb__n_estimators=400, xgb__reg_alpha=0, xgb__reg_lambda=0.1, xgb__subsample=0.7; total time=   0.6s\n",
      "[CV] END xgb__colsample_bytree=0.9, xgb__gamma=0.2, xgb__learning_rate=0.05, xgb__max_depth=4, xgb__n_estimators=400, xgb__reg_alpha=0, xgb__reg_lambda=0.1, xgb__subsample=0.7; total time=   0.6s\n",
      "[CV] END xgb__colsample_bytree=0.9, xgb__gamma=0.2, xgb__learning_rate=0.05, xgb__max_depth=4, xgb__n_estimators=400, xgb__reg_alpha=0, xgb__reg_lambda=0.1, xgb__subsample=0.7; total time=   0.7s\n",
      "[CV] END xgb__colsample_bytree=0.9, xgb__gamma=0, xgb__learning_rate=0.01, xgb__max_depth=5, xgb__n_estimators=800, xgb__reg_alpha=1, xgb__reg_lambda=1.5, xgb__subsample=0.9; total time=   1.4s\n",
      "[CV] END xgb__colsample_bytree=0.9, xgb__gamma=0, xgb__learning_rate=0.01, xgb__max_depth=5, xgb__n_estimators=800, xgb__reg_alpha=1, xgb__reg_lambda=1.5, xgb__subsample=0.9; total time=   1.5s\n",
      "[CV] END xgb__colsample_bytree=0.9, xgb__gamma=0, xgb__learning_rate=0.01, xgb__max_depth=5, xgb__n_estimators=800, xgb__reg_alpha=1, xgb__reg_lambda=1.5, xgb__subsample=0.9; total time=   2.4s\n",
      "[CV] END xgb__colsample_bytree=0.9, xgb__gamma=0, xgb__learning_rate=0.01, xgb__max_depth=5, xgb__n_estimators=800, xgb__reg_alpha=1, xgb__reg_lambda=1.5, xgb__subsample=0.9; total time=   2.5s\n",
      "[CV] END xgb__colsample_bytree=0.9, xgb__gamma=0, xgb__learning_rate=0.01, xgb__max_depth=5, xgb__n_estimators=800, xgb__reg_alpha=1, xgb__reg_lambda=1.5, xgb__subsample=0.9; total time=   2.7s\n",
      "[CV] END xgb__colsample_bytree=0.9, xgb__gamma=0.2, xgb__learning_rate=0.1, xgb__max_depth=3, xgb__n_estimators=800, xgb__reg_alpha=0.01, xgb__reg_lambda=0.1, xgb__subsample=1.0; total time=   0.9s\n",
      "[CV] END xgb__colsample_bytree=0.9, xgb__gamma=0.2, xgb__learning_rate=0.1, xgb__max_depth=3, xgb__n_estimators=800, xgb__reg_alpha=0.01, xgb__reg_lambda=0.1, xgb__subsample=1.0; total time=   1.2s\n",
      "[CV] END xgb__colsample_bytree=0.9, xgb__gamma=0.2, xgb__learning_rate=0.1, xgb__max_depth=3, xgb__n_estimators=800, xgb__reg_alpha=0.01, xgb__reg_lambda=0.1, xgb__subsample=1.0; total time=   1.1s\n",
      "[CV] END xgb__colsample_bytree=0.9, xgb__gamma=0.2, xgb__learning_rate=0.1, xgb__max_depth=3, xgb__n_estimators=800, xgb__reg_alpha=0.01, xgb__reg_lambda=0.1, xgb__subsample=1.0; total time=   1.2s\n",
      "[CV] END xgb__colsample_bytree=0.9, xgb__gamma=0.2, xgb__learning_rate=0.1, xgb__max_depth=3, xgb__n_estimators=800, xgb__reg_alpha=0.01, xgb__reg_lambda=0.1, xgb__subsample=1.0; total time=   1.2s\n",
      "[CV] END xgb__colsample_bytree=0.7, xgb__gamma=0, xgb__learning_rate=0.15, xgb__max_depth=6, xgb__n_estimators=1200, xgb__reg_alpha=1, xgb__reg_lambda=1, xgb__subsample=0.9; total time=   3.3s\n",
      "[CV] END xgb__colsample_bytree=0.7, xgb__gamma=0, xgb__learning_rate=0.15, xgb__max_depth=6, xgb__n_estimators=1200, xgb__reg_alpha=1, xgb__reg_lambda=1, xgb__subsample=0.9; total time=   3.6s\n",
      "[CV] END xgb__colsample_bytree=0.7, xgb__gamma=0, xgb__learning_rate=0.15, xgb__max_depth=6, xgb__n_estimators=1200, xgb__reg_alpha=1, xgb__reg_lambda=1, xgb__subsample=0.9; total time=   3.6s\n",
      "[CV] END xgb__colsample_bytree=0.7, xgb__gamma=0, xgb__learning_rate=0.15, xgb__max_depth=6, xgb__n_estimators=1200, xgb__reg_alpha=1, xgb__reg_lambda=1, xgb__subsample=0.9; total time=   3.8s\n",
      "[CV] END xgb__colsample_bytree=0.7, xgb__gamma=0, xgb__learning_rate=0.15, xgb__max_depth=6, xgb__n_estimators=1200, xgb__reg_alpha=1, xgb__reg_lambda=1, xgb__subsample=0.9; total time=   4.1s\n",
      "[CV] END xgb__colsample_bytree=1.0, xgb__gamma=0.1, xgb__learning_rate=0.1, xgb__max_depth=7, xgb__n_estimators=1000, xgb__reg_alpha=0, xgb__reg_lambda=0.1, xgb__subsample=0.7; total time=   3.9s\n",
      "[CV] END xgb__colsample_bytree=1.0, xgb__gamma=0.1, xgb__learning_rate=0.1, xgb__max_depth=7, xgb__n_estimators=1000, xgb__reg_alpha=0, xgb__reg_lambda=0.1, xgb__subsample=0.7; total time=   4.6s\n",
      "[CV] END xgb__colsample_bytree=1.0, xgb__gamma=0.1, xgb__learning_rate=0.1, xgb__max_depth=7, xgb__n_estimators=1000, xgb__reg_alpha=0, xgb__reg_lambda=0.1, xgb__subsample=0.7; total time=   4.9s\n",
      "[CV] END xgb__colsample_bytree=1.0, xgb__gamma=0.1, xgb__learning_rate=0.1, xgb__max_depth=7, xgb__n_estimators=1000, xgb__reg_alpha=0, xgb__reg_lambda=0.1, xgb__subsample=0.7; total time=   5.2s\n",
      "[CV] END xgb__colsample_bytree=1.0, xgb__gamma=0.1, xgb__learning_rate=0.1, xgb__max_depth=7, xgb__n_estimators=1000, xgb__reg_alpha=0, xgb__reg_lambda=0.1, xgb__subsample=0.7; total time=   5.1s\n",
      "[CV] END xgb__colsample_bytree=0.8, xgb__gamma=0, xgb__learning_rate=0.15, xgb__max_depth=3, xgb__n_estimators=1200, xgb__reg_alpha=0, xgb__reg_lambda=0.1, xgb__subsample=0.9; total time=   1.7s\n",
      "[CV] END xgb__colsample_bytree=0.8, xgb__gamma=0, xgb__learning_rate=0.15, xgb__max_depth=3, xgb__n_estimators=1200, xgb__reg_alpha=0, xgb__reg_lambda=0.1, xgb__subsample=0.9; total time=   1.6s\n",
      "[CV] END xgb__colsample_bytree=0.8, xgb__gamma=0, xgb__learning_rate=0.15, xgb__max_depth=3, xgb__n_estimators=1200, xgb__reg_alpha=0, xgb__reg_lambda=0.1, xgb__subsample=0.9; total time=   1.7s\n",
      "[CV] END xgb__colsample_bytree=0.8, xgb__gamma=0, xgb__learning_rate=0.15, xgb__max_depth=3, xgb__n_estimators=1200, xgb__reg_alpha=0, xgb__reg_lambda=0.1, xgb__subsample=0.9; total time=   1.9s\n",
      "[CV] END xgb__colsample_bytree=0.8, xgb__gamma=0, xgb__learning_rate=0.15, xgb__max_depth=3, xgb__n_estimators=1200, xgb__reg_alpha=0, xgb__reg_lambda=0.1, xgb__subsample=0.9; total time=   2.1s\n",
      "[CV] END xgb__colsample_bytree=1.0, xgb__gamma=0.1, xgb__learning_rate=0.1, xgb__max_depth=5, xgb__n_estimators=1200, xgb__reg_alpha=1, xgb__reg_lambda=2, xgb__subsample=0.6; total time=   3.0s\n",
      "[CV] END xgb__colsample_bytree=1.0, xgb__gamma=0.1, xgb__learning_rate=0.1, xgb__max_depth=5, xgb__n_estimators=1200, xgb__reg_alpha=1, xgb__reg_lambda=2, xgb__subsample=0.6; total time=   2.9s\n",
      "[CV] END xgb__colsample_bytree=1.0, xgb__gamma=0.1, xgb__learning_rate=0.1, xgb__max_depth=5, xgb__n_estimators=1200, xgb__reg_alpha=1, xgb__reg_lambda=2, xgb__subsample=0.6; total time=   2.4s\n",
      "[CV] END xgb__colsample_bytree=1.0, xgb__gamma=0.1, xgb__learning_rate=0.1, xgb__max_depth=5, xgb__n_estimators=1200, xgb__reg_alpha=1, xgb__reg_lambda=2, xgb__subsample=0.6; total time=   2.5s\n",
      "[CV] END xgb__colsample_bytree=1.0, xgb__gamma=0.1, xgb__learning_rate=0.1, xgb__max_depth=5, xgb__n_estimators=1200, xgb__reg_alpha=1, xgb__reg_lambda=2, xgb__subsample=0.6; total time=   2.8s\n",
      "Search finished in 444.73 seconds.\n",
      "\n",
      "--- Hyperparameter Tuning Results ---\n",
      "Best Score (Negative RMSE): -211.8630\n",
      "Best Positive RMSE: 211.8630\n",
      "\n",
      "Best Parameters Found:\n",
      "{'xgb__subsample': 0.9, 'xgb__reg_lambda': 2, 'xgb__reg_alpha': 0.1, 'xgb__n_estimators': 400, 'xgb__max_depth': 5, 'xgb__learning_rate': 0.01, 'xgb__gamma': 0.2, 'xgb__colsample_bytree': 0.7}\n"
     ]
    }
   ],
   "source": [
    "import pandas as pd\n",
    "import numpy as np\n",
    "import xgboost as xgb\n",
    "from sklearn.model_selection import RandomizedSearchCV, TimeSeriesSplit\n",
    "from sklearn.preprocessing import StandardScaler\n",
    "from sklearn.pipeline import Pipeline\n",
    "from sklearn.metrics import make_scorer, mean_squared_error \n",
    "import time \n",
    "\n",
    "print(f\"Feature shape: {X.shape}\")\n",
    "print(f\"Target shape: {y.shape}\")\n",
    "\n",
    "# Define lists for hyperparameters\n",
    "params = {\n",
    "    #Pipeline step name ('xgb') + '__' + parameter name\n",
    "    'xgb__n_estimators': [int(x) for x in np.linspace(start=200, stop=1200, num=6)], # Sample from a list\n",
    "    'xgb__learning_rate': [0.01, 0.05, 0.1, 0.15, 0.2],\n",
    "    'xgb__max_depth': [3, 4, 5, 6, 7, 8], \n",
    "    'xgb__subsample': [0.6, 0.7, 0.8, 0.9, 1.0], \n",
    "    'xgb__colsample_bytree': [0.6, 0.7, 0.8, 0.9, 1.0], \n",
    "    'xgb__gamma': [0, 0.1, 0.2, 0.3], # Minimum loss reduction\n",
    "    'xgb__reg_alpha': [0, 0.01, 0.1, 1], # L1 regularization\n",
    "    'xgb__reg_lambda': [0.1, 1, 1.5, 2] # L2 regularization\n",
    "}\n",
    "\n",
    "# Setup TimeSeries Split\n",
    "n_splits = 5 \n",
    "tscv = TimeSeriesSplit(n_splits=n_splits)\n",
    "\n",
    "# Create Pipeline \n",
    "# 'scaler' and 'xgb' are arbitrary names for the steps\n",
    "pipeline = Pipeline([\n",
    "    ('scaler', StandardScaler()),\n",
    "    ('xgb', xgb.XGBRegressor(objective='reg:squarederror',\n",
    "                             random_state=42,\n",
    "                             n_jobs=-1)) # Set fixed parameters here\n",
    "])\n",
    "\n",
    "#  Scoring Metric\n",
    "scoring_metric = 'neg_root_mean_squared_error'  # We want to minimize RMSE, so use neg_root_mean_squared_error (higher is better)\n",
    "\n",
    "# Instantiate RandomizedSearchCV \n",
    "n_iter = 50 # Number of parameter settings that are sampled. Increase for better search, decrease for speed.\n",
    "\n",
    "random_search = RandomizedSearchCV(\n",
    "    estimator=pipeline,            # Use the pipeline\n",
    "    param_distributions=params,    # Parameter space to sample from\n",
    "    n_iter=n_iter,                 # Number of iterations/combinations to try\n",
    "    scoring=scoring_metric,       # Metric to optimize (negative RMSE)\n",
    "    cv=tscv,                       # Use TimeSeriesSplit for cross-validation!\n",
    "    n_jobs=1,                     # Use all available CPU cores\n",
    "    verbose=2,                     # Show progress (0=silent, 1=basic, 2=detailed)\n",
    "    random_state=42                # For reproducible sampling\n",
    ")\n",
    "print(f\"RandomizedSearchCV setup with {n_iter} iterations.\")\n",
    "\n",
    "# Run the Search \n",
    "print(\"Starting hyperparameter search...\")\n",
    "start_time = time.time()\n",
    "random_search.fit(X, y) # Fit on the full X and y data\n",
    "end_time = time.time()\n",
    "print(f\"Search finished in {(end_time - start_time):.2f} seconds.\")\n",
    "\n",
    "# Analyze Results\n",
    "print(\"\\n--- Hyperparameter Tuning Results ---\")\n",
    "print(f\"Best Score (Negative RMSE): {random_search.best_score_:.4f}\")\n",
    "# Convert back to positive RMSE:\n",
    "print(f\"Best Positive RMSE: {-random_search.best_score_:.4f}\")\n",
    "\n",
    "print(\"\\nBest Parameters Found:\")\n",
    "# Best parameters are prefixed with the pipeline step name ('xgb__')\n",
    "best_params_raw = random_search.best_params_\n",
    "print(best_params_raw)\n"
   ]
  },
  {
   "cell_type": "code",
   "execution_count": 8,
   "id": "a79df087",
   "metadata": {},
   "outputs": [
    {
     "name": "stdout",
     "output_type": "stream",
     "text": [
      "Final model training complete.\n",
      "--- Final Results: ---\n",
      "    RMSE: 238.9622\n",
      "    MAE:  119.0839\n",
      "    MedianAE: 22.2493\n",
      "    R²:   0.9126\n",
      "\n",
      "Compare Hold-out RMSE (238.9622) to CV Best Avg RMSE (211.8630)\n",
      "\n",
      "--- Average Final results---\n",
      "  Average RMSE: 238.9622 (+/- 0.0000)\n",
      "  Average MAE:  119.0839 (+/- 0.0000)\n",
      "  Average MedianAE: 22.2493 (+/- 0.0000)\n",
      "  Average R²:   0.9126 (+/- 0.0000)\n"
     ]
    }
   ],
   "source": [
    "import xgboost as xgb\n",
    "from sklearn.model_selection import TimeSeriesSplit\n",
    "from sklearn.preprocessing import StandardScaler\n",
    "from sklearn.metrics import mean_squared_error, mean_absolute_error, r2_score, median_absolute_error\n",
    "import pandas as pd\n",
    "import numpy as np # Make sure numpy is imported\n",
    "\n",
    "\n",
    "# best parameters found from RandomizedSearchCV\n",
    "best_params_xgb = {\n",
    "    'n_estimators': 400,\n",
    "    'learning_rate': 0.01,\n",
    "    'max_depth': 5,\n",
    "    'subsample': 0.9,\n",
    "    'colsample_bytree': 0.7,\n",
    "    'gamma': 0.2,\n",
    "    'reg_alpha': 0.1,\n",
    "    'reg_lambda': 2,\n",
    "    'objective': 'reg:squarederror',\n",
    "    'random_state': 42,             \n",
    "    'n_jobs': -1                  \n",
    "}\n",
    "\n",
    "# split data into train and test sets\n",
    "\n",
    "split_fraction = 0.8 \n",
    "split_index = int(len(X) * split_fraction)\n",
    "\n",
    "X_train = X.iloc[:split_index]\n",
    "y_train = y.iloc[:split_index]\n",
    "\n",
    "X_test = X.iloc[split_index:]\n",
    "y_test = y.iloc[split_index:]\n",
    "\n",
    "\n",
    "# Create final pipeline\n",
    "final_pipeline = Pipeline([\n",
    "    ('scaler', StandardScaler()),\n",
    "    ('xgb', xgb.XGBRegressor(\n",
    "        **best_params_xgb\n",
    "    ))\n",
    "])\n",
    "\n",
    "final_pipeline.fit(X_train, y_train)\n",
    "print(\"Final model training complete.\")\n",
    "\n",
    "# Evaluate the Final Pipeline on the  Test Set\n",
    "y_pred_final = final_pipeline.predict(X_test)\n",
    "\n",
    "# Store results from each fold\n",
    "rmse_scores = []\n",
    "mae_scores = []\n",
    "medae_scores = []\n",
    "r2_scores = []\n",
    "\n",
    "\n",
    "# Final performance metrics\n",
    "final_rmse = np.sqrt(mean_squared_error(y_test, y_pred_final))\n",
    "final_mae = mean_absolute_error(y_test, y_pred_final)\n",
    "final_medae = median_absolute_error(y_test, y_pred_final)\n",
    "final_r2 = r2_score(y_test, y_pred_final)\n",
    "\n",
    "print(f\"--- Final Results: ---\")\n",
    "print(f\"    RMSE: {final_rmse:.4f}\")\n",
    "print(f\"    MAE:  {final_mae:.4f}\")\n",
    "print(f\"    MedianAE: {final_medae:.4f}\")\n",
    "print(f\"    R²:   {final_r2:.4f}\")\n",
    "\n",
    "# Append scores\n",
    "rmse_scores.append(final_rmse)\n",
    "mae_scores.append(final_mae)\n",
    "medae_scores.append(final_medae)\n",
    "r2_scores.append(final_r2)\n",
    "\n",
    "print(f\"\\nCompare Hold-out RMSE ({final_rmse:.4f}) to CV Best Avg RMSE ({-random_search.best_score_:.4f})\")\n",
    "\n",
    "\n",
    "# Average Results \n",
    "print(\"\\n--- Average Final results---\")\n",
    "print(f\"  Average RMSE: {np.mean(rmse_scores):.4f} (+/- {np.std(rmse_scores):.4f})\")\n",
    "print(f\"  Average MAE:  {np.mean(mae_scores):.4f} (+/- {np.std(mae_scores):.4f})\")\n",
    "print(f\"  Average MedianAE: {np.mean(medae_scores):.4f} (+/- {np.std(medae_scores):.4f})\")\n",
    "print(f\"  Average R²:   {np.mean(r2_scores):.4f} (+/- {np.std(r2_scores):.4f})\")"
   ]
  },
  {
   "cell_type": "markdown",
   "id": "5d274f5b",
   "metadata": {},
   "source": [
    "## Features importance"
   ]
  },
  {
   "cell_type": "code",
   "execution_count": 9,
   "id": "eba2d0cd",
   "metadata": {},
   "outputs": [
    {
     "data": {
      "text/html": [
       "<div>\n",
       "<style scoped>\n",
       "    .dataframe tbody tr th:only-of-type {\n",
       "        vertical-align: middle;\n",
       "    }\n",
       "\n",
       "    .dataframe tbody tr th {\n",
       "        vertical-align: top;\n",
       "    }\n",
       "\n",
       "    .dataframe thead th {\n",
       "        text-align: right;\n",
       "    }\n",
       "</style>\n",
       "<table border=\"1\" class=\"dataframe\">\n",
       "  <thead>\n",
       "    <tr style=\"text-align: right;\">\n",
       "      <th></th>\n",
       "      <th>importance</th>\n",
       "    </tr>\n",
       "  </thead>\n",
       "  <tbody>\n",
       "    <tr>\n",
       "      <th>year</th>\n",
       "      <td>0.001</td>\n",
       "    </tr>\n",
       "    <tr>\n",
       "      <th>month</th>\n",
       "      <td>0.007</td>\n",
       "    </tr>\n",
       "    <tr>\n",
       "      <th>day</th>\n",
       "      <td>0.002</td>\n",
       "    </tr>\n",
       "    <tr>\n",
       "      <th>dayofweek</th>\n",
       "      <td>0.002</td>\n",
       "    </tr>\n",
       "    <tr>\n",
       "      <th>hour</th>\n",
       "      <td>0.035</td>\n",
       "    </tr>\n",
       "    <tr>\n",
       "      <th>power_output</th>\n",
       "      <td>0.539</td>\n",
       "    </tr>\n",
       "    <tr>\n",
       "      <th>power_output_lag_1hr</th>\n",
       "      <td>0.033</td>\n",
       "    </tr>\n",
       "    <tr>\n",
       "      <th>power_output_lag_2hr</th>\n",
       "      <td>0.010</td>\n",
       "    </tr>\n",
       "    <tr>\n",
       "      <th>direct_irradiance</th>\n",
       "      <td>0.060</td>\n",
       "    </tr>\n",
       "    <tr>\n",
       "      <th>direct_irradiance_lag_1hr</th>\n",
       "      <td>0.021</td>\n",
       "    </tr>\n",
       "  </tbody>\n",
       "</table>\n",
       "</div>"
      ],
      "text/plain": [
       "                           importance\n",
       "year                            0.001\n",
       "month                           0.007\n",
       "day                             0.002\n",
       "dayofweek                       0.002\n",
       "hour                            0.035\n",
       "power_output                    0.539\n",
       "power_output_lag_1hr            0.033\n",
       "power_output_lag_2hr            0.010\n",
       "direct_irradiance               0.060\n",
       "direct_irradiance_lag_1hr       0.021"
      ]
     },
     "execution_count": 9,
     "metadata": {},
     "output_type": "execute_result"
    }
   ],
   "source": [
    "# Get importances from the model\n",
    "\n",
    "xgb_model = final_pipeline.named_steps['xgb']\n",
    "if isinstance(X_train, pd.DataFrame):\n",
    "    feature_names = X_train.columns.tolist()\n",
    "\n",
    "importances = xgb_model.feature_importances_\n",
    "\n",
    "fi = pd.DataFrame(data=importances,\n",
    "             index=feature_names,\n",
    "             columns=['importance']\n",
    "            )           \n",
    "fi_sorted = round(fi.head(10),3)\n",
    "fi_sorted"
   ]
  },
  {
   "cell_type": "code",
   "execution_count": 10,
   "id": "d38a60ae",
   "metadata": {},
   "outputs": [
    {
     "data": {
      "application/vnd.plotly.v1+json": {
       "config": {
        "plotlyServerURL": "https://plot.ly"
       },
       "data": [
        {
         "hovertemplate": "variable=importance<br>value=%{x}<br>index=%{y}<extra></extra>",
         "legendgroup": "importance",
         "marker": {
          "color": "#636efa",
          "pattern": {
           "shape": ""
          }
         },
         "name": "importance",
         "orientation": "h",
         "showlegend": true,
         "textposition": "auto",
         "type": "bar",
         "x": {
          "bdata": "bxKDOm8SAztvEgM7QmDlOwrXIzwxCKw8AisHPSlcDz2PwnU95/sJPw==",
          "dtype": "f4"
         },
         "xaxis": "x",
         "y": [
          "year",
          "day",
          "dayofweek",
          "month",
          "power_output_lag_2hr",
          "direct_irradiance_lag_1hr",
          "power_output_lag_1hr",
          "hour",
          "direct_irradiance",
          "power_output"
         ],
         "yaxis": "y"
        }
       ],
       "layout": {
        "barmode": "relative",
        "legend": {
         "title": {
          "text": "variable"
         },
         "tracegroupgap": 0
        },
        "template": {
         "data": {
          "bar": [
           {
            "error_x": {
             "color": "#f2f5fa"
            },
            "error_y": {
             "color": "#f2f5fa"
            },
            "marker": {
             "line": {
              "color": "rgb(17,17,17)",
              "width": 0.5
             },
             "pattern": {
              "fillmode": "overlay",
              "size": 10,
              "solidity": 0.2
             }
            },
            "type": "bar"
           }
          ],
          "barpolar": [
           {
            "marker": {
             "line": {
              "color": "rgb(17,17,17)",
              "width": 0.5
             },
             "pattern": {
              "fillmode": "overlay",
              "size": 10,
              "solidity": 0.2
             }
            },
            "type": "barpolar"
           }
          ],
          "carpet": [
           {
            "aaxis": {
             "endlinecolor": "#A2B1C6",
             "gridcolor": "#506784",
             "linecolor": "#506784",
             "minorgridcolor": "#506784",
             "startlinecolor": "#A2B1C6"
            },
            "baxis": {
             "endlinecolor": "#A2B1C6",
             "gridcolor": "#506784",
             "linecolor": "#506784",
             "minorgridcolor": "#506784",
             "startlinecolor": "#A2B1C6"
            },
            "type": "carpet"
           }
          ],
          "choropleth": [
           {
            "colorbar": {
             "outlinewidth": 0,
             "ticks": ""
            },
            "type": "choropleth"
           }
          ],
          "contour": [
           {
            "colorbar": {
             "outlinewidth": 0,
             "ticks": ""
            },
            "colorscale": [
             [
              0,
              "#0d0887"
             ],
             [
              0.1111111111111111,
              "#46039f"
             ],
             [
              0.2222222222222222,
              "#7201a8"
             ],
             [
              0.3333333333333333,
              "#9c179e"
             ],
             [
              0.4444444444444444,
              "#bd3786"
             ],
             [
              0.5555555555555556,
              "#d8576b"
             ],
             [
              0.6666666666666666,
              "#ed7953"
             ],
             [
              0.7777777777777778,
              "#fb9f3a"
             ],
             [
              0.8888888888888888,
              "#fdca26"
             ],
             [
              1,
              "#f0f921"
             ]
            ],
            "type": "contour"
           }
          ],
          "contourcarpet": [
           {
            "colorbar": {
             "outlinewidth": 0,
             "ticks": ""
            },
            "type": "contourcarpet"
           }
          ],
          "heatmap": [
           {
            "colorbar": {
             "outlinewidth": 0,
             "ticks": ""
            },
            "colorscale": [
             [
              0,
              "#0d0887"
             ],
             [
              0.1111111111111111,
              "#46039f"
             ],
             [
              0.2222222222222222,
              "#7201a8"
             ],
             [
              0.3333333333333333,
              "#9c179e"
             ],
             [
              0.4444444444444444,
              "#bd3786"
             ],
             [
              0.5555555555555556,
              "#d8576b"
             ],
             [
              0.6666666666666666,
              "#ed7953"
             ],
             [
              0.7777777777777778,
              "#fb9f3a"
             ],
             [
              0.8888888888888888,
              "#fdca26"
             ],
             [
              1,
              "#f0f921"
             ]
            ],
            "type": "heatmap"
           }
          ],
          "histogram": [
           {
            "marker": {
             "pattern": {
              "fillmode": "overlay",
              "size": 10,
              "solidity": 0.2
             }
            },
            "type": "histogram"
           }
          ],
          "histogram2d": [
           {
            "colorbar": {
             "outlinewidth": 0,
             "ticks": ""
            },
            "colorscale": [
             [
              0,
              "#0d0887"
             ],
             [
              0.1111111111111111,
              "#46039f"
             ],
             [
              0.2222222222222222,
              "#7201a8"
             ],
             [
              0.3333333333333333,
              "#9c179e"
             ],
             [
              0.4444444444444444,
              "#bd3786"
             ],
             [
              0.5555555555555556,
              "#d8576b"
             ],
             [
              0.6666666666666666,
              "#ed7953"
             ],
             [
              0.7777777777777778,
              "#fb9f3a"
             ],
             [
              0.8888888888888888,
              "#fdca26"
             ],
             [
              1,
              "#f0f921"
             ]
            ],
            "type": "histogram2d"
           }
          ],
          "histogram2dcontour": [
           {
            "colorbar": {
             "outlinewidth": 0,
             "ticks": ""
            },
            "colorscale": [
             [
              0,
              "#0d0887"
             ],
             [
              0.1111111111111111,
              "#46039f"
             ],
             [
              0.2222222222222222,
              "#7201a8"
             ],
             [
              0.3333333333333333,
              "#9c179e"
             ],
             [
              0.4444444444444444,
              "#bd3786"
             ],
             [
              0.5555555555555556,
              "#d8576b"
             ],
             [
              0.6666666666666666,
              "#ed7953"
             ],
             [
              0.7777777777777778,
              "#fb9f3a"
             ],
             [
              0.8888888888888888,
              "#fdca26"
             ],
             [
              1,
              "#f0f921"
             ]
            ],
            "type": "histogram2dcontour"
           }
          ],
          "mesh3d": [
           {
            "colorbar": {
             "outlinewidth": 0,
             "ticks": ""
            },
            "type": "mesh3d"
           }
          ],
          "parcoords": [
           {
            "line": {
             "colorbar": {
              "outlinewidth": 0,
              "ticks": ""
             }
            },
            "type": "parcoords"
           }
          ],
          "pie": [
           {
            "automargin": true,
            "type": "pie"
           }
          ],
          "scatter": [
           {
            "marker": {
             "line": {
              "color": "#283442"
             }
            },
            "type": "scatter"
           }
          ],
          "scatter3d": [
           {
            "line": {
             "colorbar": {
              "outlinewidth": 0,
              "ticks": ""
             }
            },
            "marker": {
             "colorbar": {
              "outlinewidth": 0,
              "ticks": ""
             }
            },
            "type": "scatter3d"
           }
          ],
          "scattercarpet": [
           {
            "marker": {
             "colorbar": {
              "outlinewidth": 0,
              "ticks": ""
             }
            },
            "type": "scattercarpet"
           }
          ],
          "scattergeo": [
           {
            "marker": {
             "colorbar": {
              "outlinewidth": 0,
              "ticks": ""
             }
            },
            "type": "scattergeo"
           }
          ],
          "scattergl": [
           {
            "marker": {
             "line": {
              "color": "#283442"
             }
            },
            "type": "scattergl"
           }
          ],
          "scattermap": [
           {
            "marker": {
             "colorbar": {
              "outlinewidth": 0,
              "ticks": ""
             }
            },
            "type": "scattermap"
           }
          ],
          "scattermapbox": [
           {
            "marker": {
             "colorbar": {
              "outlinewidth": 0,
              "ticks": ""
             }
            },
            "type": "scattermapbox"
           }
          ],
          "scatterpolar": [
           {
            "marker": {
             "colorbar": {
              "outlinewidth": 0,
              "ticks": ""
             }
            },
            "type": "scatterpolar"
           }
          ],
          "scatterpolargl": [
           {
            "marker": {
             "colorbar": {
              "outlinewidth": 0,
              "ticks": ""
             }
            },
            "type": "scatterpolargl"
           }
          ],
          "scatterternary": [
           {
            "marker": {
             "colorbar": {
              "outlinewidth": 0,
              "ticks": ""
             }
            },
            "type": "scatterternary"
           }
          ],
          "surface": [
           {
            "colorbar": {
             "outlinewidth": 0,
             "ticks": ""
            },
            "colorscale": [
             [
              0,
              "#0d0887"
             ],
             [
              0.1111111111111111,
              "#46039f"
             ],
             [
              0.2222222222222222,
              "#7201a8"
             ],
             [
              0.3333333333333333,
              "#9c179e"
             ],
             [
              0.4444444444444444,
              "#bd3786"
             ],
             [
              0.5555555555555556,
              "#d8576b"
             ],
             [
              0.6666666666666666,
              "#ed7953"
             ],
             [
              0.7777777777777778,
              "#fb9f3a"
             ],
             [
              0.8888888888888888,
              "#fdca26"
             ],
             [
              1,
              "#f0f921"
             ]
            ],
            "type": "surface"
           }
          ],
          "table": [
           {
            "cells": {
             "fill": {
              "color": "#506784"
             },
             "line": {
              "color": "rgb(17,17,17)"
             }
            },
            "header": {
             "fill": {
              "color": "#2a3f5f"
             },
             "line": {
              "color": "rgb(17,17,17)"
             }
            },
            "type": "table"
           }
          ]
         },
         "layout": {
          "annotationdefaults": {
           "arrowcolor": "#f2f5fa",
           "arrowhead": 0,
           "arrowwidth": 1
          },
          "autotypenumbers": "strict",
          "coloraxis": {
           "colorbar": {
            "outlinewidth": 0,
            "ticks": ""
           }
          },
          "colorscale": {
           "diverging": [
            [
             0,
             "#8e0152"
            ],
            [
             0.1,
             "#c51b7d"
            ],
            [
             0.2,
             "#de77ae"
            ],
            [
             0.3,
             "#f1b6da"
            ],
            [
             0.4,
             "#fde0ef"
            ],
            [
             0.5,
             "#f7f7f7"
            ],
            [
             0.6,
             "#e6f5d0"
            ],
            [
             0.7,
             "#b8e186"
            ],
            [
             0.8,
             "#7fbc41"
            ],
            [
             0.9,
             "#4d9221"
            ],
            [
             1,
             "#276419"
            ]
           ],
           "sequential": [
            [
             0,
             "#0d0887"
            ],
            [
             0.1111111111111111,
             "#46039f"
            ],
            [
             0.2222222222222222,
             "#7201a8"
            ],
            [
             0.3333333333333333,
             "#9c179e"
            ],
            [
             0.4444444444444444,
             "#bd3786"
            ],
            [
             0.5555555555555556,
             "#d8576b"
            ],
            [
             0.6666666666666666,
             "#ed7953"
            ],
            [
             0.7777777777777778,
             "#fb9f3a"
            ],
            [
             0.8888888888888888,
             "#fdca26"
            ],
            [
             1,
             "#f0f921"
            ]
           ],
           "sequentialminus": [
            [
             0,
             "#0d0887"
            ],
            [
             0.1111111111111111,
             "#46039f"
            ],
            [
             0.2222222222222222,
             "#7201a8"
            ],
            [
             0.3333333333333333,
             "#9c179e"
            ],
            [
             0.4444444444444444,
             "#bd3786"
            ],
            [
             0.5555555555555556,
             "#d8576b"
            ],
            [
             0.6666666666666666,
             "#ed7953"
            ],
            [
             0.7777777777777778,
             "#fb9f3a"
            ],
            [
             0.8888888888888888,
             "#fdca26"
            ],
            [
             1,
             "#f0f921"
            ]
           ]
          },
          "colorway": [
           "#636efa",
           "#EF553B",
           "#00cc96",
           "#ab63fa",
           "#FFA15A",
           "#19d3f3",
           "#FF6692",
           "#B6E880",
           "#FF97FF",
           "#FECB52"
          ],
          "font": {
           "color": "#f2f5fa"
          },
          "geo": {
           "bgcolor": "rgb(17,17,17)",
           "lakecolor": "rgb(17,17,17)",
           "landcolor": "rgb(17,17,17)",
           "showlakes": true,
           "showland": true,
           "subunitcolor": "#506784"
          },
          "hoverlabel": {
           "align": "left"
          },
          "hovermode": "closest",
          "mapbox": {
           "style": "dark"
          },
          "paper_bgcolor": "rgb(17,17,17)",
          "plot_bgcolor": "rgb(17,17,17)",
          "polar": {
           "angularaxis": {
            "gridcolor": "#506784",
            "linecolor": "#506784",
            "ticks": ""
           },
           "bgcolor": "rgb(17,17,17)",
           "radialaxis": {
            "gridcolor": "#506784",
            "linecolor": "#506784",
            "ticks": ""
           }
          },
          "scene": {
           "xaxis": {
            "backgroundcolor": "rgb(17,17,17)",
            "gridcolor": "#506784",
            "gridwidth": 2,
            "linecolor": "#506784",
            "showbackground": true,
            "ticks": "",
            "zerolinecolor": "#C8D4E3"
           },
           "yaxis": {
            "backgroundcolor": "rgb(17,17,17)",
            "gridcolor": "#506784",
            "gridwidth": 2,
            "linecolor": "#506784",
            "showbackground": true,
            "ticks": "",
            "zerolinecolor": "#C8D4E3"
           },
           "zaxis": {
            "backgroundcolor": "rgb(17,17,17)",
            "gridcolor": "#506784",
            "gridwidth": 2,
            "linecolor": "#506784",
            "showbackground": true,
            "ticks": "",
            "zerolinecolor": "#C8D4E3"
           }
          },
          "shapedefaults": {
           "line": {
            "color": "#f2f5fa"
           }
          },
          "sliderdefaults": {
           "bgcolor": "#C8D4E3",
           "bordercolor": "rgb(17,17,17)",
           "borderwidth": 1,
           "tickwidth": 0
          },
          "ternary": {
           "aaxis": {
            "gridcolor": "#506784",
            "linecolor": "#506784",
            "ticks": ""
           },
           "baxis": {
            "gridcolor": "#506784",
            "linecolor": "#506784",
            "ticks": ""
           },
           "bgcolor": "rgb(17,17,17)",
           "caxis": {
            "gridcolor": "#506784",
            "linecolor": "#506784",
            "ticks": ""
           }
          },
          "title": {
           "x": 0.05
          },
          "updatemenudefaults": {
           "bgcolor": "#506784",
           "borderwidth": 0
          },
          "xaxis": {
           "automargin": true,
           "gridcolor": "#283442",
           "linecolor": "#506784",
           "ticks": "",
           "title": {
            "standoff": 15
           },
           "zerolinecolor": "#283442",
           "zerolinewidth": 2
          },
          "yaxis": {
           "automargin": true,
           "gridcolor": "#283442",
           "linecolor": "#506784",
           "ticks": "",
           "title": {
            "standoff": 15
           },
           "zerolinecolor": "#283442",
           "zerolinewidth": 2
          }
         }
        },
        "title": {
         "text": "Feature Importances"
        },
        "xaxis": {
         "anchor": "y",
         "domain": [
          0,
          1
         ],
         "title": {
          "text": "value"
         }
        },
        "yaxis": {
         "anchor": "x",
         "domain": [
          0,
          1
         ],
         "title": {
          "text": "index"
         }
        }
       }
      }
     },
     "metadata": {},
     "output_type": "display_data"
    }
   ],
   "source": [
    "import plotly.express as px\n",
    "\n",
    "fi_hist = px.bar(fi_sorted.sort_values('importance',ascending=True),\n",
    "                orientation='h',\n",
    "                title=f'Feature Importances', \n",
    "                template='plotly_dark'  \n",
    "                )\n",
    "\n",
    "fi_hist.show()"
   ]
  },
  {
   "cell_type": "markdown",
   "id": "199ca147",
   "metadata": {},
   "source": [
    "### Errors analysis"
   ]
  },
  {
   "cell_type": "code",
   "execution_count": 11,
   "id": "fb302f53",
   "metadata": {},
   "outputs": [
    {
     "data": {
      "application/vnd.plotly.v1+json": {
       "config": {
        "plotlyServerURL": "https://plot.ly"
       },
       "data": [
        {
         "bingroup": "x",
         "hovertemplate": "variable=power_output_lead_1h<br>value=%{x}<br>count=%{y}<extra></extra>",
         "legendgroup": "power_output_lead_1h",
         "marker": {
          "color": "#636efa",
          "pattern": {
           "shape": ""
          }
         },
         "name": "power_output_lead_1h",
         "nbinsx": 50,
         "orientation": "v",
         "showlegend": true,
         "type": "histogram",
         "x": {
          "bdata": "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",
          "dtype": "f8"
         },
         "xaxis": "x",
         "yaxis": "y"
        }
       ],
       "layout": {
        "barmode": "relative",
        "legend": {
         "title": {
          "text": "variable"
         },
         "tracegroupgap": 0
        },
        "margin": {
         "t": 60
        },
        "template": {
         "data": {
          "bar": [
           {
            "error_x": {
             "color": "#f2f5fa"
            },
            "error_y": {
             "color": "#f2f5fa"
            },
            "marker": {
             "line": {
              "color": "rgb(17,17,17)",
              "width": 0.5
             },
             "pattern": {
              "fillmode": "overlay",
              "size": 10,
              "solidity": 0.2
             }
            },
            "type": "bar"
           }
          ],
          "barpolar": [
           {
            "marker": {
             "line": {
              "color": "rgb(17,17,17)",
              "width": 0.5
             },
             "pattern": {
              "fillmode": "overlay",
              "size": 10,
              "solidity": 0.2
             }
            },
            "type": "barpolar"
           }
          ],
          "carpet": [
           {
            "aaxis": {
             "endlinecolor": "#A2B1C6",
             "gridcolor": "#506784",
             "linecolor": "#506784",
             "minorgridcolor": "#506784",
             "startlinecolor": "#A2B1C6"
            },
            "baxis": {
             "endlinecolor": "#A2B1C6",
             "gridcolor": "#506784",
             "linecolor": "#506784",
             "minorgridcolor": "#506784",
             "startlinecolor": "#A2B1C6"
            },
            "type": "carpet"
           }
          ],
          "choropleth": [
           {
            "colorbar": {
             "outlinewidth": 0,
             "ticks": ""
            },
            "type": "choropleth"
           }
          ],
          "contour": [
           {
            "colorbar": {
             "outlinewidth": 0,
             "ticks": ""
            },
            "colorscale": [
             [
              0,
              "#0d0887"
             ],
             [
              0.1111111111111111,
              "#46039f"
             ],
             [
              0.2222222222222222,
              "#7201a8"
             ],
             [
              0.3333333333333333,
              "#9c179e"
             ],
             [
              0.4444444444444444,
              "#bd3786"
             ],
             [
              0.5555555555555556,
              "#d8576b"
             ],
             [
              0.6666666666666666,
              "#ed7953"
             ],
             [
              0.7777777777777778,
              "#fb9f3a"
             ],
             [
              0.8888888888888888,
              "#fdca26"
             ],
             [
              1,
              "#f0f921"
             ]
            ],
            "type": "contour"
           }
          ],
          "contourcarpet": [
           {
            "colorbar": {
             "outlinewidth": 0,
             "ticks": ""
            },
            "type": "contourcarpet"
           }
          ],
          "heatmap": [
           {
            "colorbar": {
             "outlinewidth": 0,
             "ticks": ""
            },
            "colorscale": [
             [
              0,
              "#0d0887"
             ],
             [
              0.1111111111111111,
              "#46039f"
             ],
             [
              0.2222222222222222,
              "#7201a8"
             ],
             [
              0.3333333333333333,
              "#9c179e"
             ],
             [
              0.4444444444444444,
              "#bd3786"
             ],
             [
              0.5555555555555556,
              "#d8576b"
             ],
             [
              0.6666666666666666,
              "#ed7953"
             ],
             [
              0.7777777777777778,
              "#fb9f3a"
             ],
             [
              0.8888888888888888,
              "#fdca26"
             ],
             [
              1,
              "#f0f921"
             ]
            ],
            "type": "heatmap"
           }
          ],
          "histogram": [
           {
            "marker": {
             "pattern": {
              "fillmode": "overlay",
              "size": 10,
              "solidity": 0.2
             }
            },
            "type": "histogram"
           }
          ],
          "histogram2d": [
           {
            "colorbar": {
             "outlinewidth": 0,
             "ticks": ""
            },
            "colorscale": [
             [
              0,
              "#0d0887"
             ],
             [
              0.1111111111111111,
              "#46039f"
             ],
             [
              0.2222222222222222,
              "#7201a8"
             ],
             [
              0.3333333333333333,
              "#9c179e"
             ],
             [
              0.4444444444444444,
              "#bd3786"
             ],
             [
              0.5555555555555556,
              "#d8576b"
             ],
             [
              0.6666666666666666,
              "#ed7953"
             ],
             [
              0.7777777777777778,
              "#fb9f3a"
             ],
             [
              0.8888888888888888,
              "#fdca26"
             ],
             [
              1,
              "#f0f921"
             ]
            ],
            "type": "histogram2d"
           }
          ],
          "histogram2dcontour": [
           {
            "colorbar": {
             "outlinewidth": 0,
             "ticks": ""
            },
            "colorscale": [
             [
              0,
              "#0d0887"
             ],
             [
              0.1111111111111111,
              "#46039f"
             ],
             [
              0.2222222222222222,
              "#7201a8"
             ],
             [
              0.3333333333333333,
              "#9c179e"
             ],
             [
              0.4444444444444444,
              "#bd3786"
             ],
             [
              0.5555555555555556,
              "#d8576b"
             ],
             [
              0.6666666666666666,
              "#ed7953"
             ],
             [
              0.7777777777777778,
              "#fb9f3a"
             ],
             [
              0.8888888888888888,
              "#fdca26"
             ],
             [
              1,
              "#f0f921"
             ]
            ],
            "type": "histogram2dcontour"
           }
          ],
          "mesh3d": [
           {
            "colorbar": {
             "outlinewidth": 0,
             "ticks": ""
            },
            "type": "mesh3d"
           }
          ],
          "parcoords": [
           {
            "line": {
             "colorbar": {
              "outlinewidth": 0,
              "ticks": ""
             }
            },
            "type": "parcoords"
           }
          ],
          "pie": [
           {
            "automargin": true,
            "type": "pie"
           }
          ],
          "scatter": [
           {
            "marker": {
             "line": {
              "color": "#283442"
             }
            },
            "type": "scatter"
           }
          ],
          "scatter3d": [
           {
            "line": {
             "colorbar": {
              "outlinewidth": 0,
              "ticks": ""
             }
            },
            "marker": {
             "colorbar": {
              "outlinewidth": 0,
              "ticks": ""
             }
            },
            "type": "scatter3d"
           }
          ],
          "scattercarpet": [
           {
            "marker": {
             "colorbar": {
              "outlinewidth": 0,
              "ticks": ""
             }
            },
            "type": "scattercarpet"
           }
          ],
          "scattergeo": [
           {
            "marker": {
             "colorbar": {
              "outlinewidth": 0,
              "ticks": ""
             }
            },
            "type": "scattergeo"
           }
          ],
          "scattergl": [
           {
            "marker": {
             "line": {
              "color": "#283442"
             }
            },
            "type": "scattergl"
           }
          ],
          "scattermap": [
           {
            "marker": {
             "colorbar": {
              "outlinewidth": 0,
              "ticks": ""
             }
            },
            "type": "scattermap"
           }
          ],
          "scattermapbox": [
           {
            "marker": {
             "colorbar": {
              "outlinewidth": 0,
              "ticks": ""
             }
            },
            "type": "scattermapbox"
           }
          ],
          "scatterpolar": [
           {
            "marker": {
             "colorbar": {
              "outlinewidth": 0,
              "ticks": ""
             }
            },
            "type": "scatterpolar"
           }
          ],
          "scatterpolargl": [
           {
            "marker": {
             "colorbar": {
              "outlinewidth": 0,
              "ticks": ""
             }
            },
            "type": "scatterpolargl"
           }
          ],
          "scatterternary": [
           {
            "marker": {
             "colorbar": {
              "outlinewidth": 0,
              "ticks": ""
             }
            },
            "type": "scatterternary"
           }
          ],
          "surface": [
           {
            "colorbar": {
             "outlinewidth": 0,
             "ticks": ""
            },
            "colorscale": [
             [
              0,
              "#0d0887"
             ],
             [
              0.1111111111111111,
              "#46039f"
             ],
             [
              0.2222222222222222,
              "#7201a8"
             ],
             [
              0.3333333333333333,
              "#9c179e"
             ],
             [
              0.4444444444444444,
              "#bd3786"
             ],
             [
              0.5555555555555556,
              "#d8576b"
             ],
             [
              0.6666666666666666,
              "#ed7953"
             ],
             [
              0.7777777777777778,
              "#fb9f3a"
             ],
             [
              0.8888888888888888,
              "#fdca26"
             ],
             [
              1,
              "#f0f921"
             ]
            ],
            "type": "surface"
           }
          ],
          "table": [
           {
            "cells": {
             "fill": {
              "color": "#506784"
             },
             "line": {
              "color": "rgb(17,17,17)"
             }
            },
            "header": {
             "fill": {
              "color": "#2a3f5f"
             },
             "line": {
              "color": "rgb(17,17,17)"
             }
            },
            "type": "table"
           }
          ]
         },
         "layout": {
          "annotationdefaults": {
           "arrowcolor": "#f2f5fa",
           "arrowhead": 0,
           "arrowwidth": 1
          },
          "autotypenumbers": "strict",
          "coloraxis": {
           "colorbar": {
            "outlinewidth": 0,
            "ticks": ""
           }
          },
          "colorscale": {
           "diverging": [
            [
             0,
             "#8e0152"
            ],
            [
             0.1,
             "#c51b7d"
            ],
            [
             0.2,
             "#de77ae"
            ],
            [
             0.3,
             "#f1b6da"
            ],
            [
             0.4,
             "#fde0ef"
            ],
            [
             0.5,
             "#f7f7f7"
            ],
            [
             0.6,
             "#e6f5d0"
            ],
            [
             0.7,
             "#b8e186"
            ],
            [
             0.8,
             "#7fbc41"
            ],
            [
             0.9,
             "#4d9221"
            ],
            [
             1,
             "#276419"
            ]
           ],
           "sequential": [
            [
             0,
             "#0d0887"
            ],
            [
             0.1111111111111111,
             "#46039f"
            ],
            [
             0.2222222222222222,
             "#7201a8"
            ],
            [
             0.3333333333333333,
             "#9c179e"
            ],
            [
             0.4444444444444444,
             "#bd3786"
            ],
            [
             0.5555555555555556,
             "#d8576b"
            ],
            [
             0.6666666666666666,
             "#ed7953"
            ],
            [
             0.7777777777777778,
             "#fb9f3a"
            ],
            [
             0.8888888888888888,
             "#fdca26"
            ],
            [
             1,
             "#f0f921"
            ]
           ],
           "sequentialminus": [
            [
             0,
             "#0d0887"
            ],
            [
             0.1111111111111111,
             "#46039f"
            ],
            [
             0.2222222222222222,
             "#7201a8"
            ],
            [
             0.3333333333333333,
             "#9c179e"
            ],
            [
             0.4444444444444444,
             "#bd3786"
            ],
            [
             0.5555555555555556,
             "#d8576b"
            ],
            [
             0.6666666666666666,
             "#ed7953"
            ],
            [
             0.7777777777777778,
             "#fb9f3a"
            ],
            [
             0.8888888888888888,
             "#fdca26"
            ],
            [
             1,
             "#f0f921"
            ]
           ]
          },
          "colorway": [
           "#636efa",
           "#EF553B",
           "#00cc96",
           "#ab63fa",
           "#FFA15A",
           "#19d3f3",
           "#FF6692",
           "#B6E880",
           "#FF97FF",
           "#FECB52"
          ],
          "font": {
           "color": "#f2f5fa"
          },
          "geo": {
           "bgcolor": "rgb(17,17,17)",
           "lakecolor": "rgb(17,17,17)",
           "landcolor": "rgb(17,17,17)",
           "showlakes": true,
           "showland": true,
           "subunitcolor": "#506784"
          },
          "hoverlabel": {
           "align": "left"
          },
          "hovermode": "closest",
          "mapbox": {
           "style": "dark"
          },
          "paper_bgcolor": "rgb(17,17,17)",
          "plot_bgcolor": "rgb(17,17,17)",
          "polar": {
           "angularaxis": {
            "gridcolor": "#506784",
            "linecolor": "#506784",
            "ticks": ""
           },
           "bgcolor": "rgb(17,17,17)",
           "radialaxis": {
            "gridcolor": "#506784",
            "linecolor": "#506784",
            "ticks": ""
           }
          },
          "scene": {
           "xaxis": {
            "backgroundcolor": "rgb(17,17,17)",
            "gridcolor": "#506784",
            "gridwidth": 2,
            "linecolor": "#506784",
            "showbackground": true,
            "ticks": "",
            "zerolinecolor": "#C8D4E3"
           },
           "yaxis": {
            "backgroundcolor": "rgb(17,17,17)",
            "gridcolor": "#506784",
            "gridwidth": 2,
            "linecolor": "#506784",
            "showbackground": true,
            "ticks": "",
            "zerolinecolor": "#C8D4E3"
           },
           "zaxis": {
            "backgroundcolor": "rgb(17,17,17)",
            "gridcolor": "#506784",
            "gridwidth": 2,
            "linecolor": "#506784",
            "showbackground": true,
            "ticks": "",
            "zerolinecolor": "#C8D4E3"
           }
          },
          "shapedefaults": {
           "line": {
            "color": "#f2f5fa"
           }
          },
          "sliderdefaults": {
           "bgcolor": "#C8D4E3",
           "bordercolor": "rgb(17,17,17)",
           "borderwidth": 1,
           "tickwidth": 0
          },
          "ternary": {
           "aaxis": {
            "gridcolor": "#506784",
            "linecolor": "#506784",
            "ticks": ""
           },
           "baxis": {
            "gridcolor": "#506784",
            "linecolor": "#506784",
            "ticks": ""
           },
           "bgcolor": "rgb(17,17,17)",
           "caxis": {
            "gridcolor": "#506784",
            "linecolor": "#506784",
            "ticks": ""
           }
          },
          "title": {
           "x": 0.05
          },
          "updatemenudefaults": {
           "bgcolor": "#506784",
           "borderwidth": 0
          },
          "xaxis": {
           "automargin": true,
           "gridcolor": "#283442",
           "linecolor": "#506784",
           "ticks": "",
           "title": {
            "standoff": 15
           },
           "zerolinecolor": "#283442",
           "zerolinewidth": 2
          },
          "yaxis": {
           "automargin": true,
           "gridcolor": "#283442",
           "linecolor": "#506784",
           "ticks": "",
           "title": {
            "standoff": 15
           },
           "zerolinecolor": "#283442",
           "zerolinewidth": 2
          }
         }
        },
        "xaxis": {
         "anchor": "y",
         "domain": [
          0,
          1
         ],
         "title": {
          "text": "value"
         }
        },
        "yaxis": {
         "anchor": "x",
         "domain": [
          0,
          1
         ],
         "title": {
          "text": "count"
         }
        }
       }
      }
     },
     "metadata": {},
     "output_type": "display_data"
    }
   ],
   "source": [
    "# histogramme of error prediction\n",
    "import plotly.express as px\n",
    "\n",
    "y_pred = final_pipeline.predict(X_test)\n",
    "\n",
    "err_hist = np.abs(y_test - y_pred)\n",
    "\n",
    "err_plot = px.histogram(\n",
    "                    err_hist,\n",
    "                    template='plotly_dark',\n",
    "                    nbins=50\n",
    "            )\n",
    "\n",
    "err_plot.show()"
   ]
  },
  {
   "cell_type": "markdown",
   "id": "a1e7b5d2",
   "metadata": {},
   "source": [
    "The model performs pretty well most of the time (low MedianAE), \n",
    "but occasionally makes substantial errors that significantly impact the average error scores.\n"
   ]
  },
  {
   "cell_type": "markdown",
   "id": "49ff4bc7",
   "metadata": {},
   "source": [
    "## Prediction comparison"
   ]
  },
  {
   "cell_type": "code",
   "execution_count": 12,
   "id": "4143b52e",
   "metadata": {},
   "outputs": [
    {
     "data": {
      "text/html": [
       "<div>\n",
       "<style scoped>\n",
       "    .dataframe tbody tr th:only-of-type {\n",
       "        vertical-align: middle;\n",
       "    }\n",
       "\n",
       "    .dataframe tbody tr th {\n",
       "        vertical-align: top;\n",
       "    }\n",
       "\n",
       "    .dataframe thead th {\n",
       "        text-align: right;\n",
       "    }\n",
       "</style>\n",
       "<table border=\"1\" class=\"dataframe\">\n",
       "  <thead>\n",
       "    <tr style=\"text-align: right;\">\n",
       "      <th></th>\n",
       "      <th>local_timestamp</th>\n",
       "      <th>year</th>\n",
       "      <th>month</th>\n",
       "      <th>day</th>\n",
       "      <th>dayofweek</th>\n",
       "      <th>hour</th>\n",
       "      <th>power_output_lead_1h</th>\n",
       "      <th>power_output</th>\n",
       "      <th>power_output_lag_1hr</th>\n",
       "      <th>power_output_lag_2hr</th>\n",
       "      <th>...</th>\n",
       "      <th>diffuse_irradiance_lag_1hr</th>\n",
       "      <th>diffuse_irradiance_lag_2hr</th>\n",
       "      <th>sun_height</th>\n",
       "      <th>sun_height_lag_1hr</th>\n",
       "      <th>sun_height_lag_2hr</th>\n",
       "      <th>air_temperature</th>\n",
       "      <th>air_temperature_lag_1hr</th>\n",
       "      <th>wind_speed_at_10m</th>\n",
       "      <th>wind_speed_at_10m_lag_1hr</th>\n",
       "      <th>wind_speed_at_10m_lag_2hr</th>\n",
       "    </tr>\n",
       "    <tr>\n",
       "      <th>timestamp</th>\n",
       "      <th></th>\n",
       "      <th></th>\n",
       "      <th></th>\n",
       "      <th></th>\n",
       "      <th></th>\n",
       "      <th></th>\n",
       "      <th></th>\n",
       "      <th></th>\n",
       "      <th></th>\n",
       "      <th></th>\n",
       "      <th></th>\n",
       "      <th></th>\n",
       "      <th></th>\n",
       "      <th></th>\n",
       "      <th></th>\n",
       "      <th></th>\n",
       "      <th></th>\n",
       "      <th></th>\n",
       "      <th></th>\n",
       "      <th></th>\n",
       "      <th></th>\n",
       "    </tr>\n",
       "  </thead>\n",
       "  <tbody>\n",
       "    <tr>\n",
       "      <th>2020-01-01 02:11:00</th>\n",
       "      <td>2020-01-01 03:11:00</td>\n",
       "      <td>2020</td>\n",
       "      <td>1</td>\n",
       "      <td>1</td>\n",
       "      <td>4</td>\n",
       "      <td>2</td>\n",
       "      <td>0.0</td>\n",
       "      <td>0.0</td>\n",
       "      <td>0.0</td>\n",
       "      <td>0.0</td>\n",
       "      <td>...</td>\n",
       "      <td>0.0</td>\n",
       "      <td>0.0</td>\n",
       "      <td>0.0</td>\n",
       "      <td>0.0</td>\n",
       "      <td>0.0</td>\n",
       "      <td>1.04</td>\n",
       "      <td>1.48</td>\n",
       "      <td>2.34</td>\n",
       "      <td>2.41</td>\n",
       "      <td>2.34</td>\n",
       "    </tr>\n",
       "    <tr>\n",
       "      <th>2020-01-01 03:11:00</th>\n",
       "      <td>2020-01-01 04:11:00</td>\n",
       "      <td>2020</td>\n",
       "      <td>1</td>\n",
       "      <td>1</td>\n",
       "      <td>4</td>\n",
       "      <td>3</td>\n",
       "      <td>0.0</td>\n",
       "      <td>0.0</td>\n",
       "      <td>0.0</td>\n",
       "      <td>0.0</td>\n",
       "      <td>...</td>\n",
       "      <td>0.0</td>\n",
       "      <td>0.0</td>\n",
       "      <td>0.0</td>\n",
       "      <td>0.0</td>\n",
       "      <td>0.0</td>\n",
       "      <td>0.64</td>\n",
       "      <td>1.04</td>\n",
       "      <td>2.21</td>\n",
       "      <td>2.34</td>\n",
       "      <td>2.41</td>\n",
       "    </tr>\n",
       "    <tr>\n",
       "      <th>2020-01-01 04:11:00</th>\n",
       "      <td>2020-01-01 05:11:00</td>\n",
       "      <td>2020</td>\n",
       "      <td>1</td>\n",
       "      <td>1</td>\n",
       "      <td>4</td>\n",
       "      <td>4</td>\n",
       "      <td>0.0</td>\n",
       "      <td>0.0</td>\n",
       "      <td>0.0</td>\n",
       "      <td>0.0</td>\n",
       "      <td>...</td>\n",
       "      <td>0.0</td>\n",
       "      <td>0.0</td>\n",
       "      <td>0.0</td>\n",
       "      <td>0.0</td>\n",
       "      <td>0.0</td>\n",
       "      <td>0.21</td>\n",
       "      <td>0.64</td>\n",
       "      <td>2.14</td>\n",
       "      <td>2.21</td>\n",
       "      <td>2.34</td>\n",
       "    </tr>\n",
       "    <tr>\n",
       "      <th>2020-01-01 05:11:00</th>\n",
       "      <td>2020-01-01 06:11:00</td>\n",
       "      <td>2020</td>\n",
       "      <td>1</td>\n",
       "      <td>1</td>\n",
       "      <td>4</td>\n",
       "      <td>5</td>\n",
       "      <td>0.0</td>\n",
       "      <td>0.0</td>\n",
       "      <td>0.0</td>\n",
       "      <td>0.0</td>\n",
       "      <td>...</td>\n",
       "      <td>0.0</td>\n",
       "      <td>0.0</td>\n",
       "      <td>0.0</td>\n",
       "      <td>0.0</td>\n",
       "      <td>0.0</td>\n",
       "      <td>-0.06</td>\n",
       "      <td>0.21</td>\n",
       "      <td>2.21</td>\n",
       "      <td>2.14</td>\n",
       "      <td>2.21</td>\n",
       "    </tr>\n",
       "    <tr>\n",
       "      <th>2020-01-01 06:11:00</th>\n",
       "      <td>2020-01-01 07:11:00</td>\n",
       "      <td>2020</td>\n",
       "      <td>1</td>\n",
       "      <td>1</td>\n",
       "      <td>4</td>\n",
       "      <td>6</td>\n",
       "      <td>0.0</td>\n",
       "      <td>0.0</td>\n",
       "      <td>0.0</td>\n",
       "      <td>0.0</td>\n",
       "      <td>...</td>\n",
       "      <td>0.0</td>\n",
       "      <td>0.0</td>\n",
       "      <td>0.0</td>\n",
       "      <td>0.0</td>\n",
       "      <td>0.0</td>\n",
       "      <td>-0.27</td>\n",
       "      <td>-0.06</td>\n",
       "      <td>2.21</td>\n",
       "      <td>2.21</td>\n",
       "      <td>2.14</td>\n",
       "    </tr>\n",
       "  </tbody>\n",
       "</table>\n",
       "<p>5 rows × 24 columns</p>\n",
       "</div>"
      ],
      "text/plain": [
       "                        local_timestamp  year  month  day  dayofweek  hour  \\\n",
       "timestamp                                                                    \n",
       "2020-01-01 02:11:00 2020-01-01 03:11:00  2020      1    1          4     2   \n",
       "2020-01-01 03:11:00 2020-01-01 04:11:00  2020      1    1          4     3   \n",
       "2020-01-01 04:11:00 2020-01-01 05:11:00  2020      1    1          4     4   \n",
       "2020-01-01 05:11:00 2020-01-01 06:11:00  2020      1    1          4     5   \n",
       "2020-01-01 06:11:00 2020-01-01 07:11:00  2020      1    1          4     6   \n",
       "\n",
       "                     power_output_lead_1h  power_output  power_output_lag_1hr  \\\n",
       "timestamp                                                                       \n",
       "2020-01-01 02:11:00                   0.0           0.0                   0.0   \n",
       "2020-01-01 03:11:00                   0.0           0.0                   0.0   \n",
       "2020-01-01 04:11:00                   0.0           0.0                   0.0   \n",
       "2020-01-01 05:11:00                   0.0           0.0                   0.0   \n",
       "2020-01-01 06:11:00                   0.0           0.0                   0.0   \n",
       "\n",
       "                     power_output_lag_2hr  ...  diffuse_irradiance_lag_1hr  \\\n",
       "timestamp                                  ...                               \n",
       "2020-01-01 02:11:00                   0.0  ...                         0.0   \n",
       "2020-01-01 03:11:00                   0.0  ...                         0.0   \n",
       "2020-01-01 04:11:00                   0.0  ...                         0.0   \n",
       "2020-01-01 05:11:00                   0.0  ...                         0.0   \n",
       "2020-01-01 06:11:00                   0.0  ...                         0.0   \n",
       "\n",
       "                     diffuse_irradiance_lag_2hr  sun_height  \\\n",
       "timestamp                                                     \n",
       "2020-01-01 02:11:00                         0.0         0.0   \n",
       "2020-01-01 03:11:00                         0.0         0.0   \n",
       "2020-01-01 04:11:00                         0.0         0.0   \n",
       "2020-01-01 05:11:00                         0.0         0.0   \n",
       "2020-01-01 06:11:00                         0.0         0.0   \n",
       "\n",
       "                     sun_height_lag_1hr  sun_height_lag_2hr  air_temperature  \\\n",
       "timestamp                                                                      \n",
       "2020-01-01 02:11:00                 0.0                 0.0             1.04   \n",
       "2020-01-01 03:11:00                 0.0                 0.0             0.64   \n",
       "2020-01-01 04:11:00                 0.0                 0.0             0.21   \n",
       "2020-01-01 05:11:00                 0.0                 0.0            -0.06   \n",
       "2020-01-01 06:11:00                 0.0                 0.0            -0.27   \n",
       "\n",
       "                     air_temperature_lag_1hr  wind_speed_at_10m  \\\n",
       "timestamp                                                         \n",
       "2020-01-01 02:11:00                     1.48               2.34   \n",
       "2020-01-01 03:11:00                     1.04               2.21   \n",
       "2020-01-01 04:11:00                     0.64               2.14   \n",
       "2020-01-01 05:11:00                     0.21               2.21   \n",
       "2020-01-01 06:11:00                    -0.06               2.21   \n",
       "\n",
       "                     wind_speed_at_10m_lag_1hr  wind_speed_at_10m_lag_2hr  \n",
       "timestamp                                                                  \n",
       "2020-01-01 02:11:00                       2.41                       2.34  \n",
       "2020-01-01 03:11:00                       2.34                       2.41  \n",
       "2020-01-01 04:11:00                       2.21                       2.34  \n",
       "2020-01-01 05:11:00                       2.14                       2.21  \n",
       "2020-01-01 06:11:00                       2.21                       2.14  \n",
       "\n",
       "[5 rows x 24 columns]"
      ]
     },
     "execution_count": 12,
     "metadata": {},
     "output_type": "execute_result"
    }
   ],
   "source": [
    "# create index from original df\n",
    "#df_index = df.reset_index()\n",
    "df_index = df.set_index('timestamp')\n",
    "df_index.head(5)\n"
   ]
  },
  {
   "cell_type": "code",
   "execution_count": 13,
   "id": "4a9e5ad1",
   "metadata": {},
   "outputs": [
    {
     "ename": "ValueError",
     "evalue": "Length of values (7013) does not match length of index (35061)",
     "output_type": "error",
     "traceback": [
      "\u001b[31m---------------------------------------------------------------------------\u001b[39m",
      "\u001b[31mValueError\u001b[39m                                Traceback (most recent call last)",
      "\u001b[36mCell\u001b[39m\u001b[36m \u001b[39m\u001b[32mIn[13]\u001b[39m\u001b[32m, line 2\u001b[39m\n\u001b[32m      1\u001b[39m \u001b[38;5;66;03m# Create Series with matching index\u001b[39;00m\n\u001b[32m----> \u001b[39m\u001b[32m2\u001b[39m predictions_series = \u001b[43mpd\u001b[49m\u001b[43m.\u001b[49m\u001b[43mSeries\u001b[49m\u001b[43m(\u001b[49m\u001b[43my_pred\u001b[49m\u001b[43m,\u001b[49m\u001b[43m \u001b[49m\u001b[43mindex\u001b[49m\u001b[43m=\u001b[49m\u001b[43mdf_index\u001b[49m\u001b[43m.\u001b[49m\u001b[43mindex\u001b[49m\u001b[43m,\u001b[49m\u001b[43m \u001b[49m\u001b[43mname\u001b[49m\u001b[43m=\u001b[49m\u001b[33;43m'\u001b[39;49m\u001b[33;43mPredicted\u001b[39;49m\u001b[33;43m'\u001b[39;49m\u001b[43m)\u001b[49m\n\u001b[32m      4\u001b[39m y_test.shape()\n\u001b[32m      5\u001b[39m plot_df = pd.DataFrame({\n\u001b[32m      6\u001b[39m     \u001b[33m'\u001b[39m\u001b[33mActual\u001b[39m\u001b[33m'\u001b[39m: y_test,\n\u001b[32m      7\u001b[39m     \u001b[33m'\u001b[39m\u001b[33mPredicted\u001b[39m\u001b[33m'\u001b[39m: predictions_series\n\u001b[32m      8\u001b[39m })\n",
      "\u001b[36mFile \u001b[39m\u001b[32m~/Development/solar_power_forecast_ML/.venv/lib/python3.13/site-packages/pandas/core/series.py:575\u001b[39m, in \u001b[36mSeries.__init__\u001b[39m\u001b[34m(self, data, index, dtype, name, copy, fastpath)\u001b[39m\n\u001b[32m    573\u001b[39m     index = default_index(\u001b[38;5;28mlen\u001b[39m(data))\n\u001b[32m    574\u001b[39m \u001b[38;5;28;01melif\u001b[39;00m is_list_like(data):\n\u001b[32m--> \u001b[39m\u001b[32m575\u001b[39m     \u001b[43mcom\u001b[49m\u001b[43m.\u001b[49m\u001b[43mrequire_length_match\u001b[49m\u001b[43m(\u001b[49m\u001b[43mdata\u001b[49m\u001b[43m,\u001b[49m\u001b[43m \u001b[49m\u001b[43mindex\u001b[49m\u001b[43m)\u001b[49m\n\u001b[32m    577\u001b[39m \u001b[38;5;66;03m# create/copy the manager\u001b[39;00m\n\u001b[32m    578\u001b[39m \u001b[38;5;28;01mif\u001b[39;00m \u001b[38;5;28misinstance\u001b[39m(data, (SingleBlockManager, SingleArrayManager)):\n",
      "\u001b[36mFile \u001b[39m\u001b[32m~/Development/solar_power_forecast_ML/.venv/lib/python3.13/site-packages/pandas/core/common.py:573\u001b[39m, in \u001b[36mrequire_length_match\u001b[39m\u001b[34m(data, index)\u001b[39m\n\u001b[32m    569\u001b[39m \u001b[38;5;250m\u001b[39m\u001b[33;03m\"\"\"\u001b[39;00m\n\u001b[32m    570\u001b[39m \u001b[33;03mCheck the length of data matches the length of the index.\u001b[39;00m\n\u001b[32m    571\u001b[39m \u001b[33;03m\"\"\"\u001b[39;00m\n\u001b[32m    572\u001b[39m \u001b[38;5;28;01mif\u001b[39;00m \u001b[38;5;28mlen\u001b[39m(data) != \u001b[38;5;28mlen\u001b[39m(index):\n\u001b[32m--> \u001b[39m\u001b[32m573\u001b[39m     \u001b[38;5;28;01mraise\u001b[39;00m \u001b[38;5;167;01mValueError\u001b[39;00m(\n\u001b[32m    574\u001b[39m         \u001b[33m\"\u001b[39m\u001b[33mLength of values \u001b[39m\u001b[33m\"\u001b[39m\n\u001b[32m    575\u001b[39m         \u001b[33mf\u001b[39m\u001b[33m\"\u001b[39m\u001b[33m(\u001b[39m\u001b[38;5;132;01m{\u001b[39;00m\u001b[38;5;28mlen\u001b[39m(data)\u001b[38;5;132;01m}\u001b[39;00m\u001b[33m) \u001b[39m\u001b[33m\"\u001b[39m\n\u001b[32m    576\u001b[39m         \u001b[33m\"\u001b[39m\u001b[33mdoes not match length of index \u001b[39m\u001b[33m\"\u001b[39m\n\u001b[32m    577\u001b[39m         \u001b[33mf\u001b[39m\u001b[33m\"\u001b[39m\u001b[33m(\u001b[39m\u001b[38;5;132;01m{\u001b[39;00m\u001b[38;5;28mlen\u001b[39m(index)\u001b[38;5;132;01m}\u001b[39;00m\u001b[33m)\u001b[39m\u001b[33m\"\u001b[39m\n\u001b[32m    578\u001b[39m     )\n",
      "\u001b[31mValueError\u001b[39m: Length of values (7013) does not match length of index (35061)"
     ]
    }
   ],
   "source": [
    "# Create Series with matching index\n",
    "predictions_series = pd.Series(y_pred, index=df_index.index, name='Predicted')\n",
    "\n",
    "y_test.shape()\n",
    "plot_df = pd.DataFrame({\n",
    "    'Actual': y_test,\n",
    "    'Predicted': predictions_series\n",
    "})\n",
    "\n",
    "plot_df = plot_df.reset_index()\n",
    "\n",
    "timestamp_col_name = plot_df.columns[0]\n",
    "\n",
    "plot_df_long = pd.melt(\n",
    "    plot_df,\n",
    "    id_vars=[timestamp_col_name], # Column(s) to keep fixed (the timestamp)\n",
    "    var_name='Source',      # Name for the new column indicating 'Actual' or 'Predicted'\n",
    "    value_name='Power Output' # Name for the new column holding the actual/predicted values\n",
    ")\n",
    "\n",
    "fig_compare_px = px.line(\n",
    "    plot_df_long,\n",
    "    x=timestamp_col_name,         # Use the timestamp column for x-axis\n",
    "    y='Power Output',         # Use the combined value column for y-axis\n",
    "    color='Source',           # Color lines based on 'Actual' or 'Predicted'\n",
    "    title='Actual vs. Predicted Power Output (Test Set)',\n",
    "    labels={timestamp_col_name: 'Timestamp', 'Power Output': 'Power Output (Units?)'}, # Clean labels\n",
    "    template='plotly_dark',   # Or your preferred template\n",
    "    # Optional: Customize line dash based on source\n",
    "    line_dash='Source'\n",
    ")\n",
    "\n",
    "fig_compare_px.show()"
   ]
  },
  {
   "cell_type": "markdown",
   "id": "2de0ad21",
   "metadata": {},
   "source": [
    "## Export model\n"
   ]
  },
  {
   "cell_type": "code",
   "execution_count": null,
   "id": "ac7275fd",
   "metadata": {},
   "outputs": [],
   "source": [
    "# Access model parameters & path\n",
    "model_name = config['models']['model_name']\n",
    "model_output_path = config['models']['output_path']\n",
    "model_params = config['model_params']"
   ]
  },
  {
   "cell_type": "code",
   "execution_count": null,
   "id": "070a6d64",
   "metadata": {},
   "outputs": [
    {
     "name": "stdout",
     "output_type": "stream",
     "text": [
      "Model saved to /Users/macbook/Development/solar_power_forecast_ML/models/brandenburg_gate_v1\n"
     ]
    }
   ],
   "source": [
    "from joblib import dump\n",
    "\n",
    "dump(final_pipeline, model_output_path)\n",
    "print(f\"Model saved to {model_output_path}\")\n"
   ]
  }
 ],
 "metadata": {
  "kernelspec": {
   "display_name": ".venv",
   "language": "python",
   "name": "python3"
  },
  "language_info": {
   "codemirror_mode": {
    "name": "ipython",
    "version": 3
   },
   "file_extension": ".py",
   "mimetype": "text/x-python",
   "name": "python",
   "nbconvert_exporter": "python",
   "pygments_lexer": "ipython3",
   "version": "3.13.2"
  }
 },
 "nbformat": 4,
 "nbformat_minor": 5
}
