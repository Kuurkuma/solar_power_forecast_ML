{
 "cells": [
  {
   "cell_type": "markdown",
   "id": "a533c8c9",
   "metadata": {},
   "source": [
    "# Model creation using XGBOOST\n"
   ]
  },
  {
   "cell_type": "code",
   "execution_count": 2,
   "id": "1987e780",
   "metadata": {},
   "outputs": [],
   "source": [
    "# open parquet file\n",
    "import pandas as pd\n",
    "\n",
    "path = \"/Users/macbook/Development/sun_eu/data/03_processed/brandenburger_tor_hourly_cleaned_features.parquet\"\n",
    "df = pd.read_parquet(path)\n"
   ]
  },
  {
   "cell_type": "code",
   "execution_count": 3,
   "id": "aa00fe9a",
   "metadata": {},
   "outputs": [
    {
     "name": "stdout",
     "output_type": "stream",
     "text": [
      "<class 'pandas.core.frame.DataFrame'>\n",
      "RangeIndex: 35061 entries, 0 to 35060\n",
      "Data columns (total 25 columns):\n",
      " #   Column                      Non-Null Count  Dtype         \n",
      "---  ------                      --------------  -----         \n",
      " 0   timestamp                   35061 non-null  datetime64[ns]\n",
      " 1   local_timestamp             35061 non-null  datetime64[ns]\n",
      " 2   year                        35061 non-null  int32         \n",
      " 3   month                       35061 non-null  int32         \n",
      " 4   day                         35061 non-null  int32         \n",
      " 5   dayofweek                   35061 non-null  int32         \n",
      " 6   hour                        35061 non-null  int32         \n",
      " 7   power_output_lead_1h        35061 non-null  float64       \n",
      " 8   power_output                35061 non-null  float64       \n",
      " 9   power_output_lag_1hr        35061 non-null  float64       \n",
      " 10  power_output_lag_2hr        35061 non-null  float64       \n",
      " 11  direct_irradiance           35061 non-null  float64       \n",
      " 12  direct_irradiance_lag_1hr   35061 non-null  float64       \n",
      " 13  direct_irradiance_lag_2hr   35061 non-null  float64       \n",
      " 14  diffuse_irradiance          35061 non-null  float64       \n",
      " 15  diffuse_irradiance_lag_1hr  35061 non-null  float64       \n",
      " 16  diffuse_irradiance_lag_2hr  35061 non-null  float64       \n",
      " 17  sun_height                  35061 non-null  float64       \n",
      " 18  sun_height_lag_1hr          35061 non-null  float64       \n",
      " 19  sun_height_lag_2hr          35061 non-null  float64       \n",
      " 20  air_temperature             35061 non-null  float64       \n",
      " 21  air_temperature_lag_1hr     35061 non-null  float64       \n",
      " 22  wind_speed_at_10m           35061 non-null  float64       \n",
      " 23  wind_speed_at_10m_lag_1hr   35061 non-null  float64       \n",
      " 24  wind_speed_at_10m_lag_2hr   35061 non-null  float64       \n",
      "dtypes: datetime64[ns](2), float64(18), int32(5)\n",
      "memory usage: 6.0 MB\n",
      "None\n"
     ]
    },
    {
     "data": {
      "text/html": [
       "<div>\n",
       "<style scoped>\n",
       "    .dataframe tbody tr th:only-of-type {\n",
       "        vertical-align: middle;\n",
       "    }\n",
       "\n",
       "    .dataframe tbody tr th {\n",
       "        vertical-align: top;\n",
       "    }\n",
       "\n",
       "    .dataframe thead th {\n",
       "        text-align: right;\n",
       "    }\n",
       "</style>\n",
       "<table border=\"1\" class=\"dataframe\">\n",
       "  <thead>\n",
       "    <tr style=\"text-align: right;\">\n",
       "      <th></th>\n",
       "      <th>timestamp</th>\n",
       "      <th>local_timestamp</th>\n",
       "      <th>year</th>\n",
       "      <th>month</th>\n",
       "      <th>day</th>\n",
       "      <th>dayofweek</th>\n",
       "      <th>hour</th>\n",
       "      <th>power_output_lead_1h</th>\n",
       "      <th>power_output</th>\n",
       "      <th>power_output_lag_1hr</th>\n",
       "      <th>...</th>\n",
       "      <th>diffuse_irradiance_lag_1hr</th>\n",
       "      <th>diffuse_irradiance_lag_2hr</th>\n",
       "      <th>sun_height</th>\n",
       "      <th>sun_height_lag_1hr</th>\n",
       "      <th>sun_height_lag_2hr</th>\n",
       "      <th>air_temperature</th>\n",
       "      <th>air_temperature_lag_1hr</th>\n",
       "      <th>wind_speed_at_10m</th>\n",
       "      <th>wind_speed_at_10m_lag_1hr</th>\n",
       "      <th>wind_speed_at_10m_lag_2hr</th>\n",
       "    </tr>\n",
       "  </thead>\n",
       "  <tbody>\n",
       "    <tr>\n",
       "      <th>count</th>\n",
       "      <td>35061</td>\n",
       "      <td>35061</td>\n",
       "      <td>35061.000000</td>\n",
       "      <td>35061.000000</td>\n",
       "      <td>35061.000000</td>\n",
       "      <td>35061.000000</td>\n",
       "      <td>35061.000000</td>\n",
       "      <td>35061.000000</td>\n",
       "      <td>35061.000000</td>\n",
       "      <td>35061.000000</td>\n",
       "      <td>...</td>\n",
       "      <td>35061.00000</td>\n",
       "      <td>35061.00000</td>\n",
       "      <td>35061.000000</td>\n",
       "      <td>35061.000000</td>\n",
       "      <td>35061.000000</td>\n",
       "      <td>35061.000000</td>\n",
       "      <td>35061.000000</td>\n",
       "      <td>35061.000000</td>\n",
       "      <td>35061.000000</td>\n",
       "      <td>35061.000000</td>\n",
       "    </tr>\n",
       "    <tr>\n",
       "      <th>mean</th>\n",
       "      <td>2021-12-31 12:10:59.999999488</td>\n",
       "      <td>2021-12-31 13:46:21.742106112</td>\n",
       "      <td>2021.499016</td>\n",
       "      <td>6.523088</td>\n",
       "      <td>15.730042</td>\n",
       "      <td>4.002139</td>\n",
       "      <td>11.500299</td>\n",
       "      <td>452.418256</td>\n",
       "      <td>452.418256</td>\n",
       "      <td>452.418256</td>\n",
       "      <td>...</td>\n",
       "      <td>64.16222</td>\n",
       "      <td>64.16222</td>\n",
       "      <td>12.511930</td>\n",
       "      <td>12.511930</td>\n",
       "      <td>12.511930</td>\n",
       "      <td>10.926813</td>\n",
       "      <td>10.926697</td>\n",
       "      <td>2.996454</td>\n",
       "      <td>2.996440</td>\n",
       "      <td>2.996414</td>\n",
       "    </tr>\n",
       "    <tr>\n",
       "      <th>min</th>\n",
       "      <td>2020-01-01 02:11:00</td>\n",
       "      <td>2020-01-01 03:11:00</td>\n",
       "      <td>2020.000000</td>\n",
       "      <td>1.000000</td>\n",
       "      <td>1.000000</td>\n",
       "      <td>1.000000</td>\n",
       "      <td>0.000000</td>\n",
       "      <td>0.000000</td>\n",
       "      <td>0.000000</td>\n",
       "      <td>0.000000</td>\n",
       "      <td>...</td>\n",
       "      <td>0.00000</td>\n",
       "      <td>0.00000</td>\n",
       "      <td>0.000000</td>\n",
       "      <td>0.000000</td>\n",
       "      <td>0.000000</td>\n",
       "      <td>-15.770000</td>\n",
       "      <td>-15.770000</td>\n",
       "      <td>0.000000</td>\n",
       "      <td>0.000000</td>\n",
       "      <td>0.000000</td>\n",
       "    </tr>\n",
       "    <tr>\n",
       "      <th>25%</th>\n",
       "      <td>2020-12-31 07:11:00</td>\n",
       "      <td>2020-12-31 08:11:00</td>\n",
       "      <td>2020.000000</td>\n",
       "      <td>4.000000</td>\n",
       "      <td>8.000000</td>\n",
       "      <td>2.000000</td>\n",
       "      <td>6.000000</td>\n",
       "      <td>0.000000</td>\n",
       "      <td>0.000000</td>\n",
       "      <td>0.000000</td>\n",
       "      <td>...</td>\n",
       "      <td>0.00000</td>\n",
       "      <td>0.00000</td>\n",
       "      <td>0.000000</td>\n",
       "      <td>0.000000</td>\n",
       "      <td>0.000000</td>\n",
       "      <td>4.660000</td>\n",
       "      <td>4.660000</td>\n",
       "      <td>2.000000</td>\n",
       "      <td>2.000000</td>\n",
       "      <td>2.000000</td>\n",
       "    </tr>\n",
       "    <tr>\n",
       "      <th>50%</th>\n",
       "      <td>2021-12-31 12:11:00</td>\n",
       "      <td>2021-12-31 13:11:00</td>\n",
       "      <td>2021.000000</td>\n",
       "      <td>7.000000</td>\n",
       "      <td>16.000000</td>\n",
       "      <td>4.000000</td>\n",
       "      <td>12.000000</td>\n",
       "      <td>0.000000</td>\n",
       "      <td>0.000000</td>\n",
       "      <td>0.000000</td>\n",
       "      <td>...</td>\n",
       "      <td>0.00000</td>\n",
       "      <td>0.00000</td>\n",
       "      <td>0.000000</td>\n",
       "      <td>0.000000</td>\n",
       "      <td>0.000000</td>\n",
       "      <td>10.340000</td>\n",
       "      <td>10.340000</td>\n",
       "      <td>2.760000</td>\n",
       "      <td>2.760000</td>\n",
       "      <td>2.760000</td>\n",
       "    </tr>\n",
       "    <tr>\n",
       "      <th>75%</th>\n",
       "      <td>2022-12-31 17:11:00</td>\n",
       "      <td>2022-12-31 18:11:00</td>\n",
       "      <td>2022.000000</td>\n",
       "      <td>10.000000</td>\n",
       "      <td>23.000000</td>\n",
       "      <td>6.000000</td>\n",
       "      <td>17.000000</td>\n",
       "      <td>620.600000</td>\n",
       "      <td>620.600000</td>\n",
       "      <td>620.600000</td>\n",
       "      <td>...</td>\n",
       "      <td>109.00000</td>\n",
       "      <td>109.00000</td>\n",
       "      <td>22.030000</td>\n",
       "      <td>22.030000</td>\n",
       "      <td>22.030000</td>\n",
       "      <td>17.000000</td>\n",
       "      <td>17.000000</td>\n",
       "      <td>3.720000</td>\n",
       "      <td>3.720000</td>\n",
       "      <td>3.720000</td>\n",
       "    </tr>\n",
       "    <tr>\n",
       "      <th>max</th>\n",
       "      <td>2023-12-31 22:11:00</td>\n",
       "      <td>2023-12-31 23:11:00</td>\n",
       "      <td>2023.000000</td>\n",
       "      <td>12.000000</td>\n",
       "      <td>31.000000</td>\n",
       "      <td>7.000000</td>\n",
       "      <td>23.000000</td>\n",
       "      <td>3308.540000</td>\n",
       "      <td>3308.540000</td>\n",
       "      <td>3308.540000</td>\n",
       "      <td>...</td>\n",
       "      <td>434.00000</td>\n",
       "      <td>434.00000</td>\n",
       "      <td>60.920000</td>\n",
       "      <td>60.920000</td>\n",
       "      <td>60.920000</td>\n",
       "      <td>37.480000</td>\n",
       "      <td>37.480000</td>\n",
       "      <td>11.030000</td>\n",
       "      <td>11.030000</td>\n",
       "      <td>11.030000</td>\n",
       "    </tr>\n",
       "    <tr>\n",
       "      <th>std</th>\n",
       "      <td>NaN</td>\n",
       "      <td>NaN</td>\n",
       "      <td>1.118317</td>\n",
       "      <td>3.448524</td>\n",
       "      <td>8.799513</td>\n",
       "      <td>2.000562</td>\n",
       "      <td>6.921809</td>\n",
       "      <td>750.353301</td>\n",
       "      <td>750.353301</td>\n",
       "      <td>750.353301</td>\n",
       "      <td>...</td>\n",
       "      <td>94.58708</td>\n",
       "      <td>94.58708</td>\n",
       "      <td>17.086078</td>\n",
       "      <td>17.086078</td>\n",
       "      <td>17.086078</td>\n",
       "      <td>8.057049</td>\n",
       "      <td>8.057156</td>\n",
       "      <td>1.412412</td>\n",
       "      <td>1.412415</td>\n",
       "      <td>1.412419</td>\n",
       "    </tr>\n",
       "  </tbody>\n",
       "</table>\n",
       "<p>8 rows × 25 columns</p>\n",
       "</div>"
      ],
      "text/plain": [
       "                           timestamp                local_timestamp  \\\n",
       "count                          35061                          35061   \n",
       "mean   2021-12-31 12:10:59.999999488  2021-12-31 13:46:21.742106112   \n",
       "min              2020-01-01 02:11:00            2020-01-01 03:11:00   \n",
       "25%              2020-12-31 07:11:00            2020-12-31 08:11:00   \n",
       "50%              2021-12-31 12:11:00            2021-12-31 13:11:00   \n",
       "75%              2022-12-31 17:11:00            2022-12-31 18:11:00   \n",
       "max              2023-12-31 22:11:00            2023-12-31 23:11:00   \n",
       "std                              NaN                            NaN   \n",
       "\n",
       "               year         month           day     dayofweek          hour  \\\n",
       "count  35061.000000  35061.000000  35061.000000  35061.000000  35061.000000   \n",
       "mean    2021.499016      6.523088     15.730042      4.002139     11.500299   \n",
       "min     2020.000000      1.000000      1.000000      1.000000      0.000000   \n",
       "25%     2020.000000      4.000000      8.000000      2.000000      6.000000   \n",
       "50%     2021.000000      7.000000     16.000000      4.000000     12.000000   \n",
       "75%     2022.000000     10.000000     23.000000      6.000000     17.000000   \n",
       "max     2023.000000     12.000000     31.000000      7.000000     23.000000   \n",
       "std        1.118317      3.448524      8.799513      2.000562      6.921809   \n",
       "\n",
       "       power_output_lead_1h  power_output  power_output_lag_1hr  ...  \\\n",
       "count          35061.000000  35061.000000          35061.000000  ...   \n",
       "mean             452.418256    452.418256            452.418256  ...   \n",
       "min                0.000000      0.000000              0.000000  ...   \n",
       "25%                0.000000      0.000000              0.000000  ...   \n",
       "50%                0.000000      0.000000              0.000000  ...   \n",
       "75%              620.600000    620.600000            620.600000  ...   \n",
       "max             3308.540000   3308.540000           3308.540000  ...   \n",
       "std              750.353301    750.353301            750.353301  ...   \n",
       "\n",
       "       diffuse_irradiance_lag_1hr  diffuse_irradiance_lag_2hr    sun_height  \\\n",
       "count                 35061.00000                 35061.00000  35061.000000   \n",
       "mean                     64.16222                    64.16222     12.511930   \n",
       "min                       0.00000                     0.00000      0.000000   \n",
       "25%                       0.00000                     0.00000      0.000000   \n",
       "50%                       0.00000                     0.00000      0.000000   \n",
       "75%                     109.00000                   109.00000     22.030000   \n",
       "max                     434.00000                   434.00000     60.920000   \n",
       "std                      94.58708                    94.58708     17.086078   \n",
       "\n",
       "       sun_height_lag_1hr  sun_height_lag_2hr  air_temperature  \\\n",
       "count        35061.000000        35061.000000     35061.000000   \n",
       "mean            12.511930           12.511930        10.926813   \n",
       "min              0.000000            0.000000       -15.770000   \n",
       "25%              0.000000            0.000000         4.660000   \n",
       "50%              0.000000            0.000000        10.340000   \n",
       "75%             22.030000           22.030000        17.000000   \n",
       "max             60.920000           60.920000        37.480000   \n",
       "std             17.086078           17.086078         8.057049   \n",
       "\n",
       "       air_temperature_lag_1hr  wind_speed_at_10m  wind_speed_at_10m_lag_1hr  \\\n",
       "count             35061.000000       35061.000000               35061.000000   \n",
       "mean                 10.926697           2.996454                   2.996440   \n",
       "min                 -15.770000           0.000000                   0.000000   \n",
       "25%                   4.660000           2.000000                   2.000000   \n",
       "50%                  10.340000           2.760000                   2.760000   \n",
       "75%                  17.000000           3.720000                   3.720000   \n",
       "max                  37.480000          11.030000                  11.030000   \n",
       "std                   8.057156           1.412412                   1.412415   \n",
       "\n",
       "       wind_speed_at_10m_lag_2hr  \n",
       "count               35061.000000  \n",
       "mean                    2.996414  \n",
       "min                     0.000000  \n",
       "25%                     2.000000  \n",
       "50%                     2.760000  \n",
       "75%                     3.720000  \n",
       "max                    11.030000  \n",
       "std                     1.412419  \n",
       "\n",
       "[8 rows x 25 columns]"
      ]
     },
     "execution_count": 3,
     "metadata": {},
     "output_type": "execute_result"
    }
   ],
   "source": [
    "print(df.info())\n",
    "df.describe()\n"
   ]
  },
  {
   "cell_type": "markdown",
   "id": "f4cbfdad",
   "metadata": {},
   "source": [
    "## Prepare test, train & validation data"
   ]
  },
  {
   "cell_type": "code",
   "execution_count": 4,
   "id": "417c2a79",
   "metadata": {},
   "outputs": [
    {
     "name": "stdout",
     "output_type": "stream",
     "text": [
      "(35061, 22) <class 'pandas.core.frame.DataFrame'>\n",
      "(35061,)\n"
     ]
    }
   ],
   "source": [
    "features = list(df.drop([\"power_output_lead_1h\",\"timestamp\",\"local_timestamp\"], axis=1).columns)\n",
    "target = \"power_output_lead_1h\"\n",
    "\n",
    "X = df[features]\n",
    "y = df[target]\n",
    "\n",
    "print(X.shape, type(X))\n",
    "print(y.shape)"
   ]
  },
  {
   "cell_type": "markdown",
   "id": "de71e2ab",
   "metadata": {},
   "source": [
    "## Training model using XGBoost\n",
    "- Use TimeSeriesSplit for cross-validation\n",
    "- tune hyperparameters using RandomizedSearchCV\n",
    "- run with a pipeline\n",
    "- train using the best hyperparameters"
   ]
  },
  {
   "cell_type": "code",
   "execution_count": 5,
   "id": "edd60de0",
   "metadata": {},
   "outputs": [
    {
     "name": "stdout",
     "output_type": "stream",
     "text": [
      "Feature shape: (35061, 22)\n",
      "Target shape: (35061,)\n",
      "RandomizedSearchCV setup with 50 iterations.\n",
      "Starting hyperparameter search...\n",
      "Fitting 5 folds for each of 50 candidates, totalling 250 fits\n",
      "[CV] END xgb__colsample_bytree=0.8, xgb__gamma=0, xgb__learning_rate=0.1, xgb__max_depth=5, xgb__n_estimators=200, xgb__reg_alpha=0.01, xgb__reg_lambda=2, xgb__subsample=0.9; total time=   0.3s\n",
      "[CV] END xgb__colsample_bytree=0.8, xgb__gamma=0, xgb__learning_rate=0.1, xgb__max_depth=5, xgb__n_estimators=200, xgb__reg_alpha=0.01, xgb__reg_lambda=2, xgb__subsample=0.9; total time=   0.3s\n",
      "[CV] END xgb__colsample_bytree=0.8, xgb__gamma=0, xgb__learning_rate=0.1, xgb__max_depth=5, xgb__n_estimators=200, xgb__reg_alpha=0.01, xgb__reg_lambda=2, xgb__subsample=0.9; total time=   0.4s\n",
      "[CV] END xgb__colsample_bytree=0.8, xgb__gamma=0, xgb__learning_rate=0.1, xgb__max_depth=5, xgb__n_estimators=200, xgb__reg_alpha=0.01, xgb__reg_lambda=2, xgb__subsample=0.9; total time=   0.4s\n",
      "[CV] END xgb__colsample_bytree=0.8, xgb__gamma=0, xgb__learning_rate=0.1, xgb__max_depth=5, xgb__n_estimators=200, xgb__reg_alpha=0.01, xgb__reg_lambda=2, xgb__subsample=0.9; total time=   0.4s\n",
      "[CV] END xgb__colsample_bytree=0.8, xgb__gamma=0.2, xgb__learning_rate=0.01, xgb__max_depth=8, xgb__n_estimators=1200, xgb__reg_alpha=1, xgb__reg_lambda=1, xgb__subsample=0.8; total time=   4.1s\n",
      "[CV] END xgb__colsample_bytree=0.8, xgb__gamma=0.2, xgb__learning_rate=0.01, xgb__max_depth=8, xgb__n_estimators=1200, xgb__reg_alpha=1, xgb__reg_lambda=1, xgb__subsample=0.8; total time=   4.4s\n",
      "[CV] END xgb__colsample_bytree=0.8, xgb__gamma=0.2, xgb__learning_rate=0.01, xgb__max_depth=8, xgb__n_estimators=1200, xgb__reg_alpha=1, xgb__reg_lambda=1, xgb__subsample=0.8; total time=   5.0s\n",
      "[CV] END xgb__colsample_bytree=0.8, xgb__gamma=0.2, xgb__learning_rate=0.01, xgb__max_depth=8, xgb__n_estimators=1200, xgb__reg_alpha=1, xgb__reg_lambda=1, xgb__subsample=0.8; total time=   5.0s\n",
      "[CV] END xgb__colsample_bytree=0.8, xgb__gamma=0.2, xgb__learning_rate=0.01, xgb__max_depth=8, xgb__n_estimators=1200, xgb__reg_alpha=1, xgb__reg_lambda=1, xgb__subsample=0.8; total time=   5.3s\n",
      "[CV] END xgb__colsample_bytree=0.8, xgb__gamma=0.1, xgb__learning_rate=0.01, xgb__max_depth=7, xgb__n_estimators=1200, xgb__reg_alpha=0, xgb__reg_lambda=1.5, xgb__subsample=0.8; total time=   3.3s\n",
      "[CV] END xgb__colsample_bytree=0.8, xgb__gamma=0.1, xgb__learning_rate=0.01, xgb__max_depth=7, xgb__n_estimators=1200, xgb__reg_alpha=0, xgb__reg_lambda=1.5, xgb__subsample=0.8; total time=   3.8s\n",
      "[CV] END xgb__colsample_bytree=0.8, xgb__gamma=0.1, xgb__learning_rate=0.01, xgb__max_depth=7, xgb__n_estimators=1200, xgb__reg_alpha=0, xgb__reg_lambda=1.5, xgb__subsample=0.8; total time=   3.9s\n",
      "[CV] END xgb__colsample_bytree=0.8, xgb__gamma=0.1, xgb__learning_rate=0.01, xgb__max_depth=7, xgb__n_estimators=1200, xgb__reg_alpha=0, xgb__reg_lambda=1.5, xgb__subsample=0.8; total time=   4.0s\n",
      "[CV] END xgb__colsample_bytree=0.8, xgb__gamma=0.1, xgb__learning_rate=0.01, xgb__max_depth=7, xgb__n_estimators=1200, xgb__reg_alpha=0, xgb__reg_lambda=1.5, xgb__subsample=0.8; total time=   4.0s\n",
      "[CV] END xgb__colsample_bytree=1.0, xgb__gamma=0.1, xgb__learning_rate=0.2, xgb__max_depth=8, xgb__n_estimators=1200, xgb__reg_alpha=0.1, xgb__reg_lambda=2, xgb__subsample=0.9; total time=   2.6s\n",
      "[CV] END xgb__colsample_bytree=1.0, xgb__gamma=0.1, xgb__learning_rate=0.2, xgb__max_depth=8, xgb__n_estimators=1200, xgb__reg_alpha=0.1, xgb__reg_lambda=2, xgb__subsample=0.9; total time=   4.0s\n",
      "[CV] END xgb__colsample_bytree=1.0, xgb__gamma=0.1, xgb__learning_rate=0.2, xgb__max_depth=8, xgb__n_estimators=1200, xgb__reg_alpha=0.1, xgb__reg_lambda=2, xgb__subsample=0.9; total time=   5.4s\n",
      "[CV] END xgb__colsample_bytree=1.0, xgb__gamma=0.1, xgb__learning_rate=0.2, xgb__max_depth=8, xgb__n_estimators=1200, xgb__reg_alpha=0.1, xgb__reg_lambda=2, xgb__subsample=0.9; total time=   5.2s\n",
      "[CV] END xgb__colsample_bytree=1.0, xgb__gamma=0.1, xgb__learning_rate=0.2, xgb__max_depth=8, xgb__n_estimators=1200, xgb__reg_alpha=0.1, xgb__reg_lambda=2, xgb__subsample=0.9; total time=   4.6s\n",
      "[CV] END xgb__colsample_bytree=0.8, xgb__gamma=0, xgb__learning_rate=0.05, xgb__max_depth=6, xgb__n_estimators=1000, xgb__reg_alpha=0.01, xgb__reg_lambda=2, xgb__subsample=1.0; total time=   1.6s\n",
      "[CV] END xgb__colsample_bytree=0.8, xgb__gamma=0, xgb__learning_rate=0.05, xgb__max_depth=6, xgb__n_estimators=1000, xgb__reg_alpha=0.01, xgb__reg_lambda=2, xgb__subsample=1.0; total time=   1.7s\n",
      "[CV] END xgb__colsample_bytree=0.8, xgb__gamma=0, xgb__learning_rate=0.05, xgb__max_depth=6, xgb__n_estimators=1000, xgb__reg_alpha=0.01, xgb__reg_lambda=2, xgb__subsample=1.0; total time=   1.8s\n",
      "[CV] END xgb__colsample_bytree=0.8, xgb__gamma=0, xgb__learning_rate=0.05, xgb__max_depth=6, xgb__n_estimators=1000, xgb__reg_alpha=0.01, xgb__reg_lambda=2, xgb__subsample=1.0; total time=   1.9s\n",
      "[CV] END xgb__colsample_bytree=0.8, xgb__gamma=0, xgb__learning_rate=0.05, xgb__max_depth=6, xgb__n_estimators=1000, xgb__reg_alpha=0.01, xgb__reg_lambda=2, xgb__subsample=1.0; total time=   1.9s\n",
      "[CV] END xgb__colsample_bytree=0.7, xgb__gamma=0.3, xgb__learning_rate=0.15, xgb__max_depth=4, xgb__n_estimators=1000, xgb__reg_alpha=0.01, xgb__reg_lambda=1, xgb__subsample=0.9; total time=   1.0s\n",
      "[CV] END xgb__colsample_bytree=0.7, xgb__gamma=0.3, xgb__learning_rate=0.15, xgb__max_depth=4, xgb__n_estimators=1000, xgb__reg_alpha=0.01, xgb__reg_lambda=1, xgb__subsample=0.9; total time=   1.2s\n",
      "[CV] END xgb__colsample_bytree=0.7, xgb__gamma=0.3, xgb__learning_rate=0.15, xgb__max_depth=4, xgb__n_estimators=1000, xgb__reg_alpha=0.01, xgb__reg_lambda=1, xgb__subsample=0.9; total time=   1.2s\n",
      "[CV] END xgb__colsample_bytree=0.7, xgb__gamma=0.3, xgb__learning_rate=0.15, xgb__max_depth=4, xgb__n_estimators=1000, xgb__reg_alpha=0.01, xgb__reg_lambda=1, xgb__subsample=0.9; total time=   1.2s\n",
      "[CV] END xgb__colsample_bytree=0.7, xgb__gamma=0.3, xgb__learning_rate=0.15, xgb__max_depth=4, xgb__n_estimators=1000, xgb__reg_alpha=0.01, xgb__reg_lambda=1, xgb__subsample=0.9; total time=   1.3s\n",
      "[CV] END xgb__colsample_bytree=0.9, xgb__gamma=0.2, xgb__learning_rate=0.1, xgb__max_depth=4, xgb__n_estimators=200, xgb__reg_alpha=0.1, xgb__reg_lambda=1.5, xgb__subsample=0.8; total time=   0.2s\n",
      "[CV] END xgb__colsample_bytree=0.9, xgb__gamma=0.2, xgb__learning_rate=0.1, xgb__max_depth=4, xgb__n_estimators=200, xgb__reg_alpha=0.1, xgb__reg_lambda=1.5, xgb__subsample=0.8; total time=   0.2s\n",
      "[CV] END xgb__colsample_bytree=0.9, xgb__gamma=0.2, xgb__learning_rate=0.1, xgb__max_depth=4, xgb__n_estimators=200, xgb__reg_alpha=0.1, xgb__reg_lambda=1.5, xgb__subsample=0.8; total time=   0.2s\n",
      "[CV] END xgb__colsample_bytree=0.9, xgb__gamma=0.2, xgb__learning_rate=0.1, xgb__max_depth=4, xgb__n_estimators=200, xgb__reg_alpha=0.1, xgb__reg_lambda=1.5, xgb__subsample=0.8; total time=   0.3s\n",
      "[CV] END xgb__colsample_bytree=0.9, xgb__gamma=0.2, xgb__learning_rate=0.1, xgb__max_depth=4, xgb__n_estimators=200, xgb__reg_alpha=0.1, xgb__reg_lambda=1.5, xgb__subsample=0.8; total time=   0.3s\n",
      "[CV] END xgb__colsample_bytree=0.6, xgb__gamma=0.3, xgb__learning_rate=0.2, xgb__max_depth=3, xgb__n_estimators=600, xgb__reg_alpha=0, xgb__reg_lambda=1, xgb__subsample=0.7; total time=   0.5s\n",
      "[CV] END xgb__colsample_bytree=0.6, xgb__gamma=0.3, xgb__learning_rate=0.2, xgb__max_depth=3, xgb__n_estimators=600, xgb__reg_alpha=0, xgb__reg_lambda=1, xgb__subsample=0.7; total time=   0.5s\n",
      "[CV] END xgb__colsample_bytree=0.6, xgb__gamma=0.3, xgb__learning_rate=0.2, xgb__max_depth=3, xgb__n_estimators=600, xgb__reg_alpha=0, xgb__reg_lambda=1, xgb__subsample=0.7; total time=   0.5s\n",
      "[CV] END xgb__colsample_bytree=0.6, xgb__gamma=0.3, xgb__learning_rate=0.2, xgb__max_depth=3, xgb__n_estimators=600, xgb__reg_alpha=0, xgb__reg_lambda=1, xgb__subsample=0.7; total time=   0.6s\n",
      "[CV] END xgb__colsample_bytree=0.6, xgb__gamma=0.3, xgb__learning_rate=0.2, xgb__max_depth=3, xgb__n_estimators=600, xgb__reg_alpha=0, xgb__reg_lambda=1, xgb__subsample=0.7; total time=   0.6s\n",
      "[CV] END xgb__colsample_bytree=0.8, xgb__gamma=0.1, xgb__learning_rate=0.1, xgb__max_depth=7, xgb__n_estimators=200, xgb__reg_alpha=0.1, xgb__reg_lambda=2, xgb__subsample=0.8; total time=   0.4s\n",
      "[CV] END xgb__colsample_bytree=0.8, xgb__gamma=0.1, xgb__learning_rate=0.1, xgb__max_depth=7, xgb__n_estimators=200, xgb__reg_alpha=0.1, xgb__reg_lambda=2, xgb__subsample=0.8; total time=   0.5s\n",
      "[CV] END xgb__colsample_bytree=0.8, xgb__gamma=0.1, xgb__learning_rate=0.1, xgb__max_depth=7, xgb__n_estimators=200, xgb__reg_alpha=0.1, xgb__reg_lambda=2, xgb__subsample=0.8; total time=   0.5s\n",
      "[CV] END xgb__colsample_bytree=0.8, xgb__gamma=0.1, xgb__learning_rate=0.1, xgb__max_depth=7, xgb__n_estimators=200, xgb__reg_alpha=0.1, xgb__reg_lambda=2, xgb__subsample=0.8; total time=   0.5s\n",
      "[CV] END xgb__colsample_bytree=0.8, xgb__gamma=0.1, xgb__learning_rate=0.1, xgb__max_depth=7, xgb__n_estimators=200, xgb__reg_alpha=0.1, xgb__reg_lambda=2, xgb__subsample=0.8; total time=   0.5s\n",
      "[CV] END xgb__colsample_bytree=0.7, xgb__gamma=0.2, xgb__learning_rate=0.01, xgb__max_depth=5, xgb__n_estimators=400, xgb__reg_alpha=0.1, xgb__reg_lambda=2, xgb__subsample=0.9; total time=   0.5s\n",
      "[CV] END xgb__colsample_bytree=0.7, xgb__gamma=0.2, xgb__learning_rate=0.01, xgb__max_depth=5, xgb__n_estimators=400, xgb__reg_alpha=0.1, xgb__reg_lambda=2, xgb__subsample=0.9; total time=   0.6s\n",
      "[CV] END xgb__colsample_bytree=0.7, xgb__gamma=0.2, xgb__learning_rate=0.01, xgb__max_depth=5, xgb__n_estimators=400, xgb__reg_alpha=0.1, xgb__reg_lambda=2, xgb__subsample=0.9; total time=   0.6s\n",
      "[CV] END xgb__colsample_bytree=0.7, xgb__gamma=0.2, xgb__learning_rate=0.01, xgb__max_depth=5, xgb__n_estimators=400, xgb__reg_alpha=0.1, xgb__reg_lambda=2, xgb__subsample=0.9; total time=   0.7s\n",
      "[CV] END xgb__colsample_bytree=0.7, xgb__gamma=0.2, xgb__learning_rate=0.01, xgb__max_depth=5, xgb__n_estimators=400, xgb__reg_alpha=0.1, xgb__reg_lambda=2, xgb__subsample=0.9; total time=   0.7s\n",
      "[CV] END xgb__colsample_bytree=0.9, xgb__gamma=0, xgb__learning_rate=0.01, xgb__max_depth=8, xgb__n_estimators=200, xgb__reg_alpha=0, xgb__reg_lambda=0.1, xgb__subsample=0.9; total time=   0.6s\n",
      "[CV] END xgb__colsample_bytree=0.9, xgb__gamma=0, xgb__learning_rate=0.01, xgb__max_depth=8, xgb__n_estimators=200, xgb__reg_alpha=0, xgb__reg_lambda=0.1, xgb__subsample=0.9; total time=   0.7s\n",
      "[CV] END xgb__colsample_bytree=0.9, xgb__gamma=0, xgb__learning_rate=0.01, xgb__max_depth=8, xgb__n_estimators=200, xgb__reg_alpha=0, xgb__reg_lambda=0.1, xgb__subsample=0.9; total time=   0.8s\n",
      "[CV] END xgb__colsample_bytree=0.9, xgb__gamma=0, xgb__learning_rate=0.01, xgb__max_depth=8, xgb__n_estimators=200, xgb__reg_alpha=0, xgb__reg_lambda=0.1, xgb__subsample=0.9; total time=   0.8s\n",
      "[CV] END xgb__colsample_bytree=0.9, xgb__gamma=0, xgb__learning_rate=0.01, xgb__max_depth=8, xgb__n_estimators=200, xgb__reg_alpha=0, xgb__reg_lambda=0.1, xgb__subsample=0.9; total time=   0.8s\n",
      "[CV] END xgb__colsample_bytree=0.9, xgb__gamma=0.1, xgb__learning_rate=0.05, xgb__max_depth=5, xgb__n_estimators=800, xgb__reg_alpha=0.1, xgb__reg_lambda=2, xgb__subsample=0.6; total time=   1.1s\n",
      "[CV] END xgb__colsample_bytree=0.9, xgb__gamma=0.1, xgb__learning_rate=0.05, xgb__max_depth=5, xgb__n_estimators=800, xgb__reg_alpha=0.1, xgb__reg_lambda=2, xgb__subsample=0.6; total time=   1.1s\n",
      "[CV] END xgb__colsample_bytree=0.9, xgb__gamma=0.1, xgb__learning_rate=0.05, xgb__max_depth=5, xgb__n_estimators=800, xgb__reg_alpha=0.1, xgb__reg_lambda=2, xgb__subsample=0.6; total time=   1.2s\n",
      "[CV] END xgb__colsample_bytree=0.9, xgb__gamma=0.1, xgb__learning_rate=0.05, xgb__max_depth=5, xgb__n_estimators=800, xgb__reg_alpha=0.1, xgb__reg_lambda=2, xgb__subsample=0.6; total time=   1.3s\n",
      "[CV] END xgb__colsample_bytree=0.9, xgb__gamma=0.1, xgb__learning_rate=0.05, xgb__max_depth=5, xgb__n_estimators=800, xgb__reg_alpha=0.1, xgb__reg_lambda=2, xgb__subsample=0.6; total time=   1.3s\n",
      "[CV] END xgb__colsample_bytree=1.0, xgb__gamma=0.3, xgb__learning_rate=0.05, xgb__max_depth=6, xgb__n_estimators=800, xgb__reg_alpha=0, xgb__reg_lambda=1, xgb__subsample=0.8; total time=   1.4s\n",
      "[CV] END xgb__colsample_bytree=1.0, xgb__gamma=0.3, xgb__learning_rate=0.05, xgb__max_depth=6, xgb__n_estimators=800, xgb__reg_alpha=0, xgb__reg_lambda=1, xgb__subsample=0.8; total time=   1.5s\n",
      "[CV] END xgb__colsample_bytree=1.0, xgb__gamma=0.3, xgb__learning_rate=0.05, xgb__max_depth=6, xgb__n_estimators=800, xgb__reg_alpha=0, xgb__reg_lambda=1, xgb__subsample=0.8; total time=   1.5s\n",
      "[CV] END xgb__colsample_bytree=1.0, xgb__gamma=0.3, xgb__learning_rate=0.05, xgb__max_depth=6, xgb__n_estimators=800, xgb__reg_alpha=0, xgb__reg_lambda=1, xgb__subsample=0.8; total time=   1.6s\n",
      "[CV] END xgb__colsample_bytree=1.0, xgb__gamma=0.3, xgb__learning_rate=0.05, xgb__max_depth=6, xgb__n_estimators=800, xgb__reg_alpha=0, xgb__reg_lambda=1, xgb__subsample=0.8; total time=   1.7s\n",
      "[CV] END xgb__colsample_bytree=0.6, xgb__gamma=0.2, xgb__learning_rate=0.2, xgb__max_depth=4, xgb__n_estimators=800, xgb__reg_alpha=0.1, xgb__reg_lambda=1.5, xgb__subsample=0.6; total time=   0.8s\n",
      "[CV] END xgb__colsample_bytree=0.6, xgb__gamma=0.2, xgb__learning_rate=0.2, xgb__max_depth=4, xgb__n_estimators=800, xgb__reg_alpha=0.1, xgb__reg_lambda=1.5, xgb__subsample=0.6; total time=   0.9s\n",
      "[CV] END xgb__colsample_bytree=0.6, xgb__gamma=0.2, xgb__learning_rate=0.2, xgb__max_depth=4, xgb__n_estimators=800, xgb__reg_alpha=0.1, xgb__reg_lambda=1.5, xgb__subsample=0.6; total time=   0.9s\n",
      "[CV] END xgb__colsample_bytree=0.6, xgb__gamma=0.2, xgb__learning_rate=0.2, xgb__max_depth=4, xgb__n_estimators=800, xgb__reg_alpha=0.1, xgb__reg_lambda=1.5, xgb__subsample=0.6; total time=   1.0s\n",
      "[CV] END xgb__colsample_bytree=0.6, xgb__gamma=0.2, xgb__learning_rate=0.2, xgb__max_depth=4, xgb__n_estimators=800, xgb__reg_alpha=0.1, xgb__reg_lambda=1.5, xgb__subsample=0.6; total time=   1.0s\n",
      "[CV] END xgb__colsample_bytree=0.7, xgb__gamma=0, xgb__learning_rate=0.1, xgb__max_depth=6, xgb__n_estimators=200, xgb__reg_alpha=0.01, xgb__reg_lambda=0.1, xgb__subsample=0.6; total time=   0.3s\n",
      "[CV] END xgb__colsample_bytree=0.7, xgb__gamma=0, xgb__learning_rate=0.1, xgb__max_depth=6, xgb__n_estimators=200, xgb__reg_alpha=0.01, xgb__reg_lambda=0.1, xgb__subsample=0.6; total time=   0.4s\n",
      "[CV] END xgb__colsample_bytree=0.7, xgb__gamma=0, xgb__learning_rate=0.1, xgb__max_depth=6, xgb__n_estimators=200, xgb__reg_alpha=0.01, xgb__reg_lambda=0.1, xgb__subsample=0.6; total time=   0.4s\n",
      "[CV] END xgb__colsample_bytree=0.7, xgb__gamma=0, xgb__learning_rate=0.1, xgb__max_depth=6, xgb__n_estimators=200, xgb__reg_alpha=0.01, xgb__reg_lambda=0.1, xgb__subsample=0.6; total time=   0.4s\n",
      "[CV] END xgb__colsample_bytree=0.7, xgb__gamma=0, xgb__learning_rate=0.1, xgb__max_depth=6, xgb__n_estimators=200, xgb__reg_alpha=0.01, xgb__reg_lambda=0.1, xgb__subsample=0.6; total time=   0.4s\n",
      "[CV] END xgb__colsample_bytree=1.0, xgb__gamma=0.2, xgb__learning_rate=0.05, xgb__max_depth=4, xgb__n_estimators=1000, xgb__reg_alpha=0.01, xgb__reg_lambda=1.5, xgb__subsample=0.9; total time=   1.1s\n",
      "[CV] END xgb__colsample_bytree=1.0, xgb__gamma=0.2, xgb__learning_rate=0.05, xgb__max_depth=4, xgb__n_estimators=1000, xgb__reg_alpha=0.01, xgb__reg_lambda=1.5, xgb__subsample=0.9; total time=   1.1s\n",
      "[CV] END xgb__colsample_bytree=1.0, xgb__gamma=0.2, xgb__learning_rate=0.05, xgb__max_depth=4, xgb__n_estimators=1000, xgb__reg_alpha=0.01, xgb__reg_lambda=1.5, xgb__subsample=0.9; total time=   1.2s\n",
      "[CV] END xgb__colsample_bytree=1.0, xgb__gamma=0.2, xgb__learning_rate=0.05, xgb__max_depth=4, xgb__n_estimators=1000, xgb__reg_alpha=0.01, xgb__reg_lambda=1.5, xgb__subsample=0.9; total time=   1.2s\n",
      "[CV] END xgb__colsample_bytree=1.0, xgb__gamma=0.2, xgb__learning_rate=0.05, xgb__max_depth=4, xgb__n_estimators=1000, xgb__reg_alpha=0.01, xgb__reg_lambda=1.5, xgb__subsample=0.9; total time=   1.3s\n",
      "[CV] END xgb__colsample_bytree=0.9, xgb__gamma=0.1, xgb__learning_rate=0.1, xgb__max_depth=5, xgb__n_estimators=400, xgb__reg_alpha=0.01, xgb__reg_lambda=1, xgb__subsample=0.8; total time=   0.5s\n",
      "[CV] END xgb__colsample_bytree=0.9, xgb__gamma=0.1, xgb__learning_rate=0.1, xgb__max_depth=5, xgb__n_estimators=400, xgb__reg_alpha=0.01, xgb__reg_lambda=1, xgb__subsample=0.8; total time=   0.6s\n",
      "[CV] END xgb__colsample_bytree=0.9, xgb__gamma=0.1, xgb__learning_rate=0.1, xgb__max_depth=5, xgb__n_estimators=400, xgb__reg_alpha=0.01, xgb__reg_lambda=1, xgb__subsample=0.8; total time=   0.6s\n",
      "[CV] END xgb__colsample_bytree=0.9, xgb__gamma=0.1, xgb__learning_rate=0.1, xgb__max_depth=5, xgb__n_estimators=400, xgb__reg_alpha=0.01, xgb__reg_lambda=1, xgb__subsample=0.8; total time=   0.6s\n",
      "[CV] END xgb__colsample_bytree=0.9, xgb__gamma=0.1, xgb__learning_rate=0.1, xgb__max_depth=5, xgb__n_estimators=400, xgb__reg_alpha=0.01, xgb__reg_lambda=1, xgb__subsample=0.8; total time=   0.7s\n",
      "[CV] END xgb__colsample_bytree=1.0, xgb__gamma=0.1, xgb__learning_rate=0.1, xgb__max_depth=7, xgb__n_estimators=600, xgb__reg_alpha=1, xgb__reg_lambda=1, xgb__subsample=1.0; total time=   1.3s\n",
      "[CV] END xgb__colsample_bytree=1.0, xgb__gamma=0.1, xgb__learning_rate=0.1, xgb__max_depth=7, xgb__n_estimators=600, xgb__reg_alpha=1, xgb__reg_lambda=1, xgb__subsample=1.0; total time=   1.4s\n",
      "[CV] END xgb__colsample_bytree=1.0, xgb__gamma=0.1, xgb__learning_rate=0.1, xgb__max_depth=7, xgb__n_estimators=600, xgb__reg_alpha=1, xgb__reg_lambda=1, xgb__subsample=1.0; total time=   1.5s\n",
      "[CV] END xgb__colsample_bytree=1.0, xgb__gamma=0.1, xgb__learning_rate=0.1, xgb__max_depth=7, xgb__n_estimators=600, xgb__reg_alpha=1, xgb__reg_lambda=1, xgb__subsample=1.0; total time=   1.5s\n",
      "[CV] END xgb__colsample_bytree=1.0, xgb__gamma=0.1, xgb__learning_rate=0.1, xgb__max_depth=7, xgb__n_estimators=600, xgb__reg_alpha=1, xgb__reg_lambda=1, xgb__subsample=1.0; total time=   1.6s\n",
      "[CV] END xgb__colsample_bytree=0.9, xgb__gamma=0.1, xgb__learning_rate=0.2, xgb__max_depth=3, xgb__n_estimators=1000, xgb__reg_alpha=0, xgb__reg_lambda=0.1, xgb__subsample=0.7; total time=   0.8s\n",
      "[CV] END xgb__colsample_bytree=0.9, xgb__gamma=0.1, xgb__learning_rate=0.2, xgb__max_depth=3, xgb__n_estimators=1000, xgb__reg_alpha=0, xgb__reg_lambda=0.1, xgb__subsample=0.7; total time=   0.9s\n",
      "[CV] END xgb__colsample_bytree=0.9, xgb__gamma=0.1, xgb__learning_rate=0.2, xgb__max_depth=3, xgb__n_estimators=1000, xgb__reg_alpha=0, xgb__reg_lambda=0.1, xgb__subsample=0.7; total time=   0.9s\n",
      "[CV] END xgb__colsample_bytree=0.9, xgb__gamma=0.1, xgb__learning_rate=0.2, xgb__max_depth=3, xgb__n_estimators=1000, xgb__reg_alpha=0, xgb__reg_lambda=0.1, xgb__subsample=0.7; total time=   1.1s\n",
      "[CV] END xgb__colsample_bytree=0.9, xgb__gamma=0.1, xgb__learning_rate=0.2, xgb__max_depth=3, xgb__n_estimators=1000, xgb__reg_alpha=0, xgb__reg_lambda=0.1, xgb__subsample=0.7; total time=   1.1s\n",
      "[CV] END xgb__colsample_bytree=1.0, xgb__gamma=0.2, xgb__learning_rate=0.1, xgb__max_depth=8, xgb__n_estimators=400, xgb__reg_alpha=0, xgb__reg_lambda=2, xgb__subsample=0.6; total time=   1.3s\n",
      "[CV] END xgb__colsample_bytree=1.0, xgb__gamma=0.2, xgb__learning_rate=0.1, xgb__max_depth=8, xgb__n_estimators=400, xgb__reg_alpha=0, xgb__reg_lambda=2, xgb__subsample=0.6; total time=   1.4s\n",
      "[CV] END xgb__colsample_bytree=1.0, xgb__gamma=0.2, xgb__learning_rate=0.1, xgb__max_depth=8, xgb__n_estimators=400, xgb__reg_alpha=0, xgb__reg_lambda=2, xgb__subsample=0.6; total time=   1.4s\n",
      "[CV] END xgb__colsample_bytree=1.0, xgb__gamma=0.2, xgb__learning_rate=0.1, xgb__max_depth=8, xgb__n_estimators=400, xgb__reg_alpha=0, xgb__reg_lambda=2, xgb__subsample=0.6; total time=   1.5s\n",
      "[CV] END xgb__colsample_bytree=1.0, xgb__gamma=0.2, xgb__learning_rate=0.1, xgb__max_depth=8, xgb__n_estimators=400, xgb__reg_alpha=0, xgb__reg_lambda=2, xgb__subsample=0.6; total time=   1.5s\n",
      "[CV] END xgb__colsample_bytree=0.7, xgb__gamma=0.3, xgb__learning_rate=0.01, xgb__max_depth=8, xgb__n_estimators=400, xgb__reg_alpha=1, xgb__reg_lambda=2, xgb__subsample=0.6; total time=   1.1s\n",
      "[CV] END xgb__colsample_bytree=0.7, xgb__gamma=0.3, xgb__learning_rate=0.01, xgb__max_depth=8, xgb__n_estimators=400, xgb__reg_alpha=1, xgb__reg_lambda=2, xgb__subsample=0.6; total time=   1.2s\n",
      "[CV] END xgb__colsample_bytree=0.7, xgb__gamma=0.3, xgb__learning_rate=0.01, xgb__max_depth=8, xgb__n_estimators=400, xgb__reg_alpha=1, xgb__reg_lambda=2, xgb__subsample=0.6; total time=   1.3s\n",
      "[CV] END xgb__colsample_bytree=0.7, xgb__gamma=0.3, xgb__learning_rate=0.01, xgb__max_depth=8, xgb__n_estimators=400, xgb__reg_alpha=1, xgb__reg_lambda=2, xgb__subsample=0.6; total time=   1.4s\n",
      "[CV] END xgb__colsample_bytree=0.7, xgb__gamma=0.3, xgb__learning_rate=0.01, xgb__max_depth=8, xgb__n_estimators=400, xgb__reg_alpha=1, xgb__reg_lambda=2, xgb__subsample=0.6; total time=   1.4s\n",
      "[CV] END xgb__colsample_bytree=1.0, xgb__gamma=0, xgb__learning_rate=0.05, xgb__max_depth=8, xgb__n_estimators=400, xgb__reg_alpha=0.01, xgb__reg_lambda=2, xgb__subsample=0.7; total time=   1.1s\n",
      "[CV] END xgb__colsample_bytree=1.0, xgb__gamma=0, xgb__learning_rate=0.05, xgb__max_depth=8, xgb__n_estimators=400, xgb__reg_alpha=0.01, xgb__reg_lambda=2, xgb__subsample=0.7; total time=   1.2s\n",
      "[CV] END xgb__colsample_bytree=1.0, xgb__gamma=0, xgb__learning_rate=0.05, xgb__max_depth=8, xgb__n_estimators=400, xgb__reg_alpha=0.01, xgb__reg_lambda=2, xgb__subsample=0.7; total time=   1.3s\n",
      "[CV] END xgb__colsample_bytree=1.0, xgb__gamma=0, xgb__learning_rate=0.05, xgb__max_depth=8, xgb__n_estimators=400, xgb__reg_alpha=0.01, xgb__reg_lambda=2, xgb__subsample=0.7; total time=   1.4s\n",
      "[CV] END xgb__colsample_bytree=1.0, xgb__gamma=0, xgb__learning_rate=0.05, xgb__max_depth=8, xgb__n_estimators=400, xgb__reg_alpha=0.01, xgb__reg_lambda=2, xgb__subsample=0.7; total time=   1.4s\n",
      "[CV] END xgb__colsample_bytree=0.9, xgb__gamma=0.2, xgb__learning_rate=0.2, xgb__max_depth=5, xgb__n_estimators=400, xgb__reg_alpha=0, xgb__reg_lambda=2, xgb__subsample=0.7; total time=   0.5s\n",
      "[CV] END xgb__colsample_bytree=0.9, xgb__gamma=0.2, xgb__learning_rate=0.2, xgb__max_depth=5, xgb__n_estimators=400, xgb__reg_alpha=0, xgb__reg_lambda=2, xgb__subsample=0.7; total time=   0.6s\n",
      "[CV] END xgb__colsample_bytree=0.9, xgb__gamma=0.2, xgb__learning_rate=0.2, xgb__max_depth=5, xgb__n_estimators=400, xgb__reg_alpha=0, xgb__reg_lambda=2, xgb__subsample=0.7; total time=   0.6s\n",
      "[CV] END xgb__colsample_bytree=0.9, xgb__gamma=0.2, xgb__learning_rate=0.2, xgb__max_depth=5, xgb__n_estimators=400, xgb__reg_alpha=0, xgb__reg_lambda=2, xgb__subsample=0.7; total time=   0.6s\n",
      "[CV] END xgb__colsample_bytree=0.9, xgb__gamma=0.2, xgb__learning_rate=0.2, xgb__max_depth=5, xgb__n_estimators=400, xgb__reg_alpha=0, xgb__reg_lambda=2, xgb__subsample=0.7; total time=   0.7s\n",
      "[CV] END xgb__colsample_bytree=0.9, xgb__gamma=0, xgb__learning_rate=0.2, xgb__max_depth=3, xgb__n_estimators=1200, xgb__reg_alpha=0.1, xgb__reg_lambda=2, xgb__subsample=1.0; total time=   0.9s\n",
      "[CV] END xgb__colsample_bytree=0.9, xgb__gamma=0, xgb__learning_rate=0.2, xgb__max_depth=3, xgb__n_estimators=1200, xgb__reg_alpha=0.1, xgb__reg_lambda=2, xgb__subsample=1.0; total time=   1.0s\n",
      "[CV] END xgb__colsample_bytree=0.9, xgb__gamma=0, xgb__learning_rate=0.2, xgb__max_depth=3, xgb__n_estimators=1200, xgb__reg_alpha=0.1, xgb__reg_lambda=2, xgb__subsample=1.0; total time=   1.1s\n",
      "[CV] END xgb__colsample_bytree=0.9, xgb__gamma=0, xgb__learning_rate=0.2, xgb__max_depth=3, xgb__n_estimators=1200, xgb__reg_alpha=0.1, xgb__reg_lambda=2, xgb__subsample=1.0; total time=   1.1s\n",
      "[CV] END xgb__colsample_bytree=0.9, xgb__gamma=0, xgb__learning_rate=0.2, xgb__max_depth=3, xgb__n_estimators=1200, xgb__reg_alpha=0.1, xgb__reg_lambda=2, xgb__subsample=1.0; total time=   1.2s\n",
      "[CV] END xgb__colsample_bytree=1.0, xgb__gamma=0.1, xgb__learning_rate=0.2, xgb__max_depth=8, xgb__n_estimators=200, xgb__reg_alpha=1, xgb__reg_lambda=2, xgb__subsample=0.6; total time=   0.6s\n",
      "[CV] END xgb__colsample_bytree=1.0, xgb__gamma=0.1, xgb__learning_rate=0.2, xgb__max_depth=8, xgb__n_estimators=200, xgb__reg_alpha=1, xgb__reg_lambda=2, xgb__subsample=0.6; total time=   0.7s\n",
      "[CV] END xgb__colsample_bytree=1.0, xgb__gamma=0.1, xgb__learning_rate=0.2, xgb__max_depth=8, xgb__n_estimators=200, xgb__reg_alpha=1, xgb__reg_lambda=2, xgb__subsample=0.6; total time=   0.7s\n",
      "[CV] END xgb__colsample_bytree=1.0, xgb__gamma=0.1, xgb__learning_rate=0.2, xgb__max_depth=8, xgb__n_estimators=200, xgb__reg_alpha=1, xgb__reg_lambda=2, xgb__subsample=0.6; total time=   0.7s\n",
      "[CV] END xgb__colsample_bytree=1.0, xgb__gamma=0.1, xgb__learning_rate=0.2, xgb__max_depth=8, xgb__n_estimators=200, xgb__reg_alpha=1, xgb__reg_lambda=2, xgb__subsample=0.6; total time=   0.8s\n",
      "[CV] END xgb__colsample_bytree=0.8, xgb__gamma=0.2, xgb__learning_rate=0.2, xgb__max_depth=5, xgb__n_estimators=800, xgb__reg_alpha=0, xgb__reg_lambda=1.5, xgb__subsample=0.6; total time=   1.1s\n",
      "[CV] END xgb__colsample_bytree=0.8, xgb__gamma=0.2, xgb__learning_rate=0.2, xgb__max_depth=5, xgb__n_estimators=800, xgb__reg_alpha=0, xgb__reg_lambda=1.5, xgb__subsample=0.6; total time=   1.2s\n",
      "[CV] END xgb__colsample_bytree=0.8, xgb__gamma=0.2, xgb__learning_rate=0.2, xgb__max_depth=5, xgb__n_estimators=800, xgb__reg_alpha=0, xgb__reg_lambda=1.5, xgb__subsample=0.6; total time=   1.3s\n",
      "[CV] END xgb__colsample_bytree=0.8, xgb__gamma=0.2, xgb__learning_rate=0.2, xgb__max_depth=5, xgb__n_estimators=800, xgb__reg_alpha=0, xgb__reg_lambda=1.5, xgb__subsample=0.6; total time=   1.3s\n",
      "[CV] END xgb__colsample_bytree=0.8, xgb__gamma=0.2, xgb__learning_rate=0.2, xgb__max_depth=5, xgb__n_estimators=800, xgb__reg_alpha=0, xgb__reg_lambda=1.5, xgb__subsample=0.6; total time=   1.4s\n",
      "[CV] END xgb__colsample_bytree=0.8, xgb__gamma=0.2, xgb__learning_rate=0.05, xgb__max_depth=8, xgb__n_estimators=600, xgb__reg_alpha=1, xgb__reg_lambda=0.1, xgb__subsample=0.9; total time=   1.6s\n",
      "[CV] END xgb__colsample_bytree=0.8, xgb__gamma=0.2, xgb__learning_rate=0.05, xgb__max_depth=8, xgb__n_estimators=600, xgb__reg_alpha=1, xgb__reg_lambda=0.1, xgb__subsample=0.9; total time=   1.8s\n",
      "[CV] END xgb__colsample_bytree=0.8, xgb__gamma=0.2, xgb__learning_rate=0.05, xgb__max_depth=8, xgb__n_estimators=600, xgb__reg_alpha=1, xgb__reg_lambda=0.1, xgb__subsample=0.9; total time=   1.8s\n",
      "[CV] END xgb__colsample_bytree=0.8, xgb__gamma=0.2, xgb__learning_rate=0.05, xgb__max_depth=8, xgb__n_estimators=600, xgb__reg_alpha=1, xgb__reg_lambda=0.1, xgb__subsample=0.9; total time=   2.0s\n",
      "[CV] END xgb__colsample_bytree=0.8, xgb__gamma=0.2, xgb__learning_rate=0.05, xgb__max_depth=8, xgb__n_estimators=600, xgb__reg_alpha=1, xgb__reg_lambda=0.1, xgb__subsample=0.9; total time=   2.0s\n",
      "[CV] END xgb__colsample_bytree=0.8, xgb__gamma=0.1, xgb__learning_rate=0.01, xgb__max_depth=4, xgb__n_estimators=1200, xgb__reg_alpha=0.1, xgb__reg_lambda=0.1, xgb__subsample=0.9; total time=   1.2s\n",
      "[CV] END xgb__colsample_bytree=0.8, xgb__gamma=0.1, xgb__learning_rate=0.01, xgb__max_depth=4, xgb__n_estimators=1200, xgb__reg_alpha=0.1, xgb__reg_lambda=0.1, xgb__subsample=0.9; total time=   1.3s\n",
      "[CV] END xgb__colsample_bytree=0.8, xgb__gamma=0.1, xgb__learning_rate=0.01, xgb__max_depth=4, xgb__n_estimators=1200, xgb__reg_alpha=0.1, xgb__reg_lambda=0.1, xgb__subsample=0.9; total time=   1.9s\n",
      "[CV] END xgb__colsample_bytree=0.8, xgb__gamma=0.1, xgb__learning_rate=0.01, xgb__max_depth=4, xgb__n_estimators=1200, xgb__reg_alpha=0.1, xgb__reg_lambda=0.1, xgb__subsample=0.9; total time=   1.5s\n",
      "[CV] END xgb__colsample_bytree=0.8, xgb__gamma=0.1, xgb__learning_rate=0.01, xgb__max_depth=4, xgb__n_estimators=1200, xgb__reg_alpha=0.1, xgb__reg_lambda=0.1, xgb__subsample=0.9; total time=   1.6s\n",
      "[CV] END xgb__colsample_bytree=0.6, xgb__gamma=0, xgb__learning_rate=0.01, xgb__max_depth=8, xgb__n_estimators=1000, xgb__reg_alpha=0.01, xgb__reg_lambda=1, xgb__subsample=0.8; total time=   2.6s\n",
      "[CV] END xgb__colsample_bytree=0.6, xgb__gamma=0, xgb__learning_rate=0.01, xgb__max_depth=8, xgb__n_estimators=1000, xgb__reg_alpha=0.01, xgb__reg_lambda=1, xgb__subsample=0.8; total time=   3.1s\n",
      "[CV] END xgb__colsample_bytree=0.6, xgb__gamma=0, xgb__learning_rate=0.01, xgb__max_depth=8, xgb__n_estimators=1000, xgb__reg_alpha=0.01, xgb__reg_lambda=1, xgb__subsample=0.8; total time=   3.1s\n",
      "[CV] END xgb__colsample_bytree=0.6, xgb__gamma=0, xgb__learning_rate=0.01, xgb__max_depth=8, xgb__n_estimators=1000, xgb__reg_alpha=0.01, xgb__reg_lambda=1, xgb__subsample=0.8; total time=   3.1s\n",
      "[CV] END xgb__colsample_bytree=0.6, xgb__gamma=0, xgb__learning_rate=0.01, xgb__max_depth=8, xgb__n_estimators=1000, xgb__reg_alpha=0.01, xgb__reg_lambda=1, xgb__subsample=0.8; total time=   3.2s\n",
      "[CV] END xgb__colsample_bytree=0.8, xgb__gamma=0, xgb__learning_rate=0.15, xgb__max_depth=3, xgb__n_estimators=200, xgb__reg_alpha=0, xgb__reg_lambda=2, xgb__subsample=0.6; total time=   0.2s\n",
      "[CV] END xgb__colsample_bytree=0.8, xgb__gamma=0, xgb__learning_rate=0.15, xgb__max_depth=3, xgb__n_estimators=200, xgb__reg_alpha=0, xgb__reg_lambda=2, xgb__subsample=0.6; total time=   0.2s\n",
      "[CV] END xgb__colsample_bytree=0.8, xgb__gamma=0, xgb__learning_rate=0.15, xgb__max_depth=3, xgb__n_estimators=200, xgb__reg_alpha=0, xgb__reg_lambda=2, xgb__subsample=0.6; total time=   0.2s\n",
      "[CV] END xgb__colsample_bytree=0.8, xgb__gamma=0, xgb__learning_rate=0.15, xgb__max_depth=3, xgb__n_estimators=200, xgb__reg_alpha=0, xgb__reg_lambda=2, xgb__subsample=0.6; total time=   0.2s\n",
      "[CV] END xgb__colsample_bytree=0.8, xgb__gamma=0, xgb__learning_rate=0.15, xgb__max_depth=3, xgb__n_estimators=200, xgb__reg_alpha=0, xgb__reg_lambda=2, xgb__subsample=0.6; total time=   0.2s\n",
      "[CV] END xgb__colsample_bytree=0.7, xgb__gamma=0, xgb__learning_rate=0.1, xgb__max_depth=7, xgb__n_estimators=1200, xgb__reg_alpha=0.1, xgb__reg_lambda=1, xgb__subsample=0.6; total time=   2.5s\n",
      "[CV] END xgb__colsample_bytree=0.7, xgb__gamma=0, xgb__learning_rate=0.1, xgb__max_depth=7, xgb__n_estimators=1200, xgb__reg_alpha=0.1, xgb__reg_lambda=1, xgb__subsample=0.6; total time=   2.8s\n",
      "[CV] END xgb__colsample_bytree=0.7, xgb__gamma=0, xgb__learning_rate=0.1, xgb__max_depth=7, xgb__n_estimators=1200, xgb__reg_alpha=0.1, xgb__reg_lambda=1, xgb__subsample=0.6; total time=   2.9s\n",
      "[CV] END xgb__colsample_bytree=0.7, xgb__gamma=0, xgb__learning_rate=0.1, xgb__max_depth=7, xgb__n_estimators=1200, xgb__reg_alpha=0.1, xgb__reg_lambda=1, xgb__subsample=0.6; total time=   3.1s\n",
      "[CV] END xgb__colsample_bytree=0.7, xgb__gamma=0, xgb__learning_rate=0.1, xgb__max_depth=7, xgb__n_estimators=1200, xgb__reg_alpha=0.1, xgb__reg_lambda=1, xgb__subsample=0.6; total time=   3.3s\n",
      "[CV] END xgb__colsample_bytree=0.8, xgb__gamma=0.1, xgb__learning_rate=0.01, xgb__max_depth=3, xgb__n_estimators=1000, xgb__reg_alpha=1, xgb__reg_lambda=0.1, xgb__subsample=0.7; total time=   0.8s\n",
      "[CV] END xgb__colsample_bytree=0.8, xgb__gamma=0.1, xgb__learning_rate=0.01, xgb__max_depth=3, xgb__n_estimators=1000, xgb__reg_alpha=1, xgb__reg_lambda=0.1, xgb__subsample=0.7; total time=   0.9s\n",
      "[CV] END xgb__colsample_bytree=0.8, xgb__gamma=0.1, xgb__learning_rate=0.01, xgb__max_depth=3, xgb__n_estimators=1000, xgb__reg_alpha=1, xgb__reg_lambda=0.1, xgb__subsample=0.7; total time=   0.9s\n",
      "[CV] END xgb__colsample_bytree=0.8, xgb__gamma=0.1, xgb__learning_rate=0.01, xgb__max_depth=3, xgb__n_estimators=1000, xgb__reg_alpha=1, xgb__reg_lambda=0.1, xgb__subsample=0.7; total time=   1.0s\n",
      "[CV] END xgb__colsample_bytree=0.8, xgb__gamma=0.1, xgb__learning_rate=0.01, xgb__max_depth=3, xgb__n_estimators=1000, xgb__reg_alpha=1, xgb__reg_lambda=0.1, xgb__subsample=0.7; total time=   1.0s\n",
      "[CV] END xgb__colsample_bytree=0.7, xgb__gamma=0.1, xgb__learning_rate=0.2, xgb__max_depth=5, xgb__n_estimators=600, xgb__reg_alpha=0, xgb__reg_lambda=1.5, xgb__subsample=1.0; total time=   0.8s\n",
      "[CV] END xgb__colsample_bytree=0.7, xgb__gamma=0.1, xgb__learning_rate=0.2, xgb__max_depth=5, xgb__n_estimators=600, xgb__reg_alpha=0, xgb__reg_lambda=1.5, xgb__subsample=1.0; total time=   0.8s\n",
      "[CV] END xgb__colsample_bytree=0.7, xgb__gamma=0.1, xgb__learning_rate=0.2, xgb__max_depth=5, xgb__n_estimators=600, xgb__reg_alpha=0, xgb__reg_lambda=1.5, xgb__subsample=1.0; total time=   0.9s\n",
      "[CV] END xgb__colsample_bytree=0.7, xgb__gamma=0.1, xgb__learning_rate=0.2, xgb__max_depth=5, xgb__n_estimators=600, xgb__reg_alpha=0, xgb__reg_lambda=1.5, xgb__subsample=1.0; total time=   0.9s\n",
      "[CV] END xgb__colsample_bytree=0.7, xgb__gamma=0.1, xgb__learning_rate=0.2, xgb__max_depth=5, xgb__n_estimators=600, xgb__reg_alpha=0, xgb__reg_lambda=1.5, xgb__subsample=1.0; total time=   0.9s\n",
      "[CV] END xgb__colsample_bytree=0.7, xgb__gamma=0, xgb__learning_rate=0.15, xgb__max_depth=5, xgb__n_estimators=600, xgb__reg_alpha=1, xgb__reg_lambda=2, xgb__subsample=0.6; total time=   0.8s\n",
      "[CV] END xgb__colsample_bytree=0.7, xgb__gamma=0, xgb__learning_rate=0.15, xgb__max_depth=5, xgb__n_estimators=600, xgb__reg_alpha=1, xgb__reg_lambda=2, xgb__subsample=0.6; total time=   0.9s\n",
      "[CV] END xgb__colsample_bytree=0.7, xgb__gamma=0, xgb__learning_rate=0.15, xgb__max_depth=5, xgb__n_estimators=600, xgb__reg_alpha=1, xgb__reg_lambda=2, xgb__subsample=0.6; total time=   0.9s\n",
      "[CV] END xgb__colsample_bytree=0.7, xgb__gamma=0, xgb__learning_rate=0.15, xgb__max_depth=5, xgb__n_estimators=600, xgb__reg_alpha=1, xgb__reg_lambda=2, xgb__subsample=0.6; total time=   0.9s\n",
      "[CV] END xgb__colsample_bytree=0.7, xgb__gamma=0, xgb__learning_rate=0.15, xgb__max_depth=5, xgb__n_estimators=600, xgb__reg_alpha=1, xgb__reg_lambda=2, xgb__subsample=0.6; total time=   1.1s\n",
      "[CV] END xgb__colsample_bytree=0.6, xgb__gamma=0.2, xgb__learning_rate=0.01, xgb__max_depth=8, xgb__n_estimators=1000, xgb__reg_alpha=0.01, xgb__reg_lambda=1.5, xgb__subsample=0.7; total time=   2.5s\n",
      "[CV] END xgb__colsample_bytree=0.6, xgb__gamma=0.2, xgb__learning_rate=0.01, xgb__max_depth=8, xgb__n_estimators=1000, xgb__reg_alpha=0.01, xgb__reg_lambda=1.5, xgb__subsample=0.7; total time=   2.7s\n",
      "[CV] END xgb__colsample_bytree=0.6, xgb__gamma=0.2, xgb__learning_rate=0.01, xgb__max_depth=8, xgb__n_estimators=1000, xgb__reg_alpha=0.01, xgb__reg_lambda=1.5, xgb__subsample=0.7; total time=   2.9s\n",
      "[CV] END xgb__colsample_bytree=0.6, xgb__gamma=0.2, xgb__learning_rate=0.01, xgb__max_depth=8, xgb__n_estimators=1000, xgb__reg_alpha=0.01, xgb__reg_lambda=1.5, xgb__subsample=0.7; total time=   3.1s\n",
      "[CV] END xgb__colsample_bytree=0.6, xgb__gamma=0.2, xgb__learning_rate=0.01, xgb__max_depth=8, xgb__n_estimators=1000, xgb__reg_alpha=0.01, xgb__reg_lambda=1.5, xgb__subsample=0.7; total time=   3.2s\n",
      "[CV] END xgb__colsample_bytree=1.0, xgb__gamma=0.2, xgb__learning_rate=0.2, xgb__max_depth=8, xgb__n_estimators=1200, xgb__reg_alpha=0, xgb__reg_lambda=2, xgb__subsample=0.9; total time=   1.8s\n",
      "[CV] END xgb__colsample_bytree=1.0, xgb__gamma=0.2, xgb__learning_rate=0.2, xgb__max_depth=8, xgb__n_estimators=1200, xgb__reg_alpha=0, xgb__reg_lambda=2, xgb__subsample=0.9; total time=   2.7s\n",
      "[CV] END xgb__colsample_bytree=1.0, xgb__gamma=0.2, xgb__learning_rate=0.2, xgb__max_depth=8, xgb__n_estimators=1200, xgb__reg_alpha=0, xgb__reg_lambda=2, xgb__subsample=0.9; total time=   3.7s\n",
      "[CV] END xgb__colsample_bytree=1.0, xgb__gamma=0.2, xgb__learning_rate=0.2, xgb__max_depth=8, xgb__n_estimators=1200, xgb__reg_alpha=0, xgb__reg_lambda=2, xgb__subsample=0.9; total time=   4.6s\n",
      "[CV] END xgb__colsample_bytree=1.0, xgb__gamma=0.2, xgb__learning_rate=0.2, xgb__max_depth=8, xgb__n_estimators=1200, xgb__reg_alpha=0, xgb__reg_lambda=2, xgb__subsample=0.9; total time=   5.0s\n",
      "[CV] END xgb__colsample_bytree=0.6, xgb__gamma=0, xgb__learning_rate=0.05, xgb__max_depth=5, xgb__n_estimators=200, xgb__reg_alpha=0.1, xgb__reg_lambda=1.5, xgb__subsample=0.6; total time=   0.3s\n",
      "[CV] END xgb__colsample_bytree=0.6, xgb__gamma=0, xgb__learning_rate=0.05, xgb__max_depth=5, xgb__n_estimators=200, xgb__reg_alpha=0.1, xgb__reg_lambda=1.5, xgb__subsample=0.6; total time=   0.3s\n",
      "[CV] END xgb__colsample_bytree=0.6, xgb__gamma=0, xgb__learning_rate=0.05, xgb__max_depth=5, xgb__n_estimators=200, xgb__reg_alpha=0.1, xgb__reg_lambda=1.5, xgb__subsample=0.6; total time=   0.3s\n",
      "[CV] END xgb__colsample_bytree=0.6, xgb__gamma=0, xgb__learning_rate=0.05, xgb__max_depth=5, xgb__n_estimators=200, xgb__reg_alpha=0.1, xgb__reg_lambda=1.5, xgb__subsample=0.6; total time=   0.4s\n",
      "[CV] END xgb__colsample_bytree=0.6, xgb__gamma=0, xgb__learning_rate=0.05, xgb__max_depth=5, xgb__n_estimators=200, xgb__reg_alpha=0.1, xgb__reg_lambda=1.5, xgb__subsample=0.6; total time=   0.3s\n",
      "[CV] END xgb__colsample_bytree=0.6, xgb__gamma=0.2, xgb__learning_rate=0.2, xgb__max_depth=5, xgb__n_estimators=1000, xgb__reg_alpha=0, xgb__reg_lambda=1, xgb__subsample=0.7; total time=   1.3s\n",
      "[CV] END xgb__colsample_bytree=0.6, xgb__gamma=0.2, xgb__learning_rate=0.2, xgb__max_depth=5, xgb__n_estimators=1000, xgb__reg_alpha=0, xgb__reg_lambda=1, xgb__subsample=0.7; total time=   1.4s\n",
      "[CV] END xgb__colsample_bytree=0.6, xgb__gamma=0.2, xgb__learning_rate=0.2, xgb__max_depth=5, xgb__n_estimators=1000, xgb__reg_alpha=0, xgb__reg_lambda=1, xgb__subsample=0.7; total time=   1.5s\n",
      "[CV] END xgb__colsample_bytree=0.6, xgb__gamma=0.2, xgb__learning_rate=0.2, xgb__max_depth=5, xgb__n_estimators=1000, xgb__reg_alpha=0, xgb__reg_lambda=1, xgb__subsample=0.7; total time=   1.6s\n",
      "[CV] END xgb__colsample_bytree=0.6, xgb__gamma=0.2, xgb__learning_rate=0.2, xgb__max_depth=5, xgb__n_estimators=1000, xgb__reg_alpha=0, xgb__reg_lambda=1, xgb__subsample=0.7; total time=   1.7s\n",
      "[CV] END xgb__colsample_bytree=1.0, xgb__gamma=0.1, xgb__learning_rate=0.2, xgb__max_depth=4, xgb__n_estimators=200, xgb__reg_alpha=0.1, xgb__reg_lambda=0.1, xgb__subsample=0.6; total time=   0.2s\n",
      "[CV] END xgb__colsample_bytree=1.0, xgb__gamma=0.1, xgb__learning_rate=0.2, xgb__max_depth=4, xgb__n_estimators=200, xgb__reg_alpha=0.1, xgb__reg_lambda=0.1, xgb__subsample=0.6; total time=   0.2s\n",
      "[CV] END xgb__colsample_bytree=1.0, xgb__gamma=0.1, xgb__learning_rate=0.2, xgb__max_depth=4, xgb__n_estimators=200, xgb__reg_alpha=0.1, xgb__reg_lambda=0.1, xgb__subsample=0.6; total time=   0.3s\n",
      "[CV] END xgb__colsample_bytree=1.0, xgb__gamma=0.1, xgb__learning_rate=0.2, xgb__max_depth=4, xgb__n_estimators=200, xgb__reg_alpha=0.1, xgb__reg_lambda=0.1, xgb__subsample=0.6; total time=   0.3s\n",
      "[CV] END xgb__colsample_bytree=1.0, xgb__gamma=0.1, xgb__learning_rate=0.2, xgb__max_depth=4, xgb__n_estimators=200, xgb__reg_alpha=0.1, xgb__reg_lambda=0.1, xgb__subsample=0.6; total time=   0.3s\n",
      "[CV] END xgb__colsample_bytree=0.8, xgb__gamma=0.1, xgb__learning_rate=0.2, xgb__max_depth=4, xgb__n_estimators=400, xgb__reg_alpha=0, xgb__reg_lambda=2, xgb__subsample=1.0; total time=   0.4s\n",
      "[CV] END xgb__colsample_bytree=0.8, xgb__gamma=0.1, xgb__learning_rate=0.2, xgb__max_depth=4, xgb__n_estimators=400, xgb__reg_alpha=0, xgb__reg_lambda=2, xgb__subsample=1.0; total time=   0.4s\n",
      "[CV] END xgb__colsample_bytree=0.8, xgb__gamma=0.1, xgb__learning_rate=0.2, xgb__max_depth=4, xgb__n_estimators=400, xgb__reg_alpha=0, xgb__reg_lambda=2, xgb__subsample=1.0; total time=   0.5s\n",
      "[CV] END xgb__colsample_bytree=0.8, xgb__gamma=0.1, xgb__learning_rate=0.2, xgb__max_depth=4, xgb__n_estimators=400, xgb__reg_alpha=0, xgb__reg_lambda=2, xgb__subsample=1.0; total time=   0.5s\n",
      "[CV] END xgb__colsample_bytree=0.8, xgb__gamma=0.1, xgb__learning_rate=0.2, xgb__max_depth=4, xgb__n_estimators=400, xgb__reg_alpha=0, xgb__reg_lambda=2, xgb__subsample=1.0; total time=   0.5s\n",
      "[CV] END xgb__colsample_bytree=1.0, xgb__gamma=0.2, xgb__learning_rate=0.2, xgb__max_depth=3, xgb__n_estimators=600, xgb__reg_alpha=0.1, xgb__reg_lambda=2, xgb__subsample=0.7; total time=   0.6s\n",
      "[CV] END xgb__colsample_bytree=1.0, xgb__gamma=0.2, xgb__learning_rate=0.2, xgb__max_depth=3, xgb__n_estimators=600, xgb__reg_alpha=0.1, xgb__reg_lambda=2, xgb__subsample=0.7; total time=   0.6s\n",
      "[CV] END xgb__colsample_bytree=1.0, xgb__gamma=0.2, xgb__learning_rate=0.2, xgb__max_depth=3, xgb__n_estimators=600, xgb__reg_alpha=0.1, xgb__reg_lambda=2, xgb__subsample=0.7; total time=   0.6s\n",
      "[CV] END xgb__colsample_bytree=1.0, xgb__gamma=0.2, xgb__learning_rate=0.2, xgb__max_depth=3, xgb__n_estimators=600, xgb__reg_alpha=0.1, xgb__reg_lambda=2, xgb__subsample=0.7; total time=   0.6s\n",
      "[CV] END xgb__colsample_bytree=1.0, xgb__gamma=0.2, xgb__learning_rate=0.2, xgb__max_depth=3, xgb__n_estimators=600, xgb__reg_alpha=0.1, xgb__reg_lambda=2, xgb__subsample=0.7; total time=   0.7s\n",
      "[CV] END xgb__colsample_bytree=1.0, xgb__gamma=0, xgb__learning_rate=0.15, xgb__max_depth=4, xgb__n_estimators=1200, xgb__reg_alpha=0, xgb__reg_lambda=1.5, xgb__subsample=0.7; total time=   1.7s\n",
      "[CV] END xgb__colsample_bytree=1.0, xgb__gamma=0, xgb__learning_rate=0.15, xgb__max_depth=4, xgb__n_estimators=1200, xgb__reg_alpha=0, xgb__reg_lambda=1.5, xgb__subsample=0.7; total time=   1.6s\n",
      "[CV] END xgb__colsample_bytree=1.0, xgb__gamma=0, xgb__learning_rate=0.15, xgb__max_depth=4, xgb__n_estimators=1200, xgb__reg_alpha=0, xgb__reg_lambda=1.5, xgb__subsample=0.7; total time=   1.5s\n",
      "[CV] END xgb__colsample_bytree=1.0, xgb__gamma=0, xgb__learning_rate=0.15, xgb__max_depth=4, xgb__n_estimators=1200, xgb__reg_alpha=0, xgb__reg_lambda=1.5, xgb__subsample=0.7; total time=   1.7s\n",
      "[CV] END xgb__colsample_bytree=1.0, xgb__gamma=0, xgb__learning_rate=0.15, xgb__max_depth=4, xgb__n_estimators=1200, xgb__reg_alpha=0, xgb__reg_lambda=1.5, xgb__subsample=0.7; total time=   1.9s\n",
      "[CV] END xgb__colsample_bytree=1.0, xgb__gamma=0, xgb__learning_rate=0.15, xgb__max_depth=4, xgb__n_estimators=400, xgb__reg_alpha=0.01, xgb__reg_lambda=1, xgb__subsample=1.0; total time=   0.4s\n",
      "[CV] END xgb__colsample_bytree=1.0, xgb__gamma=0, xgb__learning_rate=0.15, xgb__max_depth=4, xgb__n_estimators=400, xgb__reg_alpha=0.01, xgb__reg_lambda=1, xgb__subsample=1.0; total time=   0.5s\n",
      "[CV] END xgb__colsample_bytree=1.0, xgb__gamma=0, xgb__learning_rate=0.15, xgb__max_depth=4, xgb__n_estimators=400, xgb__reg_alpha=0.01, xgb__reg_lambda=1, xgb__subsample=1.0; total time=   0.5s\n",
      "[CV] END xgb__colsample_bytree=1.0, xgb__gamma=0, xgb__learning_rate=0.15, xgb__max_depth=4, xgb__n_estimators=400, xgb__reg_alpha=0.01, xgb__reg_lambda=1, xgb__subsample=1.0; total time=   0.5s\n",
      "[CV] END xgb__colsample_bytree=1.0, xgb__gamma=0, xgb__learning_rate=0.15, xgb__max_depth=4, xgb__n_estimators=400, xgb__reg_alpha=0.01, xgb__reg_lambda=1, xgb__subsample=1.0; total time=   0.5s\n",
      "[CV] END xgb__colsample_bytree=0.9, xgb__gamma=0.2, xgb__learning_rate=0.05, xgb__max_depth=4, xgb__n_estimators=400, xgb__reg_alpha=0, xgb__reg_lambda=0.1, xgb__subsample=0.7; total time=   0.4s\n",
      "[CV] END xgb__colsample_bytree=0.9, xgb__gamma=0.2, xgb__learning_rate=0.05, xgb__max_depth=4, xgb__n_estimators=400, xgb__reg_alpha=0, xgb__reg_lambda=0.1, xgb__subsample=0.7; total time=   0.5s\n",
      "[CV] END xgb__colsample_bytree=0.9, xgb__gamma=0.2, xgb__learning_rate=0.05, xgb__max_depth=4, xgb__n_estimators=400, xgb__reg_alpha=0, xgb__reg_lambda=0.1, xgb__subsample=0.7; total time=   0.5s\n",
      "[CV] END xgb__colsample_bytree=0.9, xgb__gamma=0.2, xgb__learning_rate=0.05, xgb__max_depth=4, xgb__n_estimators=400, xgb__reg_alpha=0, xgb__reg_lambda=0.1, xgb__subsample=0.7; total time=   0.5s\n",
      "[CV] END xgb__colsample_bytree=0.9, xgb__gamma=0.2, xgb__learning_rate=0.05, xgb__max_depth=4, xgb__n_estimators=400, xgb__reg_alpha=0, xgb__reg_lambda=0.1, xgb__subsample=0.7; total time=   0.5s\n",
      "[CV] END xgb__colsample_bytree=0.9, xgb__gamma=0, xgb__learning_rate=0.01, xgb__max_depth=5, xgb__n_estimators=800, xgb__reg_alpha=1, xgb__reg_lambda=1.5, xgb__subsample=0.9; total time=   1.1s\n",
      "[CV] END xgb__colsample_bytree=0.9, xgb__gamma=0, xgb__learning_rate=0.01, xgb__max_depth=5, xgb__n_estimators=800, xgb__reg_alpha=1, xgb__reg_lambda=1.5, xgb__subsample=0.9; total time=   1.2s\n",
      "[CV] END xgb__colsample_bytree=0.9, xgb__gamma=0, xgb__learning_rate=0.01, xgb__max_depth=5, xgb__n_estimators=800, xgb__reg_alpha=1, xgb__reg_lambda=1.5, xgb__subsample=0.9; total time=   1.3s\n",
      "[CV] END xgb__colsample_bytree=0.9, xgb__gamma=0, xgb__learning_rate=0.01, xgb__max_depth=5, xgb__n_estimators=800, xgb__reg_alpha=1, xgb__reg_lambda=1.5, xgb__subsample=0.9; total time=   1.3s\n",
      "[CV] END xgb__colsample_bytree=0.9, xgb__gamma=0, xgb__learning_rate=0.01, xgb__max_depth=5, xgb__n_estimators=800, xgb__reg_alpha=1, xgb__reg_lambda=1.5, xgb__subsample=0.9; total time=   1.3s\n",
      "[CV] END xgb__colsample_bytree=0.9, xgb__gamma=0.2, xgb__learning_rate=0.1, xgb__max_depth=3, xgb__n_estimators=800, xgb__reg_alpha=0.01, xgb__reg_lambda=0.1, xgb__subsample=1.0; total time=   0.6s\n",
      "[CV] END xgb__colsample_bytree=0.9, xgb__gamma=0.2, xgb__learning_rate=0.1, xgb__max_depth=3, xgb__n_estimators=800, xgb__reg_alpha=0.01, xgb__reg_lambda=0.1, xgb__subsample=1.0; total time=   0.7s\n",
      "[CV] END xgb__colsample_bytree=0.9, xgb__gamma=0.2, xgb__learning_rate=0.1, xgb__max_depth=3, xgb__n_estimators=800, xgb__reg_alpha=0.01, xgb__reg_lambda=0.1, xgb__subsample=1.0; total time=   0.7s\n",
      "[CV] END xgb__colsample_bytree=0.9, xgb__gamma=0.2, xgb__learning_rate=0.1, xgb__max_depth=3, xgb__n_estimators=800, xgb__reg_alpha=0.01, xgb__reg_lambda=0.1, xgb__subsample=1.0; total time=   0.7s\n",
      "[CV] END xgb__colsample_bytree=0.9, xgb__gamma=0.2, xgb__learning_rate=0.1, xgb__max_depth=3, xgb__n_estimators=800, xgb__reg_alpha=0.01, xgb__reg_lambda=0.1, xgb__subsample=1.0; total time=   0.8s\n",
      "[CV] END xgb__colsample_bytree=0.7, xgb__gamma=0, xgb__learning_rate=0.15, xgb__max_depth=6, xgb__n_estimators=1200, xgb__reg_alpha=1, xgb__reg_lambda=1, xgb__subsample=0.9; total time=   2.0s\n",
      "[CV] END xgb__colsample_bytree=0.7, xgb__gamma=0, xgb__learning_rate=0.15, xgb__max_depth=6, xgb__n_estimators=1200, xgb__reg_alpha=1, xgb__reg_lambda=1, xgb__subsample=0.9; total time=   2.1s\n",
      "[CV] END xgb__colsample_bytree=0.7, xgb__gamma=0, xgb__learning_rate=0.15, xgb__max_depth=6, xgb__n_estimators=1200, xgb__reg_alpha=1, xgb__reg_lambda=1, xgb__subsample=0.9; total time=   2.3s\n",
      "[CV] END xgb__colsample_bytree=0.7, xgb__gamma=0, xgb__learning_rate=0.15, xgb__max_depth=6, xgb__n_estimators=1200, xgb__reg_alpha=1, xgb__reg_lambda=1, xgb__subsample=0.9; total time=   2.3s\n",
      "[CV] END xgb__colsample_bytree=0.7, xgb__gamma=0, xgb__learning_rate=0.15, xgb__max_depth=6, xgb__n_estimators=1200, xgb__reg_alpha=1, xgb__reg_lambda=1, xgb__subsample=0.9; total time=   2.4s\n",
      "[CV] END xgb__colsample_bytree=1.0, xgb__gamma=0.1, xgb__learning_rate=0.1, xgb__max_depth=7, xgb__n_estimators=1000, xgb__reg_alpha=0, xgb__reg_lambda=0.1, xgb__subsample=0.7; total time=   2.2s\n",
      "[CV] END xgb__colsample_bytree=1.0, xgb__gamma=0.1, xgb__learning_rate=0.1, xgb__max_depth=7, xgb__n_estimators=1000, xgb__reg_alpha=0, xgb__reg_lambda=0.1, xgb__subsample=0.7; total time=   2.5s\n",
      "[CV] END xgb__colsample_bytree=1.0, xgb__gamma=0.1, xgb__learning_rate=0.1, xgb__max_depth=7, xgb__n_estimators=1000, xgb__reg_alpha=0, xgb__reg_lambda=0.1, xgb__subsample=0.7; total time=   2.6s\n",
      "[CV] END xgb__colsample_bytree=1.0, xgb__gamma=0.1, xgb__learning_rate=0.1, xgb__max_depth=7, xgb__n_estimators=1000, xgb__reg_alpha=0, xgb__reg_lambda=0.1, xgb__subsample=0.7; total time=   2.7s\n",
      "[CV] END xgb__colsample_bytree=1.0, xgb__gamma=0.1, xgb__learning_rate=0.1, xgb__max_depth=7, xgb__n_estimators=1000, xgb__reg_alpha=0, xgb__reg_lambda=0.1, xgb__subsample=0.7; total time=   2.8s\n",
      "[CV] END xgb__colsample_bytree=0.8, xgb__gamma=0, xgb__learning_rate=0.15, xgb__max_depth=3, xgb__n_estimators=1200, xgb__reg_alpha=0, xgb__reg_lambda=0.1, xgb__subsample=0.9; total time=   0.9s\n",
      "[CV] END xgb__colsample_bytree=0.8, xgb__gamma=0, xgb__learning_rate=0.15, xgb__max_depth=3, xgb__n_estimators=1200, xgb__reg_alpha=0, xgb__reg_lambda=0.1, xgb__subsample=0.9; total time=   1.0s\n",
      "[CV] END xgb__colsample_bytree=0.8, xgb__gamma=0, xgb__learning_rate=0.15, xgb__max_depth=3, xgb__n_estimators=1200, xgb__reg_alpha=0, xgb__reg_lambda=0.1, xgb__subsample=0.9; total time=   1.1s\n",
      "[CV] END xgb__colsample_bytree=0.8, xgb__gamma=0, xgb__learning_rate=0.15, xgb__max_depth=3, xgb__n_estimators=1200, xgb__reg_alpha=0, xgb__reg_lambda=0.1, xgb__subsample=0.9; total time=   1.1s\n",
      "[CV] END xgb__colsample_bytree=0.8, xgb__gamma=0, xgb__learning_rate=0.15, xgb__max_depth=3, xgb__n_estimators=1200, xgb__reg_alpha=0, xgb__reg_lambda=0.1, xgb__subsample=0.9; total time=   1.2s\n",
      "[CV] END xgb__colsample_bytree=1.0, xgb__gamma=0.1, xgb__learning_rate=0.1, xgb__max_depth=5, xgb__n_estimators=1200, xgb__reg_alpha=1, xgb__reg_lambda=2, xgb__subsample=0.6; total time=   1.8s\n",
      "[CV] END xgb__colsample_bytree=1.0, xgb__gamma=0.1, xgb__learning_rate=0.1, xgb__max_depth=5, xgb__n_estimators=1200, xgb__reg_alpha=1, xgb__reg_lambda=2, xgb__subsample=0.6; total time=   1.9s\n",
      "[CV] END xgb__colsample_bytree=1.0, xgb__gamma=0.1, xgb__learning_rate=0.1, xgb__max_depth=5, xgb__n_estimators=1200, xgb__reg_alpha=1, xgb__reg_lambda=2, xgb__subsample=0.6; total time=   1.9s\n",
      "[CV] END xgb__colsample_bytree=1.0, xgb__gamma=0.1, xgb__learning_rate=0.1, xgb__max_depth=5, xgb__n_estimators=1200, xgb__reg_alpha=1, xgb__reg_lambda=2, xgb__subsample=0.6; total time=   2.0s\n",
      "[CV] END xgb__colsample_bytree=1.0, xgb__gamma=0.1, xgb__learning_rate=0.1, xgb__max_depth=5, xgb__n_estimators=1200, xgb__reg_alpha=1, xgb__reg_lambda=2, xgb__subsample=0.6; total time=   2.1s\n",
      "Search finished in 345.48 seconds.\n",
      "\n",
      "--- Hyperparameter Tuning Results ---\n",
      "Best Score (Negative RMSE): -211.8630\n",
      "Best Positive RMSE: 211.8630\n",
      "\n",
      "Best Parameters Found:\n",
      "{'xgb__subsample': 0.9, 'xgb__reg_lambda': 2, 'xgb__reg_alpha': 0.1, 'xgb__n_estimators': 400, 'xgb__max_depth': 5, 'xgb__learning_rate': 0.01, 'xgb__gamma': 0.2, 'xgb__colsample_bytree': 0.7}\n"
     ]
    }
   ],
   "source": [
    "import pandas as pd\n",
    "import numpy as np\n",
    "import xgboost as xgb\n",
    "from sklearn.model_selection import RandomizedSearchCV, TimeSeriesSplit\n",
    "from sklearn.preprocessing import StandardScaler\n",
    "from sklearn.pipeline import Pipeline\n",
    "from sklearn.metrics import make_scorer, mean_squared_error \n",
    "import time \n",
    "\n",
    "print(f\"Feature shape: {X.shape}\")\n",
    "print(f\"Target shape: {y.shape}\")\n",
    "\n",
    "# Define lists for hyperparameters\n",
    "params = {\n",
    "    #Pipeline step name ('xgb') + '__' + parameter name\n",
    "    'xgb__n_estimators': [int(x) for x in np.linspace(start=200, stop=1200, num=6)], # Sample from a list\n",
    "    'xgb__learning_rate': [0.01, 0.05, 0.1, 0.15, 0.2],\n",
    "    'xgb__max_depth': [3, 4, 5, 6, 7, 8], \n",
    "    'xgb__subsample': [0.6, 0.7, 0.8, 0.9, 1.0], \n",
    "    'xgb__colsample_bytree': [0.6, 0.7, 0.8, 0.9, 1.0], \n",
    "    'xgb__gamma': [0, 0.1, 0.2, 0.3], # Minimum loss reduction\n",
    "    'xgb__reg_alpha': [0, 0.01, 0.1, 1], # L1 regularization\n",
    "    'xgb__reg_lambda': [0.1, 1, 1.5, 2] # L2 regularization\n",
    "}\n",
    "\n",
    "# Setup TimeSeries Split\n",
    "n_splits = 5 \n",
    "tscv = TimeSeriesSplit(n_splits=n_splits)\n",
    "\n",
    "# Create Pipeline \n",
    "# 'scaler' and 'xgb' are arbitrary names for the steps\n",
    "pipeline = Pipeline([\n",
    "    ('scaler', StandardScaler()),\n",
    "    ('xgb', xgb.XGBRegressor(objective='reg:squarederror',\n",
    "                             random_state=42,\n",
    "                             n_jobs=-1)) # Set fixed parameters here\n",
    "])\n",
    "\n",
    "#  Scoring Metric\n",
    "scoring_metric = 'neg_root_mean_squared_error'  # We want to minimize RMSE, so use neg_root_mean_squared_error (higher is better)\n",
    "\n",
    "# Instantiate RandomizedSearchCV \n",
    "n_iter = 50 # Number of parameter settings that are sampled. Increase for better search, decrease for speed.\n",
    "\n",
    "random_search = RandomizedSearchCV(\n",
    "    estimator=pipeline,            # Use the pipeline\n",
    "    param_distributions=params,    # Parameter space to sample from\n",
    "    n_iter=n_iter,                 # Number of iterations/combinations to try\n",
    "    scoring=scoring_metric,       # Metric to optimize (negative RMSE)\n",
    "    cv=tscv,                       # Use TimeSeriesSplit for cross-validation!\n",
    "    n_jobs=1,                     # Use all available CPU cores\n",
    "    verbose=2,                     # Show progress (0=silent, 1=basic, 2=detailed)\n",
    "    random_state=42                # For reproducible sampling\n",
    ")\n",
    "print(f\"RandomizedSearchCV setup with {n_iter} iterations.\")\n",
    "\n",
    "# Run the Search \n",
    "print(\"Starting hyperparameter search...\")\n",
    "start_time = time.time()\n",
    "random_search.fit(X, y) # Fit on the full X and y data\n",
    "end_time = time.time()\n",
    "print(f\"Search finished in {(end_time - start_time):.2f} seconds.\")\n",
    "\n",
    "# Analyze Results\n",
    "print(\"\\n--- Hyperparameter Tuning Results ---\")\n",
    "print(f\"Best Score (Negative RMSE): {random_search.best_score_:.4f}\")\n",
    "# Convert back to positive RMSE:\n",
    "print(f\"Best Positive RMSE: {-random_search.best_score_:.4f}\")\n",
    "\n",
    "print(\"\\nBest Parameters Found:\")\n",
    "# Best parameters are prefixed with the pipeline step name ('xgb__')\n",
    "best_params_raw = random_search.best_params_\n",
    "print(best_params_raw)\n"
   ]
  },
  {
   "cell_type": "code",
   "execution_count": 19,
   "id": "a79df087",
   "metadata": {},
   "outputs": [
    {
     "name": "stdout",
     "output_type": "stream",
     "text": [
      "Final model training complete.\n",
      "--- Final Results: ---\n",
      "    RMSE: 238.9622\n",
      "    MAE:  119.0843\n",
      "    MedianAE: 22.2576\n",
      "    R²:   0.9126\n",
      "\n",
      "Compare Hold-out RMSE (238.9622) to CV Best Avg RMSE (211.8630)\n",
      "\n",
      "--- Average Final results---\n",
      "  Average RMSE: 238.9622 (+/- 0.0000)\n",
      "  Average MAE:  119.0843 (+/- 0.0000)\n",
      "  Average MedianAE: 22.2576 (+/- 0.0000)\n",
      "  Average R²:   0.9126 (+/- 0.0000)\n"
     ]
    }
   ],
   "source": [
    "import xgboost as xgb\n",
    "from sklearn.model_selection import TimeSeriesSplit\n",
    "from sklearn.preprocessing import StandardScaler\n",
    "from sklearn.metrics import mean_squared_error, mean_absolute_error, r2_score, median_absolute_error\n",
    "import pandas as pd\n",
    "import numpy as np # Make sure numpy is imported\n",
    "\n",
    "\n",
    "# best parameters found from RandomizedSearchCV\n",
    "best_params_xgb = {\n",
    "    'n_estimators': 400,\n",
    "    'learning_rate': 0.01,\n",
    "    'max_depth': 5,\n",
    "    'subsample': 0.9,\n",
    "    'colsample_bytree': 0.7,\n",
    "    'gamma': 0.2,\n",
    "    'reg_alpha': 0.1,\n",
    "    'reg_lambda': 2,\n",
    "    'objective': 'reg:squarederror',\n",
    "    'random_state': 42,             \n",
    "    'n_jobs': -1                  \n",
    "}\n",
    "\n",
    "# split data into train and test sets\n",
    "\n",
    "split_fraction = 0.8 \n",
    "split_index = int(len(X) * split_fraction)\n",
    "\n",
    "X_train = X.iloc[:split_index]\n",
    "y_train = y.iloc[:split_index]\n",
    "\n",
    "X_test = X.iloc[split_index:]\n",
    "y_test = y.iloc[split_index:]\n",
    "\n",
    "\n",
    "# Create final pipeline\n",
    "final_pipeline = Pipeline([\n",
    "    ('scaler', StandardScaler()),\n",
    "    ('xgb', xgb.XGBRegressor(\n",
    "        **best_params_xgb\n",
    "    ))\n",
    "])\n",
    "\n",
    "final_pipeline.fit(X_train, y_train)\n",
    "print(\"Final model training complete.\")\n",
    "\n",
    "# Evaluate the Final Pipeline on the  Test Set\n",
    "y_pred_final = final_pipeline.predict(X_test)\n",
    "\n",
    "# Store results from each fold\n",
    "rmse_scores = []\n",
    "mae_scores = []\n",
    "medae_scores = []\n",
    "r2_scores = []\n",
    "\n",
    "\n",
    "# Final performance metrics\n",
    "final_rmse = np.sqrt(mean_squared_error(y_test, y_pred_final))\n",
    "final_mae = mean_absolute_error(y_test, y_pred_final)\n",
    "final_medae = median_absolute_error(y_test, y_pred_final)\n",
    "final_r2 = r2_score(y_test, y_pred_final)\n",
    "\n",
    "print(f\"--- Final Results: ---\")\n",
    "print(f\"    RMSE: {final_rmse:.4f}\")\n",
    "print(f\"    MAE:  {final_mae:.4f}\")\n",
    "print(f\"    MedianAE: {final_medae:.4f}\")\n",
    "print(f\"    R²:   {final_r2:.4f}\")\n",
    "\n",
    "# Append scores\n",
    "rmse_scores.append(final_rmse)\n",
    "mae_scores.append(final_mae)\n",
    "medae_scores.append(final_medae)\n",
    "r2_scores.append(final_r2)\n",
    "\n",
    "print(f\"\\nCompare Hold-out RMSE ({final_rmse:.4f}) to CV Best Avg RMSE ({-random_search.best_score_:.4f})\")\n",
    "\n",
    "\n",
    "# Average Results \n",
    "print(\"\\n--- Average Final results---\")\n",
    "print(f\"  Average RMSE: {np.mean(rmse_scores):.4f} (+/- {np.std(rmse_scores):.4f})\")\n",
    "print(f\"  Average MAE:  {np.mean(mae_scores):.4f} (+/- {np.std(mae_scores):.4f})\")\n",
    "print(f\"  Average MedianAE: {np.mean(medae_scores):.4f} (+/- {np.std(medae_scores):.4f})\")\n",
    "print(f\"  Average R²:   {np.mean(r2_scores):.4f} (+/- {np.std(r2_scores):.4f})\")"
   ]
  },
  {
   "cell_type": "markdown",
   "id": "5d274f5b",
   "metadata": {},
   "source": [
    "## Features importance"
   ]
  },
  {
   "cell_type": "code",
   "execution_count": 20,
   "id": "eba2d0cd",
   "metadata": {},
   "outputs": [
    {
     "data": {
      "text/html": [
       "<div>\n",
       "<style scoped>\n",
       "    .dataframe tbody tr th:only-of-type {\n",
       "        vertical-align: middle;\n",
       "    }\n",
       "\n",
       "    .dataframe tbody tr th {\n",
       "        vertical-align: top;\n",
       "    }\n",
       "\n",
       "    .dataframe thead th {\n",
       "        text-align: right;\n",
       "    }\n",
       "</style>\n",
       "<table border=\"1\" class=\"dataframe\">\n",
       "  <thead>\n",
       "    <tr style=\"text-align: right;\">\n",
       "      <th></th>\n",
       "      <th>importance</th>\n",
       "    </tr>\n",
       "  </thead>\n",
       "  <tbody>\n",
       "    <tr>\n",
       "      <th>year</th>\n",
       "      <td>0.001</td>\n",
       "    </tr>\n",
       "    <tr>\n",
       "      <th>month</th>\n",
       "      <td>0.007</td>\n",
       "    </tr>\n",
       "    <tr>\n",
       "      <th>day</th>\n",
       "      <td>0.002</td>\n",
       "    </tr>\n",
       "    <tr>\n",
       "      <th>dayofweek</th>\n",
       "      <td>0.002</td>\n",
       "    </tr>\n",
       "    <tr>\n",
       "      <th>hour</th>\n",
       "      <td>0.035</td>\n",
       "    </tr>\n",
       "    <tr>\n",
       "      <th>power_output</th>\n",
       "      <td>0.539</td>\n",
       "    </tr>\n",
       "    <tr>\n",
       "      <th>power_output_lag_1hr</th>\n",
       "      <td>0.033</td>\n",
       "    </tr>\n",
       "    <tr>\n",
       "      <th>power_output_lag_2hr</th>\n",
       "      <td>0.010</td>\n",
       "    </tr>\n",
       "    <tr>\n",
       "      <th>direct_irradiance</th>\n",
       "      <td>0.060</td>\n",
       "    </tr>\n",
       "    <tr>\n",
       "      <th>direct_irradiance_lag_1hr</th>\n",
       "      <td>0.021</td>\n",
       "    </tr>\n",
       "  </tbody>\n",
       "</table>\n",
       "</div>"
      ],
      "text/plain": [
       "                           importance\n",
       "year                            0.001\n",
       "month                           0.007\n",
       "day                             0.002\n",
       "dayofweek                       0.002\n",
       "hour                            0.035\n",
       "power_output                    0.539\n",
       "power_output_lag_1hr            0.033\n",
       "power_output_lag_2hr            0.010\n",
       "direct_irradiance               0.060\n",
       "direct_irradiance_lag_1hr       0.021"
      ]
     },
     "execution_count": 20,
     "metadata": {},
     "output_type": "execute_result"
    }
   ],
   "source": [
    "# Get importances from the model\n",
    "\n",
    "xgb_model = final_pipeline.named_steps['xgb']\n",
    "if isinstance(X_train, pd.DataFrame):\n",
    "    feature_names = X_train.columns.tolist()\n",
    "\n",
    "importances = xgb_model.feature_importances_\n",
    "\n",
    "fi = pd.DataFrame(data=importances,\n",
    "             index=feature_names,\n",
    "             columns=['importance']\n",
    "            )           \n",
    "fi_sorted = round(fi.head(10),3)\n",
    "fi_sorted"
   ]
  },
  {
   "cell_type": "code",
   "execution_count": 21,
   "id": "d38a60ae",
   "metadata": {},
   "outputs": [
    {
     "data": {
      "application/vnd.plotly.v1+json": {
       "config": {
        "plotlyServerURL": "https://plot.ly"
       },
       "data": [
        {
         "hovertemplate": "variable=importance<br>value=%{x}<br>index=%{y}<extra></extra>",
         "legendgroup": "importance",
         "marker": {
          "color": "#636efa",
          "pattern": {
           "shape": ""
          }
         },
         "name": "importance",
         "orientation": "h",
         "showlegend": true,
         "textposition": "auto",
         "type": "bar",
         "x": {
          "bdata": "bxKDOm8SAztvEgM7QmDlOwrXIzwxCKw8AisHPSlcDz2PwnU95/sJPw==",
          "dtype": "f4"
         },
         "xaxis": "x",
         "y": [
          "year",
          "day",
          "dayofweek",
          "month",
          "power_output_lag_2hr",
          "direct_irradiance_lag_1hr",
          "power_output_lag_1hr",
          "hour",
          "direct_irradiance",
          "power_output"
         ],
         "yaxis": "y"
        }
       ],
       "layout": {
        "barmode": "relative",
        "legend": {
         "title": {
          "text": "variable"
         },
         "tracegroupgap": 0
        },
        "template": {
         "data": {
          "bar": [
           {
            "error_x": {
             "color": "#f2f5fa"
            },
            "error_y": {
             "color": "#f2f5fa"
            },
            "marker": {
             "line": {
              "color": "rgb(17,17,17)",
              "width": 0.5
             },
             "pattern": {
              "fillmode": "overlay",
              "size": 10,
              "solidity": 0.2
             }
            },
            "type": "bar"
           }
          ],
          "barpolar": [
           {
            "marker": {
             "line": {
              "color": "rgb(17,17,17)",
              "width": 0.5
             },
             "pattern": {
              "fillmode": "overlay",
              "size": 10,
              "solidity": 0.2
             }
            },
            "type": "barpolar"
           }
          ],
          "carpet": [
           {
            "aaxis": {
             "endlinecolor": "#A2B1C6",
             "gridcolor": "#506784",
             "linecolor": "#506784",
             "minorgridcolor": "#506784",
             "startlinecolor": "#A2B1C6"
            },
            "baxis": {
             "endlinecolor": "#A2B1C6",
             "gridcolor": "#506784",
             "linecolor": "#506784",
             "minorgridcolor": "#506784",
             "startlinecolor": "#A2B1C6"
            },
            "type": "carpet"
           }
          ],
          "choropleth": [
           {
            "colorbar": {
             "outlinewidth": 0,
             "ticks": ""
            },
            "type": "choropleth"
           }
          ],
          "contour": [
           {
            "colorbar": {
             "outlinewidth": 0,
             "ticks": ""
            },
            "colorscale": [
             [
              0,
              "#0d0887"
             ],
             [
              0.1111111111111111,
              "#46039f"
             ],
             [
              0.2222222222222222,
              "#7201a8"
             ],
             [
              0.3333333333333333,
              "#9c179e"
             ],
             [
              0.4444444444444444,
              "#bd3786"
             ],
             [
              0.5555555555555556,
              "#d8576b"
             ],
             [
              0.6666666666666666,
              "#ed7953"
             ],
             [
              0.7777777777777778,
              "#fb9f3a"
             ],
             [
              0.8888888888888888,
              "#fdca26"
             ],
             [
              1,
              "#f0f921"
             ]
            ],
            "type": "contour"
           }
          ],
          "contourcarpet": [
           {
            "colorbar": {
             "outlinewidth": 0,
             "ticks": ""
            },
            "type": "contourcarpet"
           }
          ],
          "heatmap": [
           {
            "colorbar": {
             "outlinewidth": 0,
             "ticks": ""
            },
            "colorscale": [
             [
              0,
              "#0d0887"
             ],
             [
              0.1111111111111111,
              "#46039f"
             ],
             [
              0.2222222222222222,
              "#7201a8"
             ],
             [
              0.3333333333333333,
              "#9c179e"
             ],
             [
              0.4444444444444444,
              "#bd3786"
             ],
             [
              0.5555555555555556,
              "#d8576b"
             ],
             [
              0.6666666666666666,
              "#ed7953"
             ],
             [
              0.7777777777777778,
              "#fb9f3a"
             ],
             [
              0.8888888888888888,
              "#fdca26"
             ],
             [
              1,
              "#f0f921"
             ]
            ],
            "type": "heatmap"
           }
          ],
          "histogram": [
           {
            "marker": {
             "pattern": {
              "fillmode": "overlay",
              "size": 10,
              "solidity": 0.2
             }
            },
            "type": "histogram"
           }
          ],
          "histogram2d": [
           {
            "colorbar": {
             "outlinewidth": 0,
             "ticks": ""
            },
            "colorscale": [
             [
              0,
              "#0d0887"
             ],
             [
              0.1111111111111111,
              "#46039f"
             ],
             [
              0.2222222222222222,
              "#7201a8"
             ],
             [
              0.3333333333333333,
              "#9c179e"
             ],
             [
              0.4444444444444444,
              "#bd3786"
             ],
             [
              0.5555555555555556,
              "#d8576b"
             ],
             [
              0.6666666666666666,
              "#ed7953"
             ],
             [
              0.7777777777777778,
              "#fb9f3a"
             ],
             [
              0.8888888888888888,
              "#fdca26"
             ],
             [
              1,
              "#f0f921"
             ]
            ],
            "type": "histogram2d"
           }
          ],
          "histogram2dcontour": [
           {
            "colorbar": {
             "outlinewidth": 0,
             "ticks": ""
            },
            "colorscale": [
             [
              0,
              "#0d0887"
             ],
             [
              0.1111111111111111,
              "#46039f"
             ],
             [
              0.2222222222222222,
              "#7201a8"
             ],
             [
              0.3333333333333333,
              "#9c179e"
             ],
             [
              0.4444444444444444,
              "#bd3786"
             ],
             [
              0.5555555555555556,
              "#d8576b"
             ],
             [
              0.6666666666666666,
              "#ed7953"
             ],
             [
              0.7777777777777778,
              "#fb9f3a"
             ],
             [
              0.8888888888888888,
              "#fdca26"
             ],
             [
              1,
              "#f0f921"
             ]
            ],
            "type": "histogram2dcontour"
           }
          ],
          "mesh3d": [
           {
            "colorbar": {
             "outlinewidth": 0,
             "ticks": ""
            },
            "type": "mesh3d"
           }
          ],
          "parcoords": [
           {
            "line": {
             "colorbar": {
              "outlinewidth": 0,
              "ticks": ""
             }
            },
            "type": "parcoords"
           }
          ],
          "pie": [
           {
            "automargin": true,
            "type": "pie"
           }
          ],
          "scatter": [
           {
            "marker": {
             "line": {
              "color": "#283442"
             }
            },
            "type": "scatter"
           }
          ],
          "scatter3d": [
           {
            "line": {
             "colorbar": {
              "outlinewidth": 0,
              "ticks": ""
             }
            },
            "marker": {
             "colorbar": {
              "outlinewidth": 0,
              "ticks": ""
             }
            },
            "type": "scatter3d"
           }
          ],
          "scattercarpet": [
           {
            "marker": {
             "colorbar": {
              "outlinewidth": 0,
              "ticks": ""
             }
            },
            "type": "scattercarpet"
           }
          ],
          "scattergeo": [
           {
            "marker": {
             "colorbar": {
              "outlinewidth": 0,
              "ticks": ""
             }
            },
            "type": "scattergeo"
           }
          ],
          "scattergl": [
           {
            "marker": {
             "line": {
              "color": "#283442"
             }
            },
            "type": "scattergl"
           }
          ],
          "scattermap": [
           {
            "marker": {
             "colorbar": {
              "outlinewidth": 0,
              "ticks": ""
             }
            },
            "type": "scattermap"
           }
          ],
          "scattermapbox": [
           {
            "marker": {
             "colorbar": {
              "outlinewidth": 0,
              "ticks": ""
             }
            },
            "type": "scattermapbox"
           }
          ],
          "scatterpolar": [
           {
            "marker": {
             "colorbar": {
              "outlinewidth": 0,
              "ticks": ""
             }
            },
            "type": "scatterpolar"
           }
          ],
          "scatterpolargl": [
           {
            "marker": {
             "colorbar": {
              "outlinewidth": 0,
              "ticks": ""
             }
            },
            "type": "scatterpolargl"
           }
          ],
          "scatterternary": [
           {
            "marker": {
             "colorbar": {
              "outlinewidth": 0,
              "ticks": ""
             }
            },
            "type": "scatterternary"
           }
          ],
          "surface": [
           {
            "colorbar": {
             "outlinewidth": 0,
             "ticks": ""
            },
            "colorscale": [
             [
              0,
              "#0d0887"
             ],
             [
              0.1111111111111111,
              "#46039f"
             ],
             [
              0.2222222222222222,
              "#7201a8"
             ],
             [
              0.3333333333333333,
              "#9c179e"
             ],
             [
              0.4444444444444444,
              "#bd3786"
             ],
             [
              0.5555555555555556,
              "#d8576b"
             ],
             [
              0.6666666666666666,
              "#ed7953"
             ],
             [
              0.7777777777777778,
              "#fb9f3a"
             ],
             [
              0.8888888888888888,
              "#fdca26"
             ],
             [
              1,
              "#f0f921"
             ]
            ],
            "type": "surface"
           }
          ],
          "table": [
           {
            "cells": {
             "fill": {
              "color": "#506784"
             },
             "line": {
              "color": "rgb(17,17,17)"
             }
            },
            "header": {
             "fill": {
              "color": "#2a3f5f"
             },
             "line": {
              "color": "rgb(17,17,17)"
             }
            },
            "type": "table"
           }
          ]
         },
         "layout": {
          "annotationdefaults": {
           "arrowcolor": "#f2f5fa",
           "arrowhead": 0,
           "arrowwidth": 1
          },
          "autotypenumbers": "strict",
          "coloraxis": {
           "colorbar": {
            "outlinewidth": 0,
            "ticks": ""
           }
          },
          "colorscale": {
           "diverging": [
            [
             0,
             "#8e0152"
            ],
            [
             0.1,
             "#c51b7d"
            ],
            [
             0.2,
             "#de77ae"
            ],
            [
             0.3,
             "#f1b6da"
            ],
            [
             0.4,
             "#fde0ef"
            ],
            [
             0.5,
             "#f7f7f7"
            ],
            [
             0.6,
             "#e6f5d0"
            ],
            [
             0.7,
             "#b8e186"
            ],
            [
             0.8,
             "#7fbc41"
            ],
            [
             0.9,
             "#4d9221"
            ],
            [
             1,
             "#276419"
            ]
           ],
           "sequential": [
            [
             0,
             "#0d0887"
            ],
            [
             0.1111111111111111,
             "#46039f"
            ],
            [
             0.2222222222222222,
             "#7201a8"
            ],
            [
             0.3333333333333333,
             "#9c179e"
            ],
            [
             0.4444444444444444,
             "#bd3786"
            ],
            [
             0.5555555555555556,
             "#d8576b"
            ],
            [
             0.6666666666666666,
             "#ed7953"
            ],
            [
             0.7777777777777778,
             "#fb9f3a"
            ],
            [
             0.8888888888888888,
             "#fdca26"
            ],
            [
             1,
             "#f0f921"
            ]
           ],
           "sequentialminus": [
            [
             0,
             "#0d0887"
            ],
            [
             0.1111111111111111,
             "#46039f"
            ],
            [
             0.2222222222222222,
             "#7201a8"
            ],
            [
             0.3333333333333333,
             "#9c179e"
            ],
            [
             0.4444444444444444,
             "#bd3786"
            ],
            [
             0.5555555555555556,
             "#d8576b"
            ],
            [
             0.6666666666666666,
             "#ed7953"
            ],
            [
             0.7777777777777778,
             "#fb9f3a"
            ],
            [
             0.8888888888888888,
             "#fdca26"
            ],
            [
             1,
             "#f0f921"
            ]
           ]
          },
          "colorway": [
           "#636efa",
           "#EF553B",
           "#00cc96",
           "#ab63fa",
           "#FFA15A",
           "#19d3f3",
           "#FF6692",
           "#B6E880",
           "#FF97FF",
           "#FECB52"
          ],
          "font": {
           "color": "#f2f5fa"
          },
          "geo": {
           "bgcolor": "rgb(17,17,17)",
           "lakecolor": "rgb(17,17,17)",
           "landcolor": "rgb(17,17,17)",
           "showlakes": true,
           "showland": true,
           "subunitcolor": "#506784"
          },
          "hoverlabel": {
           "align": "left"
          },
          "hovermode": "closest",
          "mapbox": {
           "style": "dark"
          },
          "paper_bgcolor": "rgb(17,17,17)",
          "plot_bgcolor": "rgb(17,17,17)",
          "polar": {
           "angularaxis": {
            "gridcolor": "#506784",
            "linecolor": "#506784",
            "ticks": ""
           },
           "bgcolor": "rgb(17,17,17)",
           "radialaxis": {
            "gridcolor": "#506784",
            "linecolor": "#506784",
            "ticks": ""
           }
          },
          "scene": {
           "xaxis": {
            "backgroundcolor": "rgb(17,17,17)",
            "gridcolor": "#506784",
            "gridwidth": 2,
            "linecolor": "#506784",
            "showbackground": true,
            "ticks": "",
            "zerolinecolor": "#C8D4E3"
           },
           "yaxis": {
            "backgroundcolor": "rgb(17,17,17)",
            "gridcolor": "#506784",
            "gridwidth": 2,
            "linecolor": "#506784",
            "showbackground": true,
            "ticks": "",
            "zerolinecolor": "#C8D4E3"
           },
           "zaxis": {
            "backgroundcolor": "rgb(17,17,17)",
            "gridcolor": "#506784",
            "gridwidth": 2,
            "linecolor": "#506784",
            "showbackground": true,
            "ticks": "",
            "zerolinecolor": "#C8D4E3"
           }
          },
          "shapedefaults": {
           "line": {
            "color": "#f2f5fa"
           }
          },
          "sliderdefaults": {
           "bgcolor": "#C8D4E3",
           "bordercolor": "rgb(17,17,17)",
           "borderwidth": 1,
           "tickwidth": 0
          },
          "ternary": {
           "aaxis": {
            "gridcolor": "#506784",
            "linecolor": "#506784",
            "ticks": ""
           },
           "baxis": {
            "gridcolor": "#506784",
            "linecolor": "#506784",
            "ticks": ""
           },
           "bgcolor": "rgb(17,17,17)",
           "caxis": {
            "gridcolor": "#506784",
            "linecolor": "#506784",
            "ticks": ""
           }
          },
          "title": {
           "x": 0.05
          },
          "updatemenudefaults": {
           "bgcolor": "#506784",
           "borderwidth": 0
          },
          "xaxis": {
           "automargin": true,
           "gridcolor": "#283442",
           "linecolor": "#506784",
           "ticks": "",
           "title": {
            "standoff": 15
           },
           "zerolinecolor": "#283442",
           "zerolinewidth": 2
          },
          "yaxis": {
           "automargin": true,
           "gridcolor": "#283442",
           "linecolor": "#506784",
           "ticks": "",
           "title": {
            "standoff": 15
           },
           "zerolinecolor": "#283442",
           "zerolinewidth": 2
          }
         }
        },
        "title": {
         "text": "Feature Importances"
        },
        "xaxis": {
         "anchor": "y",
         "domain": [
          0,
          1
         ],
         "title": {
          "text": "value"
         }
        },
        "yaxis": {
         "anchor": "x",
         "domain": [
          0,
          1
         ],
         "title": {
          "text": "index"
         }
        }
       }
      }
     },
     "metadata": {},
     "output_type": "display_data"
    }
   ],
   "source": [
    "import plotly.express as px\n",
    "\n",
    "fi_hist = px.bar(fi_sorted.sort_values('importance',ascending=True),\n",
    "                orientation='h',\n",
    "                title=f'Feature Importances', \n",
    "                template='plotly_dark'  \n",
    "                )\n",
    "\n",
    "fi_hist.show()"
   ]
  },
  {
   "cell_type": "markdown",
   "id": "199ca147",
   "metadata": {},
   "source": [
    "### Errors analysis"
   ]
  },
  {
   "cell_type": "code",
   "execution_count": 26,
   "id": "fb302f53",
   "metadata": {},
   "outputs": [
    {
     "data": {
      "application/vnd.plotly.v1+json": {
       "config": {
        "plotlyServerURL": "https://plot.ly"
       },
       "data": [
        {
         "bingroup": "x",
         "hovertemplate": "variable=power_output_lead_1h<br>value=%{x}<br>count=%{y}<extra></extra>",
         "legendgroup": "power_output_lead_1h",
         "marker": {
          "color": "#636efa",
          "pattern": {
           "shape": ""
          }
         },
         "name": "power_output_lead_1h",
         "nbinsx": 50,
         "orientation": "v",
         "showlegend": true,
         "type": "histogram",
         "x": {
          "bdata": "AAAAgIvQHUAAAADAavkgQAAAAMBq+SBAAAAAwGr5IEAAAADAavkgQAAAAMBq+SBAAAAAYL8xLkAAAABgvzEuQAAAAGC/MS5AAAAAIFb/NUAAAACABSZCQITrUbhpVidA4HoUrgEKSUAwMzMzqwxdQBDXo3BNdUBAIIXrUXY9YEAK16NwlTWEQPQoXM/nDYhAKFyPgmTCgUAoXI8CG7uBQKBwPQqXOlJAhutRuNPqWUAAAACA2WdCQAAAAEDeBh1AAAAAwP3yHUAAAADAavkgQAAAAMBq+SBAAAAAwGr5IEAAAADAavkgQAAAAMBq+SBAAAAAYL8xLkAAAABgvzEuQAAAAGC/MS5AAAAAIFb/NUAAAABAmkdCQOxRuJ71tGJAQI/C9fjULkAAAAAAKIxXQDwK16OnHXZAIK5H4aKZUkAAKVyPopJBQABSuB71lzpAsEfhekSXU0AASOF69HYXQMDMzMy0zilAYI/C9b1gSUAAAAAAvyw+QAAAAEA0/BxAAAAAwP3yHUAAAADAavkgQAAAAMBq+SBAAAAAwGr5IEAAAADAavkgQAAAAMBq+SBAAAAAYL8xLkAAAABgvzEuQAAAAGC/MS5AAAAAIFb/NUAAAACABSZCQJDC9eiuI0JAFK5HIUvJb0AASOF6FKz7PwCF61EIZzlAsEfh+qfMdkCgcD0K+5FmQEAK16MOMWBAMDMzMwo2ZkBgZmZm6vJBQACwR+F68uU/oJmZmSW3L0AAAABgnLM2QAAAACBi+htAAAAAQBIRHkAAAAAAdQghQAAAAAB1CCFAAAAAwGr5IEAAAADAavkgQAAAAMBq+SBAAAAAYL8xLkAAAABgvzEuQAAAAGC/MS5AAAAAIFb/NUAAAACABSZCQK5H4Srqp2NAAAAAAALFXUBgj8L1XvtbQAjXo3CQxWdAwMzMzBRjR0BI4XqUGQ1xQFyPwvXr6oRAQLgehWM+OUDA9ShcTsxgQKRwPQrLhXdACNejcAU0PEAAAABgtVM1QAAAAEAXlRtAAAAAQBIRHkAAAAAAdQghQAAAAAB1CCFAAAAAwGr5IEAAAADAavkgQAAAAMBq+SBAAAAAYL8xLkAAAABgvzEuQAAAAGC/MS5AAAAAIFb/NUAAAABAmkdCQOF6FK4oZFNAzczMjIuyeEC4HoUrTR5lQGZmZsbAsHlAehSuh4kfe0BI4XoUxRt/QGCPwvWHQWJArkfhugeCg0DA9ShcRYdRQAD2KFzPYhBAmpmZueHBY0AAAADAPxswQAAAAOBG0RlAAAAAAKDuHUAAAAAAdQghQAAAAAB1CCFAAAAAAHUIIUAAAAAAdQghQAAAAMBq+SBAAAAAYExDLkAAAABgTEMuQAAAAGBMQy5AAAAAIB0INkAAAABA/UtCQAAAAMBewUNAENejcMFxOkCPwvXoPhFxQLgehevxFHNANDMz800YeEDE9ShcsNFjQKBwPQoNn1BAKFyPgvj9d0DsUbgewDt5QOxRuF47d2ZAoHA9CmO4HkAAAACgMf41QAAAAOBg9BlAAAAAQC00HkAAAABAAhohQAAAAAD4CiFAAAAAAPgKIUAAAAAA+AohQAAAAAD4CiFAAAAAYExDLkAAAABgTEMuQAAAAGBMQy5AAAAAIB0INkAAAABA/UtCQChcjyKliVlAAAAAgErWfEAAAADAPqNQQNejcHEuBYlAXI/CNR91gkCE61E4BUFuQLBH4Xri2EFApHA9CktiaUD2KFyPqStxQJDC9eiAM2BA7FG4XmREW0AAAABAejpJQAAAAOC26RlAAAAAQC00HkAAAABAAhohQAAAAEACGiFAAAAAQAIaIUAAAABAAhohQAAAAEACGiFAAAAAYFZSLkAAAABgVlIuQAAAAGBMQy5AAAAAIB0INkAAAACAaCpCQFyPwrWiLVtAAAAAAJ2GfUCPwvUgXSaLQFyPwvX29nxAxPUo3Ij0eUCI61G402toQLgehavcNIVA8FG4Hg2ZX0BAMzMzq+FNQITrUbgz9mhAj8L1KMvsZEAAAADg5lw0QAAAAOAmQRlAAAAAQC00HkAAAABAAhohQAAAAEACGiFAAAAAQAIaIUAAAABAAhohQAAAAEACGiFAAAAAYFZSLkAAAABgVlIuQAAAAGBWUi5AAAAAYKIPNkAAAAAAKy5CQEAK16NAAANAhutROO0iWkBI4Xq0uTpwQJDC9Sg9cW9AYGZmZlImQUCI61G4OPVSQKRwPUqlQ3hANDMzs/H0f0Bgj8L1CLhYQFyPwvVkQm5AgML1KISpCEAAAACAtBw+QAAAAOC26RlAAAAAQC00HkAAAABAAhohQAAAAEACGiFAAAAAQAIaIUAAAABAAhohQAAAAEACGiFAAAAAYFZSLkAAAABgVlIuQAAAAGBWUi5AAAAAYKIPNkAAAAAAKy5CQArXo3DjsTlAQArXo7hmKEBwPQpXnYF6QBDXo3DJyzBAYI/C9XZJWkCQwvVofpN2QFK4HoU7CnNA4XoUrr1yhUCPwvVINqV0QJqZmZmycHJAIIXrUS7ZVkAAAADAYxtQQAAAAOC26RlAAAAAQC00HkAAAABAAhohQAAAAEACGiFAAAAAQAIaIUAAAABAAhohQAAAAEACGiFAAAAAYFZSLkAAAABgTEMuQAAAAGBMQy5AAAAAIB0INkAAAACAaCpCQDMzM/MqC1VA7FG4HggMg0C4HoXr7GRzQB+F65Hqb4dAAAAAYIc9gEAehevRXxaEQOxRuB7mi31ACtejMCTzkUAK16OwAw58QLgehWsPYXVAwPUoXJdTIUAAAABATa9LQAAAAEB/1jdAAAAAwCaAH0AAAADg1/EeQAAAAAD4CiFAAAAAAPgKIUAAAAAA+AohQAAAAAD4CiFAAAAAYExDLkAAAABgTEMuQAAAAGBMQy5AAAAAIB0INkAAAACAaCpCQFyPwtUk8GdANDMzs122YkA+CtcjOZx9QOB6FK5DXUJAABSuRyHgFkCgcD0KGd5SQAAAAACrRHpAAAAAAMCAEEAAAACA6Jh7QCCF61E3eF9AaGZmZuW/SkAAAABA0J5LQAAAAACJBjZAAAAAIGLsHkAAAABgw9MeQAAAAAD4CiFAAAAAAPgKIUAAAAAA+AohQAAAAAD4CiFAAAAAYExDLkAAAABgTEMuQAAAAGBMQy5AAAAAIB0INkAAAACAaCpCQBSuR+E7BHBAIK5H4ZqEOEBI4XoU+05mQMD1KFwvc15AMDMzM2MsZ0AArkfh0n4zQHoUrkfp13lAexSup5HDh0CE61G4Od1oQML1KFzIw4FAH4Xr0SvwfUAAAADgAPxRQAAAAKAz6jRAAAAAgIsiJkAAAABgw9MeQAAAAAD4CiFAAAAAAPgKIUAAAAAA+AohQAAAAAD4CiFAAAAAYExDLkAAAABgTEMuQAAAAGBMQy5AAAAAIB0INkAAAACAaCpCQJDC9eim2G5ASOF6lG0WY0DgehSu7/N2QNCjcD3uUV9AHoXr0XdUgUCwR+F6TD2IQOxRuB64z4VAAAAAgPjodEB4FK5H9JltQAAAAABAjylAMFyPwhXHOEDD9Shc+H1NQAAAAACVUzVAAAAAIGLsHkAAAABgw9MeQAAAAAD4CiFAAAAAAPgKIUAAAAAA+AohQAAAAAD4CiFAAAAAYExDLkAAAABgTEMuQAAAAGBMQy5AAAAAIB0INkAAAACAaCpCQACuR+E6XNw/2KNwPVPnZ0BwPQrXS/l0QJDC9SjqVHNAgBSuR4m8bECQwvWo5iiGQJDC9ahMzXdAULgehWd2bEB6FK4Hpwd4QITrUbi9FFhAzMzMzHsNU0AAAABAe2FQQAAAAICTpzVAAAAAIGLsHkAAAADg1/EeQAAAAAD4CiFAAAAAAPgKIUAAAAAA+AohQAAAAAD4CiFAAAAAYExDLkAAAABgTEMuQAAAAGBMQy5AAAAAIB0INkAAAACAaCpCQLgehWteelRAhutRKNxHg0CQwvUoh3VkQLgehYsI6pJAZmZmZpCPf0BA4XoUUiIzQOxRuH6aFpZAHoXrkYjRhUBcj8J1iiWKQFK4HuWRy3hASOF6FN0mTEAAAACA/oE3QAAAAADoPzlAAAAAwJUxJkAAAADg1/EeQAAAAEACGiFAAAAAQAIaIUAAAABAAhohQAAAAEACGiFAAAAAYFZSLkAAAABgVlIuQAAAAGBWUi5AAAAAYKIPNkDNzMzMnWE2QArXo7B8xmZAwMzMzDL7SEDwKFyPTPJeQLgeheud2mNADNej8KtfeUDgehSuDS5jQEDhehQKqk9AwvUo3FvQekBI4XoUCrV3QGCPwvW1cU1A+ChcjytPOUAAAADAlelCQAAAAICTpzVAAAAAQGd/HkAAAADg1/EeQAAAAEACGiFAAAAAQAIaIUAAAAAA+AohQAAAAAD4CiFAAAAAQOinLkAAAABA6KcuQAAAAEDopy5AAAAA4Go6NkAAAADAJGVCQKRwPYpwFUJAuB6FK86ScUC4HoXrJThpQML1KNznZ3BAhutRuNlldEBI4XqUQEVqQOCjcD3+TDJAzMzMTLCeb0AUrkfh1btxQLgehWvM7WBAkML1yKbpYUAAAABA/sY7QAAAAAA+qjVAAAAAoHbLJUAAAACAqbAeQAAAAMBq+SBAAAAAwGr5IEAAAADAavkgQAAAAMBq+SBAAAAAQOinLkAAAABA6KcuQAAAAEDopy5AAAAA4Go6NkAAAAAAkENCQPQoXA+Jc0tA2KNwHdXFdEC4HoVrh1p0QPBRuB7bHVhAXI/C9U8HkUBI4XqUVYR/QHA9CtcPN1VArkfheku9gkAghetRI8xqQIAUrkeZ7S1A9Chcj1qsUEApXI/C65dPQAAAAIAQqCtAAAAAwDg+HkAAAABgCMceQAAAAMBq+SBAAAAAwGr5IEAAAADAavkgQAAAAMBq+SBAAAAAQOinLkAAAABA6KcuQAAAAEDopy5AAAAA4Go6NkBoZmZmJtghQJDC9Si5hHJA0MzMzG7+Y0DiehQuqUGBQAAAAAB33mFAwMzMzID9RUAApHA9etcnQK5H4XqNJHJAzMzMTCuPZ0DA9ShcwgBVQPYoXA8ZT3BAHoXrsaCNckAAAACg/0FYQAAAAED7SzVAAAAAwDg+HkAAAACAqbAeQAAAAMBq+SBAAAAAwGr5IEAAAADAavkgQAAAAMBq+SBAAAAAQOinLkAAAABA6KcuQAAAAEDopy5AAAAA4Go6NkDsUbieOyEwQGZmZgZ0WnJA6FG4HqfNZEBgj8L1+rBeQAAAAAAAQF5AzMzMzEU5hEDoUbgedcpvQMzMzMwOPHRA4HoUrqEVakCgcD0KEEFkQCCF61F45VVAhOtRuLZTWEAzMzMzLd5LQAAAAKDFBi5AAAAAwDg+HkAAAABgCMceQAAAAMBq+SBAAAAAwGr5IEAAAADAavkgQAAAAMBq+SBAAAAAQOinLkAAAABA6KcuQAAAAEDopy5AAAAA4Go6NkBSuB4FNdwwQChcj0JjvlZAAAAAAEQOY0DiehRuiZaAQOhRuB73cHBAkML1qMLhi0AfhevRKjiJQDQzM7OAlXlAXI/CNc/sfEBQuB4FamtuQOxRuB7GSmVAAHsUrqeiAUAAAAAANCdOQAAAAEDXlSpAAAAAwDg+HkAAAABgCMceQAAAAMBq+SBAAAAAwGr5IEAAAADAavkgQAAAAMBq+SBAAAAAQOinLkAAAABA6KcuQAAAAEDopy5AAAAA4Go6NkC4HoUrLZNCQMzMzOy+rXBA6FG4HrydZ0AghetRfrBfQIDrUbhI02NAgD0K15utQUCAFK5H0SteQIAUrkfdg19AoEfhejhgXUCAwvUofDw3QADNzMwsMBRAsEfheo3ZUkA+CtcDTRBRQAAAAGAIHTRAAAAAQPi+HUAAAACgG9MeQAAAAMBq+SBAAAAAwGr5IEAAAADAavkgQAAAAMBq+SBAAAAAQOinLkAAAABA6KcuQAAAAEDopy5AAAAA4Go6NkAAAADAJGVCQB6F61FrkWpA9Chcj6sQaUC4HoVrl799QAAAAAACD15AUrgeRSLdgkAoXI/CBa9aQDAzMzO4wGJAhetRuOtthUCuR+G6l9V3QAAAAIDKVF5AcD0K164ZRECamZmZdlRAQAAAAEB07ypAAAAAQAinHUAAAABgCMceQAAAAMBq+SBAAAAAwGr5IEAAAADAavkgQAAAAMBq+SBAAAAAQOinLkAAAABA6KcuQAAAAEDopy5AAAAA4Go6NkC4HoXr4ftAQLgeheuR2FBAAAAAACBmGEDC9SicgoNzQIjrUbieMFVAuB6Fa9wWdEBcj8I14UOEQBSuRyHYPnhAPgrXI6XHgUDYo3B9o0WAQLBH4XoGhllAANejcF0CKEBmZmbm28dFQAAAACA8uilAAAAAQB7lHUAAAACgG9MeQAAAAMBq+SBAAAAAwGr5IEAAAADAavkgQAAAAMBq+SBAAAAAQOinLkAAAABA6KcuQAAAAEDopy5AAAAA4Go6NkBmZmamQYFLQAApXI9a+yJAIIXrUYc3cEB4FK5HNYtnQGCPwnXTGnVAKFyPwox4dkBQuB6FsBxyQIDrUbiO41FAAClcj35HXUCAuB6FG90uQAAAAAAAmiJAULgehVOiUUAUrkfhhhlRQAAAACCh5TRAAAAAQB7lHUAAAAAgMPEeQAAAAMBq+SBAAAAAwGr5IEAAAADAavkgQAAAAMBq+SBAAAAAQOinLkAAAABA6KcuQAAAAEDopy5AAAAA4Go6NkC4HoWLv8VTQHwUrsfMRlJAcD0KVy+Gg0AwXI/CYTNZQIAUrkezxWBA+ChcjzdgcUCAR+F6ROo4QABmZmZGRyBAAHsUrmckJEBACtejvhJcQEBcj8KFlj9AAOxRuF4W8j+YmZmZfYM1QAAAAABwOBtAAAAAQB7lHUAAAAAgMPEeQAAAAAB1CCFAAAAAAHUIIUAAAAAAdQghQAAAAAB1CCFAAAAAwPK2LkAAAADA8rYuQAAAAMDyti5AAAAA4O9BNkDNzMzM6MNhQM3MzKxknYFAH4XrkT4VaUCQwvWoeWNlQArXo/Ao4HRAKFyPgghqlkBoZmZmWHBzQEDhehRGVltASOF69FIYk0DsUbgeonF4QNejcH3F6YFAMDMzM5eyUUAghetRbUg4QAAAAACl6xpAAAAAQN4GHUAAAACgG9MeQAAAAMBq+SBAAAAAwGr5IEAAAADAavkgQAAAAMBq+SBAAAAAQOinLkAAAABA6KcuQAAAAEDopy5AAAAA4Go6NkAfheshbyVlQCCF61EmwGVAoHA9CnCbZEAAAAAAJZlgQGCPwvVKDmZA0MzMzO7vZUBACtejWOtbQMT1KFxrtIFAiOtRuO4GaEBI4XpUAyyJQHgUrkfZeFtAexSuxzFrbUDQzMzM8cguQAAAAMBHHC9AAAAAgH3QHEAAAADgHOUeQAAAAAB1CCFAAAAAAHUIIUAAAAAAdQghQAAAAAB1CCFAAAAAwPK2LkAAAADA8rYuQAAAAEDopy5AAAAA4Go6NkCkcD2KIO47QNijcD1rGExApHA9CvYJXkBI4XqUPpyKQHA9CtemWmxAAAAAAFN7ZkBoZmbmiNJ2QOB6FK7E4GtAPArXI9oRc0BI4XoUMFuLQDwK16Ps3mpAmpmZWZ1FbEBwPQp30hdRQAAAAIBIYi1AAAAAgNzmHEAAAADgvc4eQAAAAAB1CCFAAAAAAHUIIUAAAADAavkgQAAAAMBq+SBAAAAAQOinLkAAAABA6KcuQAAAAEDopy5AAAAA4Go6NkD2KFwPDIA5QBSuR6G+7mhAZmZm5rebZ0A+CtejZkJkQMD1KFxQE1BApHA9CsgkbEAeheuR1OF1QChcj0LNVm5AMDMzM8/DVEBxPQpXVbR1QClcj0IrL3RAULgehb0fUEAK16PQpqVgQAAAAMCUbztAAAAAQN4GHUAAAAAACwoeQAAAAMBq+SBAAAAAwGr5IEAAAADAavkgQAAAAMBq+SBAAAAAQOinLkAAAABA6KcuQAAAAEDopy5AAAAA4O9BNkBwPQrXDzYTQFC4HoU7J0ZA4HoUrrPPVEBmZmameiCHQFyPwnX44GZAhutRODaoakBgj8L1bkheQHsUrocSNnVAAAAAAIghaUCG61G4bwtsQOxRuN5qpHRAkML1qDAqVEAM16PwBKwyQAAAAMDMvS9AAAAAgH3QHEAAAADAkUoeQAAAAAB1CCFAAAAAAHUIIUAAAAAAdQghQAAAAAB1CCFAAAAAwPK2LkAAAADA8rYuQAAAAMDyti5AAAAA4O9BNkAK16PwhlQ3QPYoXI8yXF1ASOF6lEJhaEBACtejBktcQLgehevpi4BANDMzs/UqYkA8CtejT0piQGZmZiYis3FAMzMzMxtadUDC9SjcpcF0QBSuR4ElFHBA4KNwPZqyGkCYmZkZWycwQAAAAGDPxC1AAAAAgH3QHEAAAADAkUoeQAAAAAB1CCFAAAAAwGr5IEAAAADAavkgQAAAAMBq+SBAAAAAQOinLkAAAABA6KcuQAAAAEDopy5AAAAA4Go6NkA9CtejjLxlQDQzMzO2KV5AYI/C9bzTOUDA9Shci/VkQAAfheuROhpAhOtROOyXd0CE61E4XGiEQM3MzAwDCI1AMzMzMwXWikAzMzOz/i19QLgeheuLMkRA4HoUrpuRR0D4KFyP91U5QAAAAKBvKjJAAAAAgH3QHEAAAADA/fIdQAAAAMBq+SBAAAAAwGr5IEAAAADAavkgQAAAAMBq+SBAAAAAQOinLkAAAABA6KcuQAAAAEDopy5AAAAA4Go6NkBcj8L1RLtvQCCF61HY/1lAhOtRuNMYYkCgcD0KY+RMQHA9ClcpaXxAoJmZmd9pXEAAhetRILc8QPAoXI8sk1hA16NwPZ99gEC4HoWrDrpyQBSuR+H2p2xACNejcO+hTUCamZkZgptOQAAAAOACFTBAAAAAQN4GHUAAAABAEhEeQAAAAMBq+SBAAAAAwGr5IEAAAADAavkgQAAAAMBq+SBAAAAAQOinLkAAAABA6KcuQAAAAEDopy5AAAAA4Go6NkC4HoXr369yQOxRuJ4QjmRA+Chcj9//bkBA4XoU9mVpQHA9Ctd/OoZAehSuB3f/kkCgR+F61JheQHA9CtcY3HNAFK5H4SkheUC4HoUruiGNQB+F63FpxIVAhetROJpfYUCYmZmZ+ExEQAAAAKClMjBAAAAAQNd7HEAAAADA/fIdQAAAAMBq+SBAAAAAwGr5IEAAAADAavkgQAAAAMBq+SBAAAAAQHW5LkAAAABAdbkuQAAAAEB1uS5AAAAA4DFDNkBwPQrXJ9gAQLgehWuS3GdAGK5H4anSVkCamZmZRZmGQLgehSudQIFA9ihc78nDjkDgehSuAV5hQEAK16O8IEtAxPUo3NYpfkDiehSu+C16QHE9ClcZ9nhAkML1qMV8d0BQuB6F5Tc7QAAAAEBoGTlAAAAAAFLVHEAAAABALTQeQAAAAEACGiFAAAAAQAIaIUAAAABAAhohQAAAAEACGiFAAAAAwH/ILkAAAADAf8guQAAAAMB/yC5AAAAA4DFDNkAK16MQP3lyQPQoXI/G9mZA2KNwPf2kbkCAwvUoJPdfQGBmZmaErWRA0KNwPULeYUBgZmZmEAVjQPAoXI/s8GVAaGZmZmtscUBgj8L1sRRhQAApXI/quTpAoHA9CtOKQUDYo3A9W0IxQAAAAACvUC5AAAAAINISHEAAAABALTQeQAAAAEACGiFAAAAAQAIaIUAAAABAAhohQAAAAEACGiFAAAAAwH/ILkAAAADAf8guQAAAAEB1uS5AAAAA4DFDNkAAAACgAc90QEjhehQH52JAaGZmZlC+YUCAFK5H6e5dQBCuR+EKe2RAAClcj3YgW0AA16NwMTxVQIDrUbiOAUhAAD4K16OmFECAwvUoJG1MQADNzMxMQS5AgB6F69EjFUCAFK5Hnc0wQAAAAKDPlCpAAAAAoFIJG0AAAABALTQeQAAAAEACGiFAAAAAQAIaIUAAAABAAhohQAAAAEACGiFAAAAAwH/ILkAAAADAf8guQAAAAMB/yC5AAAAA4LZKNkB7FK5npVVjQNejcP1I7WJAMzMzM/GidUCgmZmZ0ZExQArXo3DaZXdAeBSuR3zzUkAAAACADQ97QJDC9WiSi4tADNejMBDhiUAoXI/C2pJuQBiuR2Glq29AaGZm5iQrakA0MzMz+vtRQAAAAEAQkzVAAAAAoFIJG0AAAABALTQeQAAAAEACGiFAAAAAQAIaIUAAAABAAhohQAAAAEACGiFAAAAAwH/ILkAAAADAf8guQAAAAMB/yC5AAAAA4LZKNkDgUbgescoXQNijcP1gBnZAYI/C9fW3ZEBwPQpXQvx6QChcj4LxsoVAaGZmJlzPhkBA4XoUboNCQEjhelQlyIpAwB6F60kNOEDA9ShcEU9ZQIbrUbiAindApHA9Csy7aEAwMzMz6UQtQAAAAOD0TzRAAAAAAF/UGUAAAABALTQeQAAAAEACGiFAAAAAQAIaIUAAAABAAhohQAAAAAD4CiFAAAAAQHW5LkAAAABAdbkuQAAAAEB1uS5AAAAA4DFDNkCamZk5LNpgQOxRuJ7pBmBAZmZmpjhWcEAUrkdhnxxhQKRwPcq0e5hAzczMzGuek0BmZmbmoZiEQIAehesxMBBAgOtRuK7hR0DsUbheWJmKQNCjcD2oS0ZAPArXo0GRVEDA9Sjcb2xMQAAAAAAFXj1AAAAA4LbpGUAAAADAGBYeQAAAAAD4CiFAAAAAAPgKIUAAAAAA+AohQAAAAAD4CiFAAAAAQHW5LkAAAABAdbkuQAAAAEB1uS5AAAAA4DFDNkA0MzPz7SZvQJDC9Sh2fmdAEK5H4YRoV0BI4XrU7qqGQGhmZma9FHZASOF6FDewfUBmZmamt8WLQJqZmZn6XJRADNej8HYchkCF61F4OwSNQFC4HoUNa0RA7FG4nhqxcUAI16NwpZUxQAAAAMBWNz1AAAAA4LbpGUAAAADAGBYeQAAAAAD4CiFAAAAAAPgKIUAAAAAA+AohQAAAAAD4CiFAAAAAQHW5LkAAAABAdbkuQAAAAEB1uS5AAAAA4DFDNkBSuB6Fpb1aQIbrUfgpwHlApHA9CkiVd0AUrkdhcmtzQNijcD32+YBAKFyPQlpUc0B8FK7HLWZ9QAAAAABo6DBAIIXrUXWlZEA0MzMzvsdzQPYoXI8aIX9AFK5H4aBNb0DgehSuD5xTQAAAAICWp0pAAAAA4LbpGUAAAADAGBYeQAAAAAD4CiFAAAAAAPgKIUAAAAAA+AohQAAAAAD4CiFAAAAAQHW5LkAAAABAdbkuQAAAAEB1uS5AAAAA4DFDNkC4HoXrdIpiQDQzMzMqbGBAaGZm5mnycEBACtej2iVcQKBwPQrFO2hAxPUo3HuHgkCgcD0KQR1zQJDC9Sgiy2lAzMzMDE9rhUCQwvXosaWIQGZmZuY3rWRAcD0K138LckCuR+H6fsZQQAAAAKCx0TpAAAAAAAC+GUAAAABALTQeQAAAAEACGiFAAAAAQAIaIUAAAABAAhohQAAAAEACGiFAAAAAwH/ILkAAAADAf8guQAAAAMB/yC5ASOF61BvdIUAAAADAWFFwQK5H4XrNFWRAEK5H4XaDMEDsUbhekqd4QBSuR+E6JWhA16NwPa5/c0AAuB6Fa/z+P7BH4frBemFAkML1aB1veEApXI+CceOBQFC4HsWmAn5AcT0KF2WRcUAgheuRKK9YQAAAAIAadktAAAAA4DpEGUAAAABALTQeQAAAAEACGiFAAAAAQAIaIUAAAABAAhohQAAAAAD4CiFAAAAAQHW5LkAAAABAdbkuQAAAAEB1uS5AoHA9Cma9CEA0MzOTVBJwQMD1KFwIW2FAoHA9CiI3a0AghetRghNnQKBwPQriM3VAAAAAAML9akBgZmZmKIxtQPAoXI9siGdAoJmZmTFOYUCwR+F6BCxgQAAK16NwvQ5AgML1KPQIOUDgehSuugtPQAAAAACoF0tAAAAAAPa0NkAAAADAdgofQAAAAGDD0x5AAAAAAPgKIUAAAAAA+AohQAAAAAD4CiFAAAAAQOinLkAAAABA6KcuQAAAAEDopy5ANDMzs4dJGED2KFxvs11wQIAUrkeBZUpAQOF6FALiXUCwR+F6IlFrQFC4HoWn9YNA8FG4Hp8uZkCYmZmZz+V5QAAAAMC7jYVAkML1KCLcYkCQwvUoVxpvQOCjcD2eMUNAehSuR2/gckBwPQrXc0k+QAAAAMA50kBAAAAAQNobOUAAAACgXOceQAAAAOC9zh5AAAAAAHUIIUAAAAAAdQghQAAAAAB1CCFAAAAAwPK2LkAAAABA6KcuQAAAAEDopy5AhetRmIm/M0AAAACgPT1jQFC4HoX3tXRAAAAAwIiZmECkcD0KlNRzQHsUrof8oINArkfh+qeygEBoZmZmh1ZkQAAAAAAqLFxAUrgehceokEC4HoVr4e12QAAAAAAx9HxA2KNwPZHcb0BwPQrXPSg2QAAAAECyOExAAAAAgDIpNkAAAACgXOceQAAAAOC9zh5AAAAAAHUIIUAAAAAAdQghQAAAAMBq+SBAAAAAQOinLkAAAABA6KcuQAAAAEDopy5AxPUonLnNLECuR+H6VbtwQOB6FK6ft15AENejcHndXUDA9ShcXRlmQKCZmZnJuW5AcD0K12+VZkCQwvUo9KhlQBCuR+EOO2JAwB6F6/1fWkCA61G4EnVfQICPwvVILyhAgJmZmRnpLUAwXI/Cxd4/QAAAAADYiUtAAAAAAJVTNUAAAACgXOceQAAAAOC9zh5AAAAAwGr5IEAAAADAavkgQAAAAMBq+SBAAAAAQOinLkAAAABA6KcuQAAAAEDopy5A4noUztwmOUC4HoUrH5FwQBiuR+G6mGBA8Chcj5yEVkDgehSuC9lTQACamZm5AyFAwPUoXBMSdEAAAAAASiN1QAAAAACIxE1AAAAAAI48Z0CgcD0Kt+9pQLBH4XpoF1VAULgehS0PQkB7FK5HWtdgQAAAAMBkC0BAAAAAAD6qNUAAAACgXOceQAAAAOC9zh5AAAAAAHUIIUAAAAAAdQghQAAAAAB1CCFAAAAAwPK2LkAAAADA8rYuQAAAAMDyti5AmpmZqaFYS0DoUbie9XpUQGCPwvXgkVJAFK5H4dPTeEDgehSuvSNrQMAehethFmxAoHA9CukHY0C4HoXrrQaEQDBcj8Ibim5AGK5H4XNXcEAA16NwTZJRQAAAAAB2n3FAsEfhepZ3SUBmZmam+Q1vQAAAAECWrDZAAAAAAD6qNUAAAADACCAmQAAAAOC9zh5AAAAAAHUIIUAAAAAAdQghQAAAAAB1CCFAAAAAwPK2LkAAAADA8rYuQAAAAMDyti5AzMzM3NQrRkC4HoULtiV0QB6F61HQ9G1Aj8L16MBwakAAUrgehW0BQGhmZuY/mG9AZmZmZkiueUBI4XrUskFzQBSuRyFtbXFAFK5HoUSSc0CkcD3Kla98QHoUrgehPGJAYI/C9dKYMkDYo3C9ir5LQAAAAABzbEJAAAAAgJOnNUAAAACgXOceQAAAAOC9zh5AAAAAAHUIIUAAAADAavkgQAAAAMBq+SBAAAAAQOinLkAAAABA6KcuQAAAAEDopy5AAAAA4Go6NkDYo3B9FwlVQLgehcstUHhAAAAAADxkREBI4XpUV/SAQDBcj8L7x25AQOF6FPJYYkAoXI9CMRV4QDQzM7M1/YBA4HoUruRgc0AA7FG4/vcZQAApXI8OVEJAULgeBSLbZEDE9ShcPWFTQB+F61HrYklAAAAAwJ48NEAAAABATVweQAAAAOC9zh5AAAAAAHUIIUAAAAAAdQghQAAAAMBq+SBAAAAAQOinLkAAAABA6KcuQAAAAEDopy5AH4XrmR1QWkDsUbgenAVmQJDC9SierGtA4HoUrsLsZUBQuB6F7+BwQDAzMzOphXdAiOtRuPK0dUBwPQrXWTV5QOhRuB7L83VAoHA9Cpo6cUDQzMzMRH1iQCCF61Fk8EhAMFyPwoXhXUCwR+F6KoIyQLgehSulgEVAAAAAwFaJKUAAAABATVweQAAAAOAc5R5AAAAAAHUIIUAAAAAAdQghQAAAAAB1CCFAAAAAwPK2LkAAAADA8rYuQAAAAEDopy5ASOF6XBO5XUA8Ctcj5QxgQIjrUbgMvGdAoHA9CmtPY0DQo3A9vN9uQEAK16NR/HRAwPUoXIxfckCI61G4uCt1QHgUrkfOUHFAMFyPwt8mbkCgcD0KHLhwQECPwvXQJTlAIIXrUQzSQkBgZmZmSPYwQK5H4fpFvDxAAAAAwEfFJUAAAABATVweQAAAACAw8R5AAAAAAHUIIUAAAAAAdQghQAAAAAB1CCFAAAAAwPK2LkAAAADA8rYuQAAAAMDyti5AehSuT2V6XUAAAAAAeuNjQLBH4XpcNWhAkML1KD4FaUCQwvUo7K1vQCCF61FsDXBA4HoUrmM2b0AghetRDCNpQPBRuB63rWNAQDMzM7vmVUAAAAAAfOtcQPgoXI8A6WlAoHA9Cmf8P0CgcD0KXndHQClcj8LlXEtAAAAAQCrJJ0AAAABATVweQAAAAOC9zh5AAAAAAHUIIUAAAAAAdQghQAAAAAB1CCFAAAAAwPK2LkAAAADA8rYuQAAAAMDyti5A4noUtsuwW0CwR+H6CdVXQNDMzMzQQl5AQArXo+RlVEBACtejLhJoQJiZmZmrcHNAMDMzM/dGbUDYo3A9UO53QBSuR+EJJnBA6FG4Hg53c0DA9ShcK8tMQLBH4Xr122RAmJmZmUoHXEAehevRkZ5fQLgehWsqXjpAAAAA4DjtKUAAAABATVweQAAAAOC9zh5AAAAAAHUIIUAAAAAAdQghQAAAAAB1CCFAAAAAwPK2LkAAAADA8rYuQAAAAMDyti5ArkfhftZ1YECE61G4TihWQJDC9ajMa35ASOF6FLmVY0BwPQrX9ThrQHA9Ctf/7WtAMDMzMwkOakDAo3A9EidHQHA9CtcChXtAgML1KGBGV0DgehSuEyBbQDBcj8JjJ1VAAK5H4RqPOEAACtejcCIWQPYoXE9E1kNAAAAAgH+KJ0AAAABATVweQAAAACAw8R5AAAAAAHUIIUAAAAAAdQghQAAAAAB1CCFAAAAAwPK2LkAAAADA8rYuQAAAAMDyti5AUrgeia2pYEA8CtejxJVjQHgUrkfQamVAoHA9ClxVY0BACtejvqZpQIDrUbhmYG5AwB6F6+V5akBA4XoUMP1jQPBRuB415GtAQArXoyCUZ0AwXI/CR+pcQChcj0I/wHZA4XoULsgQj0BxPQqXcjRgQIDrUbjSKAVAAAAAYFbpJ0AAAAAAXUQeQAAAACAw8R5AAAAAAHUIIUAAAAAAdQghQAAAAAB1CCFAAAAAwPK2LkAAAADA8rYuQAAAAEDopy5ArkfhHseGZEDYo3A9i3RRQOxRuB5Il2tAzMzMTG2kf0CE61E496x+QNijcH0gGIVAUrgeBSLxmkCkcD0KR+qJQOB6FK6IHWpA4XoULkzSf0BmZmZmo4Z5QEjhepQ05nlAzMzMTAfYaUDA9SjczNteQClcj0LNbEVAAAAAYGBIKkAAAABATVweQAAAACAw8R5AAAAAAHUIIUAAAAAAdQghQAAAAAB1CCFAAAAAwPK2LkAAAADA8rYuQAAAAMDyti5ApHA9DpkTY0AUrkdh9jFiQAAAAAB8hWJAxPUo3MSmfEAAAAAAq9qPQKRwPcqcRoVAoJmZmaXIQECPwvVoHUCAQLgehasv7ZlAuB6Fa1gxcECuR+G63M6GQDQzM7NibnZAsEfhekD3ZUDC9Sg8jxFxQEAK16P02gVAAAAAYMn0KkAAAADggNolQAAAAOAc5R5AAAAAAHUIIUAAAAAAdQghQAAAAAB1CCFAAAAAwPK2LkAAAADA8rYuQAAAAMDyti5AKVyPouXqM0BSuB7lZShjQAAAAIB3HWlAgBSuRwmGSUAehesR385wQEjhehRwZlpAKVyPQqRmhEDA9ShctWNbQLgehWv6PXZAwvUo3EighEAAUrgetX8hQITrUTgjy3pA4HoUrs3EUEDsUbgeaMBaQGCPwvXcrBxAAAAAgGBYKUAAAABATVweQAAAACAw8R5AAAAAAHUIIUAAAAAAdQghQAAAAAB1CCFAAAAAwPK2LkAAAABA6KcuQAAAAEDopy5A7FG4wjekYkDsUbgeux5rQITrUbjLF29AaGZm5gMbe0DYo3C9Yi+BQHwUrseAYIBA6FG4HogXd0DYo3A9rqt2QPgoXI8qq3dA4HoUriv2ckBgj8L1XNRnQGCPwvVhRmRAABSuRyHmBUBgZmZmMDJNQJiZmZmRJTdAAAAAQDHlKkAAAABAHuUdQAAAACAw8R5AAAAAAHUIIUAAAAAAdQghQAAAAAB1CCFAAAAAQOinLkAAAABA6KcuQAAAAEDopy5AMzMz1+VrZkCwR+H6IOJnQLBH4Xrr3mBAEK5H4dHrZEC4HoXrByaCQNijcD3MgGVA2KNwPYPde0CkcD3KgwSJQPQoXA9QW4JA4HoUrtSGdEAoXI9CPQFwQLBH4fpVvHNAAAAAAEQmOUCkcD0KN05pQEjhehR3okVAAAAAAJLQK0AAAABAHuUdQAAAACAw8R5AAAAAAHUIIUAAAAAAdQghQAAAAAB1CCFAAAAAwPK2LkAAAABA6KcuQAAAAEDopy5A7FG43lpgIUBwPQoXS89yQKRwPQrGMXFAEK5H4XBzbkDAzMzM+LxSQIDrUbhyOGZAQDMzM6sSREBA4XoU1fxlQNDMzMzqilhAsEfhej4tZ0Bcj8J1kQByQHA9CtdrvVRAIIXr0eyvc0BI4XqUb5RaQOF6FO5PC11AAAAAwN60NEAAAABAHuUdQAAAAOC9zh5AAAAAAHUIIUAAAAAAdQghQAAAAAB1CCFAAAAAwH/ILkAAAADAf8guQAAAAMB/yC5AhetRmNUPMkDNzMzMdNZlQKBwPQr1/TBA16NwPTJKdkDMzMzMxX9/QMP1KBw5L4NAaGZmZlJdZ0D0KFyP8W1/QGhmZiaLyoZAkML1aFt+hkCQwvWovUOEQGCPwvWkPUZAgBSuRy2aVECwR+F6XGBLQAzXo3C2PT9AAAAAwEHtLEAAAABA+CkdQAAAAEBKFB9AAAAAQAIaIUAAAABAAhohQAAAAEACGiFAAAAAwH/ILkAAAADAf8guQAAAAMB/yC5Aw/UoHP1XJ0CF61G4Q/hlQFK4HsUp04FAhOtRuEg2fEAghetR0upnQAAAAABgSzRAaGZmZjS4gEBQuB6FyaV0QAAAAECqmIVAoHA9CltoVEAANDMzc+EBQEDhehSeaT9AIIXrUb+ZXEBgZmZmCCkwQHA9ClenwklAAAAAwGacK0AAAABA+CkdQAAAAEBKFB9AAAAAQAIaIUAAAABAAhohQAAAAEACGiFAAAAAwH/ILkAAAADAf8guQAAAAMB/yC5AhutR2Ge6PUBgj8L1GRxEQFK4HiWAgoJA4HoUrnvlUEC4HoVrul5+QOBRuB515FpAULgehcyveUAwMzMzEIB/QAAAAABQwWdA7FG43h5JhECA61G4dO1bQHA9CtevO19AsEfhemAjU0DYo3A9GvBhQFyPwvWDaThAAAAA4EBiLEAAAABA+CkdQAAAAEBKFB9AAAAAQAIaIUAAAABAAhohQAAAAEACGiFAAAAAwH/ILkAAAADAf8guQAAAAMB/yC5AoHA9CiBODECF61E40JdpQJqZmdkiv2BAULgeheVSZ0CG61G4UCyHQAjXo/DDIHlAhOtRuELndEBwPQqXWpOMQBSuR+EDNHlAzMzMTP/gfkCQwvXIXlWEQKRwPQrfQHtAoHA9Cp/BN0CkcD2KM+JYQAAUrkfhVMI/AAAAQIfWK0AAAACAl/McQAAAAAA3CB9AAAAAQAIaIUAAAABAAhohQAAAAEACGiFAAAAAwH/ILkAAAADAf8guQAAAAMB/yC5AuB6Fq7/NL0CuR+F68uBgQCCF61F6nmNA2KNwPaS6W0CA61G4YuJMQBCuR+FS615AKVyPQrNMgEAUrkfhSFl3QDQzM7MdUnhA6FG4HnfAZEA8CtdjklmIQKBwPQqhXFZAiOtROG7JaUB4FK5HHGJUQACkcD1qFu4/AAAAgNwyIEAAAABA+CkdQAAAAEBKFB9AAAAAQAIaIUAAAABAAhohQAAAAEACGiFAAAAAwH/ILkAAAADAf8guQAAAAMB/yC5Aj8L1TAUGZUBSuB7FHNZwQGhmZmZOJ2NAiOtRuAnzY0DAHoXrVWxnQPBRuB7XT21AKFyPwmMhe0AghetRBeR4QADXo3DFS11AANejcLmpS0CE61G4kYZ1QAAAAIAfOHNAYI/C9R//YEAghetRLL1IQAB7FK5HHeE/AAAAgNwyIEAAAABA+CkdQAAAAMCsbR5AAAAAQAIaIUAAAABAAhohQAAAAEACGiFAAAAAwH/ILkAAAADAf8guQAAAAEB1uS5Aj8L17PXGakBQuB6F33dmQJiZmZlq0mBAwB6F64P+Z0BQuB6FwjRwQPgoXI/QjHFAAAAAABamcUDA9ShcCBN1QGCPwvVuHHNASOF6FJGVcUAgXI/CjZRcQIA9CtfTyCBAgBSuRykhRkDgo3A94lk9QIAUrkdXNCRAAAAAwGbfLkAAAABA+CkdQAAAAMCsbR5AAAAAQAIaIUAAAABAAhohQAAAAEACGiFAAAAAwH/ILkAAAABAdbkuQAAAAEB1uS5AcT0Kmz1IZkCE61G4+8BtQEAK16NLY2lAENejcLvDZ0CwR+F6rDpoQEDhehRK+WpAkML1KMyua0D4KFyP1CFwQPBRuB5NDG9A0KNwPSCwaEAAKVyPGlFTQKBH4Xrw10VAANejcD3BEUCAFK5HucpEQOCjcD02+BRAAAAAQF8oIkAAAABA+CkdQAAAAMCsbR5AAAAAQAIaIUAAAABAAhohQAAAAEACGiFAAAAAwH/ILkAAAADAf8guQAAAAMB/yC5A9ihcs2usZ0AghetROaNuQJiZmZnPTWRAMFyPwoHpU0DA9Shci7VeQHA9Ctdhg2lA8Chcj3zgYkDAHoXr6TlmQJDC9Shwv2RAoEfhegTnXUAwMzMz191iQOBRuB4B4kFAAFK4HvUvLEAArkfhWl0iQIDC9ShoRhJAAAAAIIWeIUAAAABA+CkdQAAAAMCsbR5AAAAAQAIaIUAAAABAAhohQAAAAEACGiFAAAAAwH/ILkAAAADAf8guQAAAAMB/yC5AKVyP5p4vaUC4HoXr0fFjQK5H4RpfDIFAULgehbhtZUDE9ShcCd90QAAAAMCDP45AcD0K1+ohc0AI16NwDO55QOB6FK6tNHdAwPUoXDc9ckAAAAAAIPMQQJiZmZnda3ZAAAAAAEYTbEDgehSu+yZaQAAAAACE5z5AAAAAQCm0LkAAAABA+CkdQAAAAMCsbR5AAAAAQAIaIUAAAABAAhohQAAAAEACGiFAAAAAwH/ILkAAAADAf8guQAAAAMB/yC5A7FG4znxcbUBgj8L12oNTQMAeheuVq1NAAIXrUQA7SUAwXI/CGR1jQBDXo3Ar+WxA0KNwPca1a0CQwvUorihvQJDC9ShwX2pAoHA9CqPpY0CQwvUoIqFiQMCjcD1CRzBAAB+F6/GpHkBgZmZmFsVDQHA9CtfhfTNAAAAAQO5MJUAAAABA+CkdQAAAAMCsbR5AAAAAQAIaIUAAAABAAhohQAAAAEACGiFAAAAAwH/ILkAAAADAf8guQAAAAMB/yC5AAAAAANGWaED4KFyPS99TQBCuR+HYV1NAAIXrURipREAA16NwPRdDQOCjcD1Gu15AhOtRuGNWgkAAexSuB8o/QJDC9SjZDHdA8FG4HuWgaUAwMzMzk2JxQMDMzMzsQDxAehSux0udfkAM16Mw7q1nQFyPwvU0S0FAAAAAAPvvI0AAAABA+CkdQAAAAEAtNB5AAAAAQAIaIUAAAABAAhohQAAAAEACGiFAAAAAwPK2LkAAAADA8rYuQAAAAMDyti5AhutReBfiYEDC9Sg8OVyCQKCZmZnL4jVACtejcOgog0DgehTuZ6ONQNijcL3fx4JAAAAAAONgeUDQzMzMS7NzQPgoXI9rBnJAYI/C9aKwbEDAzMzM8NFYQEC4HoUDAjlAwPUoXE8KMkCAR+F6BB8cQKBwPQqeVzBAAAAAQG/uI0AAAABA3gYdQAAAAEASER5AAAAAAHUIIUAAAAAAdQghQAAAAAB1CCFAAAAAwPK2LkAAAADA8rYuQAAAAMDyti5ASOF61ALQZEDsUbge/zVfQGCPwvW3U1JAwB6F6/eUWECF61G4dlKGQOxRuN6RLI5AKFyPgjFbjkB8FK7HLfuIQMD1KFxBuGJAULgehVZthkAghetRxmVvQNCjcD0wHVZAgBSuR/2sT0AgXI/C6cg3QGCPwvXGtSVAAAAAIKv0JUAAAABA3gYdQAAAAEASER5AAAAAAHUIIUAAAAAAdQghQAAAAAB1CCFAAAAAwPK2LkAAAADA8rYuQAAAAMDyti5ADNej8JMpWED0KFyP6zhtQChcj8JZgGpA8Chcj9R9ZEBQuB6FPW5rQJDC9SjQuGVAoHA9CtchbkBQuB6FK3h2QNCjcD2q+GRAIIXrUXoKcEBAMzMzD/1aQEAzMzNDnDJAwPUoXC8TQECAwvUoTLgsQKRwPYoJHkFAAAAAAFwiMUAAAABANPwcQAAAAEASER5AAAAAAHUIIUAAAAAAdQghQAAAAAB1CCFAAAAAwPK2LkAAAADA8rYuQAAAAMDyti5AFK5HISa8YUBACtejuZFeQBDXo3BdK1JAQDMzM5twUUCgR+F66FJeQHA9CtdjDWZAgOtRuJxzY0CgcD0KDwxmQPAoXI9uQGhA8ChcjwwiYkBAXI/CddJFQIDrUbiO4CRAgBSuRwlrQUBoZmZmkztQQHA9CteTfyhAAAAAwMraL0AAAABA3gYdQAAAAEASER5AAAAAAHUIIUAAAAAAdQghQAAAAAB1CCFAAAAAwPK2LkAAAADA8rYuQAAAAMDyti5AsEfhesGMTkAAAACAg3pqQNijcD1s+mNAYI/C9dwdYECwR+F6ogtjQIAUrkcX52NA8FG4HgX/ZkBA4XoUXEFrQJDC9SiMimxAoJmZmXsfZUAA16NwjZxCQOhRuB6NUG1AAKBwPQrH3j+gcD0KORRRQK5H4bqSnl5AAAAAgLdnL0AAAABA3gYdQAAAAACg7h1AAAAAAHUIIUAAAAAAdQghQAAAAAB1CCFAAAAAwPK2LkAAAADA8rYuQAAAAMDyti5AKFyPQkyYUkDsUbjel09+QBSuR2G6l4BAAAAAYJiclkBwPQqXG2mNQEDhehT07VdA+Chcj1pRYUCwR+F64gxlQIAUrkehYy9AUrgeBVCEiUBwPQpX28aHQEjhelQb2nlAIIXrUUNGW0BACtej4jhCQArXozCFzldAAAAAgOnBLkAAAABA3gYdQAAAAACg7h1AAAAAAHUIIUAAAAAAdQghQAAAAAB1CCFAAAAAwPK2LkAAAADA8rYuQAAAAMDyti5AUrgeBZsJZUBSuB6FrgRuQDQzMzNpN3xANDMzs2UnfEDA9ShcyDB3QAjXo/BQeHtAfBSuRwj/iEDQo3A9AhVkQPgoXI/STHBAcD0K1+GvbkAghetRwDxpQKBwPQppBGJAEK5H4UAPTUDwKFyP5oA3QFyPwvX9lUNAAAAAIGC3M0AAAABA3gYdQAAAAEASER5AAAAAAHUIIUAAAAAAdQghQAAAAAB1CCFAAAAAwPK2LkAAAADA8rYuQAAAAMDyti5AsEfhehwzKkBI4XoURVRYQFyPwvU5dGJAsEfhej8peUDQzMxMJI18QEAK16MI/GdA8Chcjx5jbECAFK5HuW1HQHoUrkfriYhAYI/CdT39dUAYrkfhBJ14QCCF61FwLkJAAAAAQG1jdUC4HoXr25tIQB+F61FKP1FAAAAAIGxmMEAAAAAgYvobQAAAAEASER5AAAAAAHUIIUAAAAAAdQghQAAAAAB1CCFAAAAAwPK2LkAAAADA8rYuQAAAAMDyti5ASOF6FE9YUEBQuB6FqXNnQGhmZmaLsWBAAAAAALJzXEAghetR7rdiQCCF61GfVHtAUrgeZZYxkkBoZmZmIYF5QOB6FK5B7HFAIIXrURhlW0BACtejVlBjQAD2KFxv7S1AgOtRuALGTEDwKFyPLtlNQAApXI8eVBtAAAAA4CkpNEAAAAAgYvobQAAAAEASER5AAAAAAHUIIUAAAAAAdQghQAAAAAB1CCFAAAAAwPK2LkAAAADA8rYuQAAAAMDyti5AFK5HYdN+TkC4HoXr605vQGCPwvW5h2tAwPUoXHfsXkCgcD0KnNFtQDwK16PpBotAKFyPwugQikCQwvVoRTSBQB6F67HFkJBAQArXo5iUfED0KFyPw35yQDwK1yMACnxAADMzM0OpLUBguB6FzwQ/QAAAAAD/EkdAAAAAQGcvN0AAAABAbYobQAAAAEASER5AAAAAAHUIIUAAAAAAdQghQAAAAAB1CCFAAAAAwPK2LkAAAADA8rYuQAAAAMDyti5A9ihcL10yYUA8Ctej0h9gQJDC9SjA0l1AgGZmZir+TkDA9Shcc45eQEAK16PSq2NA0KNwPcjTYEAAUrgeBUtFQADXo3Ct6khAAHsUrpd8RkBgj8L17/xiQNDMzMwkOWxAQOF6FO7KR0DgehSu8CJYQHA9CldgOUlAAAAAQNtcN0AAAABAbYobQAAAAEASER5AAAAAAHUIIUAAAAAAdQghQAAAAAB1CCFAAAAAwPK2LkAAAADA8rYuQAAAAMDyti5AuB6Fq1ycXEAoXI/C0NNhQMD1KFxtEWBAQOF6FBYFVECgcD0KffpiQAAAAGDvCqVA9Chcj/ltgUDgehSus75wQKBwPYq50HhA9ChczzeMiEBwPQrXAYV5QMAeheuF709A4FG4HpFNQUBAXI/CJbknQMT1KFx9Z0dAAAAAQAOmNEAAAABAbYobQAAAAEASER5AAAAAAHUIIUAAAAAAdQghQAAAAAB1CCFAAAAAwPK2LkAAAADA8rYuQHA9CtduTARAYI/C9WRGJUBgj8L1DbdSQDQzM7OYG3NA0MzMzHAnV0Dgo3A91kRUQBSuR2F8M4NAQArXoyQ2ZUAUrkfhD5V+QMT1KJyBAIJAAAAAgLmbhUAoXI9CcZGHQHoUrsc+YIBAGK5H4XhmUkD0KFwPFXtvQDAzM7MqnkdAAAAAgN4OMEAAAABAbYobQAAAAEASER5AAAAAAHUIIUAAAAAAdQghQAAAAAB1CCFAAAAAwPK2LkAAAADA8rYuQAAAAMDyti5A7FG43iZ0WUAM16PwY6xjQLgehcug45FADNej8HNjb0D0KFwPgNN0QGCPwvVLwGVAPgrXY5/sikDAzMzMTA1BQHA9Cvd6IZRAIIXrEYQnhEAAAAAA1gtwQK5H4XqMBXpAHoXrUQvrg0AAMzMzE6ASQI/C9SjnJFtAAAAAwDN9LEAAAACgeXUaQAAAAEASER5AAAAAAHUIIUAAAAAAdQghQAAAAAB1CCFAAAAAwPK2LkAAAADA8rYuQAAAAMDyti5AgBSuR8XwFkA0MzMzLn9SQNijcJ0hSoNAAD4K12OBAkB4FK7HqBd1QHA9Cteyi4BAMzMzszsin0AAAAAAqjR7QDQzM7Muw39AmpmZmdggj0AoXI8CrpWTQEjhepQ3do5AehSux/iebEDYo3A9H8ZRQOxRuB7MY0NAAAAAYBJ2NkAAAACgeXUaQAAAAEASER5AAAAAAHUIIUAAAAAAdQghQAAAAAB1CCFAAAAAwPK2LkAAAADA8rYuQAAAAMDyti5APQrX485EX0Bcj8L1XrR2QOxRuJ6y02BAmpmZGaqtZ0BI4Xp00Z6CQFyPwrW4II9AcD0K1z29SkAoXI/CO39yQIbrUbjW0XVA2KNwPefwgkDYo3C9dnqHQDwK16MMLXVAzMzMTBzfYEA+Ctdj01t7QB+F61FSAFBAAAAAgNjbLkAAAADAgYg3QAAAAABxZh5AAAAA4L3OHkAAAAAAdQghQAAAAAB1CCFAAAAAwPK2LkAAAADA8rYuQAAAAMDyti5AexSuZ5CmZ0DC9Sic/vVrQJiZmRl7eldAYI/C9UVvW0DAo3A94pU5QBCuR+H4jV9Aj8L1SJEjk0A8CtfjsPp6QOF6FM6FsZBAFK5HMRlXiUD2KFxPA6qHQOB6FK7J+X5AuB6F64ZHZkAUrkdhHrxoQHA9Ctdcq1NAAAAAAIoVNUAAAABACfszQAAAAEDjiB5AAAAA4L3OHkAAAAAAdQghQAAAAAB1CCFAAAAAwPK2LkAAAADA8rYuQAAAAMDyti5AsEfhOra2UUA8CtejdCNoQNijcD3xZWVAgML1KGSfOEAAFK5Hwd4pQEAK16NOw2RAoJmZmTF8Y0CE61E4rdKCQADXo3BVY1JAMFyPwq1fbEDgehSuPzx0QEAK16MUzVVAcD0KV2JsdUBACtejzllOQIXrUThyx1xAAAAAwP6HMUAAAAAA3wE7QAAAAABxZh5AAAAA4L3OHkAAAAAAdQghQAAAAAB1CCFAAAAAwPK2LkAAAADA8rYuQAAAAMDyti5AcT0KN8L7ZECamZnZCNVnQD0K1+NBWmdAzMzMTD7mc0C4HoUrRS6DQDQzM7OU73hAfBSuR5rlZ0AQ16NweW1UQBSuR6Gsq4hAxPUo3F+XgkCAFK5HoYkpQDwK1yOeQ3RAgD0K10dXQ0AAAAAAs2VeQGCPwvXrMDJAAAAAoGf+NEAAAAAA3wE7QAAAAEDjiB5AAAAA4L3OHkAAAAAAdQghQAAAAAB1CCFAAAAAwH/ILkAAAADAf8guQAAAAMB/yC5ACtejkHRuYUDNzMzMcIFwQOxRuL6b0XxAehSuxyr0d0B7FK7n69ORQOxRuN4ibXtASOF6lHnOc0DiehQueXJiQOJ6FA7GjI5ANDMz88rqhEBA4XoUaK9WQPQoXA+XrH9AQFyPwtVOP0AwMzMzOfdAQPQoXA92ckdAAAAA4OKfM0AAAACApQo7QAAAAED9qx5AAAAA4NfxHkAAAABAAhohQAAAAEACGiFAAAAAwH/ILkAAAADAf8guQAAAAMB/yC5AkML1CCWzYEBmZmbmi7ZzQFyPwjVn43FAkML1qN+xfkDMzMyMKquAQHA9Cteza2dAoHA9Ct99YUBI4XqUB7yEQPQoXI+8w4FAAAAAAFSaVUCgmZmZXb9RQCCF61GdCmhAaGZmZhmVUkCG61FY3iFxQHwUrkf3nEJAAAAAoEbKM0AAAACApQo7QAAAAMAmgB9AAAAA4NfxHkAAAABAAhohQAAAAEACGiFAAAAAwH/ILkAAAADAf8guQAAAAMB/yC5AgD0K1xNV8z98FK5HEqpUQITrUXhV0HFA0MzMzKYFY0A0MzPzUQ+DQPQoXA+OBXJA0MzMzE6Id0DMzMxMj3aJQACkcD2qWjxAxPUo3OdQgEAghetRlrJpQAAAhetRWLI/wPUoXN9MT0CuR+F6TeJiQGC4HoVHJR5AAAAAYKimNUAAAACApQo7QAAAAMAmgB9AAAAA4NfxHkAAAABAAhohQAAAAEACGiFAAAAAwH/ILkAAAADAf8guQAAAAMB/yC5AgML1KCAfEEBI4XqUVMN8QD4K10OOL3BAkML1yMgVcUAK16PwyCRrQArXozBVnGFA4XoUruLgdEAUrkeh6p1yQHsUrgfHn3JAUrgeRbNIa0Bcj8I1UH9vQKRwPYogzWJAcD0Kt7FCcUApXI9CeVljQKRwPYoiDzdAAAAAgJ4JMkAAAABAysc4QAAAAIC0XR9AAAAA4NfxHkAAAABAAhohQAAAAEACGiFAAAAAwH/ILkAAAADAf8guQNejcP2JnyJA8FG4Hm3PLkBgj8L1MjBDQDwK1yNpLnVAeBSuRzOOZEBgZmZmvoNWQOB6FK5nR4BASOF6FMcrgEBwPQrX9ghyQNCjcD3GVm1AQArXoxR1ZkDgo3A9TlpZQDAzMzNzKlVAgML1KGQoOUD4KFyPMElVQJDC9SgD9UFAAAAAwDK8NEAAAADAH8U4QAAAAMAmgB9AAAAA4NfxHkAAAABAAhohQAAAAEACGiFAAAAAwH/ILkAAAADAf8guQAAAAMB/yC5AZmZmpi4PZUBcj8I1y1FlQLgehesD1EdAXI/CNY1+gUB8FK5HvnB0QHgUrkeubnhApHA9irjlhkAghetR7FlUQFC4HgU1qXNAKFyPwrerd0AAXI/C9RgqQBSuR2FmQHNAzMzMjM7jeEDQzMzMWEVTQOhRuB6bFU9AAAAAQN0pN0AAAAAA+wc7QAAAAMAmgB9AAAAA4NfxHkAAAABAAhohQAAAAEACGiFAAAAAwH/ILkAAAADAf8guQAAAAMB/yC5A16NwfdJ/YkB4FK5H0iZGQChcj0KUUYpAeBSuR2xDYEBQuB6FTR9hQKCZmZmBelpAgOtRuJhkYkAAKVyPGttdQCCuR+ESb15AQArXo7hDY0C4HoVrsCydQHE9CvcHpIlAfBSux/HdUUCPwvXo4hdxQBSuRxH1wWJAAAAAwN9eN0AAAADALh9BQAAAAMAmgB9AAAAA4NfxHkAAAABAAhohQAAAAEACGiFAAAAAwH/ILkAAAADAf8guQAAAAMB/yC5APArXY60BXkBoZmbmyJ5hQIDC9SjA2UpAgD0K1yvZRkBA4XoUdpFJQOB6FK57W2NA8Chcj6xsUkAghetRUht6QMzMzExLi5BAkML1KFLvhUDiehSu3lCTQB6F69Fa65FAMDMzs2LCbUDYo3A91ZtmQBiuR+F/fDVAAAAAYMsvNUAAAABAysc4QAAAAMAmgB9AAAAA4NfxHkAAAABAAhohQAAAAEACGiFAAAAAwH/ILkAAAADAf8guQAAAAMB/yC5APQrXg/ebZEBI4Xp0dhZ0QChcj0L86HZANDMzMz1BcUA0MzMzb1JwQITrUTgi4oRAkML1KNaXb0AgrkfhhihFQBiuR+GhTX9APArX4yF2hkAI16NwQD9/QNDMzMwE5FBAgBSuR5GiPUBA4XoU8EFLQChcj8K7BDFAAAAAYNrQNUAAAABAysc4QAAAAMAmgB9AAAAA4NfxHkAAAABAAhohQAAAAEACGiFAAAAAwH/ILkAAAADAf8guQAAAAMB/yC5AXI/CdZbVZEBSuB5FSVRlQLgehev963hAAAAAgEbCiEC4HoXrCBtvQBSuR+FB+X5ASOF6lL0jdUC4HoWr11WEQAAUrkchPRhAAJqZmfmbEEDsUbieaBtwQMzMzEzosn9AoHA9CoulUUAfhesRrwdzQD4K1yNXpkZAAAAAoM6xMEAAAACApQo7QAAAAMAmgB9AAAAA4NfxHkAAAABAAhohQAAAAEACGiFAAAAAwH/ILkAAAADAf8guQAAAAMB/yC5AuB6Fa79RYkCE61F4IoJrQD4K16MIHINAexSuR73HgUA0MzNzYBtxQB6F69GLeHRAYI/C9RyHa0AAAABA6sCVQAzXo/Bt0GZAZmZmZkiycEAghevR0MNmQHA9CtetzWJAzczMTKMqcUDMzMxMHBpYQJqZmZlNHF1AAAAAgEXQLkAAAACApQo7QAAAAIC0XR9AAAAA4NfxHkAAAABAAhohQAAAAEACGiFAAAAAwPK2LkAAAADA8rYuQAAAAMDyti5AzczMjCFFYkBI4Xr0L5Z5QMD1KFzqO2dAIIXrUTczYkCgR+F6aPpWQCCF61HwfHhAIFyPwml/VEBQuB6FLbF9QEAK1yNRun9A9ihcj2vmh0C4HoVri9GKQHE9Cldin3lACtejcK3+ZEDYo3A9TeJQQKRwPcqm7FRAAAAAgPqePkAAAAAA3wE7QAAAAEDjiB5AAAAA4L3OHkAAAAAAdQghQAAAAAB1CCFAAAAAwPK2LkAAAADA8rYuQAAAAMDyti5A7FG4PvPoZEBwPQo3bD92QACuR+GShTVAhOtROPnBdkAUrkehX4OLQEjhehSilWNAcD0KdwrulkAI16Nw34xmQFK4HkWdS5FA8Chcj1Z1aEB8FK7HAApyQLBH4XpQ2HtAmJmZGRsgeECAPQrXW54uQChcj8Jt2zJAAAAAAPj+O0AAAAAA3wE7QAAAAEDjiB5AAAAA4L3OHkAAAAAAdQghQAAAAAB1CCFAAAAAwPK2LkAAAADA8rYuQAAAAMDyti5ApHA9iuUZXkBwPQrXWVZOQEAK16ME8EFAQOF6FNZARUCgcD0KoDpoQChcj+KZEZNAH4Xr0Zeok0AK16PwYQ2BQAAAAIApuHFAcD0K13ZIgECA61G4Cn1HQD0K1+PdWoBAcD0KV4TwYEA0MzMzsUJgQNCjcD3ANitAAAAAwGkoNkAAAAAA3wE7QAAAAEDjiB5AAAAA4L3OHkAAAAAAdQghQAAAAAB1CCFAAAAAwPK2LkAAAADA8rYuQAAAAMDyti5AzMzMbDnIUkDsUbieHDRzQK5H4XotColAmJmZmSrXZEBwPQrXx3djQKCZmZk5C1NAxPUoXH9eikDsUbgee26KQPQoXA8XQ4BAaGZmpibqjEDE9SicBIiBQIjrUbiUaWZAcD0KV1c4ZkDYo3C9BQ1wQMD1KFyXPRVAAAAAIGMVNUAAAACAKCsxQAAAAEDjiB5AAAAA4L3OHkAAAAAAdQghQAAAAAB1CCFAAAAAwPK2LkAAAADA8rYuQAAAAMDyti5AexSuB817RUCA61G4ShAhQClcj8K8eXNAAAAAAN1Th0CQwvVYhAtxQEAK16PKDUJApHA9yrszhUCgcD0KsB9mQIDrUbgAwFlAGK5H4U+maEBoZmZmCRh5QAAAAAAxfIBA+Chcj9PsZ0D0KFwPnQlhQBiuR+Gi2EpAAAAAQN3+NEAAAACA88AxQAAAAEDjiB5AAAAA4L3OHkAAAAAAdQghQAAAAAB1CCFAAAAAwPK2LkAAAADA8rYuQAAAAMDyti5AehSu1/E0Z0BACtejPvlQQJiZmZni2WtAULgehfGZX0AAKVyPokEzQDBcj8Lh/GxAehSuR/gzi0CwR+E6G4OEQChcj8Lw8nVAxPUo3NPJfUB4FK5H8fN4QEAK16Pm91BAgOtRuPjyRUBmZmbmBORwQGCPwvWNLklAAAAAQI+qN0AAAAAAfigxQAAAAEDjiB5AAAAA4L3OHkAAAAAAdQghQAAAAAB1CCFAAAAAwPK2LkAAAADA8rYuQAAAAMDyti5APgrXM4H3aEDYo3A9eAxcQOCjcD1aLEpAAOxRuN4mHUBA4XoUFjZKQMDMzMwQdFZA4FG4HgEBV0CQwvUo7ltnQIAUrkehVmFAAAAAAIThYUCAFK5H7VNZQAB7FK4fZTFAwMzMzKx0M0CA61G47h0VQLBH4XqXlEdAAAAAQAOmNEAAAAAAfigxQAAAAEDjiB5AAAAA4L3OHkAAAAAAdQghQAAAAAB1CCFAAAAAwPK2LkAAAADA8rYuQAAAAMDyti5APgrXpzLVbkCwR+F6WkNfQKCZmZmvM1xAADMzMwNoKUBACtejnPFUQKBwPQp/fF9A8FG4HvnzY0DQzMzMdB1jQBDXo3CHBmdA4FG4Hv2oWEAQ16NwEZtiQABSuB7FdzdAAFK4HhU5KkDA9ShcE8FTQChcj8JNCEVAAAAAQAOmNEAAAADAz2oaQAAAAEASER5AAAAAAHUIIUAAAAAAdQghQAAAAAB1CCFAAAAAwPK2LkAAAADA8rYuQAAAAMDyti5AcT0K22U4ZkAoXI/CjmRjQGCPwvW2aWFAQOF6FJ6xPUAAhetRoClMQIAUrkczMWJAENejcGPsY0AA16NwneFYQAAAAAAwh1xAgOtRuK7BVUAA16NwOalXQJDC9Sg4e1RA6FG4HvnyY0DwKFyPFJ9AQFC4HoWX8yBAAAAAoNR9NEAAAACgeXUaQAAAAEASER5AAAAAAHUIIUAAAAAAdQghQAAAAAB1CCFAAAAAwPK2LkAAAADA8rYuQAAAAMDyti5AH4XrWTyOUkD2KFyv2EJ1QOF6FA6ek3VApHA9Sq2bhUDgehTuEDCFQLgehet5f3VAQArXo7ZRcUAACtejMJMjQFC4HgV61IFAZmZmZmbcmECYmZkZnU16QBSuR2GRV3hAQLgehRfxPUCuR+H6RapoQCCF61FtCTVAAAAAIIndNEAAAABAF5UbQAAAAEASER5AAAAAAHUIIUAAAAAAdQghQAAAAAB1CCFAAAAAwPK2LkAAAADA8rYuQAAAAMDyti5ApHA9DpnbYkBI4XqUypltQEDhehRoRVdAQFyPwvVOPEBgZmZmojVfQFC4HoXzEGVAgOtRuAzlZkBQuB6F82dwQOB6FK7Jm2RAoHA9Cs9dU0CgcD0Kb65YQEDhehQec1FAuB6Fa6k/ckCAwvUoONI9QDwK16MkBERAAAAAgDvbNkAAAABAbYobQAAAAEASER5AAAAAAHUIIUAAAAAAdQghQAAAAAB1CCFAAAAAwPK2LkAAAADA8rYuQAAAAMDyti5AFK5HwWqWMEAUrkfhNmpVQHsUrgcC/XJAIIXrUdh9VkAehevxpyuTQPQoXA/rO4BAULgehStkb0Bcj8J1MHOFQGBmZmYeD1VAwPUoXIfTZECYmZkZRcV6QFyPwnWy/3NAAArXo8BLI0BACtejsnpCQCCF69F/YkhAAAAAQGcvN0AAAABAbYobQAAAAEASER5AAAAAAHUIIUAAAAAAdQghQAAAAAB1CCFAAAAAwPK2LkAAAADA8rYuQAAAAMDyti5AFK5H5TyMYkCwR+F6NhFmQBiuR+Eyg2VAYLgehXerSkD0KFyPMKZ+QITrUXjM1opAAMP1KPwRJUAoXI/CPaqHQPBRuB7jgWhAwPUoXHXTaUCI61E4fL9zQLgehesA7m5A4FG4HvEmQEDNzMwMayZzQLgehavQ0VxAAAAAYKF1LkAAAABAF5UbQAAAAACg7h1AAAAAAHUIIUAAAAAAdQghQAAAAAB1CCFAAAAAwPK2LkAAAADA8rYuQAAAAMDyti5AcD0K56vvT0A8CtdjyxpnQIA9CtdjG0lAULgehQMRaUCA61G4EkdqQFC4HoV/2GFAgGZmZkaLRUAghetR3m5sQAApXI8a21tAMDMzM80XbkCgcD0Kf0JOQChcj8KpVH5AcD0K10+DVkDE9Shcn8pSQCCF61EH0U9AAAAAQJc8N0AAAAAguO8bQAAAAEASER5AAAAAAHUIIUAAAAAAdQghQAAAAAB1CCFAAAAAwPK2LkAAAADA8rYuQAAAAMDyti5ApHA9EltTVkAM16PwAoNuQNijcD08M2JA6FG4HkdLYEAA16NwgQ1ZQACF61GgQUpAoHA9Cs1hZECQwvUo6u54QADXo3BZLllAgOF6FL5iNECQwvXoTVGXQIDrUbgYg1VACtej8AXiekDD9Shc3tBqQBSuRyGxSlpAAAAAwAIcOEAAAABA13scQAAAAACg7h1AAAAAAHUIIUAAAAAAdQghQAAAAAB1CCFAAAAAwPK2LkAAAADA8rYuQAAAAMDyti5ArkfhWgRwMkDMzMzMZZJaQB6F65FD7YNAsEfhekkAd0BxPQrXRlmLQB6F61Edr5FAIIXrUftWgUBA4XoUrqphQEAK1yMop3tAgML1KMwgMEAAAACAXuBwQFC4HgW2mHBAQFyPwg0QMUAQrkfhjodKQFC4HoUWqz5AAAAAIJmmMEAAAABA3gYdQAAAAEASER5AAAAAAHUIIUAAAAAAdQghQAAAAAB1CCFAAAAAwPK2LkAAAADA8rYuQAAAAMDyti5AH4XrWTw+VEAYrkfhKz1NQAAAAIC9431A4HoUrstXUkDA9Shc4vx+QLBH4Xp0ZmtArkfh+ndujkDgehSuS5RNQNijcH1wy4FADNejMK8MhECkcD2KzU+CQDAzMzPEsGRACNejcHypYkBQuB6FLXpKQFC4HoX1yChAAAAAoBGzNEAAAABA3gYdQAAAAEASER5AAAAAAHUIIUAAAAAAdQghQAAAAAB1CCFAAAAAwPK2LkAAAADA8rYuQAAAAMDyti5AmpmZnVuRZUAwXI/CWQFPQACF61EoUDhAKFyPQit3ckCAmZmZaWRAQOB6FK70E3NAiOtRuNkycUDwUbgexYVuQEjhehQ1BXZAAHsUrpd4MECQwvUowMdrQLgeheuP/G1AuB6FK6gjckCgcD0K98FfQEjhehR2HzNAAAAAIJFBMEAAAABA3gYdQAAAAEASER5AAAAAAHUIIUAAAAAAdQghQAAAAAB1CCFAAAAAwPK2LkAAAADA8rYuQAAAAMDyti5ACtejMB2OJ0DC9SgcqwhlQBCuR+EWfENAcD0K19xZYkC4HoUrJ8iAQIjrUbgPh35AUrgeBTtuj0CE61F4HUGPQK5H4br95IBAzMzMzBddiUA0MzMztWdxQJDC9ah1onxAwPUoXGv5UkD2KFxPaJh5QAzXo3DyZ0tAAAAAoP6KMkAAAACAfdAcQAAAAEASER5AAAAAAHUIIUAAAAAAdQghQAAAAAB1CCFAAAAAwH/ILkAAAADAf8guQAAAAMB/yC5AzczMrIMXNEDiehQufjNxQPYoXI/LYIJApHA9ynBCikCkcD0KpX2AQEjhepQPH3JAPQrX49FXjUDiehQu7oF9QECPwvXgeD5AkML1yBIZl0AM16Pw9pN0QAAAAIDwv3JAAAAAAFMcbkBcj8L1CpJUQITrUbhbYEZAAAAAwGPwJEAAAABA+CkdQAAAAEAtNB5AAAAAQAIaIUAAAABAAhohQAAAAEACGiFAAAAAwH/ILkAAAADAf8guQAAAAMB/yC5AmpmZ4evmVkCuR+HaKK94QEjhehS242xAkML16IvPaUDYo3D92smBQAzXo3B6231AwB6F63HKPUAUrkehuDmBQAAAAMDiqoJAexSuh5KQdkBxPQo3ll+TQDAzMzP11GxAwB6F64dfSUC4HoVrVS5kQAB7FK5/HANAAAAAYPIyNUAAAABA+CkdQAAAAEAtNB5AAAAAQAIaIUAAAABAAhohQAAAAEACGiFAAAAAwH/ILkAAAADAf8guQAAAAMB/yC5APgrX68IqXUCwR+G627JkQNDMzMzOgldAQOF6FGwXXkCAPQrXh2RJQITrUTiANnFAwPUoXJErZ0DAHoXrsaRaQMDMzMzku0NAwB6F63d3VkBoZmZmszFxQClcj0K8Q4hAuB6FK9XDeEBgj8L11Q5cQBiuR+HEcDZAAAAAgDSbJUAAAABA+CkdQAAAAEAtNB5AAAAAQAIaIUAAAABAAhohQAAAAEACGiFAAAAAwH/ILkAAAADAf8guQAAAAMB/yC5AhetRmNVPMECF61G4uuZkQLBH4TrHqmJACNejcGuvaEDMzMxM1/B5QKBwPQqezWxA4HoU7qXfiUB4FK5Hiah1QFC4HoV/jXBA4HoUrsMpdkDiehRuIdqKQClcj0JgbIRAQArXo2wHUkBwPQrX0/Q4QKBwPQoTcSRAAAAAQA++LkAAAABA+CkdQAAAAMCsbR5AAAAAQAIaIUAAAABAAhohQAAAAEACGiFAAAAAwH/ILkAAAADAf8guQAAAAMB/yC5AzMzMTKj3EkA9CtfjzN5gQNijcO1B/4ZAaGZmZstkaUAoXI/CZZFqQEAK16M0F0ZAfBSuR4kFi0Bgj8L1WWBxQLgehQu24ZhAFK5H4ScPY0Bcj8I1SXuEQFK4HkW9qnJASOF6VDsRd0BI4XoUHDxdQPYoXC8W/GNAAAAAwKqEO0AAAABA+CkdQAAAAIA6Sx5AAAAAQAIaIUAAAABAAhohQAAAAEACGiFAAAAAwH/ILkAAAADAf8guQAAAAMB/yC5ASOF6pFJCQEBxPQoXPAtiQOxRuJ6XrWNAKFyPwlU0c0DYo3C9gstwQMCjcD1S+TNAmJmZGeeXe0CkcD0K9Pd1QMzMzAwbt4tAhutR+Cj8iUAoXI9CpNN0QGhmZmbXuWhAULgehTl1YUDXo3A9jnpsQHgUrkdhhD1AAAAAwGbfLkAAAACA9gkdQAAAAMCsbR5AAAAAQAIaIUAAAABAAhohQAAAAEACGiFAAAAAwH/ILkAAAADAf8guQAAAAMB/yC5AFK5HwTEfMEBwPQr37ORrQFC4HgWTcWhAKFyPQlDXeEAAAAAAsTNzQNDMzMwc5ndAuB6Fq8yegUAUrkfhtNN/QD4K16M8XJFAzMzMzOsujEBSuB4FnHmSQB6F67FybItA4HoUrtGMb0DwKFyPiCZCQDAzMzP8/TFAAAAAwNxGIkAAAABA+CkdQAAAAMCsbR5AAAAAQAIaIUAAAABAAhohQAAAAEACGiFAAAAAwH/ILkAAAADAf8guQAAAAMB/yC5AKVyPCkj2WUDQzMzMukpIQArXo3AKBnhAhOtRuKw7dECF61H4kMaQQEjhepSB3nZA4HoUrj8HUUDD9Sicl5CCQFK4HoVsCXNANDMzc8c2eEDhehRut315QGhmZiYU8npAFK5HIbwCfkDNzMwMCGdhQKRwPcrj5FNAAAAAgIo6LUAAAACAl/McQAAAAIA6Sx5AAAAAQAIaIUAAAABAAhohQAAAAEACGiFAAAAAwH/ILkAAAADAf8guQAAAAMB/yC5AAAAA4LZKMkDXo3D9pGdkQHoUrkenv3FASOF6lKRDf0CQwvVo2iyOQJqZmVmScIFAIIXrUd6WZ0A9CtdjFAKMQPQoXI+otWJAAAAAAL2hcECkcD0KaohtQMAehevdGVxAj8L16E84dUAAAAAA8BMeQJqZmZnijEtAAAAAYG1FK0AAAABA+CkdQAAAAEBKFB9AAAAAQAIaIUAAAABAAhohQAAAAEACGiFAAAAAwH/ILkAAAADAf8guQAAAAMB/yC5AcT0KlxEGI0Bcj8L10ZhgQOB6FC4RqXNA7FG4Hpc4cECAFK5HQwpQQOB6FK6GTnNAoJmZmV92UECuR+F6hgaTQOxRuH6GYoFAZmZmhpcCiECI61G4QKZrQIXrUbiRjY1ASOF6NLUcdEBSuB7F9NF0QOxRuJ5zf01AAAAAIEgMK0AAAABgleYsQAAAAEBKFB9AAAAAQAIaIUAAAABAAhohQAAAAEACGiFAAAAAwH/ILkAAAADAf8guQAAAAMB/yC5AwMzMzPB14z/C9ShcON9jQIjrUbimMlpACNejcOiMYEAwMzMzqv5iQOB6FK4v7W9AcD0KFzDtiEAAAAAAJGhqQMAeheuJwkpAAGZmZiaLFUDhehQu1T2LQKRwParjrYJA+Chcj8TUVkAM16NwylxrQJDC9ShNyzVAAAAAoHZkKUAAAABA+CkdQAAAAEBKFB9AAAAAQAIaIUAAAABAAhohQAAAAEACGiFAAAAAwH/ILkAAAADAf8guQAAAAMB/yC5AMzMzE+o9MkAAAABgs+VrQIbrUThFb19AuB6F6825U0CF61F44lKDQFC4HoXgNmZAgOtRuC5NJUA+CtfjMvuCQDMzM/PVjYhASOF6FDmDeUDYo3C96+ljQMzMzEzOxnVACtej8D0Ea0CF61G4FBJkQDQzM7PbijNAAAAAwLQNKkAAAACAl/McQAAAAEBKFB9AAAAAQAIaIUAAAABAAhohQAAAAEACGiFAAAAAwPK2LkAAAADA8rYuQAAAAMDyti5AAAAA4O9BNkAUrkchDlliQJqZmTntyXFA0MzMzA9MSEBwPQq3N6eAQJDC9Sj0N3JAXI/CNSTyh0CamZmZe66AQJDC9VhcK5dAXI/C9U0wgUDMzMxMGu5zQHE9CtcBdIRAMDMzM98oUUCQwvVoqotnQCCF61HMzypAAAAAQEyaKkAAAABAHuUdQAAAACAw8R5AAAAAAHUIIUAAAAAAdQghQAAAAAB1CCFAAAAAwPK2LkAAAADA8rYuQAAAAMDyti5AAAAA4O9BNkAzMzOTf45hQGZmZuY5sHlAkML1KAMLgkCgmZmZl1RsQMAehesFqlxAkML1qIWOgkDsUbiedeODQFyPwjUkIYBA7FG43uaDjECkcD0KiFxlQMP1KJxSRH9ACtejcANuYUAehesRLwFgQHA9CtfE+kNAAAAAICoXK0AAAABAHuUdQAAAACAw8R5AAAAAAHUIIUAAAAAAdQghQAAAAAB1CCFAAAAAwPK2LkAAAADA8rYuQAAAAMDyti5AcD0K1yKAAUD0KFyPfKBYQDwK1+Pj6XhAAAAAQPFviUCgcD0Kh6lgQAAAAMCdK4dAGK5H4ecFfUDC9SgcD5iBQDBcj8JlN1RA9Chcj0ErcUBI4XoUxD2EQOxRuF75Y39ACtejMMl6hEA+CtdjablpQOxRuB4FpjVAAAAAAIvFLUAAAACg4JolQAAAAOC9zh5AAAAAAHUIIUAAAAAAdQghQAAAAAB1CCFAAAAAwPK2LkAAAADA8rYuQAAAAMDyti5AXI/CNUlYKEBmZmbmE9RTQPYoXI+e5HJAhutROJE3cUA8CtejSpd3QLgehevkim1AwvUonMfhk0AUrkdR7uaWQPYoXA9e4otAsEfheu+Ia0CgcD0Ky2hQQEDhehSdYVZANDMzc+CXdUBI4XqU0DhUQJDC9SiGgTdAAAAAgMPwKUAAAABATVweQAAAACAw8R5AAAAAAHUIIUAAAAAAdQghQAAAAAB1CCFAAAAAwPK2LkAAAADA8rYuQAAAAMDyti5A7FG4PpWpOUCkcD2K5k1kQGCPwvUwaVhAUrgehafyfUBACtejttlSQBCuR+HwjFlASOF6FMPHZkCgmZmZGepHQFC4HgXoQXJAw/UoHHnPgUAwMzMzgYtkQJDC9Sg0LHdAMzMz8/JLc0DXo3D99/BqQAAAAMAnKj5AAAAAQJfQN0AAAADggNolQAAAAOC9zh5AAAAAAHUIIUAAAAAAdQghQAAAAAB1CCFAAAAAwPK2LkAAAADA8rYuQAAAAMDyti5AAAAA4O9BNkCF61GY5AxpQB+F65FXFGZAmpmZ2QpQbUCkcD0KDltcQCBcj8I5MjxACtejcAbbd0DgehQub+VpQKRwPQoxMWlA4XoUri+mekAUrkfhwdRsQClcjwIURHJA9ihcj5aba0B7FK4n7FVjQHwUrscnkxhAAAAA4MZ0LEAAAADggNolQAAAAOC9zh5AAAAAAHUIIUAAAAAAdQghQAAAAAB1CCFAAAAAwPK2LkAAAADA8rYuQAAAAMDyti5AAAAA4O9BNkCkcD0KJJZIQAAAAKAHs3ZAehSux4lEcUDoUbgeT9FgQPQoXA8T23BAhOtRuPOaeEA0MzOzE4F7QLgehasWKoNAMDMzM/NGbUDgehSuk/trQOB6FC7JsW1AcD0KV/1/aEBACtej/tVHQMP1KFwUQkFAAAAAQGSKJ0AAAABATVweQAAAACAw8R5AAAAAAHUIIUAAAAAAdQghQAAAAAB1CCFAAAAAwPK2LkAAAADA8rYuQAAAAMDyti5AAAAA4O9BNkCG61F4i8hiQFC4HoWkpVZA7FG4Hm2pYkB8FK5HC5J4QAAAAAASdHFAHoXr0ZjShUDMzMys6f+UQITrUbjXcoFAAHsUrkd5OkCQwvUo2jl/QMD1KFwn/mFA9ChcT2utdUBA4XoUtHU7QBSuRyHPV0dAAAAAQGSKJ0AAAABATVweQAAAACAw8R5AAAAAAHUIIUAAAAAAdQghQAAAAAB1CCFAAAAAwPK2LkAAAADA8rYuQAAAAMDyti5AAAAA4O9BNkA0MzOT0otuQCCF61G6UmFA4HoUrqFwa0AI16NwcWVrQIDhehQOxjxAsEfh+uTPhkB7FK6H/xaZQD4K1+OnpZVA2KNwPb7cjUCQwvWo3G2GQFyPwlXCBYNAxPUo3EgNYkCamZkZ2XJzQArXozClljhAAAAAgD9WNUAAAADggNolQAAAAOC9zh5AAAAAAHUIIUAAAAAAdQghQAAAAAB1CCFAAAAAwPK2LkAAAADA8rYuQAAAAMDyti5AAAAA4O9BNkCuR+E6oL1XQHoUroc4AnZAuB6F60hDakCgmZmZGehRQLBH4XpUmmdA2KNwPbRJdkAghetRgKV5QLBH4Xpg7W9AAArXozCZIkDQzMzMSB1oQKBwPQrlyWVAuB6Fa+/JYECgcD0Ku5pGQIbrUbhzBThAAAAAwEfFJUAAAABATVweQAAAACAw8R5AAAAAAHUIIUAAAAAAdQghQAAAAAB1CCFAAAAAwPK2LkAAAADA8rYuQAAAAMDyti5AAAAA4O9BNkCG61HYWC1rQBSuR+FeUm9ACtej8KKkeEAUrkfhWTqMQJDC9Si6bm9A0MzMzIS2ekAUrkfhV62GQDAzMzPgO3BAoEfherAZXkAwXI/Csn9hQIDhehQehSJAAIXrUWjrMEDgo3A99ksjQAAAAIBZizZAAAAAgGPFJUAAAABATVweQAAAACAw8R5AAAAAAHUIIUAAAAAAdQghQAAAAAB1CCFAAAAAwPK2LkAAAADA8rYuQAAAAMDyti5AuB6FaxHAEUCQwvVo8MhpQDQzMzMVGFRAAAAAgDCrgUCuR+HaDlqRQNijcB0fkoNA16NwvY+DhEBoZmZm51BvQArXo3AMSYpArkfh+rCLg0C4HoVrBbt2QOB6FK7NcltAwB6F6w2cMEBcj8KVVYhxQAAAAAA93DRAAAAA4OtKNUAAAADACCAmQAAAAOC9zh5AAAAAAHUIIUAAAAAAdQghQAAAAAB1CCFAAAAAwPK2LkAAAADA8rYuQAAAAMDyti5AAAAA4O9BNkB7FK6HjDhjQMP1KBwas4JAMDMzM5MgZEAghetRbWl9QKBwPQoHpn5AcD0K13Y1dkBACtejqPRoQHwUrsd9MoFAwMzMzNyuSUCkcD2KezKBQMD1KFzXhFBAgBSuR8GiMEDYo3A96LVSQHE9ClcKDUlAAAAAYAvzMkAAAACgXOceQAAAAOAc5R5AAAAAAHUIIUAAAAAAdQghQAAAAAB1CCFAAAAAwPK2LkAAAADA8rYuQAAAAMDyti5AzczMrLzONUCuR+GaTm5iQAjXo3Da/1ZAULgehfs5VEAAhetRuLUpQACuR+Fys0JAIIXrUYwpZUAAAAAAEOtIQAAzMzOTbCZAgOtRuP6/akBI4XrUBf2WQHsUrgdRJn5AMzMzkzYpcUAUrkdBs4pRQOF6FO7igS5AAAAAoHVXNkAAAACgXOceQAAAAOAc5R5AAAAAAHUIIUAAAAAAdQghQAAAAAB1CCFAAAAAwPK2LkAAAADA8rYuQAAAAMDyti5Aw/UoHG9GKEDYo3C9AB9bQCCF61Fb1VhAwEfheqxBNUAAXI/C9b33P4BH4XrURTZAZmZm5rSvmUAK16PQZHWUQGhmZmY/o3FAoHA9CjiAbEDoUbgeM65hQIBwPQrnACtAZmZmxkmmg0AfhevxjQ9kQOF6FK7MEipAAAAAYMOzMkAAAADACCAmQAAAACAw8R5AAAAAAHUIIUAAAAAAdQghQAAAAAB1CCFAAAAAwPK2LkAAAADA8rYuQAAAAMDyti5A4XoUjjdjMkAwXI/CX4UzQLgeheujQlBAAAAAADR7VECA61G4cA9eQDQzMzOQxHVASOF6FHPDkEAM16Nw9010QOJ6FK5WC4BAaGZmZikOckBAMzMz5xtGQMzMzAwlYnpAKFyPQkJzZECA61G4XkYlQAAAAECQ0EhAAAAAQFJJNkAAAACgXOceQAAAAOC9zh5AAAAAAHUIIUAAAAAAdQghQAAAAAB1CCFAAAAAwPK2LkAAAADA8rYuQAAAAMDyti5AAAAA4O9BNkCYmZmZLus/QB+F6/GFEHlAsEfhesZCM0CYmZlZGD59QIAUrkdJCkBACtejcEPti0A+CtfzqUmVQMAehetY1WZA0MzMzPgMaUBgZmZmZPVcQAAAAAAEvmxAzMzMTLe4akAUrkfhsF5GQAAAAEBtwUFAAAAAwH/YOkAAAADADF0fQAAAAOC9zh5AAAAAAHUIIUAAAAAAdQghQAAAAAB1CCFAAAAAwPK2LkAAAADA8rYuQAAAAMDyti5AAAAA4O9BNkBoZmam9kBeQHA9CtemHWdAYI/C9YQOTkBA4XoUCBxUQPBRuB6HWmJAAMD1KFzh/D8AUrgeDd9AQGC4HoWnxlRAMDMzM00Ya0C4HoXrEg9vQOB6FK7SEXJAkML1KHCwVUCI61G4o5VGQAAAAAChIUpAAAAAAH4oMUAAAABA44geQAAAAOC9zh5AAAAAAHUIIUAAAAAAdQghQAAAAAB1CCFAAAAAwPK2LkAAAADA8rYuQAAAAMDyti5AAAAA4O9BNkCwR+F6rLAbQLgehevNy31AIIXrUazbTkCAZmZm5iEkQIAUrkcJ2khAIIXrUYRoWUCAR+F6BOc7QCCuR+EyEVZAgJmZmRlfMUBwPQrX/fxdQGCPwvVqCmJA2KNwPTbOWkBAuB6FM3EWQAAAAMC89zhAAAAA4JzGGUAAAABAEhEeQAAAAAB1CCFAAAAAAHUIIUAAAAAAdQghQAAAAAB1CCFAAAAAwH/ILkAAAADAf8guQAAAAMB/yC5AAAAA4LZKNkA9CtdDg7JnQEDhehSCOkRAQArXo5iNNUDMzMxMFKV4QEAK16MgJlFAuB6F62oKg0CAcD0KJ5A0QGCPwvVTpXBAAKRwPTqdPUA8CtejN219QADMzMzMyfA/2KNwveHwakDwKFyP/Fw0QAAAAMCy5jdAAAAA4LbpGUAAAABALTQeQAAAAEACGiFAAAAAQAIaIUAAAABAAhohQAAAAEACGiFAAAAAwH/ILkAAAADAf8guQAAAAMB/yC5AAAAA4LZKNkCPwvWYCdRoQAAzMzMzww1AoHA9CjDVZkCG61H4/u6BQAAAAAAR3YFA8Chcj6PRY0DE9SjcXAx4QLgehetSRn9AKFyPAtstj0C4HoVrnId4QJDC9Sh6MFdAgOtRuHYgI0AA16NwDVEAQAAAAMDlJzRAAAAA4LbpGUAAAABALTQeQAAAAEACGiFAAAAAQAIaIUAAAABAAhohQAAAAEACGiFAAAAAwH/ILkAAAADAf8guQAAAAMB/yC5AAAAA4LZKNkCPwvWYCaRqQEBcj8LdPC1ASOF6lMmQdkBACtejYtNjQGCPwvVVs2VA4HoULtKQfECamZmZ2/Z9QAAzMzODbSNAexSux1M5hEAK16PwDAl8QFK4HgXkK2VAj8L16A0sYUBI4XqUp9NBQAAAAGC4dzNAAAAAAAC+GUAAAABALTQeQAAAAEACGiFAAAAAQAIaIUAAAABAAhohQAAAAEACGiFAAAAAwH/ILkAAAADAf8guQAAAAMB/yC5AAAAA4LZKNkCG61EozIluQAzXo3Bm92BAAB6F65HiDUBACtejjJlEQACF61Hw+0hA7FG4HkPAgUDgehSu0VmKQIAUrkfpylBAmJmZGS3Qc0DgehSuqY5nQBCuR+G+nldAAICZmZlZoT+gmZmZJXcsQAAAAMCUizZAAAAAoFIJG0AAAABALTQeQAAAAEACGiFAAAAAQAIaIUAAAABAAhohQAAAAEACGiFAAAAAwH/ILkAAAADAf8guQAAAAMB/yC5AAAAA4LZKNkCkcD16hGhgQDQzMzOha3RAENejcAPgXUCG61G4yEaEQAAAAABE401AcD0KV2PCi0CA61G4MPdkQAAAAAAgclRAAFyPwpVcKEBwPQrXndhbQLBH4Xr1umFA8Chcj2ZnR0DYo3A9asMxQAAAAKBKezNAAAAAAFLVHEAAAABALTQeQAAAAEACGiFAAAAAQAIaIUAAAABAAhohQAAAAEACGiFAAAAAwH/ILkAAAADAf8guQAAAAMB/yC5AAAAA4LZKNkBmZmbWE0tjQOB6FK6Fh2tAwB6F6yfQUUAgXI/CrRFFQMAehetxWVxA7FG4HszIfkBoZmbmaBF0QNijcD2FI2JApHA9ajSskECF61F4mZJ8QLBH4ToPbG9AzczMzLSIbEAwMzOzP9k1QAAAAOBhEjNAAAAAQPGeHEAAAABALTQeQAAAAEACGiFAAAAAQAIaIUAAAABAAhohQAAAAEACGiFAAAAAwH/ILkAAAADAf8guQAAAAMB/yC5AAAAA4LZKNkAzMzOzxw0/QK5H4RoYJ2tA4noUzscidEA8Ctej9WdhQGCPwvVQpFJAFK5HoWABh0CYmZmZ6JFzQNijcP2CZoRAKFyPwtOLbECQwvUo/ipgQNejcH1AZnlASOF6FKfWYUBSuB4FRFJgQAAAAIDgwjVAAAAAgJfzHEAAAAAAuxEeQAAAAEACGiFAAAAAQAIaIUAAAABAAhohQAAAAEACGiFAAAAAwH/ILkAAAADAf8guQAAAAMB/yC5AAAAA4LZKNkBcj8K13i5EQLBH4XouQzRAuB6F6y9oekAAAACAcMJsQMzMzMxii3NA+Chcj3hVYUAzMzNz9ROFQFyPwvVHvWJAFK5HYS7hg0AUrkfh9q1fQPYoXI8PGXZAhetRuMp1YUBoZmbm99Y0QAAAAIC5ii9AAAAAgJfzHEAAAACAOkseQAAAAEACGiFAAAAAQAIaIUAAAABAAhohQAAAAEACGiFAAAAAwH/ILkAAAADAf8guQAAAAMB/yC5AAAAA4LZKNkBcj8I1TlZbQEjhetRlJGRAaGZmZub1YUDA9ShcnAVlQEjhehSe145AFK5H4fH4e0BwPQp3gD+FQNDMzMysaGhAgML1KDSMQkDYo3D9gJ5yQNijcD15S25Arkfh+pM2aEAehevRpSpLQAAAAIAGNDBAAAAAgJfzHEAAAACAOkseQAAAAEACGiFAAAAAQAIaIUAAAABAAhohQAAAAEACGiFAAAAAwH/ILkAAAADAf8guQAAAAMB/yC5AAAAA4LZKNkC4HoVr5lI6QKRwPcoijWdApHA9SjGkaUCQwvWotG9pQPYoXA/HknZAzczMjAj0gUDNzMyMb+F8QBiuR+F1mFFA7FG4Xjp4fUAUrkchNBVyQDMzM/Pf+W1ArkfhunFHYUBcj8J1NBFDQAAAAIAGNDBAAAAAQE09JUAAAACAOkseQAAAAEACGiFAAAAAQAIaIUAAAABAAhohQAAAAEACGiFAAAAAwH/ILkAAAADAf8guQAAAAMB/yC5AAAAA4LZKNkCuR+G6XltAQHA9CpfK0l5A7FG4njFzbEAAAADAoFh5QCCF61HyUHZASOF6lE/tc0AAKVyP4gFFQHsUrscHXYlAeBSuR2EPYUBwPQpXvbR5QHA9ClfnuWVAxPUonHY9ZkBguB6Fw6YYQAAAAEBCvSRAAAAAQPgpHUAAAABAShQfQAAAAEACGiFAAAAAQAIaIUAAAABAAhohQAAAAEACGiFAAAAAwH/ILkAAAADAf8guQAAAAMB/yC5AAAAA4LZKNkBxPQrXDggwQHwUrscwI1VAmpmZGRY7fEBSuB5VnueQQNDMzMxsRWNAAOxRuJ4mE0CYmZkZUymKQBSuRyFGfpRAXI/Ctf+5gkDYo3A9Z8JxQBSuR+GNWHZAeBSuR9L1X0DNzMxMx+5cQAAAAGCLZSpAAAAAQPgpHUAAAADg1/EeQAAAAEACGiFAAAAAQAIaIUAAAABAAhohQAAAAEACGiFAAAAAwPK2LkAAAADA8rYuQAAAAMDyti5AAAAA4O9BNkDXo3CdNYViQHgUrkfsdVRA8FG4HkOeWkBgj8L1rmZlQEAK16NK1GtAYGZmZtjWYEDQzMzMsgdzQEDhehQGOlhAgJmZmQFNM0DD9ShcnSmCQFK4HgVwJX1AXI/CdeKtVEAzMzOzP9pTQAAAAGDyQitAAAAAQB7lHUAAAADgvc4eQAAAAAB1CCFAAAAAAHUIIUAAAAAAdQghQAAAAAB1CCFAAAAAwPK2LkAAAADA8rYuQAAAAMDyti5AAAAA4O9BNkAK16OgAyBgQAAAAACsRF1AMDMzMwUrWEBguB6Fx/xNQEBcj8KJq0NAcD0K17W1YUDE9ShcTE5zQAApXI/y+SpAzMzMzOi4fkBSuB5Fezt9QOB6FK4TQjlAhutRePkSY0DYo3A9t5tNQAAAAOA3VCxAAAAAQB7lHUAAAAAgMPEeQAAAAAB1CCFAAAAAAHUIIUAAAAAAdQghQAAAAAB1CCFAAAAAwPK2LkAAAADA8rYuQAAAAMDyti5AAAAA4O9BNkBSuB7ld61fQOxRuF5TGnBAFK5HoV29dECgcD0KB3tCQGhmZmZM92FAaGZmZjSYfUDQo3A95jpqQEjhehTXd2FAIIXrUYm4cECgcD0KuMpoQEAK16Pom1FA7FG4npuVVEAehesRA9NCQAAAAKBgSipAAAAAwAzdHUAAAAAgMPEeQAAAAAB1CCFAAAAAAHUIIUAAAAAAdQghQAAAAAB1CCFAAAAAwPK2LkAAAADA8rYuQAAAAMDyti5AAAAA4O9BNkCQwvWI6GpeQEAK16PnT1dAYLgehcdsTkBAuB6FO0cyQCCF61HuaF1AAPYoXG8dL0BwPQrXkRZpQADXo3ANEkFACNejcMykYkBQuB6F711TQGC4HoWHAUNAKFyPwp4yUECkcD2Krk5AQAAAACB/5SlAAAAAwAzdHUAAAAAgMPEeQAAAAAB1CCFAAAAAAHUIIUAAAAAAdQghQAAAAAB1CCFAAAAAwPK2LkAAAADA8rYuQAAAAMDyti5AAAAA4O9BNkDYo3CdlsJaQDAzMzPXi09AgHA9CleQJEDYo3A9F6ZmQEAzMzM1H1tAgOtRuK7EMkDA9Shcm/BoQAApXI+y60NAoHA9CqFwZ0DwKFyPohNXQGCPwvXI0URAoJmZmUNUSEC4HoUrmZNCQAAAAEDD7ilAAAAAQE1cHkAAAAAgMPEeQAAAAAB1CCFAAAAAAHUIIUAAAAAAdQghQAAAAAB1CCFAAAAAwPK2LkAAAADA8rYuQAAAAMDyti5AAAAA4O9BNkCkcD1qY09YQPQoXA9MLmFAANejcAVcSkBA4XoUzkdFQKBwPQpLD1dAANijcH0qFUBACtejyj1nQEAK16Mz32RA0MzMzCrfY0DYo3A9sHRjQIDC9ShsICBAiOtRuFFvQEB7FK7HnAVBQAAAAIB/iidAAAAAQE1cHkAAAAAgMPEeQAAAAAB1CCFAAAAAAHUIIUAAAAAAdQghQAAAAAB1CCFAAAAAwPK2LkAAAADA8rYuQAAAAMDyti5AAAAA4O9BNkAAAABgjLtVQAjXo3D6Ol9AwPUoXBtgS0AghetRQoBSQBDXo3D4AmFAgJmZmQkQNUBQuB6FRxhqQIBwPQqnhzVAoHA9Css7ZkCgcD0KtWNjQEBcj8IJ3DxAENejcIUPNUCamZnZqVVDQAAAAEBkiidAAAAAQE1cHkAAAAAgMPEeQAAAAAB1CCFAAAAAAHUIIUAAAAAAdQghQAAAAAB1CCFAAAAAwPK2LkAAAADA8rYuQAAAAMDyti5AAAAA4O9BNkBSuB4FmYpMQAAAAACRml1AYGZmZl6NSUDwUbget69UQEAzMzNjOVxAgGZmZtblQ0CA61G4UjdmQAD2KFyvLzpAkML1KFghY0DYo3A9XdZgQACkcD2KTQ5AAClcj+J7B0CuR+F6QjA3QAAAAMBHxSVAAAAAQE1cHkAAAAAgMPEeQAAAAAB1CCFAAAAAAHUIIUAAAAAAdQghQAAAAAB1CCFAAAAAwPK2LkAAAADA8rYuQAAAAMDyti5AAAAA4O9BNkAehesR0fVJQJDC9SjW4UtAwPUoXKS/YUBA4XoUKBVRQKCZmZlTelxAAGZmZsY7IEAAAAAAjORjQMAeheuj8FtAeBSuR4DFa0AI16NwoCFjQHgUrkfHdlNAwHA9Cg+/H0Bcj8L1ijc+QAAAAABr8ChAAAAAoFznHkAAAAAgMPEeQAAAAAB1CCFAAAAAAHUIIUAAAAAAdQghQAAAAAB1CCFAAAAAwPK2LkAAAADA8rYuQAAAAMDyti5AAAAA4O9BNkBmZmYmf71EQNijcD2uTV1AsEfhen5CUkAAAAAAaHE1QOBRuB61B0pAwPUoXEdcTEDAHoXrXUNcQKCZmZkr7FpAMDMzM6DDZUCQwvUotrhdQAAAAADOykNAwMzMzNRcL0AK16MwcbVCQAAAAAByBSlAAAAAoFznHkAAAAAgMPEeQAAAAAB1CCFAAAAAAHUIIUAAAAAAdQghQAAAAAB1CCFAAAAAwPK2LkAAAADA8rYuQAAAAMDyti5AAAAA4O9BNkDC9SgcqFlAQEjhepT2cGRAIFyPws0iR0AAKVyPwvIWQIDC9SgYlkBAAFK4HtXXNkBgj8L1rLZZQIBwPQqXwz9AYGZmZsRRX0CgcD0Kq69hQEjhehQyaVFAAFK4Hi2KE0CamZmZ6UJKQAAAAACVUzVAAAAAoFznHkAAAADgvc4eQAAAAAB1CCFAAAAAAHUIIUAAAAAAdQghQAAAAAB1CCFAAAAAwPK2LkAAAADA8rYuQAAAAMDyti5AAAAA4O9BNkD2KFwP9CMxQChcj4J9WGRAYGZmZg6IU0AAAAAAEOsqQADXo3B9gidAAHsUrgcqLkDAHoXrlDBlQHA9CtdfN2pAhOtRuBm1fUAwMzMzHhljQAAzMzOTdwVAeBSuR/U/REAAAAAA76hMQAAAAEBXMzZAAAAAoFznHkAAAADgvc4eQAAAAAB1CCFAAAAAAHUIIUAAAAAAdQghQAAAAAB1CCFAAAAAwPK2LkAAAADA8rYuQAAAAMDyti5AAAAA4O9BNkBwPQrX/iE1QFC4HoVUmFpA2KNw/Supd0AehetR7DN1QGZmZiY17HVAcD0Kl3uFdkAAAAAAcT1zQClcjwIETIVAzMzMjEIydEAwMzMzQm9QQArXo3DjvmxAwB6F68XeIUAAAAAAJhZBQAAAAIBNAzhAAAAAQOOIHkAAAADgvc4eQAAAAAB1CCFAAAAAAHUIIUAAAAAAdQghQAAAAAB1CCFAAAAAwPK2LkAAAADA8rYuQAAAAMDyti5AAAAA4O9BNkDMzMxM/rowQMT1KFz32GVAoEfhevw4S0DgehSurwlKQAAAAIDlQ3JAuB6F6+KackA8CtcjH+16QMD1KNx/3nxA4HoUrtFLbUCwR+F6fHVQQCCF61HK+VZAgLgehUumA0AAAACAyLFJQAAAAICv+zBAAAAAQOOIHkAAAADgvc4eQAAAAAB1CCFAAAAAAHUIIUAAAAAAdQghQAAAAAB1CCFAAAAAwPK2LkAAAADA8rYuQAAAAMDyti5AAAAA4O9BNkCYmZmZ/PUjQHA9CtcL12NA4HoUrhMnWUBACtejgFI6QDBcj8LzY1JAIK5H4arpXEAAAAAATEJZQEC4HoV/7UdAAAAAAKj0SUCYmZmZafNuQCCuR+FK7ThAsEfh+l6SUEAAAADAFbtIQAAAAOCcxhlAAAAAQBIRHkAAAAAAdQghQAAAAAB1CCFAAAAAAHUIIUAAAAAAdQghQAAAAAB1CCFAAAAAwPK2LkAAAADA8rYuQAAAAMDyti5AAAAA4O9BNkCAPQrXU4b8PzQzMzP+Q2RAMFyPwjVjXkDgo3A9RpBJQMD1KFxXJEhAYI/C9dBRTUDE9Sgc+2qAQACuR+G+D0dA4HoUriuHX0BA4XoUKtpWQOhRuB6CnF1AAHsUrkeq+D8AAACAWQlHQAAAAOCcxhlAAAAAQBIRHkAAAAAAdQghQAAAAAB1CCFAAAAAAHUIIUAAAAAAdQghQAAAAAB1CCFAAAAAwPK2LkAAAADA8rYuQAAAAMDyti5AAAAA4O9BNkA0MzMz0NYqQFC4HoXrTF5AwB6F6ykuQ0DwUbgeVxRYQAB7FK7XUCVAQOF6FEoMTEAACtej+AQzQMAehevLnFFAcD0K1792ZUCAFK5HOYBdQDwK16Ot2GNA2KNwvcC/Q0AAAAAADpk1QAAAAOCcxhlAAAAAQBIRHkAAAAAAdQghQAAAAAB1CCFAAAAAAHUIIUAAAAAAdQghQAAAAAB1CCFAAAAAwPK2LkAAAADA8rYuQAAAAMDyti5AAAAA4O9BNkBwPQrXSP83QDQzM7OC215AaGZmZqXTVUAAAAAA4BYlQBSuR+EXvHRAPgrXI9zofEDNzMwMmnaAQPYoXI8rpXVA7FG4frFngUBgZmZmEvkwQOhRuB6Z/0tAHoXrUdtDREAAAADgAhUwQAAAAKDi8BpAAAAAQBIRHkAAAAAAdQghQAAAAAB1CCFAAAAAAHUIIUAAAAAAdQghQAAAAAB1CCFAAAAAwPK2LkAAAADA8rYuQAAAAMDyti5AAAAA4O9BNkDMzMzMFuokQHoUrkcPIGBAKVyPwqsHfkDwUbge1/1BQGZmZsYs/IdAfBSuxyvcd0CE61G4HGhwQMAehesB1kRAgOF6FE7SK0AI16NwYB1RQKCZmZmZ7DZASOF6FPJlNUAAAACgPyY0QAAAACBi+htAAAAAQBIRHkAAAAAAdQghQAAAAAB1CCFAAAAAAHUIIUAAAAAAdQghQAAAAAB1CCFAAAAAwH/ILkAAAADAf8guQAAAAMB/yC5AAAAA4LZKNkDiehSusvg5QLgehWscqGJA4HoUrhGDb0AAAAAAwK4sQOhRuB49T25A9ihcj77Wh0AUrkdhEYx6QOhRuB4WuWlAANejcOkkQkCkcD0KX7xsQADXo3CBUjVAiOtRuIJUOkAAAACgQ/4wQAAAAABS1RxAAAAAQC00HkAAAABAAhohQAAAAEACGiFAAAAAQAIaIUAAAABAAhohQAAAAEACGiFAAAAAwH/ILkAAAADAf8guQAAAAMB/yC5AAAAA4LZKNkDiehSusvg5QLgehevIsGNAQArXoxSMQEBAMzMzMwxIQAAK16PgbiBAULgehUtAYkAgXI/COUBAQEAzMzPL5jxAgBSuR7v7VkAQrkfhglJUQDAzMzNLSUxApHA9Chz1QEAAAADgYJYnQAAAAED4KR1AAAAAQC00HkAAAABAAhohQAAAAEACGiFAAAAAQAIaIUAAAABAAhohQAAAAEACGiFAAAAAwH/ILkAAAADAf8guQAAAAMB/yC5AAAAA4LZKNkAAAACAtUtCQM3MzEwnllxAKVyPItJGdkC4HoVrrttlQOF6FG5RrmNAXI/C9T2oYECAPQrX474BQEBcj8KNKCRAPgrXI7rwbUB6FK5HlTNiQDMzMzPEpWdAAAAAAGT0H0AAAAAASC0xQAAAAICX8xxAAAAAgDpLHkAAAABAAhohQAAAAEACGiFAAAAAQAIaIUAAAABAAhohQAAAAEACGiFAAAAAwH/ILkAAAADAf8guQAAAAMB/yC5AAAAA4LZKNkAzMzOz6D5AQGZmZibxD2JAIIXrUVUNW0AI16NwlaNiQMD1KFzRWVJAIIXr0UiSdkCYmZmZZRhbQM3MzMw0j4dAhutROAaAjUBgj8L1hHlMQOxRuB6Ob2VAMFyPwjNgIEAAAADg8W40QAAAAED4KR1AAAAAwKxtHkAAAABAAhohQAAAAEACGiFAAAAAQAIaIUAAAABAAhohQAAAAEACGiFAAAAAwH/ILkAAAADAf8guQAAAAMB/yC5AAAAA4LZKNkAAAABASm1CQDwK16M3G0pAkML1KI/wUkBQuB6FheRRQArXozCQzYRAiOtRuJj0akAwMzMzBlpjQIDrUbhOnl5AQArXowKBVUAwMzMzH/FDQITrUTjh/mNAANejcH3cFEAAAAAAHVAmQAAAAED4KR1AAAAAwKxtHkAAAABAAhohQAAAAEACGiFAAAAAQAIaIUAAAABAAhohQAAAAEACGiFAAAAAwH/ILkAAAADAf8guQAAAAMB/yC5AAAAA4LZKNkAAAABASm1CQPYoXJ8AUG1AAAAAAOieVEBgj8L19sZQQAAAAAAgwSpAYI/C9WzJU0DAzMzM5I0xQFC4HoUI7WVAAFC4HgXY+D8ghetRTgRYQGCPwvXYmj9AQOF6FADAIEAAAACAz+0fQAAAAED4KR1AAAAAQEoUH0AAAABAAhohQAAAAEACGiFAAAAAQAIaIUAAAABAAhohQAAAAEACGiFAAAAAwH/ILkAAAADAf8guQAAAAMB/yC5AAAAA4LZKNkAAAABASm1CQBSuR2kucHFAcD0K11AXVkAA7FG4fs4UQIA9Ctc72TBAIIXrUbSmTUCQwvUooNhaQPAoXI+gC1dAaGZmZl+7YUC4HoXr69pqQEjhelR11WRAwB6F61+JLkAAAABAd+8pQAAAAED4KR1AAAAAQEoUH0AAAABAAhohQAAAAEACGiFAAAAAQAIaIUAAAABAAhohQAAAAEACGiFAAAAAwH/ILkAAAADAf8guQAAAAMB/yC5AAAAA4LZKNkAAAABASm1CQLgehXMFqHBAuB6F6xfdW0AAAAAA9NhGQKCZmZmJ7ktAwB6F6wXlUUAghetRtAVKQKBwPQoLi01AULgehYj1YUBACtejPhBLQNijcD2HvFVAehSux+8iREAAAACAhL8rQAAAAEA4CB5AAAAAQEoUH0AAAABAAhohQAAAAEACGiFAAAAAQAIaIUAAAABAAhohQAAAAEACGiFAAAAAwH/ILkAAAADAf8guQAAAAMB/yC5AAAAA4LZKNkAAAACAtUtCQJqZmakAsW5AkML1KCXTYkAA16Nw/fkpQGBmZmZycEdAAK5H4RpSKkCQwvWo58lyQOJ6FG7uWoJAmJmZmSR+e0CwR+F6xJBlQKBwPQph00RAPArXo72oPEAAAABAVfUpQAAAAEA4CB5AAAAAQEoUH0AAAABAAhohQAAAAEACGiFAAAAAQAIaIUAAAABAAhohQAAAAEACGiFAAAAAwH/ILkAAAADAf8guQAAAAMB/yC5AAAAA4LZKNkAAAACAtUtCQKRwPUqj+2VAMDMzM9XETkB6FK7H0lF3QOxRuJ6CeIRAEK5H4fiSREDsUbgeCJlzQIbrUThcS2tAexSux/I0dkCE61F4lM5nQLgehevqv1FAhOtRuNk0MkAAAABAClwpQAAAAEBnfx5AAAAAQEoUH0AAAABAAhohQAAAAEACGiFAAAAAQAIaIUAAAABAAhohQAAAAEACGiFAAAAAwH/ILkAAAADAf8guQAAAAMB/yC5AAAAA4LZKNkAAAACAtUtCQAzXo3CXojpAGK5H4UFtQkCQwvWosIt6QDQzMzOZq3pAgGZmZv7kNkDsUbgeP2lzQAAAAIAnAnZAIIXrUWnPbEAYrkfhC8tcQJDC9SgF4ERAhOtROJboO0AAAABgzRInQAAAAEBnfx5AAAAAQEoUH0AAAABAAhohQAAAAEACGiFAAAAAQAIaIUAAAABAAhohQAAAAEACGiFAAAAAwPK2LkAAAADA8rYuQAAAAMDyti5AAAAA4O9BNkAAAAAA0vlBQHsUrndj0mBAoHA9Cu9lOEApXI/Cngh4QMT1KNxaMHhANDMzsyULgUDiehQu7seAQBSuR+GemoFAMDMzM6cRWUCA61G4MnxAQK5H4Trys2RAAAAAgNx/QkAAAACAy4w2QAAAAABdRB5AAAAA4L3OHkAAAAAAdQghQAAAAAB1CCFAAAAAAHUIIUAAAAAAdQghQAAAAAB1CCFAAAAAwPK2LkAAAADA8rYuQAAAAMDyti5AAAAA4O9BNkAAAAAA0vlBQGZmZpboRWZAcD0KV9gZYkBoZmZmlitiQHA9Ctd3o1FAYGZmZkj1U0DMzMxMDoR0QDQzM7NitnFAwB6F60NxWUAwMzMzygVdQIBwPQpn/wZASOF6FDu2TkAAAACAY4A1QAAAAEBNXB5AAAAA4L3OHkAAAAAAdQghQAAAAAB1CCFAAAAAAHUIIUAAAAAAdQghQAAAAAB1CCFAAAAAwPK2LkAAAADA8rYuQAAAAMDyti5AAAAA4O9BNkAAAABAPdhBQKRwPUpw0EBAPArXIwn5YUBQuB6Fsg9RQJiZmZmW5GdAzMzMzL9UckCkcD2KkKlwQGZmZiYoIndAw/UoXEEwd0B8FK7HfTpWQChcj0I+cUNAAAAAgIIuQUAAAACAk6c1QAAAAEBNXB5AAAAA4L3OHkAAAAAAdQghQAAAAAB1CCFAAAAAAHUIIUAAAAAAdQghQAAAAAB1CCFAAAAAwPK2LkAAAADA8rYuQAAAAMDyti5AAAAA4O9BNkAAAABAPdhBQLgehTt4K2FAcD0K11VhSECYmZmZJ/lnQDwK16N6NGxAQArXI6kSbUAoXI/CiUxfQHoUrsdzgnJAULgexVU5eEAM16NwNL1jQGBmZmZ2xjNApHA9inEnQEAAAADg1Y8pQAAAAKBc5x5AAAAAIDDxHkAAAAAAdQghQAAAAAB1CCFAAAAAAHUIIUAAAAAAdQghQAAAAAB1CCFAAAAAwPK2LkAAAADA8rYuQAAAAMDyti5AAAAA4O9BNkAAAABAPdhBQBSuR4HHalBAkML1KNNqSkAUrkchHUF9QKBwPQqJc19A9ihcz1fmhEBcj8K1l5J6QDwK16NHPVdApHA9imdse0CamZmZdLdiQChcj/J+JGJANDMzM8BnJ0AAAADgzLEpQAAAAKBc5x5AAAAAIDDxHkAAAAAAdQghQAAAAAB1CCFAAAAAAHUIIUAAAAAAdQghQAAAAAB1CCFAAAAAwPK2LkAAAADA8rYuQAAAAMDyti5AAAAA4O9BNkAAAABAPdhBQHE9CjeLuGBAKFyPwjkAUECAwvUonO0bQFyPwvXx2GxAmpmZGXcIcUCQwvWo1ERtQAAAAAB1yVFA7FG4XjsqeUCAPQrX02clQB+F67GvxGZAAAAA4FBuLkAAAADAhgc2QAAAAMAIICZAAAAA4L3OHkAAAAAAdQghQAAAAAB1CCFAAAAAAHUIIUAAAAAAdQghQAAAAAB1CCFAAAAAwPK2LkAAAADA8rYuQAAAAMDyti5AAAAA4O9BNkAAAABAPdhBQB+F6/EE9VBAFK5H4bPobEBxPQpXFkp6QLgehetHC19A4XoUbsCAYUCE61E4mt5XQM3MzExb029AKVyPgiUHaUBmZmZmvB1QQJDC9WjueFZAAAAAgHx7L0AAAADA40c5QAAAAMAIICZAAAAA4L3OHkAAAAAAdQghQAAAAAB1CCFAAAAAAHUIIUAAAAAAdQghQAAAAAB1CCFAAAAAwPK2LkAAAADA8rYuQAAAAMDyti5AAAAA4O9BNkAAAABAPdhBQHsUructYVVADNejsFLvbUAQ16Nwk21UQICZmZkZ1zBAYI/C9bT2TUDgehSujSpxQAjXo3CmF2RAwB6F67nQREDwKFyPAv1PQJiZmRmVRlVAAAAAwBCsTEAAAADAH8U4QAAAAMAMXR9AAAAA4L3OHkAAAAAAdQghQAAAAAB1CCFAAAAAAHUIIUAAAAAAdQghQAAAAAB1CCFAAAAAwPK2LkAAAADA8rYuQAAAAMDyti5AAAAA4O9BNkAAAAAA0vlBQK5H4boLEEFAIIXrUaJ+IkCkcD2KP+pyQJqZmVmOtmZAoHA9CieHT0CamZn5EaZ5QDQzM7Pk62dA7FG4nlVIc0A9Ctcj2yRiQEjhehQaZSJAAAAAICHVM0AAAADAs/0zQAAAAABxZh5AAAAA4L3OHkAAAAAAdQghQAAAAAB1CCFAAAAAAHUIIUAAAAAAdQghQAAAAAB1CCFAAAAAwPK2LkAAAADA8rYuQAAAAMDyti5AAAAA4O9BNkAAAAAA0vlBQNejcP3Y1lNAuB6FK6vbcEAI16Pw//ZWQAAAAIBrGm1A7FG4HqEMiUAwMzMzHcRIQKRwPYqflXBAUrgexbxvYECgmZmZ7dk1QJqZmVk3BFJAAAAAAJthN0AAAAAAeFUaQAAAAEASER5AAAAAAHUIIUAAAAAAdQghQAAAAAB1CCFAAAAAAHUIIUAAAAAAdQghQAAAAAB1CCFAAAAAwPK2LkAAAADA8rYuQAAAAMDyti5AAAAA4O9BNkAAAABAPdhBQK5H4RphBFRAAKRwPdrYC0AAAAAA9zBYQGCPwvXWO2BAAAAAAEQ0dUDYo3C9P15zQBCuR+GuIlFAYLgeha/TPkA8CtcjhoFkQBSuR2FxoEJAAAAAIGtJNkAAAACgeXUaQAAAAEASER5AAAAAAHUIIUAAAAAAdQghQAAAAAB1CCFAAAAAAHUIIUAAAAAAdQghQAAAAAB1CCFAAAAAwPK2LkAAAADA8rYuQAAAAMDyti5AAAAA4O9BNkAAAABAPdhBQFyPwnX2gjNAZmZmpohLa0AK16Pwg+xvQIbrUTgNG1FA0MzMzGzjMEBI4XpUwtWBQOJ6FG5OnndAAAAAAIqdRkDYo3D9SeVkQCCF61FiwjhAAAAA4FxJNkAAAADAu8kbQAAAAEASER5AAAAAAHUIIUAAAAAAdQghQAAAAAB1CCFAAAAAAHUIIUAAAAAAdQghQAAAAAB1CCFAAAAAwPK2LkAAAADA8rYuQAAAAMDyti5AAAAA4O9BNkAAAABAPdhBQLgehesW+T9AhutRuNoaZUCuR+F6CJ5qQB6F69EuuHxAZmZmpq6bZECE61E4hkFcQLgehat0zXNA7FG43gYtYkDsUbi+o05zQD4K12N73lRAAAAAoGgNNEAAAABgCE8cQAAAAEASER5AAAAAAHUIIUAAAAAAdQghQAAAAAB1CCFAAAAAAHUIIUAAAAAAdQghQAAAAAB1CCFAAAAAwPK2LkAAAADA8rYuQAAAAMDyti5AAAAA4O9BNkAAAABAPdhBQDQzMzOY5S5A4XoUroQBc0AAAAAwBB6GQPYoXA9kdnBAoHA9Cr0/bkDA9ShcC/c3QLgehetdWVdAehSuZzbNgUDE9SjcALRkQHA9CtcJljNAAAAAgLMWN0AAAABANPwcQAAAAEASER5AAAAAAHUIIUAAAAAAdQghQAAAAAB1CCFAAAAAAHUIIUAAAAAAdQghQAAAAAB1CCFAAAAAwPK2LkAAAADA8rYuQAAAAMDyti5AAAAA4O9BNkAAAABAPdhBQEjhelRH1EVAoHA9ipd4XECAFK5HP2lDQHwUrkekKGJAHoXr8cZMhEAAAADAQyp2QNijcP0Jk3BAexSuR/PycECamZlZDix5QNDMzMwJ6TZAAAAAQAb+OEAAAABA3gYdQAAAAEASER5AAAAAAHUIIUAAAADAavkgQAAAAMBq+SBAAAAAwGr5IEAAAADAavkgQAAAAMBq+SBAAAAAQOinLkAAAABA6KcuQAAAAEDopy5AAAAA4Go6NkAAAADAetRBQJqZmVn1iUBAaGZmZryLYEDAHoXr1fY9QKBwPQp0S2xAGK5H4bDBZ0DNzMwMCHqNQDAzMzMNXzZAuB6Fq7ircEBwPQoXXKZdQPYoXI+UMlFAAAAAwE0yMUAAAABA3gYdQAAAAEASER5AAAAAAHUIIUAAAADAavkgQAAAAMBq+SBAAAAAwGr5IEAAAADAavkgQAAAAMBq+SBAAAAAQOinLkAAAABA6KcuQAAAAEDopy5AAAAA4Go6NkAAAACAD/ZBQNejcL1zkz9AMDMzM1mjOUA8Ctej8IVnQKBwPQp261VAFK5HYfQJg0BSuB6l8imCQJqZmVl2NWhAMDMzM782PECwR+F6XbZQQJiZmZmZxUVAAAAA4E8/M0AAAABA3gYdQAAAAMCRSh5AAAAAAHUIIUAAAAAAdQghQAAAAMBq+SBAAAAAwGr5IEAAAADAavkgQAAAAMBq+SBAAAAAQOinLkAAAABA6KcuQAAAAEDopy5AAAAA4Go6NkAAAACAD/ZBQJiZmZnGoC1A4HoUbopsZEAAH4XrUTgEQNCjcD1CG15AwPUoXKO4UUBQuB6FupJrQKBwPQo6OmhAULgehU9hX0Bgj8L1PMBPQHA9Ctf9IUFAAAAAwK/FLkAAAABA3gYdQAAAAMCRSh5AAAAAAHUIIUAAAADAavkgQAAAAMBq+SBAAAAAwGr5IEAAAADAavkgQAAAAMBq+SBAAAAAQOinLkAAAABA6KcuQAAAAEDopy5AAAAA4Go6NkAAAADAetRBQAAAAECk70NAHoXr0egtUEDsUbiecTJyQD4K16P7DVpA9ihcDzHebEC4HoXrt/VkQIXrUTjNaGtACtejcPnSWUBI4XqUGvliQAAAAIBhbj9AAAAAgAxzLUAAAABAwCslQAAAAAALCh5AAAAAwGr5IEAAAADAavkgQAAAAMBq+SBAAAAAwGr5IEAAAADAavkgQAAAAMBq+SBAAAAAQHW5LkAAAABAdbkuQAAAAEB1uS5AAAAA4DFDNkAAAADA3dhBQD4K16OODSNAXI/CVUC8cECQwvUoToBYQOF6FA6fzHBArkfh+v3GYUCamZlZddBgQAAAAECkKWZA2KNwPX5KXkCQwvUogNhGQDAzMzOLuQhAAAAAoH5PK0AAAACAl/McQAAAAGDD0x5AAAAAAPgKIUAAAAAA+AohQAAAAAD4CiFAAAAAAPgKIUAAAAAA+AohQAAAAAD4CiFAAAAAQHW5LkAAAABAdbkuQAAAAEB1uS5AAAAA4DFDNkAAAACAcvpBQAAAAACYQkRAAAAAgBOMU0DsUbgeyXZwQGhmZuaZYGZAxPUoXH43bUBI4XoUe8NYQOB6FK6HT2VAAAAAAH4SbUBQuB6FkAJAQMAeheux6RRAAAAAYKMwKkAAAADAOKkdQAAAAEBKFB9AAAAAQAIaIUAAAABAAhohQAAAAEACGiFAAAAAQAIaIUAAAABAAhohQAAAAEACGiFAAAAAwH/ILkAAAADAf8guQAAAAMB/yC5AAAAA4LZKNkAAAAAANf5BQMP1KNwaDDNAPArXI0DHX0A0MzMzEEFmQIXrUbil43lASOF6VL0RfECI61E4qwFkQMD1KNycG2VAaGZm5l4BZkCYmZkZvltUQKBwPQr9dChAAAAAYKplKkAAAADAeIceQAAAAEBKFB9AAAAAQAIaIUAAAABAAhohQAAAAEACGiFAAAAAQAIaIUAAAABAAhohQAAAAEACGiFAAAAAwH/ILkAAAADAf8guQAAAAMB/yC5AAAAA4LZKNkAAAAAANf5BQPYoXI93Qj1AwPUoXHteNkBcj8L15uZmQEjhehTj7GZAZmZmpgs1gkCQwvUo0kRSQHsUrkfYY39AwvUoPEgMeECQwvUoAAg+QKRwPQqA6zNAAAAAYAUSK0AAAADAeIceQAAAAEBKFB9AAAAAQAIaIUAAAABAAhohQAAAAEACGiFAAAAAQAIaIUAAAABAAhohQAAAAEACGiFAAAAAwH/ILkAAAADAf8guQAAAAMB/yC5AAAAA4LZKNkAAAABAoNxBQPYoXI+MrUNAhetRmOSfZEBwPQpX2SluQMAeheuhhC5AehSux75WYUCG61F4mjlxQNejcL2fNntAw/UoXO3lYEDXo3C9fx5hQArXo3B3qjNAAAAAwHaVNEAAAAAADuwlQAAAAODX8R5AAAAAQAIaIUAAAABAAhohQAAAAEACGiFAAAAAQAIaIUAAAABAAhohQAAAAEACGiFAAAAAwH/ILkAAAADAf8guQAAAAMB/yC5AAAAA4LZKNkAAAABAoNxBQAAAAMDFJERA7FG4XgX0YEBI4XpUs/ZhQPYoXM/HZXxAmJmZGU41U0AgheuRicNmQPYoXG84MoFAAIbrUTg19T8ghevRABpSQGhmZmYzUihAAAAAoN7cJEAAAABAZ38eQAAAAEBKFB9AAAAAQAIaIUAAAABAAhohQAAAAEACGiFAAAAAQAIaIUAAAABAAhohQAAAAEACGiFAAAAAwH/ILkAAAADAf8guQAAAAMB/yC5AAAAA4LZKNkAAAABAoNxBQAAAAMDFJERAoJmZmfNgL0CF61GYZ5F4QFyPwnXZBWpAXI/C9c19aUApXI/Cg2hqQFK4HkXruGZAUrgeRax5YkCF61F4cvFcQAAAAIBnZjNAAAAAYCGiOEAAAAAADuwlQAAAAODX8R5AAAAAQAIaIUAAAABAAhohQAAAAEACGiFAAAAAQAIaIUAAAABAAhohQAAAAEACGiFAAAAAwH/ILkAAAADAf8guQAAAAMB/yC5AAAAA4LZKNkAAAAAANf5BQAAAAIBaRkRAmpmZ2cVHXkApXI8CxLNlQAAAAMBzTGtAkML1qFoUZECamZkZ5WFkQD0K1+M1HmFASOF6VMuGYUBmZmZmu25XQFK4HoWkCC5AAAAAAG2sNUAAAAAADuwlQAAAAODX8R5AAAAAQAIaIUAAAABAAhohQAAAAEACGiFAAAAAQAIaIUAAAABAAhohQAAAAEACGiFAAAAAwH/ILkAAAADAf8guQAAAAMB/yC5AAAAA4LZKNkAAAAAANf5BQAAAAIBaRkRA4XoUjtfvVUBcj8I10blrQIXrUTjvRmNAhutRGJm5dUAK16PwUxJ6QLgehesETVdA7FG4XmkGdEBwPQpnxJhoQHoUrkemJjtAAAAAoJcCMUAAAABAZ38eQAAAAEBKFB9AAAAAQAIaIUAAAABAAhohQAAAAEACGiFAAAAAQAIaIUAAAABAAhohQAAAAEACGiFAAAAAwH/ILkAAAABAdbkuQAAAAEB1uS5AAAAA4LZKNkAAAABAoNxBQAAAAADK90NAoJmZmTkWAUC4HoWrxdVqQMzMzMzph1xASOF6VMcydEAehevxqeF7QCCF61ETgFJAuB6FK8YRcEBI4XpU4idjQOJ6FC7IIiNAAAAAQGyILkAAAAAADuwlQAAAAAA3CB9AAAAAQAIaIUAAAABAAhohQAAAAEACGiFAAAAAQAIaIUAAAABAAhohQAAAAEACGiFAAAAAwH/ILkAAAADAf8guQAAAAMB/yC5AAAAA4LZKNkAAAABAoNxBQAAAAADK90NAULgehYvOAUAzMzOz1NNrQFK4HoWjuGNAgBSuRyX8MUC4HoVro4GHQAjXo/BlmmlACNejcKc3XEAehesx0MNxQFK4HoXWWDNAAAAAQNCmKEAAAAAAd2ceQAAAAODX8R5AAAAAQAIaIUAAAABAAhohQAAAAEACGiFAAAAAQAIaIUAAAABAAhohQAAAAEACGiFAAAAAwH/ILkAAAADAf8guQAAAAMB/yC5AAAAA4LZKNkAAAAAANf5BQAAAAMDFJERAXI/CdbQlO0CA61G4gh0tQOJ6FG7LZ2BASOF6FMXGX0DgehSuRodQQLgehSs6X3pAcD0KV/U3WUCF61G4L6ZeQDMzMzOF4zNAAAAAgJ4ANkAAAADAlTEmQAAAAODX8R5AAAAAQAIaIUAAAABAAhohQAAAAEACGiFAAAAAQAIaIUAAAABAAhohQAAAAEACGiFAAAAA4EI6LkAAAADgQjouQAAAAGA4Ky5AAAAA4BL8NUAAAABAMNxAQAAAAECaPEJASOF6hIeYYECkcD1KrQ1uQGCPwvVcdlxAgBSuR4mKRECAFK5HnX5YQJqZmfnG2YVAsEfhesfsWEAK16OwMW5cQAAAAID3WjVAAAAAwLDWNUAAAAAgsT8jQAAAAMBe1R1AAAAAIMWLIEAAAAAgxYsgQAAAACDFiyBAAAAAIMWLIEAAAAAgxYsgQAAAACDFiyBAAAAA4EI6LkAAAADgQjouQAAAAOBCOi5AAAAA4JcDNkAAAAAAXr5AQAAAAADIHkJA9ihcj16mW0B4FK5HtOhGQADXo3C1cyhAcD0K1wp8bUAK16Mwng58QLgeheu9vn9AAAAAQN2wdUDNzMxMoChVQAAAAEBG4DBAAAAAwICvNUAAAADAoEolQAAAAMBe1R1AAAAAIMWLIEAAAAAgxYsgQAAAACDFiyBAAAAAIMWLIEAAAAAgxYsgQAAAACDFiyBAAAAA4EI6LkAAAADgQjouQAAAAOBCOi5AAAAA4JcDNkAAAADA8t9AQAAAAADIHkJAwMzMzMx+5D+QwvVoUZNzQCCF69E6CGdA4HoUrjJ8akAAAAAAmNpwQDQzM7PFBGtAYI/CdepVV0C4HoXrWQU0QAAAAEC+v0FAAAAAQAbUNUAAAADA2FYjQAAAAMBe1R1AAAAAIMWLIEAAAAAgxYsgQAAAACDFiyBAAAAAIMWLIEAAAAAgxYsgQAAAACDFiyBAAAAA4EI6LkAAAABgOCsuQAAAAGA4Ky5AAAAA4BL8NUAAAACAm7pAQAAAAIAFG0JAj8L1yJo4YkCwR+H6bmpkQNDMzMyME11AgOtRuAwyUUCwR+F6nD9XQGCPwvX3B11AIIXrUYRxQEC4HoWr4J9XQK5H4Xqz20pAAAAAAKQhNUAAAADA2FYjQAAAAMBe1R1AAAAAIMWLIEAAAAAgxYsgQAAAACDFiyBAAAAAIMWLIEAAAAAgxYsgQAAAACDFiyBAAAAA4EI6LkAAAADgQjouQAAAAOBCOi5AAAAA4JcDNkAAAAAAXr5AQAAAAADIHkJAhutRuFbmRkDNzMxsaad0QFK4HnVbgXRAPgrXo1a4b0DMzMwMozx9QLgehevgd2NAAPYoXG/tAUDQzMzM2sczQAAAAEBxPUBAAAAAgMUZOEAAAAAArWMeQAAAAMBe1R1AAAAAIMWLIEAAAAAgxYsgQAAAACDFiyBAAAAAIMWLIEAAAAAgxYsgQAAAACDFiyBAAAAA4EI6LkAAAADgQjouQAAAAOBCOi5AAAAA4JcDNkAAAAAAXr5AQAAAAADIHkJAMzMzM8/jVUA8CtfjllhoQOxRuJ5+mnFArkfh+rIedEBcj8J1CmNpQDQzM7P7T2hAj8L1qGVKZkAUrkchCZlLQAAAAMDOqCxAAAAAQIlXMUAAAACAEW0dQAAAAMBe1R1AAAAAIMWLIEAAAAAgxYsgQAAAACDFiyBAAAAAIMWLIEAAAAAgxYsgQAAAACDFiyBAAAAA4EI6LkAAAADgQjouQAAAAOBCOi5AAAAA4JcDNkAAAAAAXr5AQAAAAIAFG0JA4XoUToZqYEDA9ShcDx9JQLBH4XrGwUZAkML1KIOXY0AA2KNwvQf3P+hRuB4hOVRAgOF6FP5aEUC4HoXrs51HQAAAAAD2Nz9AAAAAwN5UMUAAAADAg48dQAAAAMBe1R1AAAAAIMWLIEAAAAAgxYsgQAAAACDFiyBAAAAA4Lp8IEAAAADgunwgQAAAAOC6fCBAAAAAYDgrLkAAAABgOCsuQAAAAGA4Ky5AAAAA4BL8NUAAAACAm7pAQAAAAIAFG0JAKFyPwt+8LUBcj8J1mUFbQNijcP2Ta2JArkfh+rLNeEDiehRuk3RiQBiuR+FgJ0BAAAAAAMbsXUBQuB6FePo6QAAAAGDW6jZAAAAAgH4NHEAAAADAshcdQAAAACDFiyBAAAAAIMWLIEAAAADgunwgQAAAAOC6fCBAAAAA4Lp8IEAAAADgunwgQAAAAOC6fCBAAAAAYP4ULkAAAABg/hQuQAAAAGD+FC5AAAAA4PXwNUAAAAAADbVAQAAAAAB3FUJA9ihcj9TKMUAAFK5HQaP6PwAAAKCjAHFAKFyPwnA1Z0CF61F4O0h7QDQzM3Ol8GdAYI/C9YS1J0BI4XrUSIdQQAAAAMAmFTFAAAAAgArhG0AAAACAzMgcQAAAACCLdSBAAAAAIIt1IEAAAAAgi3UgQAAAACCLdSBAAAAAIIt1IEAAAAAgi3UgQAAAACCLdSBAAAAA4AgkLkAAAADgCCQuQAAAAGD+FC5AAAAA4Hr4NUAAAACAz7hAQAAAAIA5GUJA0KNwPXJDAkAYrkfhdiROQOJ6FO40H3NAeBSuR/c3ZUCQwvUoJ8BqQHA9CtdkyFJASOF6VKypYUCPwvVo5LNCQAAAAMDOqCxAAAAAwAjBG0AAAACAzMgcQAAAAOCAZiBAAAAA4IBmIEAAAADggGYgQAAAAOCAZiBAAAAA4IBmIEAAAADggGYgQAAAAOCAZiBAAAAAYP4ULkAAAABg/hQuQAAAAGD+FC5AAAAA4PXwNUAAAADAodZAQAAAAMALN0JA9ihcz7beRkAAmpmZ2S3lPzwK16OzbFBAhOtR+KoGZUCA61G4rgxJQGhmZmZOpmRA9ChcD6FzUECPwvVoQytRQAAAAEALVzFAAAAAAEtgHEAAAAAAuKocQAAAAOCAZiBAAAAA4IBmIEAAAADggGYgQAAAAOCAZiBAAAAA4IBmIEAAAADggGYgQAAAAOCAZiBAAAAAYP4ULkAAAABg/hQuQAAAAGD+FC5AAAAA4PXwNUAAAADAodZAQAAAAMALN0JAPgrX42RmRkB4FK5HsWJPQMD1KFxd1TBAULgeBX4nVUB8FK5HDnleQIXrURhFrXNACtejMNFXU0BwPQrX+WIRQAAAAMB1tzBAAAAAAEtgHEAAAACAN+QcQAAAAOCAZiBAAAAA4IBmIEAAAADggGYgQAAAAOCAZiBAAAAA4IBmIEAAAADggGYgQAAAAOCAZiBAAAAAYP4ULkAAAABg/hQuQAAAAGD+FC5AAAAA4PXwNUAAAAAADbVAQAAAAMALN0JACtejsDEzQUCQwvUo8IFiQIBmZmY+2S1ACNejcPx8Z0AACtejkGcYQAAAAAB4AkJAoHA9CqNVOEB7FK5nNAFnQAAAACC4VixAAAAAAEtgHEAAAACAN+QcQAAAAOCAZiBAAAAA4IBmIEAAAADggGYgQAAAAOCAZiBAAAAAIIt1IEAAAAAgi3UgQAAAACCLdSBAAAAA4AgkLkAAAADgCCQuQAAAAOAIJC5AAAAA4Hr4NUAAAACAz7hAQAAAAIA5GUJAwvUoXHUnKUCQwvUoZ5NGQOxRuJ5DCm5APQrXoy8wa0A+CtcjMWtrQArXo/BHB3NAMzMzcyGcY0CF61E4t2IyQAAAAABktCtAAAAAwOQfIEAAAAAATAIdQAAAACCLdSBAAAAAIIt1IEAAAAAgi3UgQAAAACCLdSBAAAAAIIt1IEAAAAAgi3UgQAAAACCLdSBAAAAA4AgkLkAAAADgCCQuQAAAAOAIJC5AAAAA4Hr4NUAAAACAz7hAQAAAAAB3FUJAkML1KG6kO0CuR+GaOeJyQKRwPQpDlnJAFK5HIY7scUBmZmYmKThqQPgoXA9pvEZASOF6NLHmYEAfheuRrmZMQAAAAKBrTylAAAAAAEtgHEAAAACAN+QcQAAAAOCAZiBAAAAA4IBmIEAAAADggGYgQAAAAOCAZiBAAAAA4IBmIEAAAADggGYgQAAAAOCAZiBAAAAAYP4ULkAAAABg/hQuQAAAAGD+FC5AAAAA4PXwNUAAAAAADbVAQAAAAAB3FUJACNejcIVeGEAAAACAIRRRQOJ6FC51f2tAKVyP0tkxgEB8FK7HtTBkQHA9CtdB40hAZmZmZhHYUkDiehQOFk1dQAAAAEA0fy9AAAAAQElAHEAAAADAqQYdQAAAAOCAZiBAAAAA4IBmIEAAAADggGYgQAAAAOCAZiBAAAAA4IBmIEAAAADggGYgQAAAAOCAZiBAAAAAYP4ULkAAAABg/hQuQAAAAGD+FC5AAAAA4PXwNUAAAAAADbVAQAAAAAB3FUJAUrgehdm8OECQwvUodBBRQEjhehTMgElAXI/CdTo4Y0A+CtejS7xqQMAehetz4CZA4HoUrp0bMUCYmZmZKZUhQAAAAMAJzytAAAAAQOopHEAAAACA1oodQAAAAOCAZiBAAAAA4IBmIEAAAADggGYgQAAAAOCAZiBAAAAA4IBmIEAAAADggGYgQAAAAOCAZiBAAAAAYP4ULkAAAABg/hQuQAAAAGD+FC5AAAAA4PXwNUAAAAAADbVAQAAAAMALN0JAAAAAAF64FUCamZmZoFRhQFyPwrXHj2RAzMzMzFnhTECQwvXI7aBjQJqZmbljtGJAKFyPwoO5WkDMzMxsmQNSQAAAAGDNCStAAAAAAEtgHEAAAADASK0dQAAAAOCAZiBAAAAA4IBmIEAAAADggGYgQAAAAOCAZiBAAAAA4IBmIEAAAADggGYgQAAAAOCAZiBAAAAAYP4ULkAAAABg/hQuQAAAAGD+FC5AAAAA4PXwNUAAAAAADbVAQAAAAAB3FUJAAAAAAHcVQkDE9ShcJ3BeQPYoXK9GbX1APgrXIy6abkDiehRu5ZR+QGZmZmZRm39AHoXrUUgqa0DXo3C9iCtWQAAAAGDbHShAAAAAAEtgHEAAAAAA66gdQAAAACCLdSBAAAAAIIt1IEAAAAAgi3UgQAAAACCLdSBAAAAAIIt1IEAAAAAgi3UgQAAAACCLdSBAAAAA4JU1LkAAAADglTUuQAAAAOCVNS5AAAAA4EEBNkAAAADAMr1AQAAAAMCcHUJAAAAAAMb8IkCYmZmZlBlAQADXo3DluDZA9ChcjxJ1YUAUrkfhQbZXQD0K1+O5GWNAzMzMjG//UEAAAADAT6dMQAAAAMDcECpAAAAAAGWDHEAAAABABMwdQAAAACAYhyBAAAAAIBiHIEAAAAAgGIcgQAAAACAYhyBAAAAAIBiHIEAAAAAgGIcgQAAAAOANeCBAAAAAYIsmLkAAAABgiyYuQAAAAGCLJi5AAAAA4Lz5NUAAAABAcLlAQAAAAEDaGUJAAAAAgLQzO0DQzMzMLE42QLgehSvSNmtAkML1KCOvM0AzMzPzxrlkQOB6FC5ZbkNASOF6VA9BYkAwMzMzQy0GQAAAACCzNSdAAAAA4IeRIEAAAAAA8K0dQAAAAOANeCBAAAAA4A14IEAAAADgDXggQAAAAOANeCBAAAAA4A14IEAAAADgDXggQAAAAOANeCBAAAAAYIsmLkAAAABgiyYuQAAAAGCLJi5AAAAA4Lz5NUAAAABAcLlAQAAAAABvO0JAkML1KNRqG0DwKFyPPgM0QJDC9SgBIWJA0KNwPaxdQkCgmZmZLSo3QIBmZmZ+tC1AfBSux2WUXUCQwvUopg0eQAAAAEAPWi9AAAAAQJFDHUAAAAAAYtAdQAAAAOANeCBAAAAA4A14IEAAAADgDXggQAAAAOANeCBAAAAA4A14IEAAAADgDXggQAAAAOANeCBAAAAAYIsmLkAAAABgiyYuQAAAAGCLJi5AAAAA4Lz5NUAAAABAcLlAQAAAAEDaGUJAAAAAQNoZQkDNzMwMFzxZQPYoXG+yB2VAzczMDCAkXECF61F4mJJVQHE9CleVmVZAgBSuR69oE0AUrkdhfUlJQAAAAEC8lDdAAAAAAEUrHUAAAABABMwdQAAAACAYhyBAAAAAIBiHIEAAAAAgGIcgQAAAACAYhyBAAAAAIBiHIEAAAADgDXggQAAAAOANeCBAAAAAYIsmLkAAAABgiyYuQAAAAGCLJi5AAAAA4Lz5NUAAAABAcLlAQAAAAEDaGUJAuB6FKyzSQEAoXI9CfOZUQD4K1yPBanJApHA9iiz6b0AAAAAAUtxXQAAAAABhpHZAKFyPYju2Y0BoZmbmYdQ7QAAAAKDuwytAAAAAQJFDHUAAAAAAYtAdQAAAAOANeCBAAAAA4A14IEAAAADgDXggQAAAAOANeCBAAAAA4A14IEAAAADgDXggQAAAAOANeCBAAAAAYIsmLkAAAABgiyYuQAAAAGCLJi5AAAAA4Lz5NUAAAABAcLlAQAAAAEDaGUJAUrgeBaAFNkBQuB6FQVBCQJDC9SgirmpAfBSux5f4a0DD9Sgc2dd4QEjhehRCTDxAAAAAADUDTkBoZmZmPFojQAAAAIBCIyxAAAAAgDANHUAAAADATsQdQAAAAOANeCBAAAAA4A14IEAAAADgDXggQAAAAOANeCBAAAAA4A14IEAAAADgDXggQAAAAOANeCBAAAAAYIsmLkAAAABgiyYuQAAAAGCLJi5AAAAA4Lz5NUAAAAAABdtAQAAAAABvO0JApHA9CrWaP0CwR+F6+bpLQHA9CpeAdmBAoEfhetjxOkAAAAAAE6BUQJDC9SiUKmRAYI/C9WifKkAfhesREO9KQAAAACDRSShAAAAAwH87HUAAAAAA8K0dQAAAAOANeCBAAAAA4A14IEAAAADgDXggQAAAAOANeCBAAAAA4A14IEAAAADgDXggQAAAAOANeCBAAAAAYIsmLkAAAABgiyYuQAAAAGCLJi5AAAAA4Lz5NUAAAAAABdtAQAAAAABvO0JAAAAAAG87QkBI4Xp0fXRlQBSuR6Fv1VFAeBSuRxzbR0B8FK7HvF9tQHE9Cpenam5AhetR+GymWUCuR+H6rboyQAAAAGB7CCpAAAAA4IeRIEAAAAAA8K0dQAAAAOANeCBAAAAA4A14IEAAAADgDXggQAAAAOANeCBAAAAA4A14IEAAAADgDXggQAAAAOANeCBAAAAAYIsmLkAAAABgiyYuQAAAAGCLJi5AAAAA4Lz5NUAAAABAcLlAQAAAAEDaGUJAAAAAQNoZQkCkcD0KnaxbQPQoXI8y2E5AAAAAQDz9YUCkcD0KfTtjQHA9CpeEQGBAULgehaKkQkA0MzMzWkRDQAAAACCGhyxAAAAAwH87HUAAAAAAYtAdQAAAAOANeCBAAAAA4A14IEAAAADgDXggQAAAAOANeCBAAAAA4A14IEAAAADgDXggQAAAAOANeCBAAAAAYIsmLkAAAABgiyYuQAAAAGCLJi5AAAAA4Lz5NUAAAABAcLlAQAAAAEDaGUJAAAAAQNoZQkBSuB4lOYFVQAjXo3Cslk5AAAAA4LWrckAfhethfnxxQCCF69FDlGNAwvUonIHvb0ApXI+CddFFQAAAAIBJjjVAAAAAoGHxJEAAAAAA8K0dQAAAAOANeCBAAAAA4A14IEAAAADgDXggQAAAAOANeCBAAAAA4A14IEAAAADgDXggQAAAAOANeCBAAAAAYIsmLkAAAABgiyYuQAAAAGCLJi5AAAAA4Lz5NUAAAAAABdtAQAAAAABvO0JAAAAAAG87QkBSuB5FUgxZQK5H4Xr8RVdAmpmZmYgpVkAoXI+y+Lh1QMD1KFyHxFpAGK5H4dNoSUDsUbjenAtEQAAAAIBU3SpAAAAAwJn9IkAAAAAA8K0dQAAAAOANeCBAAAAA4A14IEAAAADgDXggQAAAAOANeCBAAAAA4A14IEAAAADgDXggQAAAAOANeCBAAAAAYDgrLkAAAABgOCsuQAAAAGA4Ky5AAAAA4BL8NUAAAABAMNxAQAAAAECaPEJAAAAAQJo8QkBcj8KFEUFmQMD1KFzVMzhAIIXrURvSVEAA7FG4HsXqP1C4HkUxOGBAgML1KPwWIECuR+E6qCNJQAAAAKCB5i1AAAAAwEYCI0AAAABAqc0dQAAAAOC6fCBAAAAA4Lp8IEAAAADgunwgQAAAAOC6fCBAAAAA4Lp8IEAAAADgunwgQAAAAOC6fCBAAAAAYDgrLkAAAABgOCsuQAAAAGA4Ky5AAAAA4BL8NUAAAABAMNxAQAAAAECaPEJAAAAAQJo8QkAAAABAotNDQBSuR+ECQU1AXI/CdR/3V0DgehSuMOpAQHsUrodDa11AFK5HISc+UEB7FK5HuOpCQAAAAIB2aThAAAAAoA72JEAAAABASrcdQAAAAOC6fCBAAAAA4Lp8IEAAAADgunwgQAAAAOC6fCBAAAAA4Lp8IEAAAADgunwgQAAAAOC6fCBAAAAAYDgrLkAAAABgOCsuQAAAAGA4Ky5AAAAA4BL8NUAAAABAMNxAQAAAAECaPEJAAAAAQJo8QkAehetxiahUQEjhehRR6VpA2KNw/eZwWUBSuB7FXlVUQBSuR6EM5FFAexSuB4ygUEB7FK6HD0dCQAAAAABGHjdAAAAAoA72JEAAAABASrcdQAAAAOC6fCBAAAAA4Lp8IEAAAADgunwgQAAAAOC6fCBAAAAA4Lp8IEAAAADgunwgQAAAAOC6fCBAAAAAYDgrLkAAAABgOCsuQAAAAGA4Ky5AAAAA4BL8NUAAAACAm7pAQAAAAIAFG0JAAAAAgAUbQkDsUbgevIBGQJDC9ah9H01ANDMzs9akZ0DA9Sjcz75WQPQoXI+EvmlACtejcL03XUCQwvWoGw9BQAAAAEAGWipAAAAAoE72IkAAAABASrcdQAAAAOC6fCBAAAAA4Lp8IEAAAADgunwgQAAAAOC6fCBAAAAA4Lp8IEAAAADgunwgQAAAAOC6fCBAAAAAYDgrLkAAAABgOCsuQAAAAGA4Ky5AAAAA4BL8NUAAAACAm7pAQAAAAIAFG0JAAAAAgAUbQkDsUbgevKBAQNDMzMzvLzRAPQrXI8xvZECuR+H6rcZjQMzMzGy12GpArkfhmuZaZkAAAADA3ExEQAAAAOADWTZAAAAAoA72JEAAAABASrcdQAAAAOC6fCBAAAAA4Lp8IEAAAADgunwgQAAAAOC6fCBAAAAA4Lp8IEAAAADgunwgQAAAAOC6fCBAAAAAYDgrLkAAAABgOCsuQAAAAGA4Ky5AAAAA4BL8NUAAAACAm7pAQAAAAIAFG0JAAAAAgAUbQkCQwvUoJVpAQAAAAMAld1tAmpmZWWmAYEAUrkcBbJNhQOxRuJ6ZwVVASOF6FDXwO0CkcD2KwDdDQAAAAMAZXTRAAAAAoA72JEAAAABASrcdQAAAAOC6fCBAAAAA4Lp8IEAAAADgunwgQAAAAOC6fCBAAAAA4Lp8IEAAAADgunwgQAAAAOC6fCBAAAAAYDgrLkAAAABgOCsuQAAAAGA4Ky5AAAAA4BL8NUAAAABAMNxAQAAAAECaPEJAAAAAQJo8QkD2KFzPZClAQOF6FG52zV9A9ihcT10VYECkcD0KBVNBQFyPwnV3MF1ACtej8KUkUEAAAADA3itDQAAAAIC38TdAAAAAoA72JEAAAABASrcdQAAAAOC6fCBAAAAA4Lp8IEAAAADgunwgQAAAAOC6fCBAAAAA4Lp8IEAAAADgunwgQAAAAOC6fCBAAAAAYDgrLkAAAABgOCsuQAAAAGA4Ky5AAAAA4BL8NUAAAACAm7pAQAAAAIAFG0JAAAAAgAUbQkA+Ctejp9JMQFC4HoX60kJApHA9iqIwUUCkcD3K6lZhQKRwPQr4yU5APgrXo8ryUUC4HoXrm6JCQAAAAIC38TdAAAAAoA72JEAAAABASrcdQAAAAOC6fCBAAAAA4Lp8IEAAAADgunwgQAAAAOC6fCBAAAAA4Lp8IEAAAADgunwgQAAAAOC6fCBAAAAAYP4ULkAAAABg/hQuQAAAAGD+FC5AAAAA4PXwNUAAAADAodZAQAAAAMALN0JAAAAAwAs3QkDMzMxMLn84QNijcD3cbE9AwvUo3CKpXkCG61E4Dz5nQIDC9SgcgCRA16NwPSJ1VUAzMzOzsw43QAAAAEAGWipAAAAAoNTfJEAAAACA1oodQAAAAOCAZiBAAAAA4IBmIEAAAADggGYgQAAAAOCAZiBAAAAA4IBmIEAAAADggGYgQAAAAOCAZiBAAAAAYP4ULkAAAABg/hQuQAAAAGD+FC5AAAAA4PXwNUAAAAAADbVAQAAAAAB3FUJAAAAAwAs3QkBmZmbmK2FFQChcj8JXkFxArkfhWg/RYEC4HoXrXQdjQML1KBwECnRAiOtROIBKMkAAAACAMyZIQAAAAMDgeTdAAAAAoBTgIkAAAACA1oodQAAAAOCAZiBAAAAA4IBmIEAAAADggGYgQAAAAOCAZiBAAAAA4IBmIEAAAADggGYgQAAAAOCAZiBAAAAAYP4ULkAAAABg/hQuQAAAAGD+FC5AAAAA4PXwNUAAAAAADbVAQAAAAAB3FUJAAAAAAHcVQkB7FK4HRNhSQD4K12PxEHBAsEfhevpsREAK16NwSgdYQIbrUXjSbG9A8FG4Hu2lIED2KFzPvSZDQAAAAKDHgSpAAAAAwAzsIkAAAACA1oodQAAAAOCAZiBAAAAA4IBmIEAAAADggGYgQAAAAOCAZiBAAAAA4IBmIEAAAADggGYgQAAAAOCAZiBAAAAAYP4ULkAAAABg/hQuQAAAAGD+FC5AAAAA4PXwNUAAAADAodZAQAAAAMALN0JAAAAAAHcVQkAA16Nw7WL+PylcjwKRwllA4XoU7mY6WkDsUbie/ctZQEjhelTCeGZAuB6Fa9/cVEBI4XoU6+pGQAAAAOC+JCxAAAAAwAzsIkAAAADASK0dQAAAAOCAZiBAAAAA4IBmIEAAAADggGYgQAAAAOCAZiBAAAAA4IBmIEAAAADggGYgQAAAAOCAZiBAAAAAYP4ULkAAAABg/hQuQAAAAGD+FC5AAAAA4PXwNUAAAAAADbVAQAAAAAB3FUJAAAAAAHcVQkC4HoXrxsI7QClcj8LodGZAhOtROICGTEBmZmaGD0FgQGZmZqYuMVFApHA9Su8hWEAAAACAgpJDQAAAAKB7XjdAAAAAoNTfJEAAAACA1oodQAAAAOCAZiBAAAAA4IBmIEAAAADggGYgQAAAAOCAZiBAAAAA4IBmIEAAAADggGYgQAAAAOCAZiBAAAAAYP4ULkAAAABg/hQuQAAAAGD+FC5AAAAA4PXwNUAAAADAodZAQAAAAMALN0JAAAAAAHcVQkDsUbgewoYqQIXrURiH8WFACtejUG9IYUAoXI9Cu0xOQClcj4KOT1FArkfhert7TEAAAACAw7FCQAAAAIC38TdAAAAAoNTfJEAAAACA1oodQAAAAOCAZiBAAAAA4IBmIEAAAADggGYgQAAAAOCAZiBAAAAA4IBmIEAAAADggGYgQAAAAOCAZiBAAAAAYP4ULkAAAABg/hQuQAAAAGD+FC5AAAAA4PXwNUAAAADAodZAQAAAAMALN0JAAAAAAHcVQkCE61E4gHc/QIDrUbgyfyZAAAAAAJ+OTUCuR+F6qaFeQGhmZmYipzZACtejcNMtQ0AAAACAb0JHQAAAAMA/7DZAAAAAoNTfJEAAAACA1oodQAAAAOCAZiBAAAAA4IBmIEAAAADggGYgQAAAAOCAZiBAAAAA4IBmIEAAAADggGYgQAAAAOCAZiBAAAAAYP4ULkAAAABg/hQuQAAAAGD+FC5AAAAA4PXwNUAAAAAADbVAQAAAAAB3FUJAAAAAAHcVQkDsUbgeEOEwQKRwPcr2oVJAaGZm5vweXEAghetRGCc+QPgoXI+7M0JAMDMzM3faK0AAAAAAl0JMQAAAAEAgADdAAAAAwAzsIkAAAACA1oodQAAAAOCAZiBAAAAA4IBmIEAAAADggGYgQAAAAOCAZiBAAAAA4IBmIEAAAADggGYgQAAAAOCAZiBAAAAAYP4ULkAAAABg/hQuQAAAAGD+FC5AAAAA4PXwNUAAAAAADbVAQAAAAAB3FUJAAAAAAHcVQkD4KFyP7ssVQJqZmbkXkGJAKFyPAtczV0B8FK7HEE9BQNijcL2sb1tAZmZmRhSLYUB7FK7HLEZUQAAAAKByfCpAAAAAwAzsIkAAAACA1oodQAAAAOCAZiBAAAAA4IBmIEAAAADggGYgQAAAAOCAZiBAAAAA4IBmIEAAAADggGYgQAAAAOCAZiBAAAAAYP4ULkAAAABg/hQuQAAAAGD+FC5AAAAA4PXwNUAAAAAADbVAQAAAAAB3FUJAAAAAAHcVQkApXI9CMG5IQD4K1yPdz0tAGK5H4dVkNkCQwvUodYZsQOF6FA7GUGBAkML1KPbmUkDD9SicZOVBQAAAAMCOdThAAAAAoNTfJEAAAACA1oodQAAAAOCAZiBAAAAA4IBmIEAAAADggGYgQAAAAOCAZiBAAAAA4IBmIEAAAADggGYgQAAAAOCAZiBAAAAAYP4ULkAAAABg/hQuQAAAAGD+FC5AAAAA4PXwNUAAAAAADbVAQAAAAAB3FUJAAAAAAHcVQkDXo3C9RFxEQArXozBltFtAzczMTBbAYEBcj8L1vthLQArXo9BiwmRAAAAAQFRQWEAAAADAk6RCQAAAAOCACThAAAAAoNTfJEAAAACA1oodQAAAAOCAZiBAAAAA4IBmIEAAAADggGYgQAAAAOCAZiBAAAAA4IBmIEAAAADggGYgQAAAAOCAZiBAAAAAYIsmLkAAAABgiyYuQAAAAGCLJi5AAAAA4Lz5NUAAAABAcLlAQAAAAEDaGUJAAAAAQNoZQkCwR+H62No4QDMzM7P+sGpAPgrX4zbReED2KFxPha5/QOxRuL6PSmJA16NwfcpxVUBoZmZmOPEZQAAAAEDPkThAAAAA4EUcK0AAAAAAYtAdQAAAAOANeCBAAAAA4A14IEAAAADgDXggQAAAAOANeCBAAAAA4A14IEAAAADgDXggQAAAAOANeCBAAAAAYIsmLkAAAABgiyYuQAAAAGCLJi5AAAAA4Lz5NUAAAABAcLlAQAAAAEDaGUJAAAAAQNoZQkBxPQqXQTpDQB+F6zHM22JA7FG4HnSHWUCYmZmZL5ZKQNejcP20Y1hAIIXrUaaSRUB4FK5Hvw4WQAAAAKACNS5AAAAAAKQMI0AAAAAAYtAdQAAAAOANeCBAAAAA4A14IEAAAADgDXggQAAAAOANeCBAAAAA4A14IEAAAADgDXggQAAAAOANeCBAAAAAYIsmLkAAAABgiyYuQAAAAGCLJi5AAAAA4Lz5NUAAAABAcLlAQAAAAEDaGUJAAAAAQNoZQkAK16Own8BCQLBH4XqxAVFAAOxRuD5NCkCkcD1K3SdtQOxRuJ5ijW1AKFyPQjFhTUAwMzMzVS8cQAAAAKD2qjhAAAAAIHLmIkAAAAAAYtAdQAAAAOANeCBAAAAA4A14IEAAAADgDXggQAAAAOANeCBAAAAA4A14IEAAAADgDXggQAAAAOANeCBAAAAAYIsmLkAAAABgiyYuQAAAAGCLJi5AAAAA4Lz5NUAAAABAcLlAQAAAAEDaGUJAAAAAQNoZQkDgehSuvocpQD0K1+OmEFhAuB6Fa/5nQ0CYmZmZnCpBQLgehev6P09AAFyPwiVk8D88CtejMhkkQAAAAABTAixAAAAAoKHxIkAAAAAAYtAdQAAAAOANeCBAAAAA4A14IEAAAADgDXggQAAAAOANeCBAAAAA4A14IEAAAADgDXggQAAAAOANeCBAAAAAYIsmLkAAAABgiyYuQAAAAGCLJi5AAAAA4Lz5NUAAAAAABdtAQAAAAABvO0JAAAAAQNoZQkC4HoWr78FAQB6F6zHyc2BAYI/C9cLXPEBSuB6FjoZoQB6F61EloVhAAAAAwDlbVkAAAADA7XBDQAAAAKB7XjdAAAAA4GsAJUAAAABABMwdQAAAACAYhyBAAAAAIBiHIEAAAAAgGIcgQAAAACAYhyBAAAAAIBiHIEAAAAAgGIcgQAAAACAYhyBAAAAA4JU1LkAAAADglTUuQAAAAOCVNS5AAAAA4EEBNkAAAADAMr1AQAAAAMCcHUJAAAAAwJwdQkCuR+G6dJtHQIjrUbhJ9jdA2KNwPQBRS0CE61E4/shYQJDC9ShjOmpAhutRGCuhZ0CamZnZ53lFQAAAAOAqZDZAAAAAAKQMI0AAAACAdu4dQAAAACAYhyBAAAAA4A14IEAAAAAgGIcgQAAAAOANeCBAAAAA4A14IEAAAAAgGIcgQAAAACAYhyBAAAAA4JU1LkAAAADglTUuQAAAAOCVNS5AAAAA4EEBNkAAAADAMr1AQAAAAMCcHUJAAAAAwJwdQkAM16PwfK89QMT1KFzGe1JAYI/C9W7sUkDQo3A91kFFQI/C9QiBM3hAKFyPQuPSP0DD9ShcGsk5QAAAAAD3ZCxAAAAAoGHxJEAAAAAA8K0dQAAAAOANeCBAAAAA4A14IEAAAADgDXggQAAAAOANeCBAAAAA4A14IEAAAADgDXggQAAAAOANeCBAAAAAYIsmLkAAAABgiyYuQAAAAGCLJi5AAAAA4Lz5NUAAAABAcLlAQAAAAEDaGUJAAAAAQNoZQkBSuB7FTehCQFC4HoUiT09AIIXrUZitXkAghetRLOQ0QMD1KFzp+VVAhOtROFawUECF61G49tlJQAAAAIDXqSpAAAAAwJn9IkAAAAAAYtAdQAAAAOANeCBAAAAA4A14IEAAAADgDXggQAAAAOANeCBAAAAA4A14IEAAAADgDXggQAAAAOANeCBAAAAAYIsmLkAAAABgiyYuQAAAAGCLJi5AAAAA4Lz5NUAAAABAcLlAQAAAAMCcHUJAAAAAQNoZQkDMzMxMkXk+QEDhehQekBpAzMzMjAaucUBA4XoUjp0uQGhmZuZd81hAYI/C9V6LOUB7FK7nfaNYQAAAAMB1/TZAAAAAAKQMI0AAAABABMwdQAAAACAYhyBAAAAAIBiHIEAAAADgDXggQAAAAOANeCBAAAAA4A14IEAAAADgDXggQAAAAOANeCBAAAAAYIsmLkAAAABgiyYuQAAAAGCLJi5AAAAA4Lz5NUAAAABAcLlAQAAAAEDaGUJAAAAAwJwdQkCwR+H6U1M0QAjXo3CVFjpAcD0K1zZeWkBwPQrXqWhEQMT1KNwLulhAmpmZGbSoT0AM16Nw+BgjQAAAAIC6jytAAAAA4GsAJUAAAACAdu4dQAAAACAYhyBAAAAAIBiHIEAAAAAgGIcgQAAAACAYhyBAAAAAIBiHIEAAAAAgGIcgQAAAACAYhyBAAAAA4JU1LkAAAABgiyYuQAAAAGCLJi5AAAAA4Lz5NUAAAABAcLlAQAAAAEDaGUJAAAAAQNoZQkDMzMxMkXk+QChcj8KcNEdA9ihcD5hebkBwPQpXpxteQPQoXA+O9W5AAAAAALRZVECF61H4JjtGQAAAAEDPqSlAAAAAgAijKkAAAAAAYtAdQAAAAOANeCBAAAAA4A14IEAAAADgDXggQAAAAOANeCBAAAAA4A14IEAAAADgDXggQAAAAOANeCBAAAAAYIsmLkAAAABgiyYuQAAAAGCLJi5AAAAA4Lz5NUAAAABAcLlAQAAAAEDaGUJAAAAAQNoZQkC4HoXryN4qQBCuR+HuRyVASOF6FFHxWUBwPQpXTbRbQEDhehTSFz1AuB6Fi6YYZEAoXI/Cub8ZQAAAAMCjISlAAAAAoGHxJEAAAAAA8K0dQAAAAOANeCBAAAAA4A14IEAAAADgDXggQAAAAOANeCBAAAAA4A14IEAAAADgDXggQA==",
          "dtype": "f8"
         },
         "xaxis": "x",
         "yaxis": "y"
        }
       ],
       "layout": {
        "barmode": "relative",
        "legend": {
         "title": {
          "text": "variable"
         },
         "tracegroupgap": 0
        },
        "margin": {
         "t": 60
        },
        "template": {
         "data": {
          "bar": [
           {
            "error_x": {
             "color": "#f2f5fa"
            },
            "error_y": {
             "color": "#f2f5fa"
            },
            "marker": {
             "line": {
              "color": "rgb(17,17,17)",
              "width": 0.5
             },
             "pattern": {
              "fillmode": "overlay",
              "size": 10,
              "solidity": 0.2
             }
            },
            "type": "bar"
           }
          ],
          "barpolar": [
           {
            "marker": {
             "line": {
              "color": "rgb(17,17,17)",
              "width": 0.5
             },
             "pattern": {
              "fillmode": "overlay",
              "size": 10,
              "solidity": 0.2
             }
            },
            "type": "barpolar"
           }
          ],
          "carpet": [
           {
            "aaxis": {
             "endlinecolor": "#A2B1C6",
             "gridcolor": "#506784",
             "linecolor": "#506784",
             "minorgridcolor": "#506784",
             "startlinecolor": "#A2B1C6"
            },
            "baxis": {
             "endlinecolor": "#A2B1C6",
             "gridcolor": "#506784",
             "linecolor": "#506784",
             "minorgridcolor": "#506784",
             "startlinecolor": "#A2B1C6"
            },
            "type": "carpet"
           }
          ],
          "choropleth": [
           {
            "colorbar": {
             "outlinewidth": 0,
             "ticks": ""
            },
            "type": "choropleth"
           }
          ],
          "contour": [
           {
            "colorbar": {
             "outlinewidth": 0,
             "ticks": ""
            },
            "colorscale": [
             [
              0,
              "#0d0887"
             ],
             [
              0.1111111111111111,
              "#46039f"
             ],
             [
              0.2222222222222222,
              "#7201a8"
             ],
             [
              0.3333333333333333,
              "#9c179e"
             ],
             [
              0.4444444444444444,
              "#bd3786"
             ],
             [
              0.5555555555555556,
              "#d8576b"
             ],
             [
              0.6666666666666666,
              "#ed7953"
             ],
             [
              0.7777777777777778,
              "#fb9f3a"
             ],
             [
              0.8888888888888888,
              "#fdca26"
             ],
             [
              1,
              "#f0f921"
             ]
            ],
            "type": "contour"
           }
          ],
          "contourcarpet": [
           {
            "colorbar": {
             "outlinewidth": 0,
             "ticks": ""
            },
            "type": "contourcarpet"
           }
          ],
          "heatmap": [
           {
            "colorbar": {
             "outlinewidth": 0,
             "ticks": ""
            },
            "colorscale": [
             [
              0,
              "#0d0887"
             ],
             [
              0.1111111111111111,
              "#46039f"
             ],
             [
              0.2222222222222222,
              "#7201a8"
             ],
             [
              0.3333333333333333,
              "#9c179e"
             ],
             [
              0.4444444444444444,
              "#bd3786"
             ],
             [
              0.5555555555555556,
              "#d8576b"
             ],
             [
              0.6666666666666666,
              "#ed7953"
             ],
             [
              0.7777777777777778,
              "#fb9f3a"
             ],
             [
              0.8888888888888888,
              "#fdca26"
             ],
             [
              1,
              "#f0f921"
             ]
            ],
            "type": "heatmap"
           }
          ],
          "histogram": [
           {
            "marker": {
             "pattern": {
              "fillmode": "overlay",
              "size": 10,
              "solidity": 0.2
             }
            },
            "type": "histogram"
           }
          ],
          "histogram2d": [
           {
            "colorbar": {
             "outlinewidth": 0,
             "ticks": ""
            },
            "colorscale": [
             [
              0,
              "#0d0887"
             ],
             [
              0.1111111111111111,
              "#46039f"
             ],
             [
              0.2222222222222222,
              "#7201a8"
             ],
             [
              0.3333333333333333,
              "#9c179e"
             ],
             [
              0.4444444444444444,
              "#bd3786"
             ],
             [
              0.5555555555555556,
              "#d8576b"
             ],
             [
              0.6666666666666666,
              "#ed7953"
             ],
             [
              0.7777777777777778,
              "#fb9f3a"
             ],
             [
              0.8888888888888888,
              "#fdca26"
             ],
             [
              1,
              "#f0f921"
             ]
            ],
            "type": "histogram2d"
           }
          ],
          "histogram2dcontour": [
           {
            "colorbar": {
             "outlinewidth": 0,
             "ticks": ""
            },
            "colorscale": [
             [
              0,
              "#0d0887"
             ],
             [
              0.1111111111111111,
              "#46039f"
             ],
             [
              0.2222222222222222,
              "#7201a8"
             ],
             [
              0.3333333333333333,
              "#9c179e"
             ],
             [
              0.4444444444444444,
              "#bd3786"
             ],
             [
              0.5555555555555556,
              "#d8576b"
             ],
             [
              0.6666666666666666,
              "#ed7953"
             ],
             [
              0.7777777777777778,
              "#fb9f3a"
             ],
             [
              0.8888888888888888,
              "#fdca26"
             ],
             [
              1,
              "#f0f921"
             ]
            ],
            "type": "histogram2dcontour"
           }
          ],
          "mesh3d": [
           {
            "colorbar": {
             "outlinewidth": 0,
             "ticks": ""
            },
            "type": "mesh3d"
           }
          ],
          "parcoords": [
           {
            "line": {
             "colorbar": {
              "outlinewidth": 0,
              "ticks": ""
             }
            },
            "type": "parcoords"
           }
          ],
          "pie": [
           {
            "automargin": true,
            "type": "pie"
           }
          ],
          "scatter": [
           {
            "marker": {
             "line": {
              "color": "#283442"
             }
            },
            "type": "scatter"
           }
          ],
          "scatter3d": [
           {
            "line": {
             "colorbar": {
              "outlinewidth": 0,
              "ticks": ""
             }
            },
            "marker": {
             "colorbar": {
              "outlinewidth": 0,
              "ticks": ""
             }
            },
            "type": "scatter3d"
           }
          ],
          "scattercarpet": [
           {
            "marker": {
             "colorbar": {
              "outlinewidth": 0,
              "ticks": ""
             }
            },
            "type": "scattercarpet"
           }
          ],
          "scattergeo": [
           {
            "marker": {
             "colorbar": {
              "outlinewidth": 0,
              "ticks": ""
             }
            },
            "type": "scattergeo"
           }
          ],
          "scattergl": [
           {
            "marker": {
             "line": {
              "color": "#283442"
             }
            },
            "type": "scattergl"
           }
          ],
          "scattermap": [
           {
            "marker": {
             "colorbar": {
              "outlinewidth": 0,
              "ticks": ""
             }
            },
            "type": "scattermap"
           }
          ],
          "scattermapbox": [
           {
            "marker": {
             "colorbar": {
              "outlinewidth": 0,
              "ticks": ""
             }
            },
            "type": "scattermapbox"
           }
          ],
          "scatterpolar": [
           {
            "marker": {
             "colorbar": {
              "outlinewidth": 0,
              "ticks": ""
             }
            },
            "type": "scatterpolar"
           }
          ],
          "scatterpolargl": [
           {
            "marker": {
             "colorbar": {
              "outlinewidth": 0,
              "ticks": ""
             }
            },
            "type": "scatterpolargl"
           }
          ],
          "scatterternary": [
           {
            "marker": {
             "colorbar": {
              "outlinewidth": 0,
              "ticks": ""
             }
            },
            "type": "scatterternary"
           }
          ],
          "surface": [
           {
            "colorbar": {
             "outlinewidth": 0,
             "ticks": ""
            },
            "colorscale": [
             [
              0,
              "#0d0887"
             ],
             [
              0.1111111111111111,
              "#46039f"
             ],
             [
              0.2222222222222222,
              "#7201a8"
             ],
             [
              0.3333333333333333,
              "#9c179e"
             ],
             [
              0.4444444444444444,
              "#bd3786"
             ],
             [
              0.5555555555555556,
              "#d8576b"
             ],
             [
              0.6666666666666666,
              "#ed7953"
             ],
             [
              0.7777777777777778,
              "#fb9f3a"
             ],
             [
              0.8888888888888888,
              "#fdca26"
             ],
             [
              1,
              "#f0f921"
             ]
            ],
            "type": "surface"
           }
          ],
          "table": [
           {
            "cells": {
             "fill": {
              "color": "#506784"
             },
             "line": {
              "color": "rgb(17,17,17)"
             }
            },
            "header": {
             "fill": {
              "color": "#2a3f5f"
             },
             "line": {
              "color": "rgb(17,17,17)"
             }
            },
            "type": "table"
           }
          ]
         },
         "layout": {
          "annotationdefaults": {
           "arrowcolor": "#f2f5fa",
           "arrowhead": 0,
           "arrowwidth": 1
          },
          "autotypenumbers": "strict",
          "coloraxis": {
           "colorbar": {
            "outlinewidth": 0,
            "ticks": ""
           }
          },
          "colorscale": {
           "diverging": [
            [
             0,
             "#8e0152"
            ],
            [
             0.1,
             "#c51b7d"
            ],
            [
             0.2,
             "#de77ae"
            ],
            [
             0.3,
             "#f1b6da"
            ],
            [
             0.4,
             "#fde0ef"
            ],
            [
             0.5,
             "#f7f7f7"
            ],
            [
             0.6,
             "#e6f5d0"
            ],
            [
             0.7,
             "#b8e186"
            ],
            [
             0.8,
             "#7fbc41"
            ],
            [
             0.9,
             "#4d9221"
            ],
            [
             1,
             "#276419"
            ]
           ],
           "sequential": [
            [
             0,
             "#0d0887"
            ],
            [
             0.1111111111111111,
             "#46039f"
            ],
            [
             0.2222222222222222,
             "#7201a8"
            ],
            [
             0.3333333333333333,
             "#9c179e"
            ],
            [
             0.4444444444444444,
             "#bd3786"
            ],
            [
             0.5555555555555556,
             "#d8576b"
            ],
            [
             0.6666666666666666,
             "#ed7953"
            ],
            [
             0.7777777777777778,
             "#fb9f3a"
            ],
            [
             0.8888888888888888,
             "#fdca26"
            ],
            [
             1,
             "#f0f921"
            ]
           ],
           "sequentialminus": [
            [
             0,
             "#0d0887"
            ],
            [
             0.1111111111111111,
             "#46039f"
            ],
            [
             0.2222222222222222,
             "#7201a8"
            ],
            [
             0.3333333333333333,
             "#9c179e"
            ],
            [
             0.4444444444444444,
             "#bd3786"
            ],
            [
             0.5555555555555556,
             "#d8576b"
            ],
            [
             0.6666666666666666,
             "#ed7953"
            ],
            [
             0.7777777777777778,
             "#fb9f3a"
            ],
            [
             0.8888888888888888,
             "#fdca26"
            ],
            [
             1,
             "#f0f921"
            ]
           ]
          },
          "colorway": [
           "#636efa",
           "#EF553B",
           "#00cc96",
           "#ab63fa",
           "#FFA15A",
           "#19d3f3",
           "#FF6692",
           "#B6E880",
           "#FF97FF",
           "#FECB52"
          ],
          "font": {
           "color": "#f2f5fa"
          },
          "geo": {
           "bgcolor": "rgb(17,17,17)",
           "lakecolor": "rgb(17,17,17)",
           "landcolor": "rgb(17,17,17)",
           "showlakes": true,
           "showland": true,
           "subunitcolor": "#506784"
          },
          "hoverlabel": {
           "align": "left"
          },
          "hovermode": "closest",
          "mapbox": {
           "style": "dark"
          },
          "paper_bgcolor": "rgb(17,17,17)",
          "plot_bgcolor": "rgb(17,17,17)",
          "polar": {
           "angularaxis": {
            "gridcolor": "#506784",
            "linecolor": "#506784",
            "ticks": ""
           },
           "bgcolor": "rgb(17,17,17)",
           "radialaxis": {
            "gridcolor": "#506784",
            "linecolor": "#506784",
            "ticks": ""
           }
          },
          "scene": {
           "xaxis": {
            "backgroundcolor": "rgb(17,17,17)",
            "gridcolor": "#506784",
            "gridwidth": 2,
            "linecolor": "#506784",
            "showbackground": true,
            "ticks": "",
            "zerolinecolor": "#C8D4E3"
           },
           "yaxis": {
            "backgroundcolor": "rgb(17,17,17)",
            "gridcolor": "#506784",
            "gridwidth": 2,
            "linecolor": "#506784",
            "showbackground": true,
            "ticks": "",
            "zerolinecolor": "#C8D4E3"
           },
           "zaxis": {
            "backgroundcolor": "rgb(17,17,17)",
            "gridcolor": "#506784",
            "gridwidth": 2,
            "linecolor": "#506784",
            "showbackground": true,
            "ticks": "",
            "zerolinecolor": "#C8D4E3"
           }
          },
          "shapedefaults": {
           "line": {
            "color": "#f2f5fa"
           }
          },
          "sliderdefaults": {
           "bgcolor": "#C8D4E3",
           "bordercolor": "rgb(17,17,17)",
           "borderwidth": 1,
           "tickwidth": 0
          },
          "ternary": {
           "aaxis": {
            "gridcolor": "#506784",
            "linecolor": "#506784",
            "ticks": ""
           },
           "baxis": {
            "gridcolor": "#506784",
            "linecolor": "#506784",
            "ticks": ""
           },
           "bgcolor": "rgb(17,17,17)",
           "caxis": {
            "gridcolor": "#506784",
            "linecolor": "#506784",
            "ticks": ""
           }
          },
          "title": {
           "x": 0.05
          },
          "updatemenudefaults": {
           "bgcolor": "#506784",
           "borderwidth": 0
          },
          "xaxis": {
           "automargin": true,
           "gridcolor": "#283442",
           "linecolor": "#506784",
           "ticks": "",
           "title": {
            "standoff": 15
           },
           "zerolinecolor": "#283442",
           "zerolinewidth": 2
          },
          "yaxis": {
           "automargin": true,
           "gridcolor": "#283442",
           "linecolor": "#506784",
           "ticks": "",
           "title": {
            "standoff": 15
           },
           "zerolinecolor": "#283442",
           "zerolinewidth": 2
          }
         }
        },
        "xaxis": {
         "anchor": "y",
         "domain": [
          0,
          1
         ],
         "title": {
          "text": "value"
         }
        },
        "yaxis": {
         "anchor": "x",
         "domain": [
          0,
          1
         ],
         "title": {
          "text": "count"
         }
        }
       }
      }
     },
     "metadata": {},
     "output_type": "display_data"
    }
   ],
   "source": [
    "# histogramme of error prediction\n",
    "import plotly.express as px\n",
    "\n",
    "y_pred = final_pipeline.predict(X_test)\n",
    "\n",
    "err_hist = np.abs(y_test - y_pred)\n",
    "\n",
    "err_plot = px.histogram(\n",
    "                    err_hist,\n",
    "                    template='plotly_dark',\n",
    "                    nbins=50\n",
    "            )\n",
    "\n",
    "err_plot.show()"
   ]
  },
  {
   "cell_type": "markdown",
   "id": "a1e7b5d2",
   "metadata": {},
   "source": [
    "The model performs pretty well most of the time (low MedianAE), \n",
    "but occasionally makes substantial errors that significantly impact the average error scores.\n"
   ]
  },
  {
   "cell_type": "markdown",
   "id": "49ff4bc7",
   "metadata": {},
   "source": [
    "## Prediction comparison"
   ]
  },
  {
   "cell_type": "code",
   "execution_count": 10,
   "id": "4143b52e",
   "metadata": {},
   "outputs": [
    {
     "data": {
      "text/html": [
       "<div>\n",
       "<style scoped>\n",
       "    .dataframe tbody tr th:only-of-type {\n",
       "        vertical-align: middle;\n",
       "    }\n",
       "\n",
       "    .dataframe tbody tr th {\n",
       "        vertical-align: top;\n",
       "    }\n",
       "\n",
       "    .dataframe thead th {\n",
       "        text-align: right;\n",
       "    }\n",
       "</style>\n",
       "<table border=\"1\" class=\"dataframe\">\n",
       "  <thead>\n",
       "    <tr style=\"text-align: right;\">\n",
       "      <th></th>\n",
       "      <th>local_timestamp</th>\n",
       "      <th>year</th>\n",
       "      <th>month</th>\n",
       "      <th>day</th>\n",
       "      <th>dayofweek</th>\n",
       "      <th>hour</th>\n",
       "      <th>power_output_lead_1h</th>\n",
       "      <th>power_output</th>\n",
       "      <th>power_output_lag_1hr</th>\n",
       "      <th>power_output_lag_2hr</th>\n",
       "      <th>...</th>\n",
       "      <th>diffuse_irradiance_lag_1hr</th>\n",
       "      <th>diffuse_irradiance_lag_2hr</th>\n",
       "      <th>sun_height</th>\n",
       "      <th>sun_height_lag_1hr</th>\n",
       "      <th>sun_height_lag_2hr</th>\n",
       "      <th>air_temperature</th>\n",
       "      <th>air_temperature_lag_1hr</th>\n",
       "      <th>wind_speed_at_10m</th>\n",
       "      <th>wind_speed_at_10m_lag_1hr</th>\n",
       "      <th>wind_speed_at_10m_lag_2hr</th>\n",
       "    </tr>\n",
       "    <tr>\n",
       "      <th>timestamp</th>\n",
       "      <th></th>\n",
       "      <th></th>\n",
       "      <th></th>\n",
       "      <th></th>\n",
       "      <th></th>\n",
       "      <th></th>\n",
       "      <th></th>\n",
       "      <th></th>\n",
       "      <th></th>\n",
       "      <th></th>\n",
       "      <th></th>\n",
       "      <th></th>\n",
       "      <th></th>\n",
       "      <th></th>\n",
       "      <th></th>\n",
       "      <th></th>\n",
       "      <th></th>\n",
       "      <th></th>\n",
       "      <th></th>\n",
       "      <th></th>\n",
       "      <th></th>\n",
       "    </tr>\n",
       "  </thead>\n",
       "  <tbody>\n",
       "    <tr>\n",
       "      <th>2020-01-01 02:11:00</th>\n",
       "      <td>2020-01-01 03:11:00</td>\n",
       "      <td>2020</td>\n",
       "      <td>1</td>\n",
       "      <td>1</td>\n",
       "      <td>4</td>\n",
       "      <td>2</td>\n",
       "      <td>0.0</td>\n",
       "      <td>0.0</td>\n",
       "      <td>0.0</td>\n",
       "      <td>0.0</td>\n",
       "      <td>...</td>\n",
       "      <td>0.0</td>\n",
       "      <td>0.0</td>\n",
       "      <td>0.0</td>\n",
       "      <td>0.0</td>\n",
       "      <td>0.0</td>\n",
       "      <td>1.04</td>\n",
       "      <td>1.48</td>\n",
       "      <td>2.34</td>\n",
       "      <td>2.41</td>\n",
       "      <td>2.34</td>\n",
       "    </tr>\n",
       "    <tr>\n",
       "      <th>2020-01-01 03:11:00</th>\n",
       "      <td>2020-01-01 04:11:00</td>\n",
       "      <td>2020</td>\n",
       "      <td>1</td>\n",
       "      <td>1</td>\n",
       "      <td>4</td>\n",
       "      <td>3</td>\n",
       "      <td>0.0</td>\n",
       "      <td>0.0</td>\n",
       "      <td>0.0</td>\n",
       "      <td>0.0</td>\n",
       "      <td>...</td>\n",
       "      <td>0.0</td>\n",
       "      <td>0.0</td>\n",
       "      <td>0.0</td>\n",
       "      <td>0.0</td>\n",
       "      <td>0.0</td>\n",
       "      <td>0.64</td>\n",
       "      <td>1.04</td>\n",
       "      <td>2.21</td>\n",
       "      <td>2.34</td>\n",
       "      <td>2.41</td>\n",
       "    </tr>\n",
       "    <tr>\n",
       "      <th>2020-01-01 04:11:00</th>\n",
       "      <td>2020-01-01 05:11:00</td>\n",
       "      <td>2020</td>\n",
       "      <td>1</td>\n",
       "      <td>1</td>\n",
       "      <td>4</td>\n",
       "      <td>4</td>\n",
       "      <td>0.0</td>\n",
       "      <td>0.0</td>\n",
       "      <td>0.0</td>\n",
       "      <td>0.0</td>\n",
       "      <td>...</td>\n",
       "      <td>0.0</td>\n",
       "      <td>0.0</td>\n",
       "      <td>0.0</td>\n",
       "      <td>0.0</td>\n",
       "      <td>0.0</td>\n",
       "      <td>0.21</td>\n",
       "      <td>0.64</td>\n",
       "      <td>2.14</td>\n",
       "      <td>2.21</td>\n",
       "      <td>2.34</td>\n",
       "    </tr>\n",
       "    <tr>\n",
       "      <th>2020-01-01 05:11:00</th>\n",
       "      <td>2020-01-01 06:11:00</td>\n",
       "      <td>2020</td>\n",
       "      <td>1</td>\n",
       "      <td>1</td>\n",
       "      <td>4</td>\n",
       "      <td>5</td>\n",
       "      <td>0.0</td>\n",
       "      <td>0.0</td>\n",
       "      <td>0.0</td>\n",
       "      <td>0.0</td>\n",
       "      <td>...</td>\n",
       "      <td>0.0</td>\n",
       "      <td>0.0</td>\n",
       "      <td>0.0</td>\n",
       "      <td>0.0</td>\n",
       "      <td>0.0</td>\n",
       "      <td>-0.06</td>\n",
       "      <td>0.21</td>\n",
       "      <td>2.21</td>\n",
       "      <td>2.14</td>\n",
       "      <td>2.21</td>\n",
       "    </tr>\n",
       "    <tr>\n",
       "      <th>2020-01-01 06:11:00</th>\n",
       "      <td>2020-01-01 07:11:00</td>\n",
       "      <td>2020</td>\n",
       "      <td>1</td>\n",
       "      <td>1</td>\n",
       "      <td>4</td>\n",
       "      <td>6</td>\n",
       "      <td>0.0</td>\n",
       "      <td>0.0</td>\n",
       "      <td>0.0</td>\n",
       "      <td>0.0</td>\n",
       "      <td>...</td>\n",
       "      <td>0.0</td>\n",
       "      <td>0.0</td>\n",
       "      <td>0.0</td>\n",
       "      <td>0.0</td>\n",
       "      <td>0.0</td>\n",
       "      <td>-0.27</td>\n",
       "      <td>-0.06</td>\n",
       "      <td>2.21</td>\n",
       "      <td>2.21</td>\n",
       "      <td>2.14</td>\n",
       "    </tr>\n",
       "  </tbody>\n",
       "</table>\n",
       "<p>5 rows × 24 columns</p>\n",
       "</div>"
      ],
      "text/plain": [
       "                        local_timestamp  year  month  day  dayofweek  hour  \\\n",
       "timestamp                                                                    \n",
       "2020-01-01 02:11:00 2020-01-01 03:11:00  2020      1    1          4     2   \n",
       "2020-01-01 03:11:00 2020-01-01 04:11:00  2020      1    1          4     3   \n",
       "2020-01-01 04:11:00 2020-01-01 05:11:00  2020      1    1          4     4   \n",
       "2020-01-01 05:11:00 2020-01-01 06:11:00  2020      1    1          4     5   \n",
       "2020-01-01 06:11:00 2020-01-01 07:11:00  2020      1    1          4     6   \n",
       "\n",
       "                     power_output_lead_1h  power_output  power_output_lag_1hr  \\\n",
       "timestamp                                                                       \n",
       "2020-01-01 02:11:00                   0.0           0.0                   0.0   \n",
       "2020-01-01 03:11:00                   0.0           0.0                   0.0   \n",
       "2020-01-01 04:11:00                   0.0           0.0                   0.0   \n",
       "2020-01-01 05:11:00                   0.0           0.0                   0.0   \n",
       "2020-01-01 06:11:00                   0.0           0.0                   0.0   \n",
       "\n",
       "                     power_output_lag_2hr  ...  diffuse_irradiance_lag_1hr  \\\n",
       "timestamp                                  ...                               \n",
       "2020-01-01 02:11:00                   0.0  ...                         0.0   \n",
       "2020-01-01 03:11:00                   0.0  ...                         0.0   \n",
       "2020-01-01 04:11:00                   0.0  ...                         0.0   \n",
       "2020-01-01 05:11:00                   0.0  ...                         0.0   \n",
       "2020-01-01 06:11:00                   0.0  ...                         0.0   \n",
       "\n",
       "                     diffuse_irradiance_lag_2hr  sun_height  \\\n",
       "timestamp                                                     \n",
       "2020-01-01 02:11:00                         0.0         0.0   \n",
       "2020-01-01 03:11:00                         0.0         0.0   \n",
       "2020-01-01 04:11:00                         0.0         0.0   \n",
       "2020-01-01 05:11:00                         0.0         0.0   \n",
       "2020-01-01 06:11:00                         0.0         0.0   \n",
       "\n",
       "                     sun_height_lag_1hr  sun_height_lag_2hr  air_temperature  \\\n",
       "timestamp                                                                      \n",
       "2020-01-01 02:11:00                 0.0                 0.0             1.04   \n",
       "2020-01-01 03:11:00                 0.0                 0.0             0.64   \n",
       "2020-01-01 04:11:00                 0.0                 0.0             0.21   \n",
       "2020-01-01 05:11:00                 0.0                 0.0            -0.06   \n",
       "2020-01-01 06:11:00                 0.0                 0.0            -0.27   \n",
       "\n",
       "                     air_temperature_lag_1hr  wind_speed_at_10m  \\\n",
       "timestamp                                                         \n",
       "2020-01-01 02:11:00                     1.48               2.34   \n",
       "2020-01-01 03:11:00                     1.04               2.21   \n",
       "2020-01-01 04:11:00                     0.64               2.14   \n",
       "2020-01-01 05:11:00                     0.21               2.21   \n",
       "2020-01-01 06:11:00                    -0.06               2.21   \n",
       "\n",
       "                     wind_speed_at_10m_lag_1hr  wind_speed_at_10m_lag_2hr  \n",
       "timestamp                                                                  \n",
       "2020-01-01 02:11:00                       2.41                       2.34  \n",
       "2020-01-01 03:11:00                       2.34                       2.41  \n",
       "2020-01-01 04:11:00                       2.21                       2.34  \n",
       "2020-01-01 05:11:00                       2.14                       2.21  \n",
       "2020-01-01 06:11:00                       2.21                       2.14  \n",
       "\n",
       "[5 rows x 24 columns]"
      ]
     },
     "execution_count": 10,
     "metadata": {},
     "output_type": "execute_result"
    }
   ],
   "source": [
    "# create index from original df\n",
    "#df_index = df.reset_index()\n",
    "df_index = df.set_index('timestamp')\n",
    "df_index.head(5)\n"
   ]
  },
  {
   "cell_type": "code",
   "execution_count": 11,
   "id": "4a9e5ad1",
   "metadata": {},
   "outputs": [
    {
     "ename": "ValueError",
     "evalue": "Length of values (5843) does not match length of index (35061)",
     "output_type": "error",
     "traceback": [
      "\u001b[31m---------------------------------------------------------------------------\u001b[39m",
      "\u001b[31mValueError\u001b[39m                                Traceback (most recent call last)",
      "\u001b[36mCell\u001b[39m\u001b[36m \u001b[39m\u001b[32mIn[11]\u001b[39m\u001b[32m, line 2\u001b[39m\n\u001b[32m      1\u001b[39m \u001b[38;5;66;03m# Create Series with matching index\u001b[39;00m\n\u001b[32m----> \u001b[39m\u001b[32m2\u001b[39m predictions_series = \u001b[43mpd\u001b[49m\u001b[43m.\u001b[49m\u001b[43mSeries\u001b[49m\u001b[43m(\u001b[49m\u001b[43my_pred\u001b[49m\u001b[43m,\u001b[49m\u001b[43m \u001b[49m\u001b[43mindex\u001b[49m\u001b[43m=\u001b[49m\u001b[43mdf_index\u001b[49m\u001b[43m.\u001b[49m\u001b[43mindex\u001b[49m\u001b[43m,\u001b[49m\u001b[43m \u001b[49m\u001b[43mname\u001b[49m\u001b[43m=\u001b[49m\u001b[33;43m'\u001b[39;49m\u001b[33;43mPredicted\u001b[39;49m\u001b[33;43m'\u001b[39;49m\u001b[43m)\u001b[49m\n\u001b[32m      4\u001b[39m y_test.shape()\n\u001b[32m      5\u001b[39m plot_df = pd.DataFrame({\n\u001b[32m      6\u001b[39m     \u001b[33m'\u001b[39m\u001b[33mActual\u001b[39m\u001b[33m'\u001b[39m: y_test,\n\u001b[32m      7\u001b[39m     \u001b[33m'\u001b[39m\u001b[33mPredicted\u001b[39m\u001b[33m'\u001b[39m: predictions_series\n\u001b[32m      8\u001b[39m })\n",
      "\u001b[36mFile \u001b[39m\u001b[32m~/Development/sun_eu/.venv/lib/python3.13/site-packages/pandas/core/series.py:575\u001b[39m, in \u001b[36mSeries.__init__\u001b[39m\u001b[34m(self, data, index, dtype, name, copy, fastpath)\u001b[39m\n\u001b[32m    573\u001b[39m     index = default_index(\u001b[38;5;28mlen\u001b[39m(data))\n\u001b[32m    574\u001b[39m \u001b[38;5;28;01melif\u001b[39;00m is_list_like(data):\n\u001b[32m--> \u001b[39m\u001b[32m575\u001b[39m     \u001b[43mcom\u001b[49m\u001b[43m.\u001b[49m\u001b[43mrequire_length_match\u001b[49m\u001b[43m(\u001b[49m\u001b[43mdata\u001b[49m\u001b[43m,\u001b[49m\u001b[43m \u001b[49m\u001b[43mindex\u001b[49m\u001b[43m)\u001b[49m\n\u001b[32m    577\u001b[39m \u001b[38;5;66;03m# create/copy the manager\u001b[39;00m\n\u001b[32m    578\u001b[39m \u001b[38;5;28;01mif\u001b[39;00m \u001b[38;5;28misinstance\u001b[39m(data, (SingleBlockManager, SingleArrayManager)):\n",
      "\u001b[36mFile \u001b[39m\u001b[32m~/Development/sun_eu/.venv/lib/python3.13/site-packages/pandas/core/common.py:573\u001b[39m, in \u001b[36mrequire_length_match\u001b[39m\u001b[34m(data, index)\u001b[39m\n\u001b[32m    569\u001b[39m \u001b[38;5;250m\u001b[39m\u001b[33;03m\"\"\"\u001b[39;00m\n\u001b[32m    570\u001b[39m \u001b[33;03mCheck the length of data matches the length of the index.\u001b[39;00m\n\u001b[32m    571\u001b[39m \u001b[33;03m\"\"\"\u001b[39;00m\n\u001b[32m    572\u001b[39m \u001b[38;5;28;01mif\u001b[39;00m \u001b[38;5;28mlen\u001b[39m(data) != \u001b[38;5;28mlen\u001b[39m(index):\n\u001b[32m--> \u001b[39m\u001b[32m573\u001b[39m     \u001b[38;5;28;01mraise\u001b[39;00m \u001b[38;5;167;01mValueError\u001b[39;00m(\n\u001b[32m    574\u001b[39m         \u001b[33m\"\u001b[39m\u001b[33mLength of values \u001b[39m\u001b[33m\"\u001b[39m\n\u001b[32m    575\u001b[39m         \u001b[33mf\u001b[39m\u001b[33m\"\u001b[39m\u001b[33m(\u001b[39m\u001b[38;5;132;01m{\u001b[39;00m\u001b[38;5;28mlen\u001b[39m(data)\u001b[38;5;132;01m}\u001b[39;00m\u001b[33m) \u001b[39m\u001b[33m\"\u001b[39m\n\u001b[32m    576\u001b[39m         \u001b[33m\"\u001b[39m\u001b[33mdoes not match length of index \u001b[39m\u001b[33m\"\u001b[39m\n\u001b[32m    577\u001b[39m         \u001b[33mf\u001b[39m\u001b[33m\"\u001b[39m\u001b[33m(\u001b[39m\u001b[38;5;132;01m{\u001b[39;00m\u001b[38;5;28mlen\u001b[39m(index)\u001b[38;5;132;01m}\u001b[39;00m\u001b[33m)\u001b[39m\u001b[33m\"\u001b[39m\n\u001b[32m    578\u001b[39m     )\n",
      "\u001b[31mValueError\u001b[39m: Length of values (5843) does not match length of index (35061)"
     ]
    }
   ],
   "source": [
    "# Create Series with matching index\n",
    "predictions_series = pd.Series(y_pred, index=df_index.index, name='Predicted')\n",
    "\n",
    "y_test.shape()\n",
    "plot_df = pd.DataFrame({\n",
    "    'Actual': y_test,\n",
    "    'Predicted': predictions_series\n",
    "})\n",
    "\n",
    "plot_df = plot_df.reset_index()\n",
    "\n",
    "timestamp_col_name = plot_df.columns[0]\n",
    "\n",
    "plot_df_long = pd.melt(\n",
    "    plot_df,\n",
    "    id_vars=[timestamp_col_name], # Column(s) to keep fixed (the timestamp)\n",
    "    var_name='Source',      # Name for the new column indicating 'Actual' or 'Predicted'\n",
    "    value_name='Power Output' # Name for the new column holding the actual/predicted values\n",
    ")\n",
    "\n",
    "fig_compare_px = px.line(\n",
    "    plot_df_long,\n",
    "    x=timestamp_col_name,         # Use the timestamp column for x-axis\n",
    "    y='Power Output',         # Use the combined value column for y-axis\n",
    "    color='Source',           # Color lines based on 'Actual' or 'Predicted'\n",
    "    title='Actual vs. Predicted Power Output (Test Set)',\n",
    "    labels={timestamp_col_name: 'Timestamp', 'Power Output': 'Power Output (Units?)'}, # Clean labels\n",
    "    template='plotly_dark',   # Or your preferred template\n",
    "    # Optional: Customize line dash based on source\n",
    "    line_dash='Source'\n",
    ")\n",
    "\n",
    "fig_compare_px.show()"
   ]
  },
  {
   "cell_type": "markdown",
   "id": "2de0ad21",
   "metadata": {},
   "source": [
    "## Export model\n"
   ]
  },
  {
   "cell_type": "code",
   "execution_count": null,
   "id": "20307d82",
   "metadata": {},
   "outputs": [],
   "source": [
    "# Access model parameters\n",
    "model_name = config['models']['model_name']\n",
    "model_output_path = os.path.join(model_name, config['models']['output_path'])\n",
    "model_params = config['model_params']"
   ]
  },
  {
   "cell_type": "code",
   "execution_count": null,
   "id": "070a6d64",
   "metadata": {},
   "outputs": [],
   "source": [
    "import jblib\n",
    "import os\n",
    "\n",
    "output_path = \n"
   ]
  }
 ],
 "metadata": {
  "kernelspec": {
   "display_name": ".venv",
   "language": "python",
   "name": "python3"
  },
  "language_info": {
   "codemirror_mode": {
    "name": "ipython",
    "version": 3
   },
   "file_extension": ".py",
   "mimetype": "text/x-python",
   "name": "python",
   "nbconvert_exporter": "python",
   "pygments_lexer": "ipython3",
   "version": "3.13.2"
  }
 },
 "nbformat": 4,
 "nbformat_minor": 5
}
